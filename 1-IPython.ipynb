{
 "metadata": {
  "language_info": {
   "codemirror_mode": {
    "name": "ipython",
    "version": 3
   },
   "file_extension": ".py",
   "mimetype": "text/x-python",
   "name": "python",
   "nbconvert_exporter": "python",
   "pygments_lexer": "ipython3",
   "version": "3.8.3-final"
  },
  "orig_nbformat": 2,
  "kernelspec": {
   "name": "python3",
   "display_name": "Python 3"
  }
 },
 "nbformat": 4,
 "nbformat_minor": 2,
 "cells": [
  {
   "cell_type": "code",
   "execution_count": 1,
   "metadata": {
    "tags": []
   },
   "outputs": [
    {
     "output_type": "stream",
     "name": "stdout",
     "text": "Example loading.\n"
    }
   ],
   "source": [
    "%run 1-ex1.py"
   ]
  },
  {
   "cell_type": "code",
   "execution_count": 2,
   "metadata": {
    "tags": []
   },
   "outputs": [
    {
     "output_type": "stream",
     "name": "stdout",
     "text": "182 µs ± 464 ns per loop (mean ± std. dev. of 7 runs, 10000 loops each)\n"
    }
   ],
   "source": [
    "%timeit L = [n**2 for n in range(1000)]"
   ]
  },
  {
   "cell_type": "code",
   "execution_count": 3,
   "metadata": {
    "tags": []
   },
   "outputs": [
    {
     "output_type": "stream",
     "name": "stdout",
     "text": "206 µs ± 670 ns per loop (mean ± std. dev. of 7 runs, 1000 loops each)\n"
    }
   ],
   "source": [
    "%%timeit\n",
    "L = []\n",
    "for n in range(1000):\n",
    "    L.append(n**2)"
   ]
  },
  {
   "cell_type": "code",
   "execution_count": 4,
   "metadata": {},
   "outputs": [
    {
     "output_type": "stream",
     "text": "\u001b[0;31mDocstring:\u001b[0m\nTime execution of a Python statement or expression\n\nUsage, in line mode:\n  %timeit [-n<N> -r<R> [-t|-c] -q -p<P> -o] statement\nor in cell mode:\n  %%timeit [-n<N> -r<R> [-t|-c] -q -p<P> -o] setup_code\n  code\n  code...\n\nTime execution of a Python statement or expression using the timeit\nmodule.  This function can be used both as a line and cell magic:\n\n- In line mode you can time a single-line statement (though multiple\n  ones can be chained with using semicolons).\n\n- In cell mode, the statement in the first line is used as setup code\n  (executed but not timed) and the body of the cell is timed.  The cell\n  body has access to any variables created in the setup code.\n\nOptions:\n-n<N>: execute the given statement <N> times in a loop. If <N> is not\nprovided, <N> is determined so as to get sufficient accuracy.\n\n-r<R>: number of repeats <R>, each consisting of <N> loops, and take the\nbest result.\nDefault: 7\n\n-t: use time.time to measure the time, which is the default on Unix.\nThis function measures wall time.\n\n-c: use time.clock to measure the time, which is the default on\nWindows and measures wall time. On Unix, resource.getrusage is used\ninstead and returns the CPU user time.\n\n-p<P>: use a precision of <P> digits to display the timing result.\nDefault: 3\n\n-q: Quiet, do not print result.\n\n-o: return a TimeitResult that can be stored in a variable to inspect\n    the result in more details.\n\n.. versionchanged:: 7.3\n    User variables are no longer expanded,\n    the magic line is always left unmodified.\n\nExamples\n--------\n::\n\n  In [1]: %timeit pass\n  8.26 ns ± 0.12 ns per loop (mean ± std. dev. of 7 runs, 100000000 loops each)\n\n  In [2]: u = None\n\n  In [3]: %timeit u is None\n  29.9 ns ± 0.643 ns per loop (mean ± std. dev. of 7 runs, 10000000 loops each)\n\n  In [4]: %timeit -r 4 u == None\n\n  In [5]: import time\n\n  In [6]: %timeit -n1 time.sleep(2)\n\n\nThe times reported by %timeit will be slightly higher than those\nreported by the timeit.py script when variables are accessed. This is\ndue to the fact that %timeit executes the statement in the namespace\nof the shell, compared with timeit.py, which uses a single setup\nstatement to import function or create variables. Generally, the bias\ndoes not matter as long as results from timeit.py are not mixed with\nthose from %timeit.\n\u001b[0;31mFile:\u001b[0m      ~/anaconda3/lib/python3.8/site-packages/IPython/core/magics/execution.py\n"
    }
   ],
   "source": [
    "%timeit?"
   ]
  },
  {
   "cell_type": "code",
   "execution_count": 5,
   "metadata": {},
   "outputs": [
    {
     "output_type": "stream",
     "text": " it will be stored in ipython's regular output\n    cache Out[N] and in the '_N' automatic variables.\n    \n    Notes:\n    \n    1) If an input line begins with '!!', then %sx is automatically\n    invoked.  That is, while::\n    \n      !ls\n    \n    causes ipython to simply issue system('ls'), typing::\n    \n      !!ls\n    \n    is a shorthand equivalent to::\n    \n      %sx ls\n    \n    2) %sx differs from %sc in that %sx automatically splits into a list,\n    like '%sc -l'.  The reason for this is to make it as easy as possible\n    to process line-oriented shell output via further python commands.\n    %sc is meant to provide much finer control, but requires more\n    typing.\n    \n    3) Just like %sc -l, this is a list with special attributes:\n    ::\n    \n      .l (or .list) : value as list.\n      .n (or .nlstr): value as newline-separated string.\n      .s (or .spstr): value as whitespace-separated string.\n    \n    This is very useful when trying to use such lists as arguments to\n    system commands.\n%%HTML:\n    Alias for `%%html`.\n%%SVG:\n    Alias for `%%svg`.\n%%bash:\n    %%bash script magic\n    \n    Run cells with bash in a subprocess.\n    \n    This is a shortcut for `%%script bash`\n%%capture:\n    ::\n    \n      %capture [--no-stderr] [--no-stdout] [--no-display] [output]\n    \n    run the cell, capturing stdout, stderr, and IPython's rich display() calls.\n    \n    positional arguments:\n      output        The name of the variable in which to store output. This is a\n                    utils.io.CapturedIO object with stdout/err attributes for the\n                    text of the captured output. CapturedOutput also has a show()\n                    method for displaying the output, and __call__ as well, so you\n                    can use that to quickly display the output. If unspecified,\n                    captured output is discarded.\n    \n    optional arguments:\n      --no-stderr   Don't capture stderr.\n      --no-stdout   Don't capture stdout.\n      --no-display  Don't capture IPython's rich display.\n%%debug:\n    ::\n    \n      %debug [--breakpoint FILE:LINE] [statement [statement ...]]\n    \n    Activate the interactive debugger.\n    \n    This magic command support two ways of activating debugger.\n    One is to activate debugger before executing code.  This way, you\n    can set a break point, to step through the code from the point.\n    You can use this mode by giving statements to execute and optionally\n    a breakpoint.\n    \n    The other one is to activate debugger in post-mortem mode.  You can\n    activate this mode simply running %debug without any argument.\n    If an exception has just occurred, this lets you inspect its stack\n    frames interactively.  Note that this will always work only on the last\n    traceback that occurred, so you must call this quickly after an\n    exception that you wish to inspect has fired, because if another one\n    occurs, it clobbers the previous one.\n    \n    If you want IPython to automatically do this on every exception, see\n    the %pdb magic for more details.\n    \n    .. versionchanged:: 7.3\n        When running code, user variables are no longer expanded,\n        the magic line is always left unmodified.\n    \n    positional arguments:\n      statement             Code to run in debugger. You can omit this in cell\n                            magic mode.\n    \n    optional arguments:\n      --breakpoint <FILE:LINE>, -b <FILE:LINE>\n                            Set break point at LINE in FILE.\n%%file:\n    Alias for `%%writefile`.\n%%html:\n    ::\n    \n      %html [--isolated]\n    \n    Render the cell as a block of HTML\n    \n    optional arguments:\n      --isolated  Annotate the cell as 'isolated'. Isolated cells are rendered\n                  inside their own <iframe> tag\n%%javascript:\n    Run the cell block of Javascript code\n%%js:\n    Run the cell block of Javascript code\n    \n    Alias of `%%javascript`\n%%latex:\n    Render the cell as a block of latex\n    \n    The subset of latex which is support depends on the implementation in\n    the client.  In the Jupyter Notebook, this magic only renders the subset\n    of latex defined by MathJax\n    [here](https://docs.mathjax.org/en/v2.5-latest/tex.html).\n%%markdown:\n    Render the cell as Markdown text block\n%%perl:\n    %%perl script magic\n    \n    Run cells with perl in a subprocess.\n    \n    This is a shortcut for `%%script perl`\n%%prun:\n    Run a statement through the python code profiler.\n    \n    Usage, in line mode:\n      %prun [options] statement\n    \n    Usage, in cell mode:\n      %%prun [options] [statement]\n      code...\n      code...\n    \n    In cell mode, the additional code lines are appended to the (possibly\n    empty) statement in the first line.  Cell mode allows you to easily\n    profile multiline blocks without having to put them in a separate\n    function.\n    \n    The given statement (which doesn't require quote marks) is run via the\n    python profiler in a manner similar to the profile.run() function.\n    Namespaces are internally managed to work correctly; profile.run\n    cannot be used in IPython because it makes certain assumptions about\n    namespaces which do not hold under IPython.\n    \n    Options:\n    \n    -l <limit>\n      you can place restrictions on what or how much of the\n      profile gets printed. The limit value can be:\n    \n         * A string: only information for function names containing this string\n           is printed.\n    \n         * An integer: only these many lines are printed.\n    \n         * A float (between 0 and 1): this fraction of the report is printed\n           (for example, use a limit of 0.4 to see the topmost 40% only).\n    \n      You can combine several limits with repeated use of the option. For\n      example, ``-l __init__ -l 5`` will print only the topmost 5 lines of\n      information about class constructors.\n    \n    -r\n      return the pstats.Stats object generated by the profiling. This\n      object has all the information about the profile in it, and you can\n      later use it for further analysis or in other functions.\n    \n    -s <key>\n      sort profile by given key. You can provide more than one key\n      by using the option several times: '-s key1 -s key2 -s key3...'. The\n      default sorting key is 'time'.\n    \n      The following is copied verbatim from the profile documentation\n      referenced below:\n    \n      When more than one key is provided, additional keys are used as\n      secondary criteria when the there is equality in all keys selected\n      before them.\n    \n      Abbreviations can be used for any key names, as long as the\n      abbreviation is unambiguous.  The following are the keys currently\n      defined:\n    \n      ============  =====================\n      Valid Arg     Meaning\n      ============  =====================\n      \"calls\"       call count\n      \"cumulative\"  cumulative time\n      \"file\"        file name\n      \"module\"      file name\n      \"pcalls\"      primitive call count\n      \"line\"        line number\n      \"name\"        function name\n      \"nfl\"         name/file/line\n      \"stdname\"     standard name\n      \"time\"        internal time\n      ============  =====================\n    \n      Note that all sorts on statistics are in descending order (placing\n      most time consuming items first), where as name, file, and line number\n      searches are in ascending order (i.e., alphabetical). The subtle\n      distinction between \"nfl\" and \"stdname\" is that the standard name is a\n      sort of the name as printed, which means that the embedded line\n      numbers get compared in an odd way.  For example, lines 3, 20, and 40\n      would (if the file names were the same) appear in the string order\n      \"20\" \"3\" and \"40\".  In contrast, \"nfl\" does a numeric compare of the\n      line numbers.  In fact, sort_stats(\"nfl\") is the same as\n      sort_stats(\"name\", \"file\", \"line\").\n    \n    -T <filename>\n      save profile results as shown on screen to a text\n      file. The profile is still shown on screen.\n    \n    -D <filename>\n      save (via dump_stats) profile statistics to given\n      filename. This data is in a format understood by the pstats module, and\n      is generated by a call to the dump_stats() method of profile\n      objects. The profile is still shown on screen.\n    \n    -q\n      suppress output to the pager.  Best used with -T and/or -D above.\n    \n    If you want to run complete programs under the profiler's control, use\n    ``%run -p [prof_opts] filename.py [args to program]`` where prof_opts\n    contains profiler specific options as described here.\n    \n    You can read the complete documentation for the profile module with::\n    \n      In [1]: import profile; profile.help()\n    \n    .. versionchanged:: 7.3\n        User variables are no longer expanded,\n        the magic line is always left unmodified.\n%%pypy:\n    %%pypy script magic\n    \n    Run cells with pypy in a subprocess.\n    \n    This is a shortcut for `%%script pypy`\n%%python:\n    %%python script magic\n    \n    Run cells with python in a subprocess.\n    \n    This is a shortcut for `%%script python`\n%%python2:\n    %%python2 script magic\n    \n    Run cells with python2 in a subprocess.\n    \n    This is a shortcut for `%%script python2`\n%%python3:\n    %%python3 script magic\n    \n    Run cells with python3 in a subprocess.\n    \n    This is a shortcut for `%%script python3`\n%%ruby:\n    %%ruby script magic\n    \n    Run cells with ruby in a subprocess.\n    \n    This is a shortcut for `%%script ruby`\n%%script:\n    ::\n    \n      %shebang [--no-raise-error] [--proc PROC] [--bg] [--err ERR] [--out OUT]\n    \n    Run a cell via a shell command\n    \n    The `%%script` line is like the #! line of script,\n    specifying a program (bash, perl, ruby, etc.) with which to run.\n    \n    The rest of the cell is run by that program.\n    \n    Examples\n    --------\n    ::\n    \n        In [1]: %%script bash\n           ...: for i in 1 2 3; do\n           ...:   echo $i\n           ...: done\n        1\n        2\n        3\n    \n    optional arguments:\n      --no-raise-error  Whether you should raise an error message in addition to a\n                        stream on stderr if you get a nonzero exit code.\n      --proc PROC       The variable in which to store Popen instance. This is\n                        used only when --bg option is given.\n      --bg              Whether to run the script in the background. If given, the\n                        only way to see the output of the command is with\n                        --out/err.\n      --err ERR         The variable in which to store stderr from the script. If\n                        the script is backgrounded, this will be the stderr\n                        *pipe*, instead of the stderr text itself and will not be\n                        autoclosed.\n      --out OUT         The variable in which to store stdout from the script. If\n                        the script is backgrounded, this will be the stdout\n                        *pipe*, instead of the stderr text itself and will not be\n                        auto closed.\n%%sh:\n    %%sh script magic\n    \n    Run cells with sh in a subprocess.\n    \n    This is a shortcut for `%%script sh`\n%%svg:\n    Render the cell as an SVG literal\n%%sx:\n    Shell execute - run shell command and capture output (!! is short-hand).\n    \n    %sx command\n    \n    IPython will run the given command using commands.getoutput(), and\n    return the result formatted as a list (split on '\\n').  Since the\n    output is _returned_, it will be stored in ipython's regular output\n    cache Out[N] and in the '_N' automatic variables.\n    \n    Notes:\n    \n    1) If an input line begins with '!!', then %sx is automatically\n    invoked.  That is, while::\n    \n      !ls\n    \n    causes ipython to simply issue system('ls'), typing::\n    \n      !!ls\n    \n    is a shorthand equivalent to::\n    \n      %sx ls\n    \n    2) %sx differs from %sc in that %sx automatically splits into a list,\n    like '%sc -l'.  The reason for this is to make it as easy as possible\n    to process line-oriented shell output via further python commands.\n    %sc is meant to provide much finer control, but requires more\n    typing.\n    \n    3) Just like %sc -l, this is a list with special attributes:\n    ::\n    \n      .l (or .list) : value as list.\n      .n (or .nlstr): value as newline-separated string.\n      .s (or .spstr): value as whitespace-separated string.\n    \n    This is very useful when trying to use such lists as arguments to\n    system commands.\n%%system:\n    Shell execute - run shell command and capture output (!! is short-hand).\n    \n    %sx command\n    \n    IPython will run the given command using commands.getoutput(), and\n    return the result formatted as a list (split on '\\n').  Since the\n    output is _returned_, it will be stored in ipython's regular output\n    cache Out[N] and in the '_N' automatic variables.\n    \n    Notes:\n    \n    1) If an input line begins with '!!', then %sx is automatically\n    invoked.  That is, while::\n    \n      !ls\n    \n    causes ipython to simply issue system('ls'), typing::\n    \n      !!ls\n    \n    is a shorthand equivalent to::\n    \n      %sx ls\n    \n    2) %sx differs from %sc in that %sx automatically splits into a list,\n    like '%sc -l'.  The reason for this is to make it as easy as possible\n    to process line-oriented shell output via further python commands.\n    %sc is meant to provide much finer control, but requires more\n    typing.\n    \n    3) Just like %sc -l, this is a list with special attributes:\n    ::\n    \n      .l (or .list) : value as list.\n      .n (or .nlstr): value as newline-separated string.\n      .s (or .spstr): value as whitespace-separated string.\n    \n    This is very useful when trying to use such lists as arguments to\n    system commands.\n%%time:\n    Time execution of a Python statement or expression.\n    \n    The CPU and wall clock times are printed, and the value of the\n    expression (if any) is returned.  Note that under Win32, system time\n    is always reported as 0, since it can not be measured.\n    \n    This function can be used both as a line and cell magic:\n    \n    - In line mode you can time a single-line statement (though multiple\n      ones can be chained with using semicolons).\n    \n    - In cell mode, you can time the cell body (a directly\n      following statement raises an error).\n    \n    This function provides very basic timing functionality.  Use the timeit\n    magic for more control over the measurement.\n    \n    .. versionchanged:: 7.3\n        User variables are no longer expanded,\n        the magic line is always left unmodified.\n    \n    Examples\n    --------\n    ::\n    \n      In [1]: %time 2**128\n      CPU times: user 0.00 s, sys: 0.00 s, total: 0.00 s\n      Wall time: 0.00\n      Out[1]: 340282366920938463463374607431768211456L\n    \n      In [2]: n = 1000000\n    \n      In [3]: %time sum(range(n))\n      CPU times: user 1.20 s, sys: 0.05 s, total: 1.25 s\n      Wall time: 1.37\n      Out[3]: 499999500000L\n    \n      In [4]: %time print 'hello world'\n      hello world\n      CPU times: user 0.00 s, sys: 0.00 s, total: 0.00 s\n      Wall time: 0.00\n    \n      Note that the time needed by Python to compile the given expression\n      will be reported if it is more than 0.1s.  In this example, the\n      actual exponentiation is done by Python at compilation time, so while\n      the expression can take a noticeable amount of time to compute, that\n      time is purely due to the compilation:\n    \n      In [5]: %time 3**9999;\n      CPU times: user 0.00 s, sys: 0.00 s, total: 0.00 s\n      Wall time: 0.00 s\n    \n      In [6]: %time 3**999999;\n      CPU times: user 0.00 s, sys: 0.00 s, total: 0.00 s\n      Wall time: 0.00 s\n      Compiler : 0.78 s\n%%timeit:\n    Time execution of a Python statement or expression\n    \n    Usage, in line mode:\n      %timeit [-n<N> -r<R> [-t|-c] -q -p<P> -o] statement\n    or in cell mode:\n      %%timeit [-n<N> -r<R> [-t|-c] -q -p<P> -o] setup_code\n      code\n      code...\n    \n    Time execution of a Python statement or expression using the timeit\n    module.  This function can be used both as a line and cell magic:\n    \n    - In line mode you can time a single-line statement (though multiple\n      ones can be chained with using semicolons).\n    \n    - In cell mode, the statement in the first line is used as setup code\n      (executed but not timed) and the body of the cell is timed.  The cell\n      body has access to any variables created in the setup code.\n    \n    Options:\n    -n<N>: execute the given statement <N> times in a loop. If <N> is not\n    provided, <N> is determined so as to get sufficient accuracy.\n    \n    -r<R>: number of repeats <R>, each consisting of <N> loops, and take the\n    best result.\n    Default: 7\n    \n    -t: use time.time to measure the time, which is the default on Unix.\n    This function measures wall time.\n    \n    -c: use time.clock to measure the time, which is the default on\n    Windows and measures wall time. On Unix, resource.getrusage is used\n    instead and returns the CPU user time.\n    \n    -p<P>: use a precision of <P> digits to display the timing result.\n    Default: 3\n    \n    -q: Quiet, do not print result.\n    \n    -o: return a TimeitResult that can be stored in a variable to inspect\n        the result in more details.\n    \n    .. versionchanged:: 7.3\n        User variables are no longer expanded,\n        the magic line is always left unmodified.\n    \n    Examples\n    --------\n    ::\n    \n      In [1]: %timeit pass\n      8.26 ns ± 0.12 ns per loop (mean ± std. dev. of 7 runs, 100000000 loops each)\n    \n      In [2]: u = None\n    \n      In [3]: %timeit u is None\n      29.9 ns ± 0.643 ns per loop (mean ± std. dev. of 7 runs, 10000000 loops each)\n    \n      In [4]: %timeit -r 4 u == None\n    \n      In [5]: import time\n    \n      In [6]: %timeit -n1 time.sleep(2)\n    \n    \n    The times reported by %timeit will be slightly higher than those\n    reported by the timeit.py script when variables are accessed. This is\n    due to the fact that %timeit executes the statement in the namespace\n    of the shell, compared with timeit.py, which uses a single setup\n    statement to import function or create variables. Generally, the bias\n    does not matter as long as results from timeit.py are not mixed with\n    those from %timeit.\n%%writefile:\n    ::\n    \n      %writefile [-a] filename\n    \n    Write the contents of the cell to a file.\n    \n    The file will be overwritten unless the -a (--append) flag is specified.\n    \n    positional arguments:\n      filename      file to write\n    \n    optional arguments:\n      -a, --append  Append contents of the cell to an existing file. The file will\n                    be created if it does not exist.\n\nSummary of magic functions (from %lsmagic):\nAvailable line magics:\n%alias  %alias_magic  %autoawait  %autocall  %automagic  %autosave  %bookmark  %cat  %cd  %clear  %colors  %conda  %config  %connect_info  %cp  %debug  %dhist  %dirs  %doctest_mode  %ed  %edit  %env  %gui  %hist  %history  %killbgscripts  %ldir  %less  %lf  %lk  %ll  %load  %load_ext  %loadpy  %logoff  %logon  %logstart  %logstate  %logstop  %ls  %lsmagic  %lx  %macro  %magic  %man  %matplotlib  %mkdir  %more  %mv  %notebook  %page  %pastebin  %pdb  %pdef  %pdoc  %pfile  %pinfo  %pinfo2  %pip  %popd  %pprint  %precision  %prun  %psearch  %psource  %pushd  %pwd  %pycat  %pylab  %qtconsole  %quickref  %recall  %rehashx  %reload_ext  %rep  %rerun  %reset  %reset_selective  %rm  %rmdir  %run  %save  %sc  %set_env  %store  %sx  %system  %tb  %time  %timeit  %unalias  %unload_ext  %who  %who_ls  %whos  %xdel  %xmode\n\nAvailable cell magics:\n%%!  %%HTML  %%SVG  %%bash  %%capture  %%debug  %%file  %%html  %%javascript  %%js  %%latex  %%markdown  %%perl  %%prun  %%pypy  %%python  %%python2  %%python3  %%ruby  %%script  %%sh  %%svg  %%sx  %%system  %%time  %%timeit  %%writefile\n\nAutomagic is ON, % prefix IS NOT needed for line magics."
    }
   ],
   "source": [
    "%magic"
   ]
  },
  {
   "cell_type": "code",
   "execution_count": 7,
   "metadata": {},
   "outputs": [
    {
     "output_type": "execute_result",
     "data": {
      "text/plain": "Available line magics:\n%alias  %alias_magic  %autoawait  %autocall  %automagic  %autosave  %bookmark  %cat  %cd  %clear  %colors  %conda  %config  %connect_info  %cp  %debug  %dhist  %dirs  %doctest_mode  %ed  %edit  %env  %gui  %hist  %history  %killbgscripts  %ldir  %less  %lf  %lk  %ll  %load  %load_ext  %loadpy  %logoff  %logon  %logstart  %logstate  %logstop  %ls  %lsmagic  %lx  %macro  %magic  %man  %matplotlib  %mkdir  %more  %mv  %notebook  %page  %pastebin  %pdb  %pdef  %pdoc  %pfile  %pinfo  %pinfo2  %pip  %popd  %pprint  %precision  %prun  %psearch  %psource  %pushd  %pwd  %pycat  %pylab  %qtconsole  %quickref  %recall  %rehashx  %reload_ext  %rep  %rerun  %reset  %reset_selective  %rm  %rmdir  %run  %save  %sc  %set_env  %store  %sx  %system  %tb  %time  %timeit  %unalias  %unload_ext  %who  %who_ls  %whos  %xdel  %xmode\n\nAvailable cell magics:\n%%!  %%HTML  %%SVG  %%bash  %%capture  %%debug  %%file  %%html  %%javascript  %%js  %%latex  %%markdown  %%perl  %%prun  %%pypy  %%python  %%python2  %%python3  %%ruby  %%script  %%sh  %%svg  %%sx  %%system  %%time  %%timeit  %%writefile\n\nAutomagic is ON, % prefix IS NOT needed for line magics.",
      "application/json": {
       "line": {
        "automagic": "AutoMagics",
        "autocall": "AutoMagics",
        "alias_magic": "BasicMagics",
        "lsmagic": "BasicMagics",
        "magic": "BasicMagics",
        "page": "BasicMagics",
        "pprint": "BasicMagics",
        "colors": "BasicMagics",
        "xmode": "BasicMagics",
        "quickref": "BasicMagics",
        "doctest_mode": "BasicMagics",
        "gui": "BasicMagics",
        "precision": "BasicMagics",
        "notebook": "BasicMagics",
        "save": "CodeMagics",
        "pastebin": "CodeMagics",
        "loadpy": "CodeMagics",
        "load": "CodeMagics",
        "edit": "KernelMagics",
        "config": "ConfigMagics",
        "prun": "ExecutionMagics",
        "pdb": "ExecutionMagics",
        "debug": "ExecutionMagics",
        "tb": "ExecutionMagics",
        "run": "ExecutionMagics",
        "timeit": "ExecutionMagics",
        "time": "ExecutionMagics",
        "macro": "ExecutionMagics",
        "load_ext": "ExtensionMagics",
        "unload_ext": "ExtensionMagics",
        "reload_ext": "ExtensionMagics",
        "history": "HistoryMagics",
        "recall": "HistoryMagics",
        "rerun": "HistoryMagics",
        "logstart": "LoggingMagics",
        "logstop": "LoggingMagics",
        "logoff": "LoggingMagics",
        "logon": "LoggingMagics",
        "logstate": "LoggingMagics",
        "pinfo": "NamespaceMagics",
        "pinfo2": "NamespaceMagics",
        "pdef": "NamespaceMagics",
        "pdoc": "NamespaceMagics",
        "psource": "NamespaceMagics",
        "pfile": "NamespaceMagics",
        "psearch": "NamespaceMagics",
        "who_ls": "NamespaceMagics",
        "who": "NamespaceMagics",
        "whos": "NamespaceMagics",
        "reset": "NamespaceMagics",
        "reset_selective": "NamespaceMagics",
        "xdel": "NamespaceMagics",
        "alias": "OSMagics",
        "unalias": "OSMagics",
        "rehashx": "OSMagics",
        "pwd": "OSMagics",
        "cd": "OSMagics",
        "env": "OSMagics",
        "set_env": "OSMagics",
        "pushd": "OSMagics",
        "popd": "OSMagics",
        "dirs": "OSMagics",
        "dhist": "OSMagics",
        "sc": "OSMagics",
        "sx": "OSMagics",
        "system": "OSMagics",
        "bookmark": "OSMagics",
        "pycat": "OSMagics",
        "pip": "PackagingMagics",
        "conda": "PackagingMagics",
        "matplotlib": "PylabMagics",
        "pylab": "PylabMagics",
        "killbgscripts": "ScriptMagics",
        "autoawait": "AsyncMagics",
        "ed": "Other",
        "hist": "Other",
        "rep": "Other",
        "clear": "KernelMagics",
        "less": "KernelMagics",
        "more": "KernelMagics",
        "man": "KernelMagics",
        "connect_info": "KernelMagics",
        "qtconsole": "KernelMagics",
        "autosave": "KernelMagics",
        "mkdir": "Other",
        "rmdir": "Other",
        "mv": "Other",
        "rm": "Other",
        "cp": "Other",
        "cat": "Other",
        "ls": "Other",
        "ll": "Other",
        "lf": "Other",
        "lk": "Other",
        "ldir": "Other",
        "lx": "Other",
        "store": "StoreMagics"
       },
       "cell": {
        "js": "DisplayMagics",
        "javascript": "DisplayMagics",
        "latex": "DisplayMagics",
        "svg": "DisplayMagics",
        "html": "DisplayMagics",
        "markdown": "DisplayMagics",
        "prun": "ExecutionMagics",
        "debug": "ExecutionMagics",
        "timeit": "ExecutionMagics",
        "time": "ExecutionMagics",
        "capture": "ExecutionMagics",
        "sx": "OSMagics",
        "system": "OSMagics",
        "!": "OSMagics",
        "writefile": "OSMagics",
        "script": "ScriptMagics",
        "sh": "Other",
        "bash": "Other",
        "perl": "Other",
        "ruby": "Other",
        "python": "Other",
        "python2": "Other",
        "python3": "Other",
        "pypy": "Other",
        "SVG": "Other",
        "HTML": "Other",
        "file": "Other"
       }
      }
     },
     "metadata": {},
     "execution_count": 7
    }
   ],
   "source": [
    "%lsmagic"
   ]
  },
  {
   "cell_type": "code",
   "execution_count": 8,
   "metadata": {},
   "outputs": [
    {
     "output_type": "execute_result",
     "data": {
      "text/plain": "0.9092974268256817"
     },
     "metadata": {},
     "execution_count": 8
    }
   ],
   "source": [
    "import math\n",
    "\n",
    "math.sin(2)"
   ]
  },
  {
   "cell_type": "code",
   "execution_count": 10,
   "metadata": {
    "tags": []
   },
   "outputs": [
    {
     "output_type": "stream",
     "name": "stdout",
     "text": "['', \"get_ipython().run_line_magic('run', '1-ex1.py')\", \"get_ipython().run_line_magic('timeit', 'L = [n**2 for n in range(1000)]')\", \"get_ipython().run_cell_magic('timeit', '', 'L = []\\\\nfor n in range(1000):\\\\n    L.append(n**2)\\\\n')\", \"get_ipython().run_line_magic('pinfo', '%timeit')\", \"get_ipython().run_line_magic('magic', '')\", \"get_ipython().run_line_magic('lsmagic', '')\", \"get_ipython().run_line_magic('lsmagic', '')\", 'import math\\n\\nmath.sin(2)', 'print(In)', 'print(In)\\nprint(Out)']\n{6: <IPython.core.magics.basic.MagicsDisplay object at 0x7f8c95d60130>, 7: <IPython.core.magics.basic.MagicsDisplay object at 0x7f8c95d40e20>, 8: 0.9092974268256817}\n"
    }
   ],
   "source": [
    "print(In)\n",
    "print(Out)"
   ]
  },
  {
   "cell_type": "code",
   "execution_count": 11,
   "metadata": {
    "tags": []
   },
   "outputs": [
    {
     "output_type": "stream",
     "name": "stdout",
     "text": "0.9092974268256817\n"
    }
   ],
   "source": [
    "print(Out[8])"
   ]
  },
  {
   "cell_type": "code",
   "execution_count": 14,
   "metadata": {
    "tags": []
   },
   "outputs": [
    {
     "output_type": "stream",
     "name": "stdout",
     "text": "{6: <IPython.core.magics.basic.MagicsDisplay object at 0x7f8c95d60130>, 7: <IPython.core.magics.basic.MagicsDisplay object at 0x7f8c95d40e20>, 8: 0.9092974268256817}\n"
    }
   ],
   "source": [
    "print(Out)"
   ]
  },
  {
   "cell_type": "code",
   "execution_count": 16,
   "metadata": {},
   "outputs": [
    {
     "output_type": "execute_result",
     "data": {
      "text/plain": "-0.4161468365471424"
     },
     "metadata": {},
     "execution_count": 16
    }
   ],
   "source": [
    "math.cos(2)"
   ]
  },
  {
   "cell_type": "code",
   "execution_count": 17,
   "metadata": {},
   "outputs": [
    {
     "output_type": "execute_result",
     "data": {
      "text/plain": "1.0"
     },
     "metadata": {},
     "execution_count": 17
    }
   ],
   "source": [
    "Out[8] ** 2 + Out[16] ** 2"
   ]
  },
  {
   "cell_type": "code",
   "execution_count": 19,
   "metadata": {
    "tags": []
   },
   "outputs": [
    {
     "output_type": "stream",
     "name": "stdout",
     "text": "-0.4161468365471424\n"
    }
   ],
   "source": [
    "print(__) # To access previous values _ : last __: secondlast ___ : thirdlast"
   ]
  },
  {
   "cell_type": "code",
   "execution_count": 20,
   "metadata": {
    "tags": []
   },
   "outputs": [
    {
     "output_type": "stream",
     "name": "stdout",
     "text": "-0.4161468365471424\n"
    }
   ],
   "source": [
    "print(_16) # Shortcut for Out[16]"
   ]
  },
  {
   "cell_type": "code",
   "execution_count": 2,
   "metadata": {},
   "outputs": [],
   "source": [
    "import math\n",
    "math.sin(2) + math.cos(2);"
   ]
  },
  {
   "cell_type": "code",
   "execution_count": 3,
   "metadata": {},
   "outputs": [
    {
     "output_type": "execute_result",
     "data": {
      "text/plain": "{}"
     },
     "metadata": {},
     "execution_count": 3
    }
   ],
   "source": [
    "Out"
   ]
  },
  {
   "cell_type": "code",
   "execution_count": 4,
   "metadata": {},
   "outputs": [
    {
     "output_type": "execute_result",
     "data": {
      "text/plain": "0.9092974268256817"
     },
     "metadata": {},
     "execution_count": 4
    }
   ],
   "source": [
    "math.sin(2)"
   ]
  },
  {
   "cell_type": "code",
   "execution_count": 5,
   "metadata": {},
   "outputs": [
    {
     "output_type": "execute_result",
     "data": {
      "text/plain": "{4: 0.9092974268256817}"
     },
     "metadata": {},
     "execution_count": 5
    }
   ],
   "source": [
    "Out"
   ]
  },
  {
   "cell_type": "code",
   "execution_count": 6,
   "metadata": {
    "tags": []
   },
   "outputs": [
    {
     "output_type": "stream",
     "name": "stdout",
     "text": "Out\nimport math\nmath.sin(2) + math.cos(2);\nOut\nmath.sin(2)\nOut\n%history\n"
    }
   ],
   "source": [
    "%history"
   ]
  },
  {
   "cell_type": "code",
   "execution_count": 7,
   "metadata": {
    "tags": []
   },
   "outputs": [
    {
     "output_type": "stream",
     "name": "stdout",
     "text": "1: Out\n   2:\nimport math\nmath.sin(2) + math.cos(2);\n   3: Out\n   4: math.sin(2)\n"
    }
   ],
   "source": [
    "%history -n 1-4"
   ]
  },
  {
   "cell_type": "code",
   "execution_count": 8,
   "metadata": {
    "tags": []
   },
   "outputs": [
    {
     "output_type": "stream",
     "name": "stdout",
     "text": "Hello World\n"
    }
   ],
   "source": [
    "!echo \"Hello World\""
   ]
  },
  {
   "cell_type": "code",
   "execution_count": 9,
   "metadata": {},
   "outputs": [
    {
     "output_type": "execute_result",
     "data": {
      "text/plain": "{4: 0.9092974268256817}"
     },
     "metadata": {},
     "execution_count": 9
    }
   ],
   "source": [
    "Out"
   ]
  },
  {
   "cell_type": "code",
   "execution_count": 10,
   "metadata": {
    "tags": []
   },
   "outputs": [
    {
     "output_type": "stream",
     "name": "stdout",
     "text": "/home/jng/Documents/Repo/pythondatasciencehandbook\n"
    }
   ],
   "source": [
    "!pwd"
   ]
  },
  {
   "cell_type": "code",
   "execution_count": 11,
   "metadata": {
    "tags": []
   },
   "outputs": [
    {
     "output_type": "stream",
     "name": "stdout",
     "text": "1-ex1.py  1-IPython.ipynb  README.md\n"
    }
   ],
   "source": [
    "!ls"
   ]
  },
  {
   "cell_type": "code",
   "execution_count": 12,
   "metadata": {},
   "outputs": [
    {
     "output_type": "execute_result",
     "data": {
      "text/plain": "['1-ex1.py', '1-IPython.ipynb', 'README.md']"
     },
     "metadata": {},
     "execution_count": 12
    }
   ],
   "source": [
    "contents = !ls\n",
    "contents"
   ]
  },
  {
   "cell_type": "code",
   "execution_count": 13,
   "metadata": {},
   "outputs": [
    {
     "output_type": "execute_result",
     "data": {
      "text/plain": "IPython.utils.text.SList"
     },
     "metadata": {},
     "execution_count": 13
    }
   ],
   "source": [
    "type(contents)"
   ]
  },
  {
   "cell_type": "code",
   "execution_count": 15,
   "metadata": {
    "tags": []
   },
   "outputs": [
    {
     "output_type": "stream",
     "name": "stdout",
     "text": "hello from Python\n"
    }
   ],
   "source": [
    "message = \"hello from Python\"\n",
    "\n",
    "!echo {message}"
   ]
  },
  {
   "cell_type": "code",
   "execution_count": 16,
   "metadata": {
    "tags": []
   },
   "outputs": [
    {
     "output_type": "stream",
     "name": "stdout",
     "text": "1-ex1.py  1-IPython.ipynb  README.md\n"
    }
   ],
   "source": []
  },
  {
   "cell_type": "code",
   "execution_count": 23,
   "metadata": {
    "tags": []
   },
   "outputs": [
    {
     "output_type": "stream",
     "name": "stdout",
     "text": "Exception reporting mode: Context\n"
    }
   ],
   "source": [
    "%xmode Context"
   ]
  },
  {
   "cell_type": "code",
   "execution_count": 24,
   "metadata": {},
   "outputs": [
    {
     "output_type": "error",
     "ename": "ZeroDivisionError",
     "evalue": "division by zero",
     "traceback": [
      "\u001b[0;31m---------------------------------------------------------------------------\u001b[0m",
      "\u001b[0;31mZeroDivisionError\u001b[0m                         Traceback (most recent call last)",
      "\u001b[0;32m<ipython-input-24-d54bca709a10>\u001b[0m in \u001b[0;36m<module>\u001b[0;34m\u001b[0m\n\u001b[1;32m      1\u001b[0m \u001b[0;32mdef\u001b[0m \u001b[0mfunc1\u001b[0m\u001b[0;34m(\u001b[0m\u001b[0ma\u001b[0m \u001b[0;34m,\u001b[0m\u001b[0mb\u001b[0m\u001b[0;34m)\u001b[0m\u001b[0;34m:\u001b[0m\u001b[0;34m\u001b[0m\u001b[0;34m\u001b[0m\u001b[0m\n\u001b[1;32m      2\u001b[0m     \u001b[0;32mreturn\u001b[0m \u001b[0ma\u001b[0m \u001b[0;34m/\u001b[0m \u001b[0mb\u001b[0m\u001b[0;34m\u001b[0m\u001b[0;34m\u001b[0m\u001b[0m\n\u001b[0;32m----> 3\u001b[0;31m \u001b[0mfunc1\u001b[0m\u001b[0;34m(\u001b[0m\u001b[0;36m2\u001b[0m\u001b[0;34m,\u001b[0m \u001b[0;36m0\u001b[0m\u001b[0;34m)\u001b[0m\u001b[0;34m\u001b[0m\u001b[0;34m\u001b[0m\u001b[0m\n\u001b[0m",
      "\u001b[0;32m<ipython-input-24-d54bca709a10>\u001b[0m in \u001b[0;36mfunc1\u001b[0;34m(a, b)\u001b[0m\n\u001b[1;32m      1\u001b[0m \u001b[0;32mdef\u001b[0m \u001b[0mfunc1\u001b[0m\u001b[0;34m(\u001b[0m\u001b[0ma\u001b[0m \u001b[0;34m,\u001b[0m\u001b[0mb\u001b[0m\u001b[0;34m)\u001b[0m\u001b[0;34m:\u001b[0m\u001b[0;34m\u001b[0m\u001b[0;34m\u001b[0m\u001b[0m\n\u001b[0;32m----> 2\u001b[0;31m     \u001b[0;32mreturn\u001b[0m \u001b[0ma\u001b[0m \u001b[0;34m/\u001b[0m \u001b[0mb\u001b[0m\u001b[0;34m\u001b[0m\u001b[0;34m\u001b[0m\u001b[0m\n\u001b[0m\u001b[1;32m      3\u001b[0m \u001b[0mfunc1\u001b[0m\u001b[0;34m(\u001b[0m\u001b[0;36m2\u001b[0m\u001b[0;34m,\u001b[0m \u001b[0;36m0\u001b[0m\u001b[0;34m)\u001b[0m\u001b[0;34m\u001b[0m\u001b[0;34m\u001b[0m\u001b[0m\n",
      "\u001b[0;31mZeroDivisionError\u001b[0m: division by zero"
     ]
    }
   ],
   "source": [
    "def func1(a ,b):\n",
    "    return a / b\n",
    "func1(2, 0)"
   ]
  },
  {
   "cell_type": "code",
   "execution_count": null,
   "metadata": {},
   "outputs": [],
   "source": [
    "%debug"
   ]
  },
  {
   "cell_type": "code",
   "execution_count": 1,
   "metadata": {
    "tags": []
   },
   "outputs": [
    {
     "output_type": "stream",
     "name": "stdout",
     "text": "13.5 µs ± 120 ns per loop (mean ± std. dev. of 7 runs, 100000 loops each)\n"
    }
   ],
   "source": [
    "%timeit sum(range(1000))"
   ]
  },
  {
   "cell_type": "code",
   "execution_count": 2,
   "metadata": {
    "tags": []
   },
   "outputs": [
    {
     "output_type": "stream",
     "name": "stdout",
     "text": "222 ms ± 2.16 ms per loop (mean ± std. dev. of 7 runs, 1 loop each)\n"
    }
   ],
   "source": [
    "%%timeit\n",
    "total = 0\n",
    "for i in range(1000):\n",
    "    for j in range(1000):\n",
    "        total += i * (-1) ** j"
   ]
  },
  {
   "cell_type": "code",
   "execution_count": 3,
   "metadata": {
    "tags": []
   },
   "outputs": [
    {
     "output_type": "stream",
     "name": "stdout",
     "text": "410 µs ± 2.99 µs per loop (mean ± std. dev. of 7 runs, 1000 loops each)\n"
    }
   ],
   "source": [
    "import random\n",
    "L = [random.random() for i in range(100000)]\n",
    "%timeit L.sort()"
   ]
  },
  {
   "cell_type": "code",
   "execution_count": 4,
   "metadata": {
    "tags": []
   },
   "outputs": [
    {
     "output_type": "stream",
     "name": "stdout",
     "text": "Sorting an unsorted list:\nCPU times: user 15.4 ms, sys: 0 ns, total: 15.4 ms\nWall time: 15.3 ms\n"
    }
   ],
   "source": [
    "L = [random.random() for i in range(100000)]\n",
    "print(\"Sorting an unsorted list:\")\n",
    "%time L.sort()"
   ]
  },
  {
   "cell_type": "code",
   "execution_count": 5,
   "metadata": {
    "tags": []
   },
   "outputs": [
    {
     "output_type": "stream",
     "name": "stdout",
     "text": "Sorting an already sorted list:\nCPU times: user 1.37 ms, sys: 8 µs, total: 1.38 ms\nWall time: 1.39 ms\n"
    }
   ],
   "source": [
    "print(\"Sorting an already sorted list:\")\n",
    "%time L.sort()"
   ]
  },
  {
   "cell_type": "code",
   "execution_count": 6,
   "metadata": {},
   "outputs": [
    {
     "output_type": "stream",
     "text": "\u001b[0;31mDocstring:\u001b[0m\nTime execution of a Python statement or expression.\n\nThe CPU and wall clock times are printed, and the value of the\nexpression (if any) is returned.  Note that under Win32, system time\nis always reported as 0, since it can not be measured.\n\nThis function can be used both as a line and cell magic:\n\n- In line mode you can time a single-line statement (though multiple\n  ones can be chained with using semicolons).\n\n- In cell mode, you can time the cell body (a directly\n  following statement raises an error).\n\nThis function provides very basic timing functionality.  Use the timeit\nmagic for more control over the measurement.\n\n.. versionchanged:: 7.3\n    User variables are no longer expanded,\n    the magic line is always left unmodified.\n\nExamples\n--------\n::\n\n  In [1]: %time 2**128\n  CPU times: user 0.00 s, sys: 0.00 s, total: 0.00 s\n  Wall time: 0.00\n  Out[1]: 340282366920938463463374607431768211456L\n\n  In [2]: n = 1000000\n\n  In [3]: %time sum(range(n))\n  CPU times: user 1.20 s, sys: 0.05 s, total: 1.25 s\n  Wall time: 1.37\n  Out[3]: 499999500000L\n\n  In [4]: %time print 'hello world'\n  hello world\n  CPU times: user 0.00 s, sys: 0.00 s, total: 0.00 s\n  Wall time: 0.00\n\n  Note that the time needed by Python to compile the given expression\n  will be reported if it is more than 0.1s.  In this example, the\n  actual exponentiation is done by Python at compilation time, so while\n  the expression can take a noticeable amount of time to compute, that\n  time is purely due to the compilation:\n\n  In [5]: %time 3**9999;\n  CPU times: user 0.00 s, sys: 0.00 s, total: 0.00 s\n  Wall time: 0.00 s\n\n  In [6]: %time 3**999999;\n  CPU times: user 0.00 s, sys: 0.00 s, total: 0.00 s\n  Wall time: 0.00 s\n  Compiler : 0.78 s\n  \n\u001b[0;31mFile:\u001b[0m      ~/anaconda3/lib/python3.8/site-packages/IPython/core/magics/execution.py\n"
    }
   ],
   "source": [
    "%time?\n"
   ]
  },
  {
   "cell_type": "code",
   "execution_count": 7,
   "metadata": {},
   "outputs": [],
   "source": [
    "def sum_of_lists(N):\n",
    "    total = 0\n",
    "    for i in range(5):\n",
    "        L = [j ^ (j >> i) for j in range(N)]\n",
    "        total += sum(L)\n",
    "    return total"
   ]
  },
  {
   "cell_type": "code",
   "execution_count": 8,
   "metadata": {
    "tags": []
   },
   "outputs": [
    {
     "output_type": "stream",
     "name": "stdout",
     "text": ""
    },
    {
     "output_type": "stream",
     "text": "         14 function calls in 0.491 seconds\n\n   Ordered by: internal time\n\n   ncalls  tottime  percall  cumtime  percall filename:lineno(function)\n        5    0.432    0.086    0.432    0.086 <ipython-input-7-f105717832a2>:4(<listcomp>)\n        5    0.026    0.005    0.026    0.005 {built-in method builtins.sum}\n        1    0.025    0.025    0.482    0.482 <ipython-input-7-f105717832a2>:1(sum_of_lists)\n        1    0.008    0.008    0.491    0.491 <string>:1(<module>)\n        1    0.000    0.000    0.491    0.491 {built-in method builtins.exec}\n        1    0.000    0.000    0.000    0.000 {method 'disable' of '_lsprof.Profiler' objects}"
    }
   ],
   "source": [
    "%prun sum_of_lists(1000000)"
   ]
  },
  {
   "cell_type": "code",
   "execution_count": 10,
   "metadata": {
    "tags": []
   },
   "outputs": [
    {
     "output_type": "stream",
     "name": "stdout",
     "text": "Collecting line_profiler\n  Downloading line_profiler-3.0.2-cp38-cp38-manylinux2010_x86_64.whl (69 kB)\n\u001b[K     |████████████████████████████████| 69 kB 641 kB/s \n\u001b[?25hRequirement already satisfied: IPython in /home/jng/anaconda3/lib/python3.8/site-packages (from line_profiler) (7.16.1)\nRequirement already satisfied: jedi>=0.10 in /home/jng/anaconda3/lib/python3.8/site-packages (from IPython->line_profiler) (0.17.1)\nRequirement already satisfied: pexpect; sys_platform != \"win32\" in /home/jng/anaconda3/lib/python3.8/site-packages (from IPython->line_profiler) (4.8.0)\nRequirement already satisfied: prompt-toolkit!=3.0.0,!=3.0.1,<3.1.0,>=2.0.0 in /home/jng/anaconda3/lib/python3.8/site-packages (from IPython->line_profiler) (3.0.5)\nRequirement already satisfied: pygments in /home/jng/anaconda3/lib/python3.8/site-packages (from IPython->line_profiler) (2.6.1)\nRequirement already satisfied: decorator in /home/jng/anaconda3/lib/python3.8/site-packages (from IPython->line_profiler) (4.4.2)\nRequirement already satisfied: pickleshare in /home/jng/anaconda3/lib/python3.8/site-packages (from IPython->line_profiler) (0.7.5)\nRequirement already satisfied: traitlets>=4.2 in /home/jng/anaconda3/lib/python3.8/site-packages (from IPython->line_profiler) (4.3.3)\nRequirement already satisfied: backcall in /home/jng/anaconda3/lib/python3.8/site-packages (from IPython->line_profiler) (0.2.0)\nRequirement already satisfied: setuptools>=18.5 in /home/jng/anaconda3/lib/python3.8/site-packages (from IPython->line_profiler) (49.2.0.post20200714)\nRequirement already satisfied: parso<0.8.0,>=0.7.0 in /home/jng/anaconda3/lib/python3.8/site-packages (from jedi>=0.10->IPython->line_profiler) (0.7.0)\nRequirement already satisfied: ptyprocess>=0.5 in /home/jng/anaconda3/lib/python3.8/site-packages (from pexpect; sys_platform != \"win32\"->IPython->line_profiler) (0.6.0)\nRequirement already satisfied: wcwidth in /home/jng/anaconda3/lib/python3.8/site-packages (from prompt-toolkit!=3.0.0,!=3.0.1,<3.1.0,>=2.0.0->IPython->line_profiler) (0.2.5)\nRequirement already satisfied: six in /home/jng/anaconda3/lib/python3.8/site-packages (from traitlets>=4.2->IPython->line_profiler) (1.15.0)\nRequirement already satisfied: ipython-genutils in /home/jng/anaconda3/lib/python3.8/site-packages (from traitlets>=4.2->IPython->line_profiler) (0.2.0)\nInstalling collected packages: line-profiler\nSuccessfully installed line-profiler-3.0.2\n"
    }
   ],
   "source": [
    "!pip install line_profiler\n"
   ]
  },
  {
   "cell_type": "code",
   "execution_count": 11,
   "metadata": {},
   "outputs": [],
   "source": [
    "%load_ext line_profiler"
   ]
  },
  {
   "cell_type": "code",
   "execution_count": 12,
   "metadata": {},
   "outputs": [
    {
     "output_type": "stream",
     "text": "Timer unit: 1e-06 s\n\nTotal time: 0.004445 s\nFile: <ipython-input-7-f105717832a2>\nFunction: sum_of_lists at line 1\n\nLine #      Hits         Time  Per Hit   % Time  Line Contents\n==============================================================\n     1                                           def sum_of_lists(N):\n     2         1          1.0      1.0      0.0      total = 0\n     3         6          4.0      0.7      0.1      for i in range(5):\n     4         5       3992.0    798.4     89.8          L = [j ^ (j >> i) for j in range(N)]\n     5         5        447.0     89.4     10.1          total += sum(L)\n     6         1          1.0      1.0      0.0      return total"
    }
   ],
   "source": [
    "%lprun -f sum_of_lists sum_of_lists(5000)"
   ]
  },
  {
   "cell_type": "code",
   "execution_count": 13,
   "metadata": {
    "tags": []
   },
   "outputs": [
    {
     "output_type": "stream",
     "name": "stdout",
     "text": "Collecting memory_profiler\n  Downloading memory_profiler-0.57.0.tar.gz (34 kB)\nRequirement already satisfied: psutil in /home/jng/anaconda3/lib/python3.8/site-packages (from memory_profiler) (5.7.0)\nBuilding wheels for collected packages: memory-profiler\n  Building wheel for memory-profiler (setup.py) ... \u001b[?25ldone\n\u001b[?25h  Created wheel for memory-profiler: filename=memory_profiler-0.57.0-py3-none-any.whl size=28992 sha256=d7ac22b717ef24c802eb6770eaa3bfeb73f445aadefccf40e877c8ee5042a59f\n  Stored in directory: /home/jng/.cache/pip/wheels/24/2a/aa/41c20a5e40e527e894031ae00a70366c1aa884b89f6326a9d6\nSuccessfully built memory-profiler\nInstalling collected packages: memory-profiler\nSuccessfully installed memory-profiler-0.57.0\n"
    }
   ],
   "source": [
    "!pip install memory_profiler\n"
   ]
  },
  {
   "cell_type": "code",
   "execution_count": 14,
   "metadata": {},
   "outputs": [],
   "source": [
    "%load_ext memory_profiler"
   ]
  },
  {
   "cell_type": "code",
   "execution_count": 15,
   "metadata": {
    "tags": []
   },
   "outputs": [
    {
     "output_type": "stream",
     "name": "stdout",
     "text": "peak memory: 138.74 MiB, increment: 52.93 MiB\n"
    }
   ],
   "source": [
    "%memit sum_of_lists(1000000)"
   ]
  },
  {
   "cell_type": "code",
   "execution_count": 19,
   "metadata": {
    "tags": []
   },
   "outputs": [],
   "source": [
    "def sum_of_lists(N):\n",
    "    total = 0\n",
    "    for i in range(5):\n",
    "        L = [j ^ (j >> i) for j in range(N)]\n",
    "        total += sum(L)\n",
    "        del L\n",
    "    return total"
   ]
  },
  {
   "cell_type": "code",
   "execution_count": 20,
   "metadata": {
    "tags": []
   },
   "outputs": [
    {
     "output_type": "stream",
     "name": "stdout",
     "text": "ERROR: Could not find file <ipython-input-19-ee9be212aff8>\nNOTE: %mprun can only be used on functions defined in physical files, and not in the IPython environment.\n\n"
    },
    {
     "output_type": "stream",
     "text": ""
    }
   ],
   "source": [
    "%mprun -f sum_of_lists sum_of_lists(1000000)"
   ]
  },
  {
   "cell_type": "code",
   "execution_count": null,
   "metadata": {},
   "outputs": [],
   "source": []
  }
 ]
}