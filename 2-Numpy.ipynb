{
 "metadata": {
  "language_info": {
   "codemirror_mode": {
    "name": "ipython",
    "version": 3
   },
   "file_extension": ".py",
   "mimetype": "text/x-python",
   "name": "python",
   "nbconvert_exporter": "python",
   "pygments_lexer": "ipython3",
   "version": "3.8.3-final"
  },
  "orig_nbformat": 2,
  "kernelspec": {
   "name": "python3",
   "display_name": "Python 3"
  }
 },
 "nbformat": 4,
 "nbformat_minor": 2,
 "cells": [
  {
   "cell_type": "code",
   "execution_count": 2,
   "metadata": {},
   "outputs": [
    {
     "output_type": "execute_result",
     "data": {
      "text/plain": "'1.18.5'"
     },
     "metadata": {},
     "execution_count": 2
    }
   ],
   "source": [
    "import numpy as np\n",
    "np.__version__"
   ]
  },
  {
   "cell_type": "code",
   "execution_count": 3,
   "metadata": {},
   "outputs": [
    {
     "output_type": "stream",
     "text": "\u001b[0;31mType:\u001b[0m        module\n\u001b[0;31mString form:\u001b[0m <module 'numpy' from '/home/jng/anaconda3/lib/python3.8/site-packages/numpy/__init__.py'>\n\u001b[0;31mFile:\u001b[0m        ~/anaconda3/lib/python3.8/site-packages/numpy/__init__.py\n\u001b[0;31mDocstring:\u001b[0m  \nNumPy\n=====\n\nProvides\n  1. An array object of arbitrary homogeneous items\n  2. Fast mathematical operations over arrays\n  3. Linear Algebra, Fourier Transforms, Random Number Generation\n\nHow to use the documentation\n----------------------------\nDocumentation is available in two forms: docstrings provided\nwith the code, and a loose standing reference guide, available from\n`the NumPy homepage <https://www.scipy.org>`_.\n\nWe recommend exploring the docstrings using\n`IPython <https://ipython.org>`_, an advanced Python shell with\nTAB-completion and introspection capabilities.  See below for further\ninstructions.\n\nThe docstring examples assume that `numpy` has been imported as `np`::\n\n  >>> import numpy as np\n\nCode snippets are indicated by three greater-than signs::\n\n  >>> x = 42\n  >>> x = x + 1\n\nUse the built-in ``help`` function to view a function's docstring::\n\n  >>> help(np.sort)\n  ... # doctest: +SKIP\n\nFor some objects, ``np.info(obj)`` may provide additional help.  This is\nparticularly true if you see the line \"Help on ufunc object:\" at the top\nof the help() page.  Ufuncs are implemented in C, not Python, for speed.\nThe native Python help() does not know how to view their help, but our\nnp.info() function does.\n\nTo search for documents containing a keyword, do::\n\n  >>> np.lookfor('keyword')\n  ... # doctest: +SKIP\n\nGeneral-purpose documents like a glossary and help on the basic concepts\nof numpy are available under the ``doc`` sub-module::\n\n  >>> from numpy import doc\n  >>> help(doc)\n  ... # doctest: +SKIP\n\nAvailable subpackages\n---------------------\ndoc\n    Topical documentation on broadcasting, indexing, etc.\nlib\n    Basic functions used by several sub-packages.\nrandom\n    Core Random Tools\nlinalg\n    Core Linear Algebra Tools\nfft\n    Core FFT routines\npolynomial\n    Polynomial tools\ntesting\n    NumPy testing tools\nf2py\n    Fortran to Python Interface Generator.\ndistutils\n    Enhancements to distutils with support for\n    Fortran compilers support and more.\n\nUtilities\n---------\ntest\n    Run numpy unittests\nshow_config\n    Show numpy build configuration\ndual\n    Overwrite certain functions with high-performance Scipy tools\nmatlib\n    Make everything matrices.\n__version__\n    NumPy version string\n\nViewing documentation using IPython\n-----------------------------------\nStart IPython with the NumPy profile (``ipython -p numpy``), which will\nimport `numpy` under the alias `np`.  Then, use the ``cpaste`` command to\npaste examples into the shell.  To see which functions are available in\n`numpy`, type ``np.<TAB>`` (where ``<TAB>`` refers to the TAB key), or use\n``np.*cos*?<ENTER>`` (where ``<ENTER>`` refers to the ENTER key) to narrow\ndown the list.  To view the docstring for a function, use\n``np.cos?<ENTER>`` (to view the docstring) and ``np.cos??<ENTER>`` (to view\nthe source code).\n\nCopies vs. in-place operation\n-----------------------------\nMost of the functions in `numpy` return a copy of the array argument\n(e.g., `np.sort`).  In-place versions of these functions are often\navailable as array methods, i.e. ``x = np.array([1,2,3]); x.sort()``.\nExceptions to this rule are documented.\n"
    }
   ],
   "source": [
    "np?"
   ]
  },
  {
   "cell_type": "code",
   "execution_count": 5,
   "metadata": {},
   "outputs": [
    {
     "output_type": "execute_result",
     "data": {
      "text/plain": "[0, 1, 2, 3, 4, 5, 6, 7, 8, 9]"
     },
     "metadata": {},
     "execution_count": 5
    }
   ],
   "source": [
    "L = list(range(10))\n",
    "L"
   ]
  },
  {
   "cell_type": "code",
   "execution_count": 7,
   "metadata": {},
   "outputs": [
    {
     "output_type": "execute_result",
     "data": {
      "text/plain": "int"
     },
     "metadata": {},
     "execution_count": 7
    }
   ],
   "source": [
    "type(L[0])"
   ]
  },
  {
   "cell_type": "code",
   "execution_count": 9,
   "metadata": {},
   "outputs": [
    {
     "output_type": "execute_result",
     "data": {
      "text/plain": "['0', '1', '2', '3', '4', '5', '6', '7', '8', '9']"
     },
     "metadata": {},
     "execution_count": 9
    }
   ],
   "source": [
    "L2 = [str(each) for each in L]\n",
    "L2"
   ]
  },
  {
   "cell_type": "code",
   "execution_count": 10,
   "metadata": {},
   "outputs": [],
   "source": [
    "import numpy as np"
   ]
  },
  {
   "cell_type": "code",
   "execution_count": 11,
   "metadata": {},
   "outputs": [
    {
     "output_type": "execute_result",
     "data": {
      "text/plain": "array([1, 4, 2, 5, 3])"
     },
     "metadata": {},
     "execution_count": 11
    }
   ],
   "source": [
    "np.array([1, 4, 2 ,5 ,3])"
   ]
  },
  {
   "cell_type": "code",
   "execution_count": 12,
   "metadata": {},
   "outputs": [
    {
     "output_type": "execute_result",
     "data": {
      "text/plain": "array([3.14, 4.  , 2.  , 3.  ])"
     },
     "metadata": {},
     "execution_count": 12
    }
   ],
   "source": [
    "np.array([3.14, 4, 2, 3])"
   ]
  },
  {
   "cell_type": "code",
   "execution_count": 13,
   "metadata": {},
   "outputs": [
    {
     "output_type": "execute_result",
     "data": {
      "text/plain": "array([1., 2., 3., 4.], dtype=float32)"
     },
     "metadata": {},
     "execution_count": 13
    }
   ],
   "source": [
    "np.array([1, 2, 3, 4], dtype=\"float32\")"
   ]
  },
  {
   "cell_type": "code",
   "execution_count": 14,
   "metadata": {},
   "outputs": [
    {
     "output_type": "execute_result",
     "data": {
      "text/plain": "array([[2, 3, 4],\n       [4, 5, 6],\n       [6, 7, 8]])"
     },
     "metadata": {},
     "execution_count": 14
    }
   ],
   "source": [
    "np.array([range(i, i + 3) for i in [2, 4, 6]])"
   ]
  },
  {
   "cell_type": "code",
   "execution_count": 15,
   "metadata": {},
   "outputs": [
    {
     "output_type": "execute_result",
     "data": {
      "text/plain": "array([0, 0, 0, 0, 0, 0, 0, 0, 0, 0])"
     },
     "metadata": {},
     "execution_count": 15
    }
   ],
   "source": [
    "np.zeros(10, dtype=int)"
   ]
  },
  {
   "cell_type": "code",
   "execution_count": 16,
   "metadata": {},
   "outputs": [
    {
     "output_type": "execute_result",
     "data": {
      "text/plain": "array([[1., 1., 1., 1., 1.],\n       [1., 1., 1., 1., 1.],\n       [1., 1., 1., 1., 1.]])"
     },
     "metadata": {},
     "execution_count": 16
    }
   ],
   "source": [
    "np.ones((3, 5), dtype=float)"
   ]
  },
  {
   "cell_type": "code",
   "execution_count": 17,
   "metadata": {},
   "outputs": [
    {
     "output_type": "execute_result",
     "data": {
      "text/plain": "array([[3.14, 3.14, 3.14, 3.14, 3.14],\n       [3.14, 3.14, 3.14, 3.14, 3.14],\n       [3.14, 3.14, 3.14, 3.14, 3.14]])"
     },
     "metadata": {},
     "execution_count": 17
    }
   ],
   "source": [
    "np.full((3, 5), 3.14)"
   ]
  },
  {
   "cell_type": "code",
   "execution_count": 18,
   "metadata": {},
   "outputs": [
    {
     "output_type": "execute_result",
     "data": {
      "text/plain": "array([ 0,  2,  4,  6,  8, 10, 12, 14, 16, 18])"
     },
     "metadata": {},
     "execution_count": 18
    }
   ],
   "source": [
    "np.arange(0, 20, 2)"
   ]
  },
  {
   "cell_type": "code",
   "execution_count": 19,
   "metadata": {},
   "outputs": [
    {
     "output_type": "execute_result",
     "data": {
      "text/plain": "array([0.  , 0.25, 0.5 , 0.75, 1.  ])"
     },
     "metadata": {},
     "execution_count": 19
    }
   ],
   "source": [
    "np.linspace(0, 1, 5)"
   ]
  },
  {
   "cell_type": "code",
   "execution_count": 22,
   "metadata": {},
   "outputs": [
    {
     "output_type": "execute_result",
     "data": {
      "text/plain": "array([[0.16699939, 0.41183663, 0.06274561],\n       [0.69570462, 0.61261236, 0.95797369],\n       [0.34982257, 0.10283122, 0.84354928]])"
     },
     "metadata": {},
     "execution_count": 22
    }
   ],
   "source": [
    "np.random.random((3, 3))"
   ]
  },
  {
   "cell_type": "code",
   "execution_count": 24,
   "metadata": {},
   "outputs": [
    {
     "output_type": "execute_result",
     "data": {
      "text/plain": "array([4.16981471, 2.73282464])"
     },
     "metadata": {},
     "execution_count": 24
    }
   ],
   "source": [
    "np.random.normal(0, 1, (3, 3))"
   ]
  },
  {
   "cell_type": "code",
   "execution_count": 25,
   "metadata": {},
   "outputs": [
    {
     "output_type": "execute_result",
     "data": {
      "text/plain": "array([[3, 5, 4],\n       [8, 3, 9],\n       [1, 9, 9]])"
     },
     "metadata": {},
     "execution_count": 25
    }
   ],
   "source": [
    "np.random.randint(0, 10, (3, 3))"
   ]
  },
  {
   "cell_type": "code",
   "execution_count": 26,
   "metadata": {},
   "outputs": [
    {
     "output_type": "execute_result",
     "data": {
      "text/plain": "array([[1., 0., 0.],\n       [0., 1., 0.],\n       [0., 0., 1.]])"
     },
     "metadata": {},
     "execution_count": 26
    }
   ],
   "source": [
    "np.eye(3)"
   ]
  },
  {
   "cell_type": "code",
   "execution_count": 29,
   "metadata": {},
   "outputs": [
    {
     "output_type": "execute_result",
     "data": {
      "text/plain": "array([[6.93765092e-310, 6.93765092e-310, 4.65024713e-310, ...,\n        6.93764998e-310, 6.93761244e-310, 6.93764998e-310],\n       [6.93761243e-310, 6.93764998e-310, 6.93761243e-310, ...,\n        6.93764998e-310, 6.93761221e-310, 6.93764998e-310],\n       [6.93761221e-310, 6.93764998e-310, 6.93761221e-310, ...,\n        6.93764998e-310, 6.93761214e-310, 6.93764998e-310],\n       ...,\n       [6.93761219e-310, 6.93764998e-310, 6.93761219e-310, ...,\n        6.93765112e-310, 6.93761189e-310, 6.93764998e-310],\n       [6.93761189e-310, 6.93765112e-310, 6.93761189e-310, ...,\n        6.93765112e-310, 6.93761198e-310, 6.93764998e-310],\n       [6.93761198e-310, 6.93765112e-310, 6.93761198e-310, ...,\n        6.93764998e-310, 6.93761187e-310, 6.93765112e-310]])"
     },
     "metadata": {},
     "execution_count": 29
    }
   ],
   "source": [
    "np.empty((100, 100))"
   ]
  },
  {
   "cell_type": "code",
   "execution_count": 33,
   "metadata": {},
   "outputs": [],
   "source": [
    "np.random.seed(0)\n",
    "\n",
    "x1 = np.random.randint(10, size=6)\n",
    "x2 = np.random.randint(10, size=(3, 4))\n",
    "x3 = np.random.randint(10, size=(3, 4, 5))"
   ]
  },
  {
   "cell_type": "code",
   "execution_count": 35,
   "metadata": {
    "tags": []
   },
   "outputs": [
    {
     "output_type": "stream",
     "name": "stdout",
     "text": "x3 ndim: 3\nx3 shape: (3, 4, 5)\nx3 size: 60\n"
    }
   ],
   "source": [
    "print(\"x3 ndim:\", x3.ndim)\n",
    "print(\"x3 shape:\", x3.shape)\n",
    "print(\"x3 size:\", x3.size)"
   ]
  },
  {
   "cell_type": "code",
   "execution_count": 37,
   "metadata": {
    "tags": []
   },
   "outputs": [
    {
     "output_type": "stream",
     "name": "stdout",
     "text": "dtpye: int64\n"
    }
   ],
   "source": [
    "print(\"dtpye:\", x3.dtype)"
   ]
  },
  {
   "cell_type": "code",
   "execution_count": 38,
   "metadata": {
    "tags": []
   },
   "outputs": [
    {
     "output_type": "stream",
     "name": "stdout",
     "text": "itemsize: 8 bytes\nnbytes: 480 bytes\n"
    }
   ],
   "source": [
    "print(\"itemsize:\", x3.itemsize, \"bytes\")\n",
    "print(\"nbytes:\", x3. nbytes, \"bytes\")"
   ]
  },
  {
   "cell_type": "code",
   "execution_count": 39,
   "metadata": {
    "tags": []
   },
   "outputs": [
    {
     "output_type": "stream",
     "name": "stdout",
     "text": "[5 0 3 3 7 9]\n"
    },
    {
     "output_type": "execute_result",
     "data": {
      "text/plain": "5"
     },
     "metadata": {},
     "execution_count": 39
    }
   ],
   "source": [
    "print(x1)\n",
    "x1[0]"
   ]
  },
  {
   "cell_type": "code",
   "execution_count": 40,
   "metadata": {},
   "outputs": [
    {
     "output_type": "execute_result",
     "data": {
      "text/plain": "7"
     },
     "metadata": {},
     "execution_count": 40
    }
   ],
   "source": [
    "x1[4]"
   ]
  },
  {
   "cell_type": "code",
   "execution_count": 41,
   "metadata": {},
   "outputs": [
    {
     "output_type": "execute_result",
     "data": {
      "text/plain": "9"
     },
     "metadata": {},
     "execution_count": 41
    }
   ],
   "source": [
    "x1[-1]"
   ]
  },
  {
   "cell_type": "code",
   "execution_count": 42,
   "metadata": {
    "tags": []
   },
   "outputs": [
    {
     "output_type": "stream",
     "name": "stdout",
     "text": "[[3 5 2 4]\n [7 6 8 8]\n [1 6 7 7]]\n"
    },
    {
     "output_type": "execute_result",
     "data": {
      "text/plain": "3"
     },
     "metadata": {},
     "execution_count": 42
    }
   ],
   "source": [
    "print(x2)\n",
    "x2[0, 0]"
   ]
  },
  {
   "cell_type": "code",
   "execution_count": 43,
   "metadata": {},
   "outputs": [
    {
     "output_type": "execute_result",
     "data": {
      "text/plain": "6"
     },
     "metadata": {},
     "execution_count": 43
    }
   ],
   "source": [
    "x2[1, 1]"
   ]
  },
  {
   "cell_type": "code",
   "execution_count": 44,
   "metadata": {},
   "outputs": [
    {
     "output_type": "execute_result",
     "data": {
      "text/plain": "array([5, 0, 3, 3, 7, 9])"
     },
     "metadata": {},
     "execution_count": 44
    }
   ],
   "source": [
    "x1"
   ]
  },
  {
   "cell_type": "code",
   "execution_count": 46,
   "metadata": {},
   "outputs": [],
   "source": [
    "x1[0] = 4.4"
   ]
  },
  {
   "cell_type": "code",
   "execution_count": 47,
   "metadata": {},
   "outputs": [
    {
     "output_type": "execute_result",
     "data": {
      "text/plain": "array([4, 0, 3, 3, 7, 9])"
     },
     "metadata": {},
     "execution_count": 47
    }
   ],
   "source": [
    "x1"
   ]
  },
  {
   "cell_type": "code",
   "execution_count": 48,
   "metadata": {},
   "outputs": [],
   "source": [
    "x = np.arange(10)\n"
   ]
  },
  {
   "cell_type": "code",
   "execution_count": 49,
   "metadata": {
    "tags": []
   },
   "outputs": [
    {
     "output_type": "stream",
     "name": "stdout",
     "text": "[0 1 2 3 4 5 6 7 8 9]\n"
    }
   ],
   "source": [
    "print(x)"
   ]
  },
  {
   "cell_type": "code",
   "execution_count": 50,
   "metadata": {},
   "outputs": [
    {
     "output_type": "execute_result",
     "data": {
      "text/plain": "array([0, 1, 2, 3, 4])"
     },
     "metadata": {},
     "execution_count": 50
    }
   ],
   "source": [
    "x[:5]"
   ]
  },
  {
   "cell_type": "code",
   "execution_count": 51,
   "metadata": {},
   "outputs": [
    {
     "output_type": "execute_result",
     "data": {
      "text/plain": "array([0, 1, 2, 3, 4, 5, 6, 7, 8])"
     },
     "metadata": {},
     "execution_count": 51
    }
   ],
   "source": [
    "x[:-1]"
   ]
  },
  {
   "cell_type": "code",
   "execution_count": 52,
   "metadata": {},
   "outputs": [
    {
     "output_type": "execute_result",
     "data": {
      "text/plain": "array([0, 2, 4, 6, 8])"
     },
     "metadata": {},
     "execution_count": 52
    }
   ],
   "source": [
    "x[::2]"
   ]
  },
  {
   "cell_type": "code",
   "execution_count": 53,
   "metadata": {},
   "outputs": [
    {
     "output_type": "execute_result",
     "data": {
      "text/plain": "array([9, 8, 7, 6, 5, 4, 3, 2, 1, 0])"
     },
     "metadata": {},
     "execution_count": 53
    }
   ],
   "source": [
    "x[::-1]"
   ]
  },
  {
   "cell_type": "code",
   "execution_count": 55,
   "metadata": {},
   "outputs": [
    {
     "output_type": "execute_result",
     "data": {
      "text/plain": "array([6, 5, 4, 3, 2])"
     },
     "metadata": {},
     "execution_count": 55
    }
   ],
   "source": [
    "x[6:1:-1]"
   ]
  },
  {
   "cell_type": "code",
   "execution_count": 56,
   "metadata": {},
   "outputs": [
    {
     "output_type": "execute_result",
     "data": {
      "text/plain": "array([[3, 5, 2, 4],\n       [7, 6, 8, 8],\n       [1, 6, 7, 7]])"
     },
     "metadata": {},
     "execution_count": 56
    }
   ],
   "source": [
    "x2"
   ]
  },
  {
   "cell_type": "code",
   "execution_count": 57,
   "metadata": {},
   "outputs": [
    {
     "output_type": "execute_result",
     "data": {
      "text/plain": "array([[3, 5],\n       [7, 6]])"
     },
     "metadata": {},
     "execution_count": 57
    }
   ],
   "source": [
    "x2[:2, :2]"
   ]
  },
  {
   "cell_type": "code",
   "execution_count": 60,
   "metadata": {},
   "outputs": [
    {
     "output_type": "execute_result",
     "data": {
      "text/plain": "array([[3, 5, 2],\n       [7, 6, 8],\n       [1, 6, 7]])"
     },
     "metadata": {},
     "execution_count": 60
    }
   ],
   "source": [
    "x2[:,:3]"
   ]
  },
  {
   "cell_type": "code",
   "execution_count": 61,
   "metadata": {},
   "outputs": [
    {
     "output_type": "execute_result",
     "data": {
      "text/plain": "array([[7, 7, 6, 1],\n       [8, 8, 6, 7],\n       [4, 2, 5, 3]])"
     },
     "metadata": {},
     "execution_count": 61
    }
   ],
   "source": [
    "x2[::-1, ::-1]"
   ]
  },
  {
   "cell_type": "code",
   "execution_count": 64,
   "metadata": {},
   "outputs": [
    {
     "output_type": "execute_result",
     "data": {
      "text/plain": "(3,)"
     },
     "metadata": {},
     "execution_count": 64
    }
   ],
   "source": [
    "(x2[:, 0]).shape"
   ]
  },
  {
   "cell_type": "code",
   "execution_count": 65,
   "metadata": {},
   "outputs": [
    {
     "output_type": "execute_result",
     "data": {
      "text/plain": "array([1, 6, 7, 7])"
     },
     "metadata": {},
     "execution_count": 65
    }
   ],
   "source": [
    "x2[2]"
   ]
  },
  {
   "cell_type": "code",
   "execution_count": 4,
   "metadata": {},
   "outputs": [
    {
     "output_type": "execute_result",
     "data": {
      "text/plain": "array([[ 1,  2,  3,  4],\n       [ 5,  6,  7,  8],\n       [ 9, 10, 11, 12]])"
     },
     "metadata": {},
     "execution_count": 4
    }
   ],
   "source": [
    "import numpy as np\n",
    "x = np.arange(1,13).reshape((3, 4))\n",
    "x"
   ]
  },
  {
   "cell_type": "code",
   "execution_count": 6,
   "metadata": {},
   "outputs": [
    {
     "output_type": "execute_result",
     "data": {
      "text/plain": "array([[1, 2],\n       [5, 6]])"
     },
     "metadata": {},
     "execution_count": 6
    }
   ],
   "source": [
    "x2_sub = x[:2, :2]\n",
    "x2_sub"
   ]
  },
  {
   "cell_type": "code",
   "execution_count": 7,
   "metadata": {},
   "outputs": [
    {
     "output_type": "execute_result",
     "data": {
      "text/plain": "array([[12, 11, 10,  9],\n       [ 8,  7,  6,  5],\n       [ 4,  3,  2,  1]])"
     },
     "metadata": {},
     "execution_count": 7
    }
   ],
   "source": [
    "x[::-1, ::-1]"
   ]
  },
  {
   "cell_type": "code",
   "execution_count": 8,
   "metadata": {},
   "outputs": [],
   "source": [
    "x2_sub[0, 0] = 99"
   ]
  },
  {
   "cell_type": "code",
   "execution_count": 9,
   "metadata": {},
   "outputs": [
    {
     "output_type": "execute_result",
     "data": {
      "text/plain": "array([[99,  2],\n       [ 5,  6]])"
     },
     "metadata": {},
     "execution_count": 9
    }
   ],
   "source": [
    "x2_sub"
   ]
  },
  {
   "cell_type": "code",
   "execution_count": 10,
   "metadata": {},
   "outputs": [
    {
     "output_type": "execute_result",
     "data": {
      "text/plain": "array([[99,  2,  3,  4],\n       [ 5,  6,  7,  8],\n       [ 9, 10, 11, 12]])"
     },
     "metadata": {},
     "execution_count": 10
    }
   ],
   "source": [
    "x"
   ]
  },
  {
   "cell_type": "code",
   "execution_count": 11,
   "metadata": {},
   "outputs": [],
   "source": [
    "x2_sub_copy = x[:2, :2].copy()"
   ]
  },
  {
   "cell_type": "code",
   "execution_count": 12,
   "metadata": {},
   "outputs": [
    {
     "output_type": "execute_result",
     "data": {
      "text/plain": "array([[99,  2],\n       [ 5,  6]])"
     },
     "metadata": {},
     "execution_count": 12
    }
   ],
   "source": [
    "x2_sub_copy"
   ]
  },
  {
   "cell_type": "code",
   "execution_count": 13,
   "metadata": {},
   "outputs": [],
   "source": [
    "x2_sub_copy[0, 0] = 10000"
   ]
  },
  {
   "cell_type": "code",
   "execution_count": 14,
   "metadata": {},
   "outputs": [
    {
     "output_type": "execute_result",
     "data": {
      "text/plain": "array([[10000,     2],\n       [    5,     6]])"
     },
     "metadata": {},
     "execution_count": 14
    }
   ],
   "source": [
    "x2_sub_copy"
   ]
  },
  {
   "cell_type": "code",
   "execution_count": 15,
   "metadata": {},
   "outputs": [
    {
     "output_type": "execute_result",
     "data": {
      "text/plain": "array([[99,  2],\n       [ 5,  6]])"
     },
     "metadata": {},
     "execution_count": 15
    }
   ],
   "source": [
    "x2_sub"
   ]
  },
  {
   "cell_type": "code",
   "execution_count": 16,
   "metadata": {},
   "outputs": [
    {
     "output_type": "execute_result",
     "data": {
      "text/plain": "array([[99,  2,  3,  4],\n       [ 5,  6,  7,  8],\n       [ 9, 10, 11, 12]])"
     },
     "metadata": {},
     "execution_count": 16
    }
   ],
   "source": [
    "x"
   ]
  },
  {
   "cell_type": "code",
   "execution_count": 17,
   "metadata": {},
   "outputs": [
    {
     "output_type": "execute_result",
     "data": {
      "text/plain": "array([[1, 2, 3],\n       [4, 5, 6],\n       [7, 8, 9]])"
     },
     "metadata": {},
     "execution_count": 17
    }
   ],
   "source": [
    "grid = np.arange(1, 10).reshape((3, 3))\n",
    "grid"
   ]
  },
  {
   "cell_type": "code",
   "execution_count": 18,
   "metadata": {},
   "outputs": [
    {
     "output_type": "execute_result",
     "data": {
      "text/plain": "array([1, 2, 3])"
     },
     "metadata": {},
     "execution_count": 18
    }
   ],
   "source": [
    "x = np.array([1, 2, 3])\n",
    "x"
   ]
  },
  {
   "cell_type": "code",
   "execution_count": 20,
   "metadata": {},
   "outputs": [
    {
     "output_type": "execute_result",
     "data": {
      "text/plain": "array([[1, 2, 3]])"
     },
     "metadata": {},
     "execution_count": 20
    }
   ],
   "source": [
    "x.reshape((1, 3))"
   ]
  },
  {
   "cell_type": "code",
   "execution_count": 21,
   "metadata": {},
   "outputs": [
    {
     "output_type": "execute_result",
     "data": {
      "text/plain": "array([[1, 2, 3]])"
     },
     "metadata": {},
     "execution_count": 21
    }
   ],
   "source": [
    "x[np.newaxis, :]"
   ]
  },
  {
   "cell_type": "code",
   "execution_count": 22,
   "metadata": {},
   "outputs": [
    {
     "output_type": "execute_result",
     "data": {
      "text/plain": "array([[1],\n       [2],\n       [3]])"
     },
     "metadata": {},
     "execution_count": 22
    }
   ],
   "source": [
    "x.reshape((3, 1))"
   ]
  },
  {
   "cell_type": "code",
   "execution_count": 23,
   "metadata": {},
   "outputs": [
    {
     "output_type": "execute_result",
     "data": {
      "text/plain": "array([[1],\n       [2],\n       [3]])"
     },
     "metadata": {},
     "execution_count": 23
    }
   ],
   "source": [
    "x[:, np.newaxis]"
   ]
  },
  {
   "cell_type": "code",
   "execution_count": 24,
   "metadata": {},
   "outputs": [
    {
     "output_type": "execute_result",
     "data": {
      "text/plain": "array([1, 2, 3, 3, 2, 1])"
     },
     "metadata": {},
     "execution_count": 24
    }
   ],
   "source": [
    "x = np.array([1, 2, 3])\n",
    "y = np.array([3, 2, 1])\n",
    "np.concatenate([x, y])"
   ]
  },
  {
   "cell_type": "code",
   "execution_count": 25,
   "metadata": {},
   "outputs": [
    {
     "output_type": "execute_result",
     "data": {
      "text/plain": "array([ 1,  2,  3,  3,  2,  1, 99, 99, 99])"
     },
     "metadata": {},
     "execution_count": 25
    }
   ],
   "source": [
    "z = [99, 99, 99]\n",
    "np.concatenate([x, y, z])"
   ]
  },
  {
   "cell_type": "code",
   "execution_count": 28,
   "metadata": {},
   "outputs": [
    {
     "output_type": "execute_result",
     "data": {
      "text/plain": "array([[1, 2, 3, 1, 2, 3],\n       [4, 5, 6, 4, 5, 6]])"
     },
     "metadata": {},
     "execution_count": 28
    }
   ],
   "source": [
    "grid = np.array([[1, 2, 3],\n",
    "                [4, 5, 6]])\n",
    "np.concatenate([grid, grid])    \n",
    "np.concatenate([grid, grid], axis=1)        "
   ]
  },
  {
   "cell_type": "code",
   "execution_count": 29,
   "metadata": {},
   "outputs": [
    {
     "output_type": "execute_result",
     "data": {
      "text/plain": "array([[1, 2, 3],\n       [9, 8, 7],\n       [6, 5, 4]])"
     },
     "metadata": {},
     "execution_count": 29
    }
   ],
   "source": [
    "    x = np.array([1, 2, 3])\n",
    "    grid = np.array([[9, 8, 7],\n",
    "                    [6, 5, 4]])\n",
    "\n",
    "np.vstack([x, grid])                    "
   ]
  },
  {
   "cell_type": "code",
   "execution_count": 32,
   "metadata": {},
   "outputs": [
    {
     "output_type": "execute_result",
     "data": {
      "text/plain": "array([[ 9,  8,  7, 99],\n       [ 6,  5,  4, 99]])"
     },
     "metadata": {},
     "execution_count": 32
    }
   ],
   "source": [
    "y = np.array([[99], [99]])\n",
    "z = np.hstack([grid, y])\n",
    "z"
   ]
  },
  {
   "cell_type": "code",
   "execution_count": 33,
   "metadata": {},
   "outputs": [],
   "source": [
    "z[0, 0] = 100"
   ]
  },
  {
   "cell_type": "code",
   "execution_count": 34,
   "metadata": {},
   "outputs": [
    {
     "output_type": "execute_result",
     "data": {
      "text/plain": "array([[100,   8,   7,  99],\n       [  6,   5,   4,  99]])"
     },
     "metadata": {},
     "execution_count": 34
    }
   ],
   "source": [
    "z"
   ]
  },
  {
   "cell_type": "code",
   "execution_count": 35,
   "metadata": {},
   "outputs": [
    {
     "output_type": "execute_result",
     "data": {
      "text/plain": "array([[99],\n       [99]])"
     },
     "metadata": {},
     "execution_count": 35
    }
   ],
   "source": [
    "y"
   ]
  },
  {
   "cell_type": "code",
   "execution_count": 36,
   "metadata": {},
   "outputs": [
    {
     "output_type": "execute_result",
     "data": {
      "text/plain": "array([[9, 8, 7],\n       [6, 5, 4]])"
     },
     "metadata": {},
     "execution_count": 36
    }
   ],
   "source": [
    "grid"
   ]
  },
  {
   "cell_type": "code",
   "execution_count": 37,
   "metadata": {
    "tags": []
   },
   "outputs": [
    {
     "output_type": "stream",
     "name": "stdout",
     "text": "[1 2 3]\n[99 99]\n[3 2 1]\n"
    }
   ],
   "source": [
    "x = [1, 2, 3, 99, 99, 3, 2, 1]\n",
    "x1, x2, x3 = np.split(x, [3, 5])\n",
    "print(x1)\n",
    "print(x2)\n",
    "print(x3)"
   ]
  },
  {
   "cell_type": "code",
   "execution_count": 38,
   "metadata": {},
   "outputs": [
    {
     "output_type": "execute_result",
     "data": {
      "text/plain": "array([[ 0,  1,  2,  3],\n       [ 4,  5,  6,  7],\n       [ 8,  9, 10, 11],\n       [12, 13, 14, 15]])"
     },
     "metadata": {},
     "execution_count": 38
    }
   ],
   "source": [
    "grid = np.arange(16).reshape((4, 4))\n",
    "grid"
   ]
  },
  {
   "cell_type": "code",
   "execution_count": 39,
   "metadata": {},
   "outputs": [],
   "source": [
    "upper, lower = np.vsplit(grid, [2])"
   ]
  },
  {
   "cell_type": "code",
   "execution_count": 40,
   "metadata": {},
   "outputs": [
    {
     "output_type": "execute_result",
     "data": {
      "text/plain": "array([[0, 1, 2, 3],\n       [4, 5, 6, 7]])"
     },
     "metadata": {},
     "execution_count": 40
    }
   ],
   "source": [
    "upper"
   ]
  },
  {
   "cell_type": "code",
   "execution_count": 41,
   "metadata": {},
   "outputs": [
    {
     "output_type": "execute_result",
     "data": {
      "text/plain": "array([[ 8,  9, 10, 11],\n       [12, 13, 14, 15]])"
     },
     "metadata": {},
     "execution_count": 41
    }
   ],
   "source": [
    "lower"
   ]
  },
  {
   "cell_type": "code",
   "execution_count": 42,
   "metadata": {},
   "outputs": [],
   "source": [
    "upper, middle, lower = np.vsplit(grid, [2, 3])"
   ]
  },
  {
   "cell_type": "code",
   "execution_count": 43,
   "metadata": {},
   "outputs": [
    {
     "output_type": "execute_result",
     "data": {
      "text/plain": "array([[0, 1, 2, 3],\n       [4, 5, 6, 7]])"
     },
     "metadata": {},
     "execution_count": 43
    }
   ],
   "source": [
    "upper"
   ]
  },
  {
   "cell_type": "code",
   "execution_count": 44,
   "metadata": {},
   "outputs": [
    {
     "output_type": "execute_result",
     "data": {
      "text/plain": "array([[ 8,  9, 10, 11]])"
     },
     "metadata": {},
     "execution_count": 44
    }
   ],
   "source": [
    "middle"
   ]
  },
  {
   "cell_type": "code",
   "execution_count": 45,
   "metadata": {},
   "outputs": [
    {
     "output_type": "execute_result",
     "data": {
      "text/plain": "array([[12, 13, 14, 15]])"
     },
     "metadata": {},
     "execution_count": 45
    }
   ],
   "source": [
    "lower"
   ]
  },
  {
   "cell_type": "code",
   "execution_count": 48,
   "metadata": {},
   "outputs": [],
   "source": [
    "left, right = np.hsplit(grid, [1])"
   ]
  },
  {
   "cell_type": "code",
   "execution_count": 49,
   "metadata": {},
   "outputs": [
    {
     "output_type": "execute_result",
     "data": {
      "text/plain": "array([[ 0],\n       [ 4],\n       [ 8],\n       [12]])"
     },
     "metadata": {},
     "execution_count": 49
    }
   ],
   "source": [
    "left"
   ]
  },
  {
   "cell_type": "code",
   "execution_count": 50,
   "metadata": {},
   "outputs": [
    {
     "output_type": "execute_result",
     "data": {
      "text/plain": "array([[ 1,  2,  3],\n       [ 5,  6,  7],\n       [ 9, 10, 11],\n       [13, 14, 15]])"
     },
     "metadata": {},
     "execution_count": 50
    }
   ],
   "source": [
    "right"
   ]
  },
  {
   "cell_type": "code",
   "execution_count": 55,
   "metadata": {},
   "outputs": [],
   "source": [
    "import numpy as np\n",
    "np.random.seed(0)\n",
    "\n",
    "def compute_reciprocals(values):\n",
    "    output = np.empty(len(values))\n",
    "    for i in range(len(values)):\n",
    "        output[i] = 1.0 / values[i]\n",
    "    return output\n"
   ]
  },
  {
   "cell_type": "code",
   "execution_count": 56,
   "metadata": {},
   "outputs": [
    {
     "output_type": "execute_result",
     "data": {
      "text/plain": "array([6, 1, 4, ..., 1, 8, 8])"
     },
     "metadata": {},
     "execution_count": 56
    }
   ],
   "source": [
    "values = np.random.randint(1, 10, size=10000)\n",
    "values"
   ]
  },
  {
   "cell_type": "code",
   "execution_count": 57,
   "metadata": {
    "tags": []
   },
   "outputs": [
    {
     "output_type": "stream",
     "name": "stdout",
     "text": "17.8 ms ± 295 µs per loop (mean ± std. dev. of 7 runs, 100 loops each)\n"
    }
   ],
   "source": [
    "%timeit compute_reciprocals(values)"
   ]
  },
  {
   "cell_type": "code",
   "execution_count": 58,
   "metadata": {
    "tags": []
   },
   "outputs": [
    {
     "output_type": "stream",
     "name": "stdout",
     "text": "11.2 µs ± 64.3 ns per loop (mean ± std. dev. of 7 runs, 100000 loops each)\n"
    }
   ],
   "source": [
    "%timeit 1/values"
   ]
  },
  {
   "cell_type": "code",
   "execution_count": 59,
   "metadata": {},
   "outputs": [
    {
     "output_type": "execute_result",
     "data": {
      "text/plain": "array([0.        , 0.5       , 0.66666667, 0.75      , 0.8       ])"
     },
     "metadata": {},
     "execution_count": 59
    }
   ],
   "source": [
    "np.arange(5) / np.arange(1, 6)"
   ]
  },
  {
   "cell_type": "code",
   "execution_count": 60,
   "metadata": {},
   "outputs": [
    {
     "output_type": "execute_result",
     "data": {
      "text/plain": "array([[  1,   2,   4],\n       [  8,  16,  32],\n       [ 64, 128, 256]])"
     },
     "metadata": {},
     "execution_count": 60
    }
   ],
   "source": [
    "x = np.arange(9).reshape((3, 3))\n",
    "2**x"
   ]
  },
  {
   "cell_type": "code",
   "execution_count": 61,
   "metadata": {},
   "outputs": [],
   "source": [
    "x = np.arange(4)"
   ]
  },
  {
   "cell_type": "code",
   "execution_count": 62,
   "metadata": {
    "tags": []
   },
   "outputs": [
    {
     "output_type": "stream",
     "name": "stdout",
     "text": "x    = [0 1 2 3]\nx + 5= [5 6 7 8]\nx - 5= [-5 -4 -3 -2]\nx * 2= [0 2 4 6]\n"
    }
   ],
   "source": [
    "print(\"x    =\", x)\n",
    "print(\"x + 5=\", x+5)\n",
    "print(\"x - 5=\", x-5)\n",
    "print(\"x * 2=\", x*2)"
   ]
  },
  {
   "cell_type": "code",
   "execution_count": 64,
   "metadata": {},
   "outputs": [
    {
     "output_type": "execute_result",
     "data": {
      "text/plain": "array([2, 3, 4, 5])"
     },
     "metadata": {},
     "execution_count": 64
    }
   ],
   "source": [
    "np.add(x, 2)"
   ]
  },
  {
   "cell_type": "code",
   "execution_count": 65,
   "metadata": {},
   "outputs": [
    {
     "output_type": "execute_result",
     "data": {
      "text/plain": "array([2, 1, 0, 1, 2])"
     },
     "metadata": {},
     "execution_count": 65
    }
   ],
   "source": [
    "x = np.array([-2, -1 , 0, 1, 2])\n",
    "abs(x)"
   ]
  },
  {
   "cell_type": "code",
   "execution_count": 66,
   "metadata": {},
   "outputs": [
    {
     "output_type": "execute_result",
     "data": {
      "text/plain": "array([3.-4.j, 4.-3.j])"
     },
     "metadata": {},
     "execution_count": 66
    }
   ],
   "source": [
    "x = np.array([3 - 4j, 4 - 3j])\n",
    "x"
   ]
  },
  {
   "cell_type": "code",
   "execution_count": null,
   "metadata": {},
   "outputs": [],
   "source": []
  },
  {
   "cell_type": "code",
   "execution_count": 69,
   "metadata": {},
   "outputs": [
    {
     "output_type": "execute_result",
     "data": {
      "text/plain": "array([5., 5.])"
     },
     "metadata": {},
     "execution_count": 69
    }
   ],
   "source": [
    "np.abs(x)"
   ]
  },
  {
   "cell_type": "code",
   "execution_count": 70,
   "metadata": {
    "tags": []
   },
   "outputs": [
    {
     "output_type": "stream",
     "name": "stdout",
     "text": "theta        = [0.         1.57079633 3.14159265]\nsin(theta)   = [0.0000000e+00 1.0000000e+00 1.2246468e-16]\n"
    }
   ],
   "source": [
    "theta = np.linspace(0, np.pi, 3)\n",
    "print(\"theta        =\", theta)\n",
    "print(\"sin(theta)   =\", np.sin(theta))"
   ]
  },
  {
   "cell_type": "code",
   "execution_count": 71,
   "metadata": {
    "tags": []
   },
   "outputs": [
    {
     "output_type": "stream",
     "name": "stdout",
     "text": "x        = [1 2 3]\ne^x      = [ 2.71828183  7.3890561  20.08553692]\n3^x      = [ 3  9 27]\n"
    }
   ],
   "source": [
    "x = np.array([1, 2, 3])\n",
    "print(\"x        =\", x)\n",
    "print(\"e^x      =\", np.exp(x))\n",
    "print(\"3^x      =\", np.power(3, x))"
   ]
  },
  {
   "cell_type": "code",
   "execution_count": 72,
   "metadata": {
    "tags": []
   },
   "outputs": [
    {
     "output_type": "stream",
     "name": "stdout",
     "text": "x        = [1 2 3]\nlog(x)   = [0.         0.69314718 1.09861229]\nlog10(x) = [0.         0.30103    0.47712125]\n"
    }
   ],
   "source": [
    "print(\"x        =\", x)\n",
    "print(\"log(x)   =\", np.log(x))\n",
    "print(\"log10(x) =\", np.log10(x))"
   ]
  },
  {
   "cell_type": "code",
   "execution_count": 76,
   "metadata": {
    "tags": []
   },
   "outputs": [
    {
     "output_type": "stream",
     "name": "stdout",
     "text": "[0 1 2 3 4]\n[4.66097013e-310 4.66096375e-310 1.58101007e-322 4.66096955e-310\n 2.37151510e-322]\n[ 0. 10. 20. 30. 40.]\n"
    }
   ],
   "source": [
    "x = np.arange(5)\n",
    "print(x)\n",
    "y = np.empty(5)\n",
    "print(y)\n",
    "\n",
    "np.multiply(x, 10, out=y)\n",
    "print(y)"
   ]
  },
  {
   "cell_type": "code",
   "execution_count": 86,
   "metadata": {
    "tags": []
   },
   "outputs": [],
   "source": [
    "y = np.empty(1000000)\n",
    "x = np.arange(1000000)"
   ]
  },
  {
   "cell_type": "code",
   "execution_count": 87,
   "metadata": {
    "tags": []
   },
   "outputs": [
    {
     "output_type": "stream",
     "name": "stdout",
     "text": "43.8 ms ± 203 µs per loop (mean ± std. dev. of 7 runs, 10 loops each)\n"
    }
   ],
   "source": [
    "%timeit np.power(2, x, out=y) # For every ufunc there is out parameter"
   ]
  },
  {
   "cell_type": "code",
   "execution_count": 88,
   "metadata": {
    "tags": []
   },
   "outputs": [
    {
     "output_type": "stream",
     "name": "stdout",
     "text": "43.3 ms ± 179 µs per loop (mean ± std. dev. of 7 runs, 10 loops each)\n"
    }
   ],
   "source": [
    "%timeit y = 2 ** x"
   ]
  },
  {
   "cell_type": "code",
   "execution_count": 89,
   "metadata": {},
   "outputs": [
    {
     "output_type": "execute_result",
     "data": {
      "text/plain": "15"
     },
     "metadata": {},
     "execution_count": 89
    }
   ],
   "source": [
    "x = np.arange(1, 6)\n",
    "np.add.reduce(x)"
   ]
  },
  {
   "cell_type": "code",
   "execution_count": 90,
   "metadata": {},
   "outputs": [
    {
     "output_type": "execute_result",
     "data": {
      "text/plain": "120"
     },
     "metadata": {},
     "execution_count": 90
    }
   ],
   "source": [
    "np.multiply.reduce(x)"
   ]
  },
  {
   "cell_type": "code",
   "execution_count": 91,
   "metadata": {},
   "outputs": [
    {
     "output_type": "execute_result",
     "data": {
      "text/plain": "array([ 1,  3,  6, 10, 15])"
     },
     "metadata": {},
     "execution_count": 91
    }
   ],
   "source": [
    "np.add.accumulate(x)"
   ]
  },
  {
   "cell_type": "code",
   "execution_count": 92,
   "metadata": {},
   "outputs": [
    {
     "output_type": "execute_result",
     "data": {
      "text/plain": "array([  1,   2,   6,  24, 120])"
     },
     "metadata": {},
     "execution_count": 92
    }
   ],
   "source": [
    "np.multiply.accumulate(x)"
   ]
  },
  {
   "cell_type": "code",
   "execution_count": 94,
   "metadata": {},
   "outputs": [
    {
     "output_type": "execute_result",
     "data": {
      "text/plain": "array([[  1,   2,   3,   4,   5,   6,   7,   8,   9,  10],\n       [  2,   4,   6,   8,  10,  12,  14,  16,  18,  20],\n       [  3,   6,   9,  12,  15,  18,  21,  24,  27,  30],\n       [  4,   8,  12,  16,  20,  24,  28,  32,  36,  40],\n       [  5,  10,  15,  20,  25,  30,  35,  40,  45,  50],\n       [  6,  12,  18,  24,  30,  36,  42,  48,  54,  60],\n       [  7,  14,  21,  28,  35,  42,  49,  56,  63,  70],\n       [  8,  16,  24,  32,  40,  48,  56,  64,  72,  80],\n       [  9,  18,  27,  36,  45,  54,  63,  72,  81,  90],\n       [ 10,  20,  30,  40,  50,  60,  70,  80,  90, 100]])"
     },
     "metadata": {},
     "execution_count": 94
    }
   ],
   "source": [
    "x = np.arange(1, 11)\n",
    "np.multiply.outer(x, x)"
   ]
  },
  {
   "cell_type": "code",
   "execution_count": 95,
   "metadata": {},
   "outputs": [],
   "source": [
    "L = np.random.random(100)"
   ]
  },
  {
   "cell_type": "code",
   "execution_count": 96,
   "metadata": {},
   "outputs": [
    {
     "output_type": "execute_result",
     "data": {
      "text/plain": "array([0.47489222, 0.05111625, 0.17063443, 0.26717506, 0.87597799,\n       0.88826896, 0.96629709, 0.26264565, 0.1758216 , 0.52482782,\n       0.34435855, 0.39813137, 0.45239095, 0.06090085, 0.32459966,\n       0.74321294, 0.47865812, 0.76549081, 0.67233943, 0.94115883,\n       0.69035032, 0.5595493 , 0.15717148, 0.9211057 , 0.99672015,\n       0.84247771, 0.09347907, 0.11142241, 0.36491545, 0.69602331,\n       0.82690447, 0.18081524, 0.62524038, 0.15956648, 0.11210405,\n       0.47097228, 0.86104389, 0.62770566, 0.68154365, 0.39316615,\n       0.26688037, 0.93209648, 0.41140847, 0.5134045 , 0.07222201,\n       0.06915139, 0.75806398, 0.932006  , 0.63669541, 0.90004557,\n       0.77395274, 0.12886535, 0.06665737, 0.9420893 , 0.1616041 ,\n       0.62915617, 0.23576566, 0.51554813, 0.4875239 , 0.7187293 ,\n       0.82053729, 0.99885484, 0.20852768, 0.43666347, 0.3760084 ,\n       0.03379432, 0.23682702, 0.54644877, 0.8769434 , 0.31379772,\n       0.70142278, 0.94009776, 0.17936689, 0.10857058, 0.98653777,\n       0.05002589, 0.28100706, 0.86933978, 0.27542025, 0.17553084,\n       0.78183118, 0.7257041 , 0.10777283, 0.50179208, 0.89347675,\n       0.42406623, 0.22217531, 0.69438649, 0.22794176, 0.90795413,\n       0.4188207 , 0.48778538, 0.69450559, 0.35951571, 0.94204081,\n       0.27290795, 0.96574234, 0.38820499, 0.78030463, 0.8099894 ])"
     },
     "metadata": {},
     "execution_count": 96
    }
   ],
   "source": [
    "L"
   ]
  },
  {
   "cell_type": "code",
   "execution_count": 101,
   "metadata": {
    "tags": []
   },
   "outputs": [
    {
     "output_type": "stream",
     "name": "stdout",
     "text": "14.9 µs ± 506 ns per loop (mean ± std. dev. of 7 runs, 100000 loops each)\n"
    }
   ],
   "source": [
    "%timeit sum(L)"
   ]
  },
  {
   "cell_type": "code",
   "execution_count": 102,
   "metadata": {
    "tags": []
   },
   "outputs": [
    {
     "output_type": "stream",
     "name": "stdout",
     "text": "2.78 µs ± 18.1 ns per loop (mean ± std. dev. of 7 runs, 100000 loops each)\n"
    }
   ],
   "source": [
    "%timeit np.sum(L)"
   ]
  },
  {
   "cell_type": "code",
   "execution_count": 108,
   "metadata": {},
   "outputs": [],
   "source": [
    "big_array = np.random.random((10, 10))"
   ]
  },
  {
   "cell_type": "code",
   "execution_count": 109,
   "metadata": {},
   "outputs": [
    {
     "output_type": "execute_result",
     "data": {
      "text/plain": "array([[0.9488217 , 0.49902047, 0.01735799, 0.01200271, 0.45231024,\n        0.84812793, 0.09187087, 0.7357914 , 0.27590881, 0.40115293],\n       [0.85211852, 0.3192469 , 0.78851279, 0.82187481, 0.66802506,\n        0.90411603, 0.67645877, 0.81028315, 0.15453139, 0.7298929 ],\n       [0.62543154, 0.00637766, 0.99320086, 0.3500045 , 0.06276254,\n        0.16808451, 0.25186014, 0.35323471, 0.70719802, 0.77956232],\n       [0.99414575, 0.17417253, 0.28691835, 0.8835597 , 0.77230965,\n        0.92588472, 0.87920798, 0.38577807, 0.95336401, 0.82359472],\n       [0.90764487, 0.5690453 , 0.71507338, 0.89182777, 0.54314023,\n        0.13583601, 0.78293895, 0.52553937, 0.01720803, 0.9740445 ],\n       [0.12880998, 0.951204  , 0.89191343, 0.52568175, 0.01945872,\n        0.09646969, 0.32479082, 0.47725883, 0.89334409, 0.3801343 ],\n       [0.79708455, 0.02748668, 0.51975638, 0.10778444, 0.90120725,\n        0.57385669, 0.21328304, 0.54622116, 0.67231167, 0.28981331],\n       [0.43629589, 0.06773384, 0.75196914, 0.5700953 , 0.9900195 ,\n        0.92998112, 0.69388459, 0.66499431, 0.46904023, 0.244496  ],\n       [0.47951136, 0.13500845, 0.86609442, 0.770133  , 0.74121869,\n        0.57131292, 0.27874168, 0.90816498, 0.97263301, 0.13626592],\n       [0.28486083, 0.68738688, 0.70544609, 0.47632033, 0.34293046,\n        0.7464686 , 0.46631938, 0.62575971, 0.66432904, 0.55755832]])"
     },
     "metadata": {},
     "execution_count": 109
    }
   ],
   "source": [
    "big_array"
   ]
  },
  {
   "cell_type": "code",
   "execution_count": 111,
   "metadata": {
    "tags": []
   },
   "outputs": [
    {
     "output_type": "stream",
     "name": "stdout",
     "text": "2.35 µs ± 12.9 ns per loop (mean ± std. dev. of 7 runs, 100000 loops each)\n"
    }
   ],
   "source": [
    "%timeit big_array.min(axis=0)"
   ]
  },
  {
   "cell_type": "code",
   "execution_count": 112,
   "metadata": {},
   "outputs": [
    {
     "output_type": "execute_result",
     "data": {
      "text/plain": "0.00637766241727622"
     },
     "metadata": {},
     "execution_count": 112
    }
   ],
   "source": [
    "np.min(big_array)\n",
    "big_array.min()"
   ]
  },
  {
   "cell_type": "code",
   "execution_count": 114,
   "metadata": {},
   "outputs": [
    {
     "output_type": "execute_result",
     "data": {
      "text/plain": "array([[0.39755856, 0.48886479, 0.31760341, 0.58397127],\n       [0.2192729 , 0.96058684, 0.38779204, 0.10400188],\n       [0.70667553, 0.02911017, 0.08378677, 0.50109838]])"
     },
     "metadata": {},
     "execution_count": 114
    }
   ],
   "source": [
    "M = np.random.random((3, 4))\n",
    "M"
   ]
  },
  {
   "cell_type": "code",
   "execution_count": 115,
   "metadata": {},
   "outputs": [
    {
     "output_type": "execute_result",
     "data": {
      "text/plain": "4.780322536626812"
     },
     "metadata": {},
     "execution_count": 115
    }
   ],
   "source": [
    "M.sum()"
   ]
  },
  {
   "cell_type": "code",
   "execution_count": 116,
   "metadata": {},
   "outputs": [
    {
     "output_type": "execute_result",
     "data": {
      "text/plain": "array([1.32350699, 1.47856179, 0.78918222, 1.18907153])"
     },
     "metadata": {},
     "execution_count": 116
    }
   ],
   "source": [
    "M.sum(axis=0)"
   ]
  },
  {
   "cell_type": "code",
   "execution_count": 117,
   "metadata": {},
   "outputs": [
    {
     "output_type": "execute_result",
     "data": {
      "text/plain": "array([1.78799802, 1.67165366, 1.32067085])"
     },
     "metadata": {},
     "execution_count": 117
    }
   ],
   "source": [
    "M.sum(axis=1)"
   ]
  },
  {
   "cell_type": "code",
   "execution_count": 118,
   "metadata": {},
   "outputs": [
    {
     "output_type": "execute_result",
     "data": {
      "text/plain": "array([189, 170, 189, 163, 183, 171, 185, 168, 173, 183, 173, 173, 175,\n       178, 183, 193, 178, 173, 174, 183, 183, 168, 170, 178, 182, 180,\n       183, 178, 182, 188, 175, 179, 183, 193, 182, 183, 177, 185, 188,\n       188, 182, 185])"
     },
     "metadata": {},
     "execution_count": 118
    }
   ],
   "source": [
    "import pandas as pd\n",
    "data = pd.read_csv(\"president_heights.csv\")\n",
    "heights = np.array(data[\"height(cm)\"])\n",
    "heights"
   ]
  },
  {
   "cell_type": "code",
   "execution_count": 120,
   "metadata": {
    "tags": []
   },
   "outputs": [
    {
     "output_type": "stream",
     "name": "stdout",
     "text": "Mean height:          179.73809523809524\nStandard deviation:   6.931843442745892\nMinimum height:       163\nMaximum height:       193\n"
    }
   ],
   "source": [
    "print(\"Mean height:         \", heights.mean())\n",
    "print(\"Standard deviation:  \", heights.std())\n",
    "print(\"Minimum height:      \", heights.min())\n",
    "print(\"Maximum height:      \", heights.max())"
   ]
  },
  {
   "cell_type": "code",
   "execution_count": 123,
   "metadata": {},
   "outputs": [
    {
     "output_type": "execute_result",
     "data": {
      "text/plain": "           order  height(cm)\ncount  42.000000   42.000000\nmean   22.476190  179.738095\nstd    13.152461    7.015869\nmin     1.000000  163.000000\n25%    11.250000  174.250000\n50%    22.000000  182.000000\n75%    33.750000  183.000000\nmax    44.000000  193.000000",
      "text/html": "<div>\n<style scoped>\n    .dataframe tbody tr th:only-of-type {\n        vertical-align: middle;\n    }\n\n    .dataframe tbody tr th {\n        vertical-align: top;\n    }\n\n    .dataframe thead th {\n        text-align: right;\n    }\n</style>\n<table border=\"1\" class=\"dataframe\">\n  <thead>\n    <tr style=\"text-align: right;\">\n      <th></th>\n      <th>order</th>\n      <th>height(cm)</th>\n    </tr>\n  </thead>\n  <tbody>\n    <tr>\n      <th>count</th>\n      <td>42.000000</td>\n      <td>42.000000</td>\n    </tr>\n    <tr>\n      <th>mean</th>\n      <td>22.476190</td>\n      <td>179.738095</td>\n    </tr>\n    <tr>\n      <th>std</th>\n      <td>13.152461</td>\n      <td>7.015869</td>\n    </tr>\n    <tr>\n      <th>min</th>\n      <td>1.000000</td>\n      <td>163.000000</td>\n    </tr>\n    <tr>\n      <th>25%</th>\n      <td>11.250000</td>\n      <td>174.250000</td>\n    </tr>\n    <tr>\n      <th>50%</th>\n      <td>22.000000</td>\n      <td>182.000000</td>\n    </tr>\n    <tr>\n      <th>75%</th>\n      <td>33.750000</td>\n      <td>183.000000</td>\n    </tr>\n    <tr>\n      <th>max</th>\n      <td>44.000000</td>\n      <td>193.000000</td>\n    </tr>\n  </tbody>\n</table>\n</div>"
     },
     "metadata": {},
     "execution_count": 123
    }
   ],
   "source": [
    "data.describe()"
   ]
  },
  {
   "cell_type": "code",
   "execution_count": 124,
   "metadata": {
    "tags": []
   },
   "outputs": [
    {
     "output_type": "stream",
     "name": "stdout",
     "text": "25th percentile:      174.25\n"
    }
   ],
   "source": [
    "print(\"25th percentile:     \", np.percentile(heights, 25))"
   ]
  },
  {
   "cell_type": "code",
   "execution_count": 127,
   "metadata": {},
   "outputs": [
    {
     "output_type": "execute_result",
     "data": {
      "text/plain": "Text(0, 0.5, 'number')"
     },
     "metadata": {},
     "execution_count": 127
    },
    {
     "output_type": "display_data",
     "data": {
      "text/plain": "<Figure size 432x288 with 1 Axes>",
      "image/svg+xml": "<?xml version=\"1.0\" encoding=\"utf-8\" standalone=\"no\"?>\n<!DOCTYPE svg PUBLIC \"-//W3C//DTD SVG 1.1//EN\"\n  \"http://www.w3.org/Graphics/SVG/1.1/DTD/svg11.dtd\">\n<!-- Created with matplotlib (https://matplotlib.org/) -->\n<svg height=\"282.717813pt\" version=\"1.1\" viewBox=\"0 0 388.31125 282.717813\" width=\"388.31125pt\" xmlns=\"http://www.w3.org/2000/svg\" xmlns:xlink=\"http://www.w3.org/1999/xlink\">\n <defs>\n  <style type=\"text/css\">\n*{stroke-linecap:butt;stroke-linejoin:round;}\n  </style>\n </defs>\n <g id=\"figure_1\">\n  <g id=\"patch_1\">\n   <path d=\"M 0 282.717813 \nL 388.31125 282.717813 \nL 388.31125 0 \nL 0 0 \nz\n\" style=\"fill:#ffffff;\"/>\n  </g>\n  <g id=\"axes_1\">\n   <g id=\"patch_2\">\n    <path d=\"M 46.31125 239.758125 \nL 381.11125 239.758125 \nL 381.11125 22.318125 \nL 46.31125 22.318125 \nz\n\" style=\"fill:#eaeaf2;\"/>\n   </g>\n   <g id=\"matplotlib.axis_1\">\n    <g id=\"xtick_1\">\n     <g id=\"line2d_1\">\n      <path clip-path=\"url(#pf6ebd4c8e9)\" d=\"M 81.820341 239.758125 \nL 81.820341 22.318125 \n\" style=\"fill:none;stroke:#ffffff;stroke-linecap:round;\"/>\n     </g>\n     <g id=\"text_1\">\n      <!-- 165 -->\n      <defs>\n       <path d=\"M 12.40625 8.296875 \nL 28.515625 8.296875 \nL 28.515625 63.921875 \nL 10.984375 60.40625 \nL 10.984375 69.390625 \nL 28.421875 72.90625 \nL 38.28125 72.90625 \nL 38.28125 8.296875 \nL 54.390625 8.296875 \nL 54.390625 0 \nL 12.40625 0 \nz\n\" id=\"DejaVuSans-49\"/>\n       <path d=\"M 33.015625 40.375 \nQ 26.375 40.375 22.484375 35.828125 \nQ 18.609375 31.296875 18.609375 23.390625 \nQ 18.609375 15.53125 22.484375 10.953125 \nQ 26.375 6.390625 33.015625 6.390625 \nQ 39.65625 6.390625 43.53125 10.953125 \nQ 47.40625 15.53125 47.40625 23.390625 \nQ 47.40625 31.296875 43.53125 35.828125 \nQ 39.65625 40.375 33.015625 40.375 \nz\nM 52.59375 71.296875 \nL 52.59375 62.3125 \nQ 48.875 64.0625 45.09375 64.984375 \nQ 41.3125 65.921875 37.59375 65.921875 \nQ 27.828125 65.921875 22.671875 59.328125 \nQ 17.53125 52.734375 16.796875 39.40625 \nQ 19.671875 43.65625 24.015625 45.921875 \nQ 28.375 48.1875 33.59375 48.1875 \nQ 44.578125 48.1875 50.953125 41.515625 \nQ 57.328125 34.859375 57.328125 23.390625 \nQ 57.328125 12.15625 50.6875 5.359375 \nQ 44.046875 -1.421875 33.015625 -1.421875 \nQ 20.359375 -1.421875 13.671875 8.265625 \nQ 6.984375 17.96875 6.984375 36.375 \nQ 6.984375 53.65625 15.1875 63.9375 \nQ 23.390625 74.21875 37.203125 74.21875 \nQ 40.921875 74.21875 44.703125 73.484375 \nQ 48.484375 72.75 52.59375 71.296875 \nz\n\" id=\"DejaVuSans-54\"/>\n       <path d=\"M 10.796875 72.90625 \nL 49.515625 72.90625 \nL 49.515625 64.59375 \nL 19.828125 64.59375 \nL 19.828125 46.734375 \nQ 21.96875 47.46875 24.109375 47.828125 \nQ 26.265625 48.1875 28.421875 48.1875 \nQ 40.625 48.1875 47.75 41.5 \nQ 54.890625 34.8125 54.890625 23.390625 \nQ 54.890625 11.625 47.5625 5.09375 \nQ 40.234375 -1.421875 26.90625 -1.421875 \nQ 22.3125 -1.421875 17.546875 -0.640625 \nQ 12.796875 0.140625 7.71875 1.703125 \nL 7.71875 11.625 \nQ 12.109375 9.234375 16.796875 8.0625 \nQ 21.484375 6.890625 26.703125 6.890625 \nQ 35.15625 6.890625 40.078125 11.328125 \nQ 45.015625 15.765625 45.015625 23.390625 \nQ 45.015625 31 40.078125 35.4375 \nQ 35.15625 39.890625 26.703125 39.890625 \nQ 22.75 39.890625 18.8125 39.015625 \nQ 14.890625 38.140625 10.796875 36.28125 \nz\n\" id=\"DejaVuSans-53\"/>\n      </defs>\n      <g style=\"fill:#262626;\" transform=\"translate(71.322216 257.616406)scale(0.11 -0.11)\">\n       <use xlink:href=\"#DejaVuSans-49\"/>\n       <use x=\"63.623047\" xlink:href=\"#DejaVuSans-54\"/>\n       <use x=\"127.246094\" xlink:href=\"#DejaVuSans-53\"/>\n      </g>\n     </g>\n    </g>\n    <g id=\"xtick_2\">\n     <g id=\"line2d_2\">\n      <path clip-path=\"url(#pf6ebd4c8e9)\" d=\"M 132.547614 239.758125 \nL 132.547614 22.318125 \n\" style=\"fill:none;stroke:#ffffff;stroke-linecap:round;\"/>\n     </g>\n     <g id=\"text_2\">\n      <!-- 170 -->\n      <defs>\n       <path d=\"M 8.203125 72.90625 \nL 55.078125 72.90625 \nL 55.078125 68.703125 \nL 28.609375 0 \nL 18.3125 0 \nL 43.21875 64.59375 \nL 8.203125 64.59375 \nz\n\" id=\"DejaVuSans-55\"/>\n       <path d=\"M 31.78125 66.40625 \nQ 24.171875 66.40625 20.328125 58.90625 \nQ 16.5 51.421875 16.5 36.375 \nQ 16.5 21.390625 20.328125 13.890625 \nQ 24.171875 6.390625 31.78125 6.390625 \nQ 39.453125 6.390625 43.28125 13.890625 \nQ 47.125 21.390625 47.125 36.375 \nQ 47.125 51.421875 43.28125 58.90625 \nQ 39.453125 66.40625 31.78125 66.40625 \nz\nM 31.78125 74.21875 \nQ 44.046875 74.21875 50.515625 64.515625 \nQ 56.984375 54.828125 56.984375 36.375 \nQ 56.984375 17.96875 50.515625 8.265625 \nQ 44.046875 -1.421875 31.78125 -1.421875 \nQ 19.53125 -1.421875 13.0625 8.265625 \nQ 6.59375 17.96875 6.59375 36.375 \nQ 6.59375 54.828125 13.0625 64.515625 \nQ 19.53125 74.21875 31.78125 74.21875 \nz\n\" id=\"DejaVuSans-48\"/>\n      </defs>\n      <g style=\"fill:#262626;\" transform=\"translate(122.049489 257.616406)scale(0.11 -0.11)\">\n       <use xlink:href=\"#DejaVuSans-49\"/>\n       <use x=\"63.623047\" xlink:href=\"#DejaVuSans-55\"/>\n       <use x=\"127.246094\" xlink:href=\"#DejaVuSans-48\"/>\n      </g>\n     </g>\n    </g>\n    <g id=\"xtick_3\">\n     <g id=\"line2d_3\">\n      <path clip-path=\"url(#pf6ebd4c8e9)\" d=\"M 183.274886 239.758125 \nL 183.274886 22.318125 \n\" style=\"fill:none;stroke:#ffffff;stroke-linecap:round;\"/>\n     </g>\n     <g id=\"text_3\">\n      <!-- 175 -->\n      <g style=\"fill:#262626;\" transform=\"translate(172.776761 257.616406)scale(0.11 -0.11)\">\n       <use xlink:href=\"#DejaVuSans-49\"/>\n       <use x=\"63.623047\" xlink:href=\"#DejaVuSans-55\"/>\n       <use x=\"127.246094\" xlink:href=\"#DejaVuSans-53\"/>\n      </g>\n     </g>\n    </g>\n    <g id=\"xtick_4\">\n     <g id=\"line2d_4\">\n      <path clip-path=\"url(#pf6ebd4c8e9)\" d=\"M 234.002159 239.758125 \nL 234.002159 22.318125 \n\" style=\"fill:none;stroke:#ffffff;stroke-linecap:round;\"/>\n     </g>\n     <g id=\"text_4\">\n      <!-- 180 -->\n      <defs>\n       <path d=\"M 31.78125 34.625 \nQ 24.75 34.625 20.71875 30.859375 \nQ 16.703125 27.09375 16.703125 20.515625 \nQ 16.703125 13.921875 20.71875 10.15625 \nQ 24.75 6.390625 31.78125 6.390625 \nQ 38.8125 6.390625 42.859375 10.171875 \nQ 46.921875 13.96875 46.921875 20.515625 \nQ 46.921875 27.09375 42.890625 30.859375 \nQ 38.875 34.625 31.78125 34.625 \nz\nM 21.921875 38.8125 \nQ 15.578125 40.375 12.03125 44.71875 \nQ 8.5 49.078125 8.5 55.328125 \nQ 8.5 64.0625 14.71875 69.140625 \nQ 20.953125 74.21875 31.78125 74.21875 \nQ 42.671875 74.21875 48.875 69.140625 \nQ 55.078125 64.0625 55.078125 55.328125 \nQ 55.078125 49.078125 51.53125 44.71875 \nQ 48 40.375 41.703125 38.8125 \nQ 48.828125 37.15625 52.796875 32.3125 \nQ 56.78125 27.484375 56.78125 20.515625 \nQ 56.78125 9.90625 50.3125 4.234375 \nQ 43.84375 -1.421875 31.78125 -1.421875 \nQ 19.734375 -1.421875 13.25 4.234375 \nQ 6.78125 9.90625 6.78125 20.515625 \nQ 6.78125 27.484375 10.78125 32.3125 \nQ 14.796875 37.15625 21.921875 38.8125 \nz\nM 18.3125 54.390625 \nQ 18.3125 48.734375 21.84375 45.5625 \nQ 25.390625 42.390625 31.78125 42.390625 \nQ 38.140625 42.390625 41.71875 45.5625 \nQ 45.3125 48.734375 45.3125 54.390625 \nQ 45.3125 60.0625 41.71875 63.234375 \nQ 38.140625 66.40625 31.78125 66.40625 \nQ 25.390625 66.40625 21.84375 63.234375 \nQ 18.3125 60.0625 18.3125 54.390625 \nz\n\" id=\"DejaVuSans-56\"/>\n      </defs>\n      <g style=\"fill:#262626;\" transform=\"translate(223.504034 257.616406)scale(0.11 -0.11)\">\n       <use xlink:href=\"#DejaVuSans-49\"/>\n       <use x=\"63.623047\" xlink:href=\"#DejaVuSans-56\"/>\n       <use x=\"127.246094\" xlink:href=\"#DejaVuSans-48\"/>\n      </g>\n     </g>\n    </g>\n    <g id=\"xtick_5\">\n     <g id=\"line2d_5\">\n      <path clip-path=\"url(#pf6ebd4c8e9)\" d=\"M 284.729432 239.758125 \nL 284.729432 22.318125 \n\" style=\"fill:none;stroke:#ffffff;stroke-linecap:round;\"/>\n     </g>\n     <g id=\"text_5\">\n      <!-- 185 -->\n      <g style=\"fill:#262626;\" transform=\"translate(274.231307 257.616406)scale(0.11 -0.11)\">\n       <use xlink:href=\"#DejaVuSans-49\"/>\n       <use x=\"63.623047\" xlink:href=\"#DejaVuSans-56\"/>\n       <use x=\"127.246094\" xlink:href=\"#DejaVuSans-53\"/>\n      </g>\n     </g>\n    </g>\n    <g id=\"xtick_6\">\n     <g id=\"line2d_6\">\n      <path clip-path=\"url(#pf6ebd4c8e9)\" d=\"M 335.456705 239.758125 \nL 335.456705 22.318125 \n\" style=\"fill:none;stroke:#ffffff;stroke-linecap:round;\"/>\n     </g>\n     <g id=\"text_6\">\n      <!-- 190 -->\n      <defs>\n       <path d=\"M 10.984375 1.515625 \nL 10.984375 10.5 \nQ 14.703125 8.734375 18.5 7.8125 \nQ 22.3125 6.890625 25.984375 6.890625 \nQ 35.75 6.890625 40.890625 13.453125 \nQ 46.046875 20.015625 46.78125 33.40625 \nQ 43.953125 29.203125 39.59375 26.953125 \nQ 35.25 24.703125 29.984375 24.703125 \nQ 19.046875 24.703125 12.671875 31.3125 \nQ 6.296875 37.9375 6.296875 49.421875 \nQ 6.296875 60.640625 12.9375 67.421875 \nQ 19.578125 74.21875 30.609375 74.21875 \nQ 43.265625 74.21875 49.921875 64.515625 \nQ 56.59375 54.828125 56.59375 36.375 \nQ 56.59375 19.140625 48.40625 8.859375 \nQ 40.234375 -1.421875 26.421875 -1.421875 \nQ 22.703125 -1.421875 18.890625 -0.6875 \nQ 15.09375 0.046875 10.984375 1.515625 \nz\nM 30.609375 32.421875 \nQ 37.25 32.421875 41.125 36.953125 \nQ 45.015625 41.5 45.015625 49.421875 \nQ 45.015625 57.28125 41.125 61.84375 \nQ 37.25 66.40625 30.609375 66.40625 \nQ 23.96875 66.40625 20.09375 61.84375 \nQ 16.21875 57.28125 16.21875 49.421875 \nQ 16.21875 41.5 20.09375 36.953125 \nQ 23.96875 32.421875 30.609375 32.421875 \nz\n\" id=\"DejaVuSans-57\"/>\n      </defs>\n      <g style=\"fill:#262626;\" transform=\"translate(324.95858 257.616406)scale(0.11 -0.11)\">\n       <use xlink:href=\"#DejaVuSans-49\"/>\n       <use x=\"63.623047\" xlink:href=\"#DejaVuSans-57\"/>\n       <use x=\"127.246094\" xlink:href=\"#DejaVuSans-48\"/>\n      </g>\n     </g>\n    </g>\n    <g id=\"text_7\">\n     <!-- height (cm) -->\n     <defs>\n      <path d=\"M 54.890625 33.015625 \nL 54.890625 0 \nL 45.90625 0 \nL 45.90625 32.71875 \nQ 45.90625 40.484375 42.875 44.328125 \nQ 39.84375 48.1875 33.796875 48.1875 \nQ 26.515625 48.1875 22.3125 43.546875 \nQ 18.109375 38.921875 18.109375 30.90625 \nL 18.109375 0 \nL 9.078125 0 \nL 9.078125 75.984375 \nL 18.109375 75.984375 \nL 18.109375 46.1875 \nQ 21.34375 51.125 25.703125 53.5625 \nQ 30.078125 56 35.796875 56 \nQ 45.21875 56 50.046875 50.171875 \nQ 54.890625 44.34375 54.890625 33.015625 \nz\n\" id=\"DejaVuSans-104\"/>\n      <path d=\"M 56.203125 29.59375 \nL 56.203125 25.203125 \nL 14.890625 25.203125 \nQ 15.484375 15.921875 20.484375 11.0625 \nQ 25.484375 6.203125 34.421875 6.203125 \nQ 39.59375 6.203125 44.453125 7.46875 \nQ 49.3125 8.734375 54.109375 11.28125 \nL 54.109375 2.78125 \nQ 49.265625 0.734375 44.1875 -0.34375 \nQ 39.109375 -1.421875 33.890625 -1.421875 \nQ 20.796875 -1.421875 13.15625 6.1875 \nQ 5.515625 13.8125 5.515625 26.8125 \nQ 5.515625 40.234375 12.765625 48.109375 \nQ 20.015625 56 32.328125 56 \nQ 43.359375 56 49.78125 48.890625 \nQ 56.203125 41.796875 56.203125 29.59375 \nz\nM 47.21875 32.234375 \nQ 47.125 39.59375 43.09375 43.984375 \nQ 39.0625 48.390625 32.421875 48.390625 \nQ 24.90625 48.390625 20.390625 44.140625 \nQ 15.875 39.890625 15.1875 32.171875 \nz\n\" id=\"DejaVuSans-101\"/>\n      <path d=\"M 9.421875 54.6875 \nL 18.40625 54.6875 \nL 18.40625 0 \nL 9.421875 0 \nz\nM 9.421875 75.984375 \nL 18.40625 75.984375 \nL 18.40625 64.59375 \nL 9.421875 64.59375 \nz\n\" id=\"DejaVuSans-105\"/>\n      <path d=\"M 45.40625 27.984375 \nQ 45.40625 37.75 41.375 43.109375 \nQ 37.359375 48.484375 30.078125 48.484375 \nQ 22.859375 48.484375 18.828125 43.109375 \nQ 14.796875 37.75 14.796875 27.984375 \nQ 14.796875 18.265625 18.828125 12.890625 \nQ 22.859375 7.515625 30.078125 7.515625 \nQ 37.359375 7.515625 41.375 12.890625 \nQ 45.40625 18.265625 45.40625 27.984375 \nz\nM 54.390625 6.78125 \nQ 54.390625 -7.171875 48.1875 -13.984375 \nQ 42 -20.796875 29.203125 -20.796875 \nQ 24.46875 -20.796875 20.265625 -20.09375 \nQ 16.0625 -19.390625 12.109375 -17.921875 \nL 12.109375 -9.1875 \nQ 16.0625 -11.328125 19.921875 -12.34375 \nQ 23.78125 -13.375 27.78125 -13.375 \nQ 36.625 -13.375 41.015625 -8.765625 \nQ 45.40625 -4.15625 45.40625 5.171875 \nL 45.40625 9.625 \nQ 42.625 4.78125 38.28125 2.390625 \nQ 33.9375 0 27.875 0 \nQ 17.828125 0 11.671875 7.65625 \nQ 5.515625 15.328125 5.515625 27.984375 \nQ 5.515625 40.671875 11.671875 48.328125 \nQ 17.828125 56 27.875 56 \nQ 33.9375 56 38.28125 53.609375 \nQ 42.625 51.21875 45.40625 46.390625 \nL 45.40625 54.6875 \nL 54.390625 54.6875 \nz\n\" id=\"DejaVuSans-103\"/>\n      <path d=\"M 18.3125 70.21875 \nL 18.3125 54.6875 \nL 36.8125 54.6875 \nL 36.8125 47.703125 \nL 18.3125 47.703125 \nL 18.3125 18.015625 \nQ 18.3125 11.328125 20.140625 9.421875 \nQ 21.96875 7.515625 27.59375 7.515625 \nL 36.8125 7.515625 \nL 36.8125 0 \nL 27.59375 0 \nQ 17.1875 0 13.234375 3.875 \nQ 9.28125 7.765625 9.28125 18.015625 \nL 9.28125 47.703125 \nL 2.6875 47.703125 \nL 2.6875 54.6875 \nL 9.28125 54.6875 \nL 9.28125 70.21875 \nz\n\" id=\"DejaVuSans-116\"/>\n      <path id=\"DejaVuSans-32\"/>\n      <path d=\"M 31 75.875 \nQ 24.46875 64.65625 21.28125 53.65625 \nQ 18.109375 42.671875 18.109375 31.390625 \nQ 18.109375 20.125 21.3125 9.0625 \nQ 24.515625 -2 31 -13.1875 \nL 23.1875 -13.1875 \nQ 15.875 -1.703125 12.234375 9.375 \nQ 8.59375 20.453125 8.59375 31.390625 \nQ 8.59375 42.28125 12.203125 53.3125 \nQ 15.828125 64.359375 23.1875 75.875 \nz\n\" id=\"DejaVuSans-40\"/>\n      <path d=\"M 48.78125 52.59375 \nL 48.78125 44.1875 \nQ 44.96875 46.296875 41.140625 47.34375 \nQ 37.3125 48.390625 33.40625 48.390625 \nQ 24.65625 48.390625 19.8125 42.84375 \nQ 14.984375 37.3125 14.984375 27.296875 \nQ 14.984375 17.28125 19.8125 11.734375 \nQ 24.65625 6.203125 33.40625 6.203125 \nQ 37.3125 6.203125 41.140625 7.25 \nQ 44.96875 8.296875 48.78125 10.40625 \nL 48.78125 2.09375 \nQ 45.015625 0.34375 40.984375 -0.53125 \nQ 36.96875 -1.421875 32.421875 -1.421875 \nQ 20.0625 -1.421875 12.78125 6.34375 \nQ 5.515625 14.109375 5.515625 27.296875 \nQ 5.515625 40.671875 12.859375 48.328125 \nQ 20.21875 56 33.015625 56 \nQ 37.15625 56 41.109375 55.140625 \nQ 45.0625 54.296875 48.78125 52.59375 \nz\n\" id=\"DejaVuSans-99\"/>\n      <path d=\"M 52 44.1875 \nQ 55.375 50.25 60.0625 53.125 \nQ 64.75 56 71.09375 56 \nQ 79.640625 56 84.28125 50.015625 \nQ 88.921875 44.046875 88.921875 33.015625 \nL 88.921875 0 \nL 79.890625 0 \nL 79.890625 32.71875 \nQ 79.890625 40.578125 77.09375 44.375 \nQ 74.3125 48.1875 68.609375 48.1875 \nQ 61.625 48.1875 57.5625 43.546875 \nQ 53.515625 38.921875 53.515625 30.90625 \nL 53.515625 0 \nL 44.484375 0 \nL 44.484375 32.71875 \nQ 44.484375 40.625 41.703125 44.40625 \nQ 38.921875 48.1875 33.109375 48.1875 \nQ 26.21875 48.1875 22.15625 43.53125 \nQ 18.109375 38.875 18.109375 30.90625 \nL 18.109375 0 \nL 9.078125 0 \nL 9.078125 54.6875 \nL 18.109375 54.6875 \nL 18.109375 46.1875 \nQ 21.1875 51.21875 25.484375 53.609375 \nQ 29.78125 56 35.6875 56 \nQ 41.65625 56 45.828125 52.96875 \nQ 50 49.953125 52 44.1875 \nz\n\" id=\"DejaVuSans-109\"/>\n      <path d=\"M 8.015625 75.875 \nL 15.828125 75.875 \nQ 23.140625 64.359375 26.78125 53.3125 \nQ 30.421875 42.28125 30.421875 31.390625 \nQ 30.421875 20.453125 26.78125 9.375 \nQ 23.140625 -1.703125 15.828125 -13.1875 \nL 8.015625 -13.1875 \nQ 14.5 -2 17.703125 9.0625 \nQ 20.90625 20.125 20.90625 31.390625 \nQ 20.90625 42.671875 17.703125 53.65625 \nQ 14.5 64.65625 8.015625 75.875 \nz\n\" id=\"DejaVuSans-41\"/>\n     </defs>\n     <g style=\"fill:#262626;\" transform=\"translate(178.854063 273.022188)scale(0.12 -0.12)\">\n      <use xlink:href=\"#DejaVuSans-104\"/>\n      <use x=\"63.378906\" xlink:href=\"#DejaVuSans-101\"/>\n      <use x=\"124.902344\" xlink:href=\"#DejaVuSans-105\"/>\n      <use x=\"152.685547\" xlink:href=\"#DejaVuSans-103\"/>\n      <use x=\"216.162109\" xlink:href=\"#DejaVuSans-104\"/>\n      <use x=\"279.541016\" xlink:href=\"#DejaVuSans-116\"/>\n      <use x=\"318.75\" xlink:href=\"#DejaVuSans-32\"/>\n      <use x=\"350.537109\" xlink:href=\"#DejaVuSans-40\"/>\n      <use x=\"389.550781\" xlink:href=\"#DejaVuSans-99\"/>\n      <use x=\"444.53125\" xlink:href=\"#DejaVuSans-109\"/>\n      <use x=\"541.943359\" xlink:href=\"#DejaVuSans-41\"/>\n     </g>\n    </g>\n   </g>\n   <g id=\"matplotlib.axis_2\">\n    <g id=\"ytick_1\">\n     <g id=\"line2d_7\">\n      <path clip-path=\"url(#pf6ebd4c8e9)\" d=\"M 46.31125 239.758125 \nL 381.11125 239.758125 \n\" style=\"fill:none;stroke:#ffffff;stroke-linecap:round;\"/>\n     </g>\n     <g id=\"text_8\">\n      <!-- 0 -->\n      <g style=\"fill:#262626;\" transform=\"translate(29.8125 243.937266)scale(0.11 -0.11)\">\n       <use xlink:href=\"#DejaVuSans-48\"/>\n      </g>\n     </g>\n    </g>\n    <g id=\"ytick_2\">\n     <g id=\"line2d_8\">\n      <path clip-path=\"url(#pf6ebd4c8e9)\" d=\"M 46.31125 205.243839 \nL 381.11125 205.243839 \n\" style=\"fill:none;stroke:#ffffff;stroke-linecap:round;\"/>\n     </g>\n     <g id=\"text_9\">\n      <!-- 2 -->\n      <defs>\n       <path d=\"M 19.1875 8.296875 \nL 53.609375 8.296875 \nL 53.609375 0 \nL 7.328125 0 \nL 7.328125 8.296875 \nQ 12.9375 14.109375 22.625 23.890625 \nQ 32.328125 33.6875 34.8125 36.53125 \nQ 39.546875 41.84375 41.421875 45.53125 \nQ 43.3125 49.21875 43.3125 52.78125 \nQ 43.3125 58.59375 39.234375 62.25 \nQ 35.15625 65.921875 28.609375 65.921875 \nQ 23.96875 65.921875 18.8125 64.3125 \nQ 13.671875 62.703125 7.8125 59.421875 \nL 7.8125 69.390625 \nQ 13.765625 71.78125 18.9375 73 \nQ 24.125 74.21875 28.421875 74.21875 \nQ 39.75 74.21875 46.484375 68.546875 \nQ 53.21875 62.890625 53.21875 53.421875 \nQ 53.21875 48.921875 51.53125 44.890625 \nQ 49.859375 40.875 45.40625 35.40625 \nQ 44.1875 33.984375 37.640625 27.21875 \nQ 31.109375 20.453125 19.1875 8.296875 \nz\n\" id=\"DejaVuSans-50\"/>\n      </defs>\n      <g style=\"fill:#262626;\" transform=\"translate(29.8125 209.42298)scale(0.11 -0.11)\">\n       <use xlink:href=\"#DejaVuSans-50\"/>\n      </g>\n     </g>\n    </g>\n    <g id=\"ytick_3\">\n     <g id=\"line2d_9\">\n      <path clip-path=\"url(#pf6ebd4c8e9)\" d=\"M 46.31125 170.729554 \nL 381.11125 170.729554 \n\" style=\"fill:none;stroke:#ffffff;stroke-linecap:round;\"/>\n     </g>\n     <g id=\"text_10\">\n      <!-- 4 -->\n      <defs>\n       <path d=\"M 37.796875 64.3125 \nL 12.890625 25.390625 \nL 37.796875 25.390625 \nz\nM 35.203125 72.90625 \nL 47.609375 72.90625 \nL 47.609375 25.390625 \nL 58.015625 25.390625 \nL 58.015625 17.1875 \nL 47.609375 17.1875 \nL 47.609375 0 \nL 37.796875 0 \nL 37.796875 17.1875 \nL 4.890625 17.1875 \nL 4.890625 26.703125 \nz\n\" id=\"DejaVuSans-52\"/>\n      </defs>\n      <g style=\"fill:#262626;\" transform=\"translate(29.8125 174.908694)scale(0.11 -0.11)\">\n       <use xlink:href=\"#DejaVuSans-52\"/>\n      </g>\n     </g>\n    </g>\n    <g id=\"ytick_4\">\n     <g id=\"line2d_10\">\n      <path clip-path=\"url(#pf6ebd4c8e9)\" d=\"M 46.31125 136.215268 \nL 381.11125 136.215268 \n\" style=\"fill:none;stroke:#ffffff;stroke-linecap:round;\"/>\n     </g>\n     <g id=\"text_11\">\n      <!-- 6 -->\n      <g style=\"fill:#262626;\" transform=\"translate(29.8125 140.394408)scale(0.11 -0.11)\">\n       <use xlink:href=\"#DejaVuSans-54\"/>\n      </g>\n     </g>\n    </g>\n    <g id=\"ytick_5\">\n     <g id=\"line2d_11\">\n      <path clip-path=\"url(#pf6ebd4c8e9)\" d=\"M 46.31125 101.700982 \nL 381.11125 101.700982 \n\" style=\"fill:none;stroke:#ffffff;stroke-linecap:round;\"/>\n     </g>\n     <g id=\"text_12\">\n      <!-- 8 -->\n      <g style=\"fill:#262626;\" transform=\"translate(29.8125 105.880123)scale(0.11 -0.11)\">\n       <use xlink:href=\"#DejaVuSans-56\"/>\n      </g>\n     </g>\n    </g>\n    <g id=\"ytick_6\">\n     <g id=\"line2d_12\">\n      <path clip-path=\"url(#pf6ebd4c8e9)\" d=\"M 46.31125 67.186696 \nL 381.11125 67.186696 \n\" style=\"fill:none;stroke:#ffffff;stroke-linecap:round;\"/>\n     </g>\n     <g id=\"text_13\">\n      <!-- 10 -->\n      <g style=\"fill:#262626;\" transform=\"translate(22.81375 71.365837)scale(0.11 -0.11)\">\n       <use xlink:href=\"#DejaVuSans-49\"/>\n       <use x=\"63.623047\" xlink:href=\"#DejaVuSans-48\"/>\n      </g>\n     </g>\n    </g>\n    <g id=\"ytick_7\">\n     <g id=\"line2d_13\">\n      <path clip-path=\"url(#pf6ebd4c8e9)\" d=\"M 46.31125 32.672411 \nL 381.11125 32.672411 \n\" style=\"fill:none;stroke:#ffffff;stroke-linecap:round;\"/>\n     </g>\n     <g id=\"text_14\">\n      <!-- 12 -->\n      <g style=\"fill:#262626;\" transform=\"translate(22.81375 36.851551)scale(0.11 -0.11)\">\n       <use xlink:href=\"#DejaVuSans-49\"/>\n       <use x=\"63.623047\" xlink:href=\"#DejaVuSans-50\"/>\n      </g>\n     </g>\n    </g>\n    <g id=\"text_15\">\n     <!-- number -->\n     <defs>\n      <path d=\"M 54.890625 33.015625 \nL 54.890625 0 \nL 45.90625 0 \nL 45.90625 32.71875 \nQ 45.90625 40.484375 42.875 44.328125 \nQ 39.84375 48.1875 33.796875 48.1875 \nQ 26.515625 48.1875 22.3125 43.546875 \nQ 18.109375 38.921875 18.109375 30.90625 \nL 18.109375 0 \nL 9.078125 0 \nL 9.078125 54.6875 \nL 18.109375 54.6875 \nL 18.109375 46.1875 \nQ 21.34375 51.125 25.703125 53.5625 \nQ 30.078125 56 35.796875 56 \nQ 45.21875 56 50.046875 50.171875 \nQ 54.890625 44.34375 54.890625 33.015625 \nz\n\" id=\"DejaVuSans-110\"/>\n      <path d=\"M 8.5 21.578125 \nL 8.5 54.6875 \nL 17.484375 54.6875 \nL 17.484375 21.921875 \nQ 17.484375 14.15625 20.5 10.265625 \nQ 23.53125 6.390625 29.59375 6.390625 \nQ 36.859375 6.390625 41.078125 11.03125 \nQ 45.3125 15.671875 45.3125 23.6875 \nL 45.3125 54.6875 \nL 54.296875 54.6875 \nL 54.296875 0 \nL 45.3125 0 \nL 45.3125 8.40625 \nQ 42.046875 3.421875 37.71875 1 \nQ 33.40625 -1.421875 27.6875 -1.421875 \nQ 18.265625 -1.421875 13.375 4.4375 \nQ 8.5 10.296875 8.5 21.578125 \nz\nM 31.109375 56 \nz\n\" id=\"DejaVuSans-117\"/>\n      <path d=\"M 48.6875 27.296875 \nQ 48.6875 37.203125 44.609375 42.84375 \nQ 40.53125 48.484375 33.40625 48.484375 \nQ 26.265625 48.484375 22.1875 42.84375 \nQ 18.109375 37.203125 18.109375 27.296875 \nQ 18.109375 17.390625 22.1875 11.75 \nQ 26.265625 6.109375 33.40625 6.109375 \nQ 40.53125 6.109375 44.609375 11.75 \nQ 48.6875 17.390625 48.6875 27.296875 \nz\nM 18.109375 46.390625 \nQ 20.953125 51.265625 25.265625 53.625 \nQ 29.59375 56 35.59375 56 \nQ 45.5625 56 51.78125 48.09375 \nQ 58.015625 40.1875 58.015625 27.296875 \nQ 58.015625 14.40625 51.78125 6.484375 \nQ 45.5625 -1.421875 35.59375 -1.421875 \nQ 29.59375 -1.421875 25.265625 0.953125 \nQ 20.953125 3.328125 18.109375 8.203125 \nL 18.109375 0 \nL 9.078125 0 \nL 9.078125 75.984375 \nL 18.109375 75.984375 \nz\n\" id=\"DejaVuSans-98\"/>\n      <path d=\"M 41.109375 46.296875 \nQ 39.59375 47.171875 37.8125 47.578125 \nQ 36.03125 48 33.890625 48 \nQ 26.265625 48 22.1875 43.046875 \nQ 18.109375 38.09375 18.109375 28.8125 \nL 18.109375 0 \nL 9.078125 0 \nL 9.078125 54.6875 \nL 18.109375 54.6875 \nL 18.109375 46.1875 \nQ 20.953125 51.171875 25.484375 53.578125 \nQ 30.03125 56 36.53125 56 \nQ 37.453125 56 38.578125 55.875 \nQ 39.703125 55.765625 41.0625 55.515625 \nz\n\" id=\"DejaVuSans-114\"/>\n     </defs>\n     <g style=\"fill:#262626;\" transform=\"translate(16.318125 154.455)rotate(-90)scale(0.12 -0.12)\">\n      <use xlink:href=\"#DejaVuSans-110\"/>\n      <use x=\"63.378906\" xlink:href=\"#DejaVuSans-117\"/>\n      <use x=\"126.757812\" xlink:href=\"#DejaVuSans-109\"/>\n      <use x=\"224.169922\" xlink:href=\"#DejaVuSans-98\"/>\n      <use x=\"287.646484\" xlink:href=\"#DejaVuSans-101\"/>\n      <use x=\"349.169922\" xlink:href=\"#DejaVuSans-114\"/>\n     </g>\n    </g>\n   </g>\n   <g id=\"patch_3\">\n    <path clip-path=\"url(#pf6ebd4c8e9)\" d=\"M 61.529432 239.758125 \nL 91.965795 239.758125 \nL 91.965795 222.500982 \nL 61.529432 222.500982 \nz\n\" style=\"fill:#4c72b0;stroke:#ffffff;stroke-linejoin:miter;\"/>\n   </g>\n   <g id=\"patch_4\">\n    <path clip-path=\"url(#pf6ebd4c8e9)\" d=\"M 91.965795 239.758125 \nL 122.402159 239.758125 \nL 122.402159 205.243839 \nL 91.965795 205.243839 \nz\n\" style=\"fill:#4c72b0;stroke:#ffffff;stroke-linejoin:miter;\"/>\n   </g>\n   <g id=\"patch_5\">\n    <path clip-path=\"url(#pf6ebd4c8e9)\" d=\"M 122.402159 239.758125 \nL 152.838523 239.758125 \nL 152.838523 187.986696 \nL 122.402159 187.986696 \nz\n\" style=\"fill:#4c72b0;stroke:#ffffff;stroke-linejoin:miter;\"/>\n   </g>\n   <g id=\"patch_6\">\n    <path clip-path=\"url(#pf6ebd4c8e9)\" d=\"M 152.838523 239.758125 \nL 183.274886 239.758125 \nL 183.274886 153.472411 \nL 152.838523 153.472411 \nz\n\" style=\"fill:#4c72b0;stroke:#ffffff;stroke-linejoin:miter;\"/>\n   </g>\n   <g id=\"patch_7\">\n    <path clip-path=\"url(#pf6ebd4c8e9)\" d=\"M 183.274886 239.758125 \nL 213.71125 239.758125 \nL 213.71125 187.986696 \nL 183.274886 187.986696 \nz\n\" style=\"fill:#4c72b0;stroke:#ffffff;stroke-linejoin:miter;\"/>\n   </g>\n   <g id=\"patch_8\">\n    <path clip-path=\"url(#pf6ebd4c8e9)\" d=\"M 213.71125 239.758125 \nL 244.147614 239.758125 \nL 244.147614 136.215268 \nL 213.71125 136.215268 \nz\n\" style=\"fill:#4c72b0;stroke:#ffffff;stroke-linejoin:miter;\"/>\n   </g>\n   <g id=\"patch_9\">\n    <path clip-path=\"url(#pf6ebd4c8e9)\" d=\"M 244.147614 239.758125 \nL 274.583977 239.758125 \nL 274.583977 32.672411 \nL 244.147614 32.672411 \nz\n\" style=\"fill:#4c72b0;stroke:#ffffff;stroke-linejoin:miter;\"/>\n   </g>\n   <g id=\"patch_10\">\n    <path clip-path=\"url(#pf6ebd4c8e9)\" d=\"M 274.583977 239.758125 \nL 305.020341 239.758125 \nL 305.020341 187.986696 \nL 274.583977 187.986696 \nz\n\" style=\"fill:#4c72b0;stroke:#ffffff;stroke-linejoin:miter;\"/>\n   </g>\n   <g id=\"patch_11\">\n    <path clip-path=\"url(#pf6ebd4c8e9)\" d=\"M 305.020341 239.758125 \nL 335.456705 239.758125 \nL 335.456705 153.472411 \nL 305.020341 153.472411 \nz\n\" style=\"fill:#4c72b0;stroke:#ffffff;stroke-linejoin:miter;\"/>\n   </g>\n   <g id=\"patch_12\">\n    <path clip-path=\"url(#pf6ebd4c8e9)\" d=\"M 335.456705 239.758125 \nL 365.893068 239.758125 \nL 365.893068 205.243839 \nL 335.456705 205.243839 \nz\n\" style=\"fill:#4c72b0;stroke:#ffffff;stroke-linejoin:miter;\"/>\n   </g>\n   <g id=\"patch_13\">\n    <path d=\"M 46.31125 239.758125 \nL 46.31125 22.318125 \n\" style=\"fill:none;stroke:#ffffff;stroke-linecap:square;stroke-linejoin:miter;stroke-width:1.25;\"/>\n   </g>\n   <g id=\"patch_14\">\n    <path d=\"M 381.11125 239.758125 \nL 381.11125 22.318125 \n\" style=\"fill:none;stroke:#ffffff;stroke-linecap:square;stroke-linejoin:miter;stroke-width:1.25;\"/>\n   </g>\n   <g id=\"patch_15\">\n    <path d=\"M 46.31125 239.758125 \nL 381.11125 239.758125 \n\" style=\"fill:none;stroke:#ffffff;stroke-linecap:square;stroke-linejoin:miter;stroke-width:1.25;\"/>\n   </g>\n   <g id=\"patch_16\">\n    <path d=\"M 46.31125 22.318125 \nL 381.11125 22.318125 \n\" style=\"fill:none;stroke:#ffffff;stroke-linecap:square;stroke-linejoin:miter;stroke-width:1.25;\"/>\n   </g>\n   <g id=\"text_16\">\n    <!-- Height Distribution of US Presidents -->\n    <defs>\n     <path d=\"M 9.8125 72.90625 \nL 19.671875 72.90625 \nL 19.671875 43.015625 \nL 55.515625 43.015625 \nL 55.515625 72.90625 \nL 65.375 72.90625 \nL 65.375 0 \nL 55.515625 0 \nL 55.515625 34.71875 \nL 19.671875 34.71875 \nL 19.671875 0 \nL 9.8125 0 \nz\n\" id=\"DejaVuSans-72\"/>\n     <path d=\"M 19.671875 64.796875 \nL 19.671875 8.109375 \nL 31.59375 8.109375 \nQ 46.6875 8.109375 53.6875 14.9375 \nQ 60.6875 21.78125 60.6875 36.53125 \nQ 60.6875 51.171875 53.6875 57.984375 \nQ 46.6875 64.796875 31.59375 64.796875 \nz\nM 9.8125 72.90625 \nL 30.078125 72.90625 \nQ 51.265625 72.90625 61.171875 64.09375 \nQ 71.09375 55.28125 71.09375 36.53125 \nQ 71.09375 17.671875 61.125 8.828125 \nQ 51.171875 0 30.078125 0 \nL 9.8125 0 \nz\n\" id=\"DejaVuSans-68\"/>\n     <path d=\"M 44.28125 53.078125 \nL 44.28125 44.578125 \nQ 40.484375 46.53125 36.375 47.5 \nQ 32.28125 48.484375 27.875 48.484375 \nQ 21.1875 48.484375 17.84375 46.4375 \nQ 14.5 44.390625 14.5 40.28125 \nQ 14.5 37.15625 16.890625 35.375 \nQ 19.28125 33.59375 26.515625 31.984375 \nL 29.59375 31.296875 \nQ 39.15625 29.25 43.1875 25.515625 \nQ 47.21875 21.78125 47.21875 15.09375 \nQ 47.21875 7.46875 41.1875 3.015625 \nQ 35.15625 -1.421875 24.609375 -1.421875 \nQ 20.21875 -1.421875 15.453125 -0.5625 \nQ 10.6875 0.296875 5.421875 2 \nL 5.421875 11.28125 \nQ 10.40625 8.6875 15.234375 7.390625 \nQ 20.0625 6.109375 24.8125 6.109375 \nQ 31.15625 6.109375 34.5625 8.28125 \nQ 37.984375 10.453125 37.984375 14.40625 \nQ 37.984375 18.0625 35.515625 20.015625 \nQ 33.0625 21.96875 24.703125 23.78125 \nL 21.578125 24.515625 \nQ 13.234375 26.265625 9.515625 29.90625 \nQ 5.8125 33.546875 5.8125 39.890625 \nQ 5.8125 47.609375 11.28125 51.796875 \nQ 16.75 56 26.8125 56 \nQ 31.78125 56 36.171875 55.265625 \nQ 40.578125 54.546875 44.28125 53.078125 \nz\n\" id=\"DejaVuSans-115\"/>\n     <path d=\"M 30.609375 48.390625 \nQ 23.390625 48.390625 19.1875 42.75 \nQ 14.984375 37.109375 14.984375 27.296875 \nQ 14.984375 17.484375 19.15625 11.84375 \nQ 23.34375 6.203125 30.609375 6.203125 \nQ 37.796875 6.203125 41.984375 11.859375 \nQ 46.1875 17.53125 46.1875 27.296875 \nQ 46.1875 37.015625 41.984375 42.703125 \nQ 37.796875 48.390625 30.609375 48.390625 \nz\nM 30.609375 56 \nQ 42.328125 56 49.015625 48.375 \nQ 55.71875 40.765625 55.71875 27.296875 \nQ 55.71875 13.875 49.015625 6.21875 \nQ 42.328125 -1.421875 30.609375 -1.421875 \nQ 18.84375 -1.421875 12.171875 6.21875 \nQ 5.515625 13.875 5.515625 27.296875 \nQ 5.515625 40.765625 12.171875 48.375 \nQ 18.84375 56 30.609375 56 \nz\n\" id=\"DejaVuSans-111\"/>\n     <path d=\"M 37.109375 75.984375 \nL 37.109375 68.5 \nL 28.515625 68.5 \nQ 23.6875 68.5 21.796875 66.546875 \nQ 19.921875 64.59375 19.921875 59.515625 \nL 19.921875 54.6875 \nL 34.71875 54.6875 \nL 34.71875 47.703125 \nL 19.921875 47.703125 \nL 19.921875 0 \nL 10.890625 0 \nL 10.890625 47.703125 \nL 2.296875 47.703125 \nL 2.296875 54.6875 \nL 10.890625 54.6875 \nL 10.890625 58.5 \nQ 10.890625 67.625 15.140625 71.796875 \nQ 19.390625 75.984375 28.609375 75.984375 \nz\n\" id=\"DejaVuSans-102\"/>\n     <path d=\"M 8.6875 72.90625 \nL 18.609375 72.90625 \nL 18.609375 28.609375 \nQ 18.609375 16.890625 22.84375 11.734375 \nQ 27.09375 6.59375 36.625 6.59375 \nQ 46.09375 6.59375 50.34375 11.734375 \nQ 54.59375 16.890625 54.59375 28.609375 \nL 54.59375 72.90625 \nL 64.5 72.90625 \nL 64.5 27.390625 \nQ 64.5 13.140625 57.4375 5.859375 \nQ 50.390625 -1.421875 36.625 -1.421875 \nQ 22.796875 -1.421875 15.734375 5.859375 \nQ 8.6875 13.140625 8.6875 27.390625 \nz\n\" id=\"DejaVuSans-85\"/>\n     <path d=\"M 53.515625 70.515625 \nL 53.515625 60.890625 \nQ 47.90625 63.578125 42.921875 64.890625 \nQ 37.9375 66.21875 33.296875 66.21875 \nQ 25.25 66.21875 20.875 63.09375 \nQ 16.5 59.96875 16.5 54.203125 \nQ 16.5 49.359375 19.40625 46.890625 \nQ 22.3125 44.4375 30.421875 42.921875 \nL 36.375 41.703125 \nQ 47.40625 39.59375 52.65625 34.296875 \nQ 57.90625 29 57.90625 20.125 \nQ 57.90625 9.515625 50.796875 4.046875 \nQ 43.703125 -1.421875 29.984375 -1.421875 \nQ 24.8125 -1.421875 18.96875 -0.25 \nQ 13.140625 0.921875 6.890625 3.21875 \nL 6.890625 13.375 \nQ 12.890625 10.015625 18.65625 8.296875 \nQ 24.421875 6.59375 29.984375 6.59375 \nQ 38.421875 6.59375 43.015625 9.90625 \nQ 47.609375 13.234375 47.609375 19.390625 \nQ 47.609375 24.75 44.3125 27.78125 \nQ 41.015625 30.8125 33.5 32.328125 \nL 27.484375 33.5 \nQ 16.453125 35.6875 11.515625 40.375 \nQ 6.59375 45.0625 6.59375 53.421875 \nQ 6.59375 63.09375 13.40625 68.65625 \nQ 20.21875 74.21875 32.171875 74.21875 \nQ 37.3125 74.21875 42.625 73.28125 \nQ 47.953125 72.359375 53.515625 70.515625 \nz\n\" id=\"DejaVuSans-83\"/>\n     <path d=\"M 19.671875 64.796875 \nL 19.671875 37.40625 \nL 32.078125 37.40625 \nQ 38.96875 37.40625 42.71875 40.96875 \nQ 46.484375 44.53125 46.484375 51.125 \nQ 46.484375 57.671875 42.71875 61.234375 \nQ 38.96875 64.796875 32.078125 64.796875 \nz\nM 9.8125 72.90625 \nL 32.078125 72.90625 \nQ 44.34375 72.90625 50.609375 67.359375 \nQ 56.890625 61.8125 56.890625 51.125 \nQ 56.890625 40.328125 50.609375 34.8125 \nQ 44.34375 29.296875 32.078125 29.296875 \nL 19.671875 29.296875 \nL 19.671875 0 \nL 9.8125 0 \nz\n\" id=\"DejaVuSans-80\"/>\n     <path d=\"M 45.40625 46.390625 \nL 45.40625 75.984375 \nL 54.390625 75.984375 \nL 54.390625 0 \nL 45.40625 0 \nL 45.40625 8.203125 \nQ 42.578125 3.328125 38.25 0.953125 \nQ 33.9375 -1.421875 27.875 -1.421875 \nQ 17.96875 -1.421875 11.734375 6.484375 \nQ 5.515625 14.40625 5.515625 27.296875 \nQ 5.515625 40.1875 11.734375 48.09375 \nQ 17.96875 56 27.875 56 \nQ 33.9375 56 38.25 53.625 \nQ 42.578125 51.265625 45.40625 46.390625 \nz\nM 14.796875 27.296875 \nQ 14.796875 17.390625 18.875 11.75 \nQ 22.953125 6.109375 30.078125 6.109375 \nQ 37.203125 6.109375 41.296875 11.75 \nQ 45.40625 17.390625 45.40625 27.296875 \nQ 45.40625 37.203125 41.296875 42.84375 \nQ 37.203125 48.484375 30.078125 48.484375 \nQ 22.953125 48.484375 18.875 42.84375 \nQ 14.796875 37.203125 14.796875 27.296875 \nz\n\" id=\"DejaVuSans-100\"/>\n    </defs>\n    <g style=\"fill:#262626;\" transform=\"translate(106.152813 16.318125)scale(0.12 -0.12)\">\n     <use xlink:href=\"#DejaVuSans-72\"/>\n     <use x=\"75.195312\" xlink:href=\"#DejaVuSans-101\"/>\n     <use x=\"136.71875\" xlink:href=\"#DejaVuSans-105\"/>\n     <use x=\"164.501953\" xlink:href=\"#DejaVuSans-103\"/>\n     <use x=\"227.978516\" xlink:href=\"#DejaVuSans-104\"/>\n     <use x=\"291.357422\" xlink:href=\"#DejaVuSans-116\"/>\n     <use x=\"330.566406\" xlink:href=\"#DejaVuSans-32\"/>\n     <use x=\"362.353516\" xlink:href=\"#DejaVuSans-68\"/>\n     <use x=\"439.355469\" xlink:href=\"#DejaVuSans-105\"/>\n     <use x=\"467.138672\" xlink:href=\"#DejaVuSans-115\"/>\n     <use x=\"519.238281\" xlink:href=\"#DejaVuSans-116\"/>\n     <use x=\"558.447266\" xlink:href=\"#DejaVuSans-114\"/>\n     <use x=\"599.560547\" xlink:href=\"#DejaVuSans-105\"/>\n     <use x=\"627.34375\" xlink:href=\"#DejaVuSans-98\"/>\n     <use x=\"690.820312\" xlink:href=\"#DejaVuSans-117\"/>\n     <use x=\"754.199219\" xlink:href=\"#DejaVuSans-116\"/>\n     <use x=\"793.408203\" xlink:href=\"#DejaVuSans-105\"/>\n     <use x=\"821.191406\" xlink:href=\"#DejaVuSans-111\"/>\n     <use x=\"882.373047\" xlink:href=\"#DejaVuSans-110\"/>\n     <use x=\"945.751953\" xlink:href=\"#DejaVuSans-32\"/>\n     <use x=\"977.539062\" xlink:href=\"#DejaVuSans-111\"/>\n     <use x=\"1038.720703\" xlink:href=\"#DejaVuSans-102\"/>\n     <use x=\"1073.925781\" xlink:href=\"#DejaVuSans-32\"/>\n     <use x=\"1105.712891\" xlink:href=\"#DejaVuSans-85\"/>\n     <use x=\"1178.90625\" xlink:href=\"#DejaVuSans-83\"/>\n     <use x=\"1242.382812\" xlink:href=\"#DejaVuSans-32\"/>\n     <use x=\"1274.169922\" xlink:href=\"#DejaVuSans-80\"/>\n     <use x=\"1332.722656\" xlink:href=\"#DejaVuSans-114\"/>\n     <use x=\"1371.585938\" xlink:href=\"#DejaVuSans-101\"/>\n     <use x=\"1433.109375\" xlink:href=\"#DejaVuSans-115\"/>\n     <use x=\"1485.208984\" xlink:href=\"#DejaVuSans-105\"/>\n     <use x=\"1512.992188\" xlink:href=\"#DejaVuSans-100\"/>\n     <use x=\"1576.46875\" xlink:href=\"#DejaVuSans-101\"/>\n     <use x=\"1637.992188\" xlink:href=\"#DejaVuSans-110\"/>\n     <use x=\"1701.371094\" xlink:href=\"#DejaVuSans-116\"/>\n     <use x=\"1740.580078\" xlink:href=\"#DejaVuSans-115\"/>\n    </g>\n   </g>\n  </g>\n </g>\n <defs>\n  <clipPath id=\"pf6ebd4c8e9\">\n   <rect height=\"217.44\" width=\"334.8\" x=\"46.31125\" y=\"22.318125\"/>\n  </clipPath>\n </defs>\n</svg>\n",
      "image/png": "[encoded data removed]"
     },
     "metadata": {}
    }
   ],
   "source": [
    "import matplotlib.pyplot as plt\n",
    "import seaborn; seaborn.set()\n",
    "\n",
    "plt.hist(heights)\n",
    "plt.title(\"Height Distribution of US Presidents\")\n",
    "plt.xlabel(\"height (cm)\")\n",
    "plt.ylabel(\"number\")"
   ]
  },
  {
   "cell_type": "code",
   "execution_count": 129,
   "metadata": {},
   "outputs": [
    {
     "output_type": "execute_result",
     "data": {
      "text/plain": "array([5, 6, 7])"
     },
     "metadata": {},
     "execution_count": 129
    }
   ],
   "source": [
    "a = np.array([0, 1, 2])\n",
    "b = np.array([5] * 3)\n",
    "a + b"
   ]
  },
  {
   "cell_type": "code",
   "execution_count": 130,
   "metadata": {},
   "outputs": [
    {
     "output_type": "execute_result",
     "data": {
      "text/plain": "array([5, 6, 7])"
     },
     "metadata": {},
     "execution_count": 130
    }
   ],
   "source": [
    "a + 5"
   ]
  },
  {
   "cell_type": "code",
   "execution_count": 131,
   "metadata": {},
   "outputs": [
    {
     "output_type": "execute_result",
     "data": {
      "text/plain": "array([[1., 1., 1.],\n       [1., 1., 1.],\n       [1., 1., 1.]])"
     },
     "metadata": {},
     "execution_count": 131
    }
   ],
   "source": [
    "M = np.ones((3, 3))\n",
    "M"
   ]
  },
  {
   "cell_type": "code",
   "execution_count": 132,
   "metadata": {},
   "outputs": [
    {
     "output_type": "execute_result",
     "data": {
      "text/plain": "array([[1., 2., 3.],\n       [1., 2., 3.],\n       [1., 2., 3.]])"
     },
     "metadata": {},
     "execution_count": 132
    }
   ],
   "source": [
    "M + a"
   ]
  },
  {
   "cell_type": "code",
   "execution_count": 136,
   "metadata": {
    "tags": []
   },
   "outputs": [
    {
     "output_type": "stream",
     "name": "stdout",
     "text": "[0 1 2] \n [[0]\n [1]\n [2]]\n"
    },
    {
     "output_type": "execute_result",
     "data": {
      "text/plain": "array([[0, 1, 2],\n       [1, 2, 3],\n       [2, 3, 4]])"
     },
     "metadata": {},
     "execution_count": 136
    }
   ],
   "source": [
    "a = np.arange(3)\n",
    "b = np.arange(3)[:, np.newaxis]\n",
    "b = np.arange(3).reshape(3, 1)\n",
    "print(a,\"\\n\", b)\n",
    "\n",
    "a + b"
   ]
  },
  {
   "cell_type": "code",
   "execution_count": 138,
   "metadata": {},
   "outputs": [
    {
     "output_type": "execute_result",
     "data": {
      "text/plain": "array([[1., 2., 3.],\n       [1., 2., 3.]])"
     },
     "metadata": {},
     "execution_count": 138
    }
   ],
   "source": [
    "M = np.ones((2, 3))\n",
    "a = np.arange(3)\n",
    "M, a\n",
    "M + a"
   ]
  },
  {
   "cell_type": "code",
   "execution_count": 139,
   "metadata": {},
   "outputs": [
    {
     "output_type": "execute_result",
     "data": {
      "text/plain": "array([[0, 1, 2],\n       [1, 2, 3],\n       [2, 3, 4]])"
     },
     "metadata": {},
     "execution_count": 139
    }
   ],
   "source": [
    "a = np.arange(3).reshape((3, 1))\n",
    "b = np.arange(3)\n",
    "\n",
    "a + b"
   ]
  },
  {
   "cell_type": "code",
   "execution_count": 142,
   "metadata": {},
   "outputs": [
    {
     "output_type": "error",
     "ename": "ValueError",
     "evalue": "operands could not be broadcast together with shapes (3,2) (3,) ",
     "traceback": [
      "\u001b[0;31m---------------------------------------------------------------------------\u001b[0m",
      "\u001b[0;31mValueError\u001b[0m                                Traceback (most recent call last)",
      "\u001b[0;32m<ipython-input-142-d4adfa68cd62>\u001b[0m in \u001b[0;36m<module>\u001b[0;34m\u001b[0m\n\u001b[1;32m      1\u001b[0m \u001b[0mM\u001b[0m \u001b[0;34m=\u001b[0m \u001b[0mnp\u001b[0m\u001b[0;34m.\u001b[0m\u001b[0mones\u001b[0m\u001b[0;34m(\u001b[0m\u001b[0;34m(\u001b[0m\u001b[0;36m3\u001b[0m\u001b[0;34m,\u001b[0m \u001b[0;36m2\u001b[0m\u001b[0;34m)\u001b[0m\u001b[0;34m)\u001b[0m\u001b[0;34m\u001b[0m\u001b[0;34m\u001b[0m\u001b[0m\n\u001b[1;32m      2\u001b[0m \u001b[0ma\u001b[0m \u001b[0;34m=\u001b[0m \u001b[0mnp\u001b[0m\u001b[0;34m.\u001b[0m\u001b[0marange\u001b[0m\u001b[0;34m(\u001b[0m\u001b[0;36m3\u001b[0m\u001b[0;34m)\u001b[0m\u001b[0;34m\u001b[0m\u001b[0;34m\u001b[0m\u001b[0m\n\u001b[0;32m----> 3\u001b[0;31m \u001b[0mM\u001b[0m \u001b[0;34m+\u001b[0m \u001b[0ma\u001b[0m\u001b[0;34m\u001b[0m\u001b[0;34m\u001b[0m\u001b[0m\n\u001b[0m",
      "\u001b[0;31mValueError\u001b[0m: operands could not be broadcast together with shapes (3,2) (3,) "
     ]
    }
   ],
   "source": [
    "M = np.ones((3, 2))\n",
    "a = np.arange(3)\n",
    "M + a"
   ]
  },
  {
   "cell_type": "code",
   "execution_count": 143,
   "metadata": {},
   "outputs": [
    {
     "output_type": "execute_result",
     "data": {
      "text/plain": "array([[1., 1.],\n       [1., 1.],\n       [1., 1.]])"
     },
     "metadata": {},
     "execution_count": 143
    }
   ],
   "source": [
    "M"
   ]
  },
  {
   "cell_type": "code",
   "execution_count": 144,
   "metadata": {},
   "outputs": [
    {
     "output_type": "execute_result",
     "data": {
      "text/plain": "array([0, 1, 2])"
     },
     "metadata": {},
     "execution_count": 144
    }
   ],
   "source": [
    "a"
   ]
  },
  {
   "cell_type": "code",
   "execution_count": 146,
   "metadata": {},
   "outputs": [
    {
     "output_type": "execute_result",
     "data": {
      "text/plain": "array([[1., 1.],\n       [2., 2.],\n       [3., 3.]])"
     },
     "metadata": {},
     "execution_count": 146
    }
   ],
   "source": [
    "a.reshape(3, 1) + M"
   ]
  },
  {
   "cell_type": "code",
   "execution_count": 148,
   "metadata": {},
   "outputs": [
    {
     "output_type": "execute_result",
     "data": {
      "text/plain": "array([0.51171151, 0.29159235, 0.57475959])"
     },
     "metadata": {},
     "execution_count": 148
    }
   ],
   "source": [
    "X = np.random.random((10, 3))\n",
    "Xmean = X.mean(0)\n",
    "Xmean"
   ]
  },
  {
   "cell_type": "code",
   "execution_count": 149,
   "metadata": {},
   "outputs": [
    {
     "output_type": "execute_result",
     "data": {
      "text/plain": "array([[ 0.41941334, -0.05545475,  0.0713625 ],\n       [ 0.26793908,  0.27901963,  0.09765845],\n       [-0.35582124, -0.18707402, -0.50256084],\n       [ 0.38379007,  0.06138098, -0.50538482],\n       [ 0.01136633,  0.30551195,  0.26331419],\n       [-0.32155958, -0.25884919,  0.37320979],\n       [ 0.1577195 , -0.28494199,  0.29706777],\n       [-0.47983046,  0.5054357 ,  0.04538766],\n       [-0.16503923, -0.12252705, -0.51026467],\n       [ 0.0820222 , -0.24250127,  0.37020997]])"
     },
     "metadata": {},
     "execution_count": 149
    }
   ],
   "source": [
    "Xcentered = X - Xmean\n",
    "Xcentered"
   ]
  },
  {
   "cell_type": "code",
   "execution_count": 150,
   "metadata": {},
   "outputs": [
    {
     "output_type": "execute_result",
     "data": {
      "text/plain": "array([ 7.77156117e-17,  5.55111512e-18, -3.33066907e-17])"
     },
     "metadata": {},
     "execution_count": 150
    }
   ],
   "source": [
    "Xcentered.mean(0)"
   ]
  },
  {
   "cell_type": "code",
   "execution_count": 2,
   "metadata": {},
   "outputs": [],
   "source": [
    "import numpy as np\n",
    "x = np.linspace(0, 5, 50)\n",
    "y = np.linspace(0, 5, 50)[:, np.newaxis]"
   ]
  },
  {
   "cell_type": "code",
   "execution_count": 3,
   "metadata": {},
   "outputs": [
    {
     "output_type": "execute_result",
     "data": {
      "text/plain": "array([0.        , 0.10204082, 0.20408163, 0.30612245, 0.40816327,\n       0.51020408, 0.6122449 , 0.71428571, 0.81632653, 0.91836735,\n       1.02040816, 1.12244898, 1.2244898 , 1.32653061, 1.42857143,\n       1.53061224, 1.63265306, 1.73469388, 1.83673469, 1.93877551,\n       2.04081633, 2.14285714, 2.24489796, 2.34693878, 2.44897959,\n       2.55102041, 2.65306122, 2.75510204, 2.85714286, 2.95918367,\n       3.06122449, 3.16326531, 3.26530612, 3.36734694, 3.46938776,\n       3.57142857, 3.67346939, 3.7755102 , 3.87755102, 3.97959184,\n       4.08163265, 4.18367347, 4.28571429, 4.3877551 , 4.48979592,\n       4.59183673, 4.69387755, 4.79591837, 4.89795918, 5.        ])"
     },
     "metadata": {},
     "execution_count": 3
    }
   ],
   "source": [
    "x"
   ]
  },
  {
   "cell_type": "code",
   "execution_count": 4,
   "metadata": {},
   "outputs": [
    {
     "output_type": "execute_result",
     "data": {
      "text/plain": "array([[0.        ],\n       [0.10204082],\n       [0.20408163],\n       [0.30612245],\n       [0.40816327],\n       [0.51020408],\n       [0.6122449 ],\n       [0.71428571],\n       [0.81632653],\n       [0.91836735],\n       [1.02040816],\n       [1.12244898],\n       [1.2244898 ],\n       [1.32653061],\n       [1.42857143],\n       [1.53061224],\n       [1.63265306],\n       [1.73469388],\n       [1.83673469],\n       [1.93877551],\n       [2.04081633],\n       [2.14285714],\n       [2.24489796],\n       [2.34693878],\n       [2.44897959],\n       [2.55102041],\n       [2.65306122],\n       [2.75510204],\n       [2.85714286],\n       [2.95918367],\n       [3.06122449],\n       [3.16326531],\n       [3.26530612],\n       [3.36734694],\n       [3.46938776],\n       [3.57142857],\n       [3.67346939],\n       [3.7755102 ],\n       [3.87755102],\n       [3.97959184],\n       [4.08163265],\n       [4.18367347],\n       [4.28571429],\n       [4.3877551 ],\n       [4.48979592],\n       [4.59183673],\n       [4.69387755],\n       [4.79591837],\n       [4.89795918],\n       [5.        ]])"
     },
     "metadata": {},
     "execution_count": 4
    }
   ],
   "source": [
    "y"
   ]
  },
  {
   "cell_type": "code",
   "execution_count": 5,
   "metadata": {},
   "outputs": [],
   "source": [
    "z = np.sin(x) ** 10 + np.cos(10 + y * x) * np.cos(x)"
   ]
  },
  {
   "cell_type": "code",
   "execution_count": 6,
   "metadata": {},
   "outputs": [
    {
     "output_type": "execute_result",
     "data": {
      "text/plain": "array([[-0.83907153, -0.83470697, -0.8216586 , ...,  0.8956708 ,\n         0.68617261,  0.41940746],\n       [-0.83907153, -0.82902677, -0.8103873 , ...,  0.92522407,\n         0.75321348,  0.52508175],\n       [-0.83907153, -0.82325668, -0.79876457, ...,  0.96427357,\n         0.84172689,  0.66446403],\n       ...,\n       [-0.83907153, -0.48233077, -0.01646558, ...,  0.96449925,\n         0.75196531,  0.41982581],\n       [-0.83907153, -0.47324558,  0.00392612, ...,  0.92542163,\n         0.68540362,  0.37440839],\n       [-0.83907153, -0.46410908,  0.02431613, ...,  0.89579384,\n         0.65690314,  0.40107702]])"
     },
     "metadata": {},
     "execution_count": 6
    }
   ],
   "source": [
    "z"
   ]
  },
  {
   "cell_type": "code",
   "execution_count": 8,
   "metadata": {},
   "outputs": [
    {
     "output_type": "execute_result",
     "data": {
      "text/plain": "<matplotlib.colorbar.Colorbar at 0x7f30a5769370>"
     },
     "metadata": {},
     "execution_count": 8
    },
    {
     "output_type": "display_data",
     "data": {
      "text/plain": "<Figure size 432x288 with 2 Axes>",
      "image/svg+xml": "<?xml version=\"1.0\" encoding=\"utf-8\" standalone=\"no\"?>\n<!DOCTYPE svg PUBLIC \"-//W3C//DTD SVG 1.1//EN\"\n  \"http://www.w3.org/Graphics/SVG/1.1/DTD/svg11.dtd\">\n<!-- Created with matplotlib (https://matplotlib.org/) -->\n<svg height=\"252.317344pt\" version=\"1.1\" viewBox=\"0 0 310.459812 252.317344\" width=\"310.459812pt\" xmlns=\"http://www.w3.org/2000/svg\" xmlns:xlink=\"http://www.w3.org/1999/xlink\">\n <defs>\n  <style type=\"text/css\">\n*{stroke-linecap:butt;stroke-linejoin:round;}\n  </style>\n </defs>\n <g id=\"figure_1\">\n  <g id=\"patch_1\">\n   <path d=\"M 0 252.317344 \nL 310.459812 252.317344 \nL 310.459812 0 \nL 0 0 \nz\n\" style=\"fill:none;\"/>\n  </g>\n  <g id=\"axes_1\">\n   <g id=\"patch_2\">\n    <path d=\"M 20.5625 228.439219 \nL 238.0025 228.439219 \nL 238.0025 10.999219 \nL 20.5625 10.999219 \nz\n\" style=\"fill:#ffffff;\"/>\n   </g>\n   <g clip-path=\"url(#p7d99cdf01c)\">\n    <image height=\"218\" id=\"image1e32ad5a4f\" transform=\"scale(1 -1)translate(0 -218)\" width=\"218\" x=\"20.5625\" xlink:href=\"data:image/png;base64,\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\" y=\"-10.439219\"/>\n   </g>\n   <g id=\"matplotlib.axis_1\">\n    <g id=\"xtick_1\">\n     <g id=\"line2d_1\">\n      <defs>\n       <path d=\"M 0 0 \nL 0 3.5 \n\" id=\"md81a5d472c\" style=\"stroke:#000000;stroke-width:0.8;\"/>\n      </defs>\n      <g>\n       <use style=\"stroke:#000000;stroke-width:0.8;\" x=\"20.5625\" xlink:href=\"#md81a5d472c\" y=\"228.439219\"/>\n      </g>\n     </g>\n     <g id=\"text_1\">\n      <!-- 0 -->\n      <defs>\n       <path d=\"M 31.78125 66.40625 \nQ 24.171875 66.40625 20.328125 58.90625 \nQ 16.5 51.421875 16.5 36.375 \nQ 16.5 21.390625 20.328125 13.890625 \nQ 24.171875 6.390625 31.78125 6.390625 \nQ 39.453125 6.390625 43.28125 13.890625 \nQ 47.125 21.390625 47.125 36.375 \nQ 47.125 51.421875 43.28125 58.90625 \nQ 39.453125 66.40625 31.78125 66.40625 \nz\nM 31.78125 74.21875 \nQ 44.046875 74.21875 50.515625 64.515625 \nQ 56.984375 54.828125 56.984375 36.375 \nQ 56.984375 17.96875 50.515625 8.265625 \nQ 44.046875 -1.421875 31.78125 -1.421875 \nQ 19.53125 -1.421875 13.0625 8.265625 \nQ 6.59375 17.96875 6.59375 36.375 \nQ 6.59375 54.828125 13.0625 64.515625 \nQ 19.53125 74.21875 31.78125 74.21875 \nz\n\" id=\"DejaVuSans-48\"/>\n      </defs>\n      <g transform=\"translate(17.38125 243.037656)scale(0.1 -0.1)\">\n       <use xlink:href=\"#DejaVuSans-48\"/>\n      </g>\n     </g>\n    </g>\n    <g id=\"xtick_2\">\n     <g id=\"line2d_2\">\n      <g>\n       <use style=\"stroke:#000000;stroke-width:0.8;\" x=\"64.0505\" xlink:href=\"#md81a5d472c\" y=\"228.439219\"/>\n      </g>\n     </g>\n     <g id=\"text_2\">\n      <!-- 1 -->\n      <defs>\n       <path d=\"M 12.40625 8.296875 \nL 28.515625 8.296875 \nL 28.515625 63.921875 \nL 10.984375 60.40625 \nL 10.984375 69.390625 \nL 28.421875 72.90625 \nL 38.28125 72.90625 \nL 38.28125 8.296875 \nL 54.390625 8.296875 \nL 54.390625 0 \nL 12.40625 0 \nz\n\" id=\"DejaVuSans-49\"/>\n      </defs>\n      <g transform=\"translate(60.86925 243.037656)scale(0.1 -0.1)\">\n       <use xlink:href=\"#DejaVuSans-49\"/>\n      </g>\n     </g>\n    </g>\n    <g id=\"xtick_3\">\n     <g id=\"line2d_3\">\n      <g>\n       <use style=\"stroke:#000000;stroke-width:0.8;\" x=\"107.5385\" xlink:href=\"#md81a5d472c\" y=\"228.439219\"/>\n      </g>\n     </g>\n     <g id=\"text_3\">\n      <!-- 2 -->\n      <defs>\n       <path d=\"M 19.1875 8.296875 \nL 53.609375 8.296875 \nL 53.609375 0 \nL 7.328125 0 \nL 7.328125 8.296875 \nQ 12.9375 14.109375 22.625 23.890625 \nQ 32.328125 33.6875 34.8125 36.53125 \nQ 39.546875 41.84375 41.421875 45.53125 \nQ 43.3125 49.21875 43.3125 52.78125 \nQ 43.3125 58.59375 39.234375 62.25 \nQ 35.15625 65.921875 28.609375 65.921875 \nQ 23.96875 65.921875 18.8125 64.3125 \nQ 13.671875 62.703125 7.8125 59.421875 \nL 7.8125 69.390625 \nQ 13.765625 71.78125 18.9375 73 \nQ 24.125 74.21875 28.421875 74.21875 \nQ 39.75 74.21875 46.484375 68.546875 \nQ 53.21875 62.890625 53.21875 53.421875 \nQ 53.21875 48.921875 51.53125 44.890625 \nQ 49.859375 40.875 45.40625 35.40625 \nQ 44.1875 33.984375 37.640625 27.21875 \nQ 31.109375 20.453125 19.1875 8.296875 \nz\n\" id=\"DejaVuSans-50\"/>\n      </defs>\n      <g transform=\"translate(104.35725 243.037656)scale(0.1 -0.1)\">\n       <use xlink:href=\"#DejaVuSans-50\"/>\n      </g>\n     </g>\n    </g>\n    <g id=\"xtick_4\">\n     <g id=\"line2d_4\">\n      <g>\n       <use style=\"stroke:#000000;stroke-width:0.8;\" x=\"151.0265\" xlink:href=\"#md81a5d472c\" y=\"228.439219\"/>\n      </g>\n     </g>\n     <g id=\"text_4\">\n      <!-- 3 -->\n      <defs>\n       <path d=\"M 40.578125 39.3125 \nQ 47.65625 37.796875 51.625 33 \nQ 55.609375 28.21875 55.609375 21.1875 \nQ 55.609375 10.40625 48.1875 4.484375 \nQ 40.765625 -1.421875 27.09375 -1.421875 \nQ 22.515625 -1.421875 17.65625 -0.515625 \nQ 12.796875 0.390625 7.625 2.203125 \nL 7.625 11.71875 \nQ 11.71875 9.328125 16.59375 8.109375 \nQ 21.484375 6.890625 26.8125 6.890625 \nQ 36.078125 6.890625 40.9375 10.546875 \nQ 45.796875 14.203125 45.796875 21.1875 \nQ 45.796875 27.640625 41.28125 31.265625 \nQ 36.765625 34.90625 28.71875 34.90625 \nL 20.21875 34.90625 \nL 20.21875 43.015625 \nL 29.109375 43.015625 \nQ 36.375 43.015625 40.234375 45.921875 \nQ 44.09375 48.828125 44.09375 54.296875 \nQ 44.09375 59.90625 40.109375 62.90625 \nQ 36.140625 65.921875 28.71875 65.921875 \nQ 24.65625 65.921875 20.015625 65.03125 \nQ 15.375 64.15625 9.8125 62.3125 \nL 9.8125 71.09375 \nQ 15.4375 72.65625 20.34375 73.4375 \nQ 25.25 74.21875 29.59375 74.21875 \nQ 40.828125 74.21875 47.359375 69.109375 \nQ 53.90625 64.015625 53.90625 55.328125 \nQ 53.90625 49.265625 50.4375 45.09375 \nQ 46.96875 40.921875 40.578125 39.3125 \nz\n\" id=\"DejaVuSans-51\"/>\n      </defs>\n      <g transform=\"translate(147.84525 243.037656)scale(0.1 -0.1)\">\n       <use xlink:href=\"#DejaVuSans-51\"/>\n      </g>\n     </g>\n    </g>\n    <g id=\"xtick_5\">\n     <g id=\"line2d_5\">\n      <g>\n       <use style=\"stroke:#000000;stroke-width:0.8;\" x=\"194.5145\" xlink:href=\"#md81a5d472c\" y=\"228.439219\"/>\n      </g>\n     </g>\n     <g id=\"text_5\">\n      <!-- 4 -->\n      <defs>\n       <path d=\"M 37.796875 64.3125 \nL 12.890625 25.390625 \nL 37.796875 25.390625 \nz\nM 35.203125 72.90625 \nL 47.609375 72.90625 \nL 47.609375 25.390625 \nL 58.015625 25.390625 \nL 58.015625 17.1875 \nL 47.609375 17.1875 \nL 47.609375 0 \nL 37.796875 0 \nL 37.796875 17.1875 \nL 4.890625 17.1875 \nL 4.890625 26.703125 \nz\n\" id=\"DejaVuSans-52\"/>\n      </defs>\n      <g transform=\"translate(191.33325 243.037656)scale(0.1 -0.1)\">\n       <use xlink:href=\"#DejaVuSans-52\"/>\n      </g>\n     </g>\n    </g>\n    <g id=\"xtick_6\">\n     <g id=\"line2d_6\">\n      <g>\n       <use style=\"stroke:#000000;stroke-width:0.8;\" x=\"238.0025\" xlink:href=\"#md81a5d472c\" y=\"228.439219\"/>\n      </g>\n     </g>\n     <g id=\"text_6\">\n      <!-- 5 -->\n      <defs>\n       <path d=\"M 10.796875 72.90625 \nL 49.515625 72.90625 \nL 49.515625 64.59375 \nL 19.828125 64.59375 \nL 19.828125 46.734375 \nQ 21.96875 47.46875 24.109375 47.828125 \nQ 26.265625 48.1875 28.421875 48.1875 \nQ 40.625 48.1875 47.75 41.5 \nQ 54.890625 34.8125 54.890625 23.390625 \nQ 54.890625 11.625 47.5625 5.09375 \nQ 40.234375 -1.421875 26.90625 -1.421875 \nQ 22.3125 -1.421875 17.546875 -0.640625 \nQ 12.796875 0.140625 7.71875 1.703125 \nL 7.71875 11.625 \nQ 12.109375 9.234375 16.796875 8.0625 \nQ 21.484375 6.890625 26.703125 6.890625 \nQ 35.15625 6.890625 40.078125 11.328125 \nQ 45.015625 15.765625 45.015625 23.390625 \nQ 45.015625 31 40.078125 35.4375 \nQ 35.15625 39.890625 26.703125 39.890625 \nQ 22.75 39.890625 18.8125 39.015625 \nQ 14.890625 38.140625 10.796875 36.28125 \nz\n\" id=\"DejaVuSans-53\"/>\n      </defs>\n      <g transform=\"translate(234.82125 243.037656)scale(0.1 -0.1)\">\n       <use xlink:href=\"#DejaVuSans-53\"/>\n      </g>\n     </g>\n    </g>\n   </g>\n   <g id=\"matplotlib.axis_2\">\n    <g id=\"ytick_1\">\n     <g id=\"line2d_7\">\n      <defs>\n       <path d=\"M 0 0 \nL -3.5 0 \n\" id=\"mda1da2e7d7\" style=\"stroke:#000000;stroke-width:0.8;\"/>\n      </defs>\n      <g>\n       <use style=\"stroke:#000000;stroke-width:0.8;\" x=\"20.5625\" xlink:href=\"#mda1da2e7d7\" y=\"228.439219\"/>\n      </g>\n     </g>\n     <g id=\"text_7\">\n      <!-- 0 -->\n      <g transform=\"translate(7.2 232.238437)scale(0.1 -0.1)\">\n       <use xlink:href=\"#DejaVuSans-48\"/>\n      </g>\n     </g>\n    </g>\n    <g id=\"ytick_2\">\n     <g id=\"line2d_8\">\n      <g>\n       <use style=\"stroke:#000000;stroke-width:0.8;\" x=\"20.5625\" xlink:href=\"#mda1da2e7d7\" y=\"184.951219\"/>\n      </g>\n     </g>\n     <g id=\"text_8\">\n      <!-- 1 -->\n      <g transform=\"translate(7.2 188.750437)scale(0.1 -0.1)\">\n       <use xlink:href=\"#DejaVuSans-49\"/>\n      </g>\n     </g>\n    </g>\n    <g id=\"ytick_3\">\n     <g id=\"line2d_9\">\n      <g>\n       <use style=\"stroke:#000000;stroke-width:0.8;\" x=\"20.5625\" xlink:href=\"#mda1da2e7d7\" y=\"141.463219\"/>\n      </g>\n     </g>\n     <g id=\"text_9\">\n      <!-- 2 -->\n      <g transform=\"translate(7.2 145.262437)scale(0.1 -0.1)\">\n       <use xlink:href=\"#DejaVuSans-50\"/>\n      </g>\n     </g>\n    </g>\n    <g id=\"ytick_4\">\n     <g id=\"line2d_10\">\n      <g>\n       <use style=\"stroke:#000000;stroke-width:0.8;\" x=\"20.5625\" xlink:href=\"#mda1da2e7d7\" y=\"97.975219\"/>\n      </g>\n     </g>\n     <g id=\"text_10\">\n      <!-- 3 -->\n      <g transform=\"translate(7.2 101.774437)scale(0.1 -0.1)\">\n       <use xlink:href=\"#DejaVuSans-51\"/>\n      </g>\n     </g>\n    </g>\n    <g id=\"ytick_5\">\n     <g id=\"line2d_11\">\n      <g>\n       <use style=\"stroke:#000000;stroke-width:0.8;\" x=\"20.5625\" xlink:href=\"#mda1da2e7d7\" y=\"54.487219\"/>\n      </g>\n     </g>\n     <g id=\"text_11\">\n      <!-- 4 -->\n      <g transform=\"translate(7.2 58.286437)scale(0.1 -0.1)\">\n       <use xlink:href=\"#DejaVuSans-52\"/>\n      </g>\n     </g>\n    </g>\n    <g id=\"ytick_6\">\n     <g id=\"line2d_12\">\n      <g>\n       <use style=\"stroke:#000000;stroke-width:0.8;\" x=\"20.5625\" xlink:href=\"#mda1da2e7d7\" y=\"10.999219\"/>\n      </g>\n     </g>\n     <g id=\"text_12\">\n      <!-- 5 -->\n      <g transform=\"translate(7.2 14.798437)scale(0.1 -0.1)\">\n       <use xlink:href=\"#DejaVuSans-53\"/>\n      </g>\n     </g>\n    </g>\n   </g>\n   <g id=\"patch_3\">\n    <path d=\"M 20.5625 228.439219 \nL 20.5625 10.999219 \n\" style=\"fill:none;stroke:#000000;stroke-linecap:square;stroke-linejoin:miter;stroke-width:0.8;\"/>\n   </g>\n   <g id=\"patch_4\">\n    <path d=\"M 238.0025 228.439219 \nL 238.0025 10.999219 \n\" style=\"fill:none;stroke:#000000;stroke-linecap:square;stroke-linejoin:miter;stroke-width:0.8;\"/>\n   </g>\n   <g id=\"patch_5\">\n    <path d=\"M 20.5625 228.439219 \nL 238.0025 228.439219 \n\" style=\"fill:none;stroke:#000000;stroke-linecap:square;stroke-linejoin:miter;stroke-width:0.8;\"/>\n   </g>\n   <g id=\"patch_6\">\n    <path d=\"M 20.5625 10.999219 \nL 238.0025 10.999219 \n\" style=\"fill:none;stroke:#000000;stroke-linecap:square;stroke-linejoin:miter;stroke-width:0.8;\"/>\n   </g>\n  </g>\n  <g id=\"axes_2\">\n   <g id=\"patch_7\">\n    <path clip-path=\"url(#p2601570291)\" d=\"M 254.7425 228.439219 \nL 254.7425 227.589844 \nL 254.7425 11.848594 \nL 254.7425 10.999219 \nL 265.6145 10.999219 \nL 265.6145 11.848594 \nL 265.6145 227.589844 \nL 265.6145 228.439219 \nz\n\" style=\"fill:#ffffff;stroke:#ffffff;stroke-linejoin:miter;stroke-width:0.01;\"/>\n   </g>\n   <image height=\"217\" id=\"imagefcf5140ce5\" transform=\"scale(1 -1)translate(0 -217)\" width=\"11\" x=\"255\" xlink:href=\"data:image/png;base64,\niVBORw0KGgoAAAANSUhEUgAAAAsAAADZCAYAAAD2WsoCAAAABHNCSVQICAgIfAhkiAAAAUhJREFUaIHdmsENAjEMBGM7R2XUQP+NQGjB8xjJd7yt1e6sQ9Bx8c7PWc3Pjozu7Norsj/MlKuIDaAcCTwj5aUpB6LBGtSGh3AWaWg2RHQWjcNstGdNGqJn7VidmtFgf9YMeDQbKKC3SIccWI8GVAbDcJ+J8h1piHUjG5qyRsPcDUvZ5HxDdDO2boqyR6M/iy96YgPdg5qN59f9eHQ3DOjVvaJ/vsegux8N4JgHBJ69UkTOM2iAn0huKV7AEcrgORmkwWzMQJdiQIuG5zmTDHs2loWu8gdseAFFGmB4azS8gJ4NRkP0bJWymTIYLrFui8YVX0kZ0rACFlG+ktAgDZa3dcQGrBvZGNEg4sxoMBtWQFTKSwyo7YZ2rK4FaMCA1j3Ilp99FXgB27NUuS+89ov83YCUiymD4SLDSPkK8LoO80zeOUnwkOoPXoiBaF8nrs8AAAAASUVORK5CYII=\" y=\"-11\"/>\n   <g id=\"matplotlib.axis_3\"/>\n   <g id=\"matplotlib.axis_4\">\n    <g id=\"ytick_7\">\n     <g id=\"line2d_13\">\n      <defs>\n       <path d=\"M 0 0 \nL 3.5 0 \n\" id=\"m1d6bb78d24\" style=\"stroke:#000000;stroke-width:0.8;\"/>\n      </defs>\n      <g>\n       <use style=\"stroke:#000000;stroke-width:0.8;\" x=\"265.6145\" xlink:href=\"#m1d6bb78d24\" y=\"201.955892\"/>\n      </g>\n     </g>\n     <g id=\"text_13\">\n      <!-- −0.75 -->\n      <defs>\n       <path d=\"M 10.59375 35.5 \nL 73.1875 35.5 \nL 73.1875 27.203125 \nL 10.59375 27.203125 \nz\n\" id=\"DejaVuSans-8722\"/>\n       <path d=\"M 10.6875 12.40625 \nL 21 12.40625 \nL 21 0 \nL 10.6875 0 \nz\n\" id=\"DejaVuSans-46\"/>\n       <path d=\"M 8.203125 72.90625 \nL 55.078125 72.90625 \nL 55.078125 68.703125 \nL 28.609375 0 \nL 18.3125 0 \nL 43.21875 64.59375 \nL 8.203125 64.59375 \nz\n\" id=\"DejaVuSans-55\"/>\n      </defs>\n      <g transform=\"translate(272.6145 205.75511)scale(0.1 -0.1)\">\n       <use xlink:href=\"#DejaVuSans-8722\"/>\n       <use x=\"83.789062\" xlink:href=\"#DejaVuSans-48\"/>\n       <use x=\"147.412109\" xlink:href=\"#DejaVuSans-46\"/>\n       <use x=\"179.199219\" xlink:href=\"#DejaVuSans-55\"/>\n       <use x=\"242.822266\" xlink:href=\"#DejaVuSans-53\"/>\n      </g>\n     </g>\n    </g>\n    <g id=\"ytick_8\">\n     <g id=\"line2d_14\">\n      <g>\n       <use style=\"stroke:#000000;stroke-width:0.8;\" x=\"265.6145\" xlink:href=\"#m1d6bb78d24\" y=\"175.434266\"/>\n      </g>\n     </g>\n     <g id=\"text_14\">\n      <!-- −0.50 -->\n      <g transform=\"translate(272.6145 179.233485)scale(0.1 -0.1)\">\n       <use xlink:href=\"#DejaVuSans-8722\"/>\n       <use x=\"83.789062\" xlink:href=\"#DejaVuSans-48\"/>\n       <use x=\"147.412109\" xlink:href=\"#DejaVuSans-46\"/>\n       <use x=\"179.199219\" xlink:href=\"#DejaVuSans-53\"/>\n       <use x=\"242.822266\" xlink:href=\"#DejaVuSans-48\"/>\n      </g>\n     </g>\n    </g>\n    <g id=\"ytick_9\">\n     <g id=\"line2d_15\">\n      <g>\n       <use style=\"stroke:#000000;stroke-width:0.8;\" x=\"265.6145\" xlink:href=\"#m1d6bb78d24\" y=\"148.912641\"/>\n      </g>\n     </g>\n     <g id=\"text_15\">\n      <!-- −0.25 -->\n      <g transform=\"translate(272.6145 152.71186)scale(0.1 -0.1)\">\n       <use xlink:href=\"#DejaVuSans-8722\"/>\n       <use x=\"83.789062\" xlink:href=\"#DejaVuSans-48\"/>\n       <use x=\"147.412109\" xlink:href=\"#DejaVuSans-46\"/>\n       <use x=\"179.199219\" xlink:href=\"#DejaVuSans-50\"/>\n       <use x=\"242.822266\" xlink:href=\"#DejaVuSans-53\"/>\n      </g>\n     </g>\n    </g>\n    <g id=\"ytick_10\">\n     <g id=\"line2d_16\">\n      <g>\n       <use style=\"stroke:#000000;stroke-width:0.8;\" x=\"265.6145\" xlink:href=\"#m1d6bb78d24\" y=\"122.391016\"/>\n      </g>\n     </g>\n     <g id=\"text_16\">\n      <!-- 0.00 -->\n      <g transform=\"translate(272.6145 126.190235)scale(0.1 -0.1)\">\n       <use xlink:href=\"#DejaVuSans-48\"/>\n       <use x=\"63.623047\" xlink:href=\"#DejaVuSans-46\"/>\n       <use x=\"95.410156\" xlink:href=\"#DejaVuSans-48\"/>\n       <use x=\"159.033203\" xlink:href=\"#DejaVuSans-48\"/>\n      </g>\n     </g>\n    </g>\n    <g id=\"ytick_11\">\n     <g id=\"line2d_17\">\n      <g>\n       <use style=\"stroke:#000000;stroke-width:0.8;\" x=\"265.6145\" xlink:href=\"#m1d6bb78d24\" y=\"95.869391\"/>\n      </g>\n     </g>\n     <g id=\"text_17\">\n      <!-- 0.25 -->\n      <g transform=\"translate(272.6145 99.66861)scale(0.1 -0.1)\">\n       <use xlink:href=\"#DejaVuSans-48\"/>\n       <use x=\"63.623047\" xlink:href=\"#DejaVuSans-46\"/>\n       <use x=\"95.410156\" xlink:href=\"#DejaVuSans-50\"/>\n       <use x=\"159.033203\" xlink:href=\"#DejaVuSans-53\"/>\n      </g>\n     </g>\n    </g>\n    <g id=\"ytick_12\">\n     <g id=\"line2d_18\">\n      <g>\n       <use style=\"stroke:#000000;stroke-width:0.8;\" x=\"265.6145\" xlink:href=\"#m1d6bb78d24\" y=\"69.347766\"/>\n      </g>\n     </g>\n     <g id=\"text_18\">\n      <!-- 0.50 -->\n      <g transform=\"translate(272.6145 73.146985)scale(0.1 -0.1)\">\n       <use xlink:href=\"#DejaVuSans-48\"/>\n       <use x=\"63.623047\" xlink:href=\"#DejaVuSans-46\"/>\n       <use x=\"95.410156\" xlink:href=\"#DejaVuSans-53\"/>\n       <use x=\"159.033203\" xlink:href=\"#DejaVuSans-48\"/>\n      </g>\n     </g>\n    </g>\n    <g id=\"ytick_13\">\n     <g id=\"line2d_19\">\n      <g>\n       <use style=\"stroke:#000000;stroke-width:0.8;\" x=\"265.6145\" xlink:href=\"#m1d6bb78d24\" y=\"42.826141\"/>\n      </g>\n     </g>\n     <g id=\"text_19\">\n      <!-- 0.75 -->\n      <g transform=\"translate(272.6145 46.62536)scale(0.1 -0.1)\">\n       <use xlink:href=\"#DejaVuSans-48\"/>\n       <use x=\"63.623047\" xlink:href=\"#DejaVuSans-46\"/>\n       <use x=\"95.410156\" xlink:href=\"#DejaVuSans-55\"/>\n       <use x=\"159.033203\" xlink:href=\"#DejaVuSans-53\"/>\n      </g>\n     </g>\n    </g>\n    <g id=\"ytick_14\">\n     <g id=\"line2d_20\">\n      <g>\n       <use style=\"stroke:#000000;stroke-width:0.8;\" x=\"265.6145\" xlink:href=\"#m1d6bb78d24\" y=\"16.304516\"/>\n      </g>\n     </g>\n     <g id=\"text_20\">\n      <!-- 1.00 -->\n      <g transform=\"translate(272.6145 20.103735)scale(0.1 -0.1)\">\n       <use xlink:href=\"#DejaVuSans-49\"/>\n       <use x=\"63.623047\" xlink:href=\"#DejaVuSans-46\"/>\n       <use x=\"95.410156\" xlink:href=\"#DejaVuSans-48\"/>\n       <use x=\"159.033203\" xlink:href=\"#DejaVuSans-48\"/>\n      </g>\n     </g>\n    </g>\n   </g>\n   <g id=\"patch_8\">\n    <path d=\"M 254.7425 228.439219 \nL 254.7425 227.589844 \nL 254.7425 11.848594 \nL 254.7425 10.999219 \nL 265.6145 10.999219 \nL 265.6145 11.848594 \nL 265.6145 227.589844 \nL 265.6145 228.439219 \nz\n\" style=\"fill:none;stroke:#000000;stroke-linejoin:miter;stroke-width:0.8;\"/>\n   </g>\n  </g>\n </g>\n <defs>\n  <clipPath id=\"p7d99cdf01c\">\n   <rect height=\"217.44\" width=\"217.44\" x=\"20.5625\" y=\"10.999219\"/>\n  </clipPath>\n  <clipPath id=\"p2601570291\">\n   <rect height=\"217.44\" width=\"10.872\" x=\"254.7425\" y=\"10.999219\"/>\n  </clipPath>\n </defs>\n</svg>\n",
      "image/png": "[encoded data removed]"
     },
     "metadata": {
      "needs_background": "light"
     }
    }
   ],
   "source": [
    "import matplotlib.pyplot as plt\n",
    "plt.imshow(z, origin=\"lower\", extent=[0, 5, 0, 5], cmap=\"viridis\")\n",
    "plt.colorbar()"
   ]
  },
  {
   "cell_type": "code",
   "execution_count": 11,
   "metadata": {},
   "outputs": [
    {
     "output_type": "execute_result",
     "data": {
      "text/plain": "(365,)"
     },
     "metadata": {},
     "execution_count": 11
    }
   ],
   "source": [
    "import numpy as np\n",
    "import pandas as pd\n",
    "\n",
    "rainfall = pd.read_csv(\"Seattle2014.csv\")[\"PRCP\"].values\n",
    "inches = rainfall / 254\n",
    "inches.shape"
   ]
  },
  {
   "cell_type": "code",
   "execution_count": 12,
   "metadata": {},
   "outputs": [],
   "source": [
    "import seaborn; seaborn.set()\n"
   ]
  },
  {
   "cell_type": "code",
   "execution_count": 13,
   "metadata": {},
   "outputs": [
    {
     "output_type": "execute_result",
     "data": {
      "text/plain": "(array([289.,  25.,  20.,  13.,  10.,   3.,   2.,   2.,   0.,   1.]),\n array([0.        , 0.18385827, 0.36771654, 0.5515748 , 0.73543307,\n        0.91929134, 1.10314961, 1.28700787, 1.47086614, 1.65472441,\n        1.83858268]),\n <a list of 10 Patch objects>)"
     },
     "metadata": {},
     "execution_count": 13
    },
    {
     "output_type": "display_data",
     "data": {
      "text/plain": "<Figure size 432x288 with 1 Axes>",
      "image/svg+xml": "<?xml version=\"1.0\" encoding=\"utf-8\" standalone=\"no\"?>\n<!DOCTYPE svg PUBLIC \"-//W3C//DTD SVG 1.1//EN\"\n  \"http://www.w3.org/Graphics/SVG/1.1/DTD/svg11.dtd\">\n<!-- Created with matplotlib (https://matplotlib.org/) -->\n<svg height=\"253.692948pt\" version=\"1.1\" viewBox=\"0 0 379.69625 253.692948\" width=\"379.69625pt\" xmlns=\"http://www.w3.org/2000/svg\" xmlns:xlink=\"http://www.w3.org/1999/xlink\">\n <defs>\n  <style type=\"text/css\">\n*{stroke-linecap:butt;stroke-linejoin:round;}\n  </style>\n </defs>\n <g id=\"figure_1\">\n  <g id=\"patch_1\">\n   <path d=\"M 0 253.692948 \nL 379.69625 253.692948 \nL 379.69625 0 \nL 0 0 \nz\n\" style=\"fill:#ffffff;\"/>\n  </g>\n  <g id=\"axes_1\">\n   <g id=\"patch_2\">\n    <path d=\"M 37.69625 226.34701 \nL 372.49625 226.34701 \nL 372.49625 8.90701 \nL 37.69625 8.90701 \nz\n\" style=\"fill:#eaeaf2;\"/>\n   </g>\n   <g id=\"matplotlib.axis_1\">\n    <g id=\"xtick_1\">\n     <g id=\"line2d_1\">\n      <path clip-path=\"url(#p04215c549f)\" d=\"M 52.914432 226.34701 \nL 52.914432 8.90701 \n\" style=\"fill:none;stroke:#ffffff;stroke-linecap:round;\"/>\n     </g>\n     <g id=\"text_1\">\n      <!-- 0.00 -->\n      <defs>\n       <path d=\"M 31.78125 66.40625 \nQ 24.171875 66.40625 20.328125 58.90625 \nQ 16.5 51.421875 16.5 36.375 \nQ 16.5 21.390625 20.328125 13.890625 \nQ 24.171875 6.390625 31.78125 6.390625 \nQ 39.453125 6.390625 43.28125 13.890625 \nQ 47.125 21.390625 47.125 36.375 \nQ 47.125 51.421875 43.28125 58.90625 \nQ 39.453125 66.40625 31.78125 66.40625 \nz\nM 31.78125 74.21875 \nQ 44.046875 74.21875 50.515625 64.515625 \nQ 56.984375 54.828125 56.984375 36.375 \nQ 56.984375 17.96875 50.515625 8.265625 \nQ 44.046875 -1.421875 31.78125 -1.421875 \nQ 19.53125 -1.421875 13.0625 8.265625 \nQ 6.59375 17.96875 6.59375 36.375 \nQ 6.59375 54.828125 13.0625 64.515625 \nQ 19.53125 74.21875 31.78125 74.21875 \nz\n\" id=\"DejaVuSans-48\"/>\n       <path d=\"M 10.6875 12.40625 \nL 21 12.40625 \nL 21 0 \nL 10.6875 0 \nz\n\" id=\"DejaVuSans-46\"/>\n      </defs>\n      <g style=\"fill:#262626;\" transform=\"translate(40.668338 244.205291)scale(0.11 -0.11)\">\n       <use xlink:href=\"#DejaVuSans-48\"/>\n       <use x=\"63.623047\" xlink:href=\"#DejaVuSans-46\"/>\n       <use x=\"95.410156\" xlink:href=\"#DejaVuSans-48\"/>\n       <use x=\"159.033203\" xlink:href=\"#DejaVuSans-48\"/>\n      </g>\n     </g>\n    </g>\n    <g id=\"xtick_2\">\n     <g id=\"line2d_2\">\n      <path clip-path=\"url(#p04215c549f)\" d=\"M 94.300065 226.34701 \nL 94.300065 8.90701 \n\" style=\"fill:none;stroke:#ffffff;stroke-linecap:round;\"/>\n     </g>\n     <g id=\"text_2\">\n      <!-- 0.25 -->\n      <defs>\n       <path d=\"M 19.1875 8.296875 \nL 53.609375 8.296875 \nL 53.609375 0 \nL 7.328125 0 \nL 7.328125 8.296875 \nQ 12.9375 14.109375 22.625 23.890625 \nQ 32.328125 33.6875 34.8125 36.53125 \nQ 39.546875 41.84375 41.421875 45.53125 \nQ 43.3125 49.21875 43.3125 52.78125 \nQ 43.3125 58.59375 39.234375 62.25 \nQ 35.15625 65.921875 28.609375 65.921875 \nQ 23.96875 65.921875 18.8125 64.3125 \nQ 13.671875 62.703125 7.8125 59.421875 \nL 7.8125 69.390625 \nQ 13.765625 71.78125 18.9375 73 \nQ 24.125 74.21875 28.421875 74.21875 \nQ 39.75 74.21875 46.484375 68.546875 \nQ 53.21875 62.890625 53.21875 53.421875 \nQ 53.21875 48.921875 51.53125 44.890625 \nQ 49.859375 40.875 45.40625 35.40625 \nQ 44.1875 33.984375 37.640625 27.21875 \nQ 31.109375 20.453125 19.1875 8.296875 \nz\n\" id=\"DejaVuSans-50\"/>\n       <path d=\"M 10.796875 72.90625 \nL 49.515625 72.90625 \nL 49.515625 64.59375 \nL 19.828125 64.59375 \nL 19.828125 46.734375 \nQ 21.96875 47.46875 24.109375 47.828125 \nQ 26.265625 48.1875 28.421875 48.1875 \nQ 40.625 48.1875 47.75 41.5 \nQ 54.890625 34.8125 54.890625 23.390625 \nQ 54.890625 11.625 47.5625 5.09375 \nQ 40.234375 -1.421875 26.90625 -1.421875 \nQ 22.3125 -1.421875 17.546875 -0.640625 \nQ 12.796875 0.140625 7.71875 1.703125 \nL 7.71875 11.625 \nQ 12.109375 9.234375 16.796875 8.0625 \nQ 21.484375 6.890625 26.703125 6.890625 \nQ 35.15625 6.890625 40.078125 11.328125 \nQ 45.015625 15.765625 45.015625 23.390625 \nQ 45.015625 31 40.078125 35.4375 \nQ 35.15625 39.890625 26.703125 39.890625 \nQ 22.75 39.890625 18.8125 39.015625 \nQ 14.890625 38.140625 10.796875 36.28125 \nz\n\" id=\"DejaVuSans-53\"/>\n      </defs>\n      <g style=\"fill:#262626;\" transform=\"translate(82.053972 244.205291)scale(0.11 -0.11)\">\n       <use xlink:href=\"#DejaVuSans-48\"/>\n       <use x=\"63.623047\" xlink:href=\"#DejaVuSans-46\"/>\n       <use x=\"95.410156\" xlink:href=\"#DejaVuSans-50\"/>\n       <use x=\"159.033203\" xlink:href=\"#DejaVuSans-53\"/>\n      </g>\n     </g>\n    </g>\n    <g id=\"xtick_3\">\n     <g id=\"line2d_3\">\n      <path clip-path=\"url(#p04215c549f)\" d=\"M 135.685699 226.34701 \nL 135.685699 8.90701 \n\" style=\"fill:none;stroke:#ffffff;stroke-linecap:round;\"/>\n     </g>\n     <g id=\"text_3\">\n      <!-- 0.50 -->\n      <g style=\"fill:#262626;\" transform=\"translate(123.439605 244.205291)scale(0.11 -0.11)\">\n       <use xlink:href=\"#DejaVuSans-48\"/>\n       <use x=\"63.623047\" xlink:href=\"#DejaVuSans-46\"/>\n       <use x=\"95.410156\" xlink:href=\"#DejaVuSans-53\"/>\n       <use x=\"159.033203\" xlink:href=\"#DejaVuSans-48\"/>\n      </g>\n     </g>\n    </g>\n    <g id=\"xtick_4\">\n     <g id=\"line2d_4\">\n      <path clip-path=\"url(#p04215c549f)\" d=\"M 177.071333 226.34701 \nL 177.071333 8.90701 \n\" style=\"fill:none;stroke:#ffffff;stroke-linecap:round;\"/>\n     </g>\n     <g id=\"text_4\">\n      <!-- 0.75 -->\n      <defs>\n       <path d=\"M 8.203125 72.90625 \nL 55.078125 72.90625 \nL 55.078125 68.703125 \nL 28.609375 0 \nL 18.3125 0 \nL 43.21875 64.59375 \nL 8.203125 64.59375 \nz\n\" id=\"DejaVuSans-55\"/>\n      </defs>\n      <g style=\"fill:#262626;\" transform=\"translate(164.825239 244.205291)scale(0.11 -0.11)\">\n       <use xlink:href=\"#DejaVuSans-48\"/>\n       <use x=\"63.623047\" xlink:href=\"#DejaVuSans-46\"/>\n       <use x=\"95.410156\" xlink:href=\"#DejaVuSans-55\"/>\n       <use x=\"159.033203\" xlink:href=\"#DejaVuSans-53\"/>\n      </g>\n     </g>\n    </g>\n    <g id=\"xtick_5\">\n     <g id=\"line2d_5\">\n      <path clip-path=\"url(#p04215c549f)\" d=\"M 218.456966 226.34701 \nL 218.456966 8.90701 \n\" style=\"fill:none;stroke:#ffffff;stroke-linecap:round;\"/>\n     </g>\n     <g id=\"text_5\">\n      <!-- 1.00 -->\n      <defs>\n       <path d=\"M 12.40625 8.296875 \nL 28.515625 8.296875 \nL 28.515625 63.921875 \nL 10.984375 60.40625 \nL 10.984375 69.390625 \nL 28.421875 72.90625 \nL 38.28125 72.90625 \nL 38.28125 8.296875 \nL 54.390625 8.296875 \nL 54.390625 0 \nL 12.40625 0 \nz\n\" id=\"DejaVuSans-49\"/>\n      </defs>\n      <g style=\"fill:#262626;\" transform=\"translate(206.210873 244.205291)scale(0.11 -0.11)\">\n       <use xlink:href=\"#DejaVuSans-49\"/>\n       <use x=\"63.623047\" xlink:href=\"#DejaVuSans-46\"/>\n       <use x=\"95.410156\" xlink:href=\"#DejaVuSans-48\"/>\n       <use x=\"159.033203\" xlink:href=\"#DejaVuSans-48\"/>\n      </g>\n     </g>\n    </g>\n    <g id=\"xtick_6\">\n     <g id=\"line2d_6\">\n      <path clip-path=\"url(#p04215c549f)\" d=\"M 259.8426 226.34701 \nL 259.8426 8.90701 \n\" style=\"fill:none;stroke:#ffffff;stroke-linecap:round;\"/>\n     </g>\n     <g id=\"text_6\">\n      <!-- 1.25 -->\n      <g style=\"fill:#262626;\" transform=\"translate(247.596506 244.205291)scale(0.11 -0.11)\">\n       <use xlink:href=\"#DejaVuSans-49\"/>\n       <use x=\"63.623047\" xlink:href=\"#DejaVuSans-46\"/>\n       <use x=\"95.410156\" xlink:href=\"#DejaVuSans-50\"/>\n       <use x=\"159.033203\" xlink:href=\"#DejaVuSans-53\"/>\n      </g>\n     </g>\n    </g>\n    <g id=\"xtick_7\">\n     <g id=\"line2d_7\">\n      <path clip-path=\"url(#p04215c549f)\" d=\"M 301.228234 226.34701 \nL 301.228234 8.90701 \n\" style=\"fill:none;stroke:#ffffff;stroke-linecap:round;\"/>\n     </g>\n     <g id=\"text_7\">\n      <!-- 1.50 -->\n      <g style=\"fill:#262626;\" transform=\"translate(288.98214 244.205291)scale(0.11 -0.11)\">\n       <use xlink:href=\"#DejaVuSans-49\"/>\n       <use x=\"63.623047\" xlink:href=\"#DejaVuSans-46\"/>\n       <use x=\"95.410156\" xlink:href=\"#DejaVuSans-53\"/>\n       <use x=\"159.033203\" xlink:href=\"#DejaVuSans-48\"/>\n      </g>\n     </g>\n    </g>\n    <g id=\"xtick_8\">\n     <g id=\"line2d_8\">\n      <path clip-path=\"url(#p04215c549f)\" d=\"M 342.613867 226.34701 \nL 342.613867 8.90701 \n\" style=\"fill:none;stroke:#ffffff;stroke-linecap:round;\"/>\n     </g>\n     <g id=\"text_8\">\n      <!-- 1.75 -->\n      <g style=\"fill:#262626;\" transform=\"translate(330.367774 244.205291)scale(0.11 -0.11)\">\n       <use xlink:href=\"#DejaVuSans-49\"/>\n       <use x=\"63.623047\" xlink:href=\"#DejaVuSans-46\"/>\n       <use x=\"95.410156\" xlink:href=\"#DejaVuSans-55\"/>\n       <use x=\"159.033203\" xlink:href=\"#DejaVuSans-53\"/>\n      </g>\n     </g>\n    </g>\n   </g>\n   <g id=\"matplotlib.axis_2\">\n    <g id=\"ytick_1\">\n     <g id=\"line2d_9\">\n      <path clip-path=\"url(#p04215c549f)\" d=\"M 37.69625 226.34701 \nL 372.49625 226.34701 \n\" style=\"fill:none;stroke:#ffffff;stroke-linecap:round;\"/>\n     </g>\n     <g id=\"text_9\">\n      <!-- 0 -->\n      <g style=\"fill:#262626;\" transform=\"translate(21.1975 230.526151)scale(0.11 -0.11)\">\n       <use xlink:href=\"#DejaVuSans-48\"/>\n      </g>\n     </g>\n    </g>\n    <g id=\"ytick_2\">\n     <g id=\"line2d_10\">\n      <path clip-path=\"url(#p04215c549f)\" d=\"M 37.69625 190.519032 \nL 372.49625 190.519032 \n\" style=\"fill:none;stroke:#ffffff;stroke-linecap:round;\"/>\n     </g>\n     <g id=\"text_10\">\n      <!-- 50 -->\n      <g style=\"fill:#262626;\" transform=\"translate(14.19875 194.698173)scale(0.11 -0.11)\">\n       <use xlink:href=\"#DejaVuSans-53\"/>\n       <use x=\"63.623047\" xlink:href=\"#DejaVuSans-48\"/>\n      </g>\n     </g>\n    </g>\n    <g id=\"ytick_3\">\n     <g id=\"line2d_11\">\n      <path clip-path=\"url(#p04215c549f)\" d=\"M 37.69625 154.691054 \nL 372.49625 154.691054 \n\" style=\"fill:none;stroke:#ffffff;stroke-linecap:round;\"/>\n     </g>\n     <g id=\"text_11\">\n      <!-- 100 -->\n      <g style=\"fill:#262626;\" transform=\"translate(7.2 158.870194)scale(0.11 -0.11)\">\n       <use xlink:href=\"#DejaVuSans-49\"/>\n       <use x=\"63.623047\" xlink:href=\"#DejaVuSans-48\"/>\n       <use x=\"127.246094\" xlink:href=\"#DejaVuSans-48\"/>\n      </g>\n     </g>\n    </g>\n    <g id=\"ytick_4\">\n     <g id=\"line2d_12\">\n      <path clip-path=\"url(#p04215c549f)\" d=\"M 37.69625 118.863075 \nL 372.49625 118.863075 \n\" style=\"fill:none;stroke:#ffffff;stroke-linecap:round;\"/>\n     </g>\n     <g id=\"text_12\">\n      <!-- 150 -->\n      <g style=\"fill:#262626;\" transform=\"translate(7.2 123.042216)scale(0.11 -0.11)\">\n       <use xlink:href=\"#DejaVuSans-49\"/>\n       <use x=\"63.623047\" xlink:href=\"#DejaVuSans-53\"/>\n       <use x=\"127.246094\" xlink:href=\"#DejaVuSans-48\"/>\n      </g>\n     </g>\n    </g>\n    <g id=\"ytick_5\">\n     <g id=\"line2d_13\">\n      <path clip-path=\"url(#p04215c549f)\" d=\"M 37.69625 83.035097 \nL 372.49625 83.035097 \n\" style=\"fill:none;stroke:#ffffff;stroke-linecap:round;\"/>\n     </g>\n     <g id=\"text_13\">\n      <!-- 200 -->\n      <g style=\"fill:#262626;\" transform=\"translate(7.2 87.214238)scale(0.11 -0.11)\">\n       <use xlink:href=\"#DejaVuSans-50\"/>\n       <use x=\"63.623047\" xlink:href=\"#DejaVuSans-48\"/>\n       <use x=\"127.246094\" xlink:href=\"#DejaVuSans-48\"/>\n      </g>\n     </g>\n    </g>\n    <g id=\"ytick_6\">\n     <g id=\"line2d_14\">\n      <path clip-path=\"url(#p04215c549f)\" d=\"M 37.69625 47.207119 \nL 372.49625 47.207119 \n\" style=\"fill:none;stroke:#ffffff;stroke-linecap:round;\"/>\n     </g>\n     <g id=\"text_14\">\n      <!-- 250 -->\n      <g style=\"fill:#262626;\" transform=\"translate(7.2 51.38626)scale(0.11 -0.11)\">\n       <use xlink:href=\"#DejaVuSans-50\"/>\n       <use x=\"63.623047\" xlink:href=\"#DejaVuSans-53\"/>\n       <use x=\"127.246094\" xlink:href=\"#DejaVuSans-48\"/>\n      </g>\n     </g>\n    </g>\n    <g id=\"ytick_7\">\n     <g id=\"line2d_15\">\n      <path clip-path=\"url(#p04215c549f)\" d=\"M 37.69625 11.379141 \nL 372.49625 11.379141 \n\" style=\"fill:none;stroke:#ffffff;stroke-linecap:round;\"/>\n     </g>\n     <g id=\"text_15\">\n      <!-- 300 -->\n      <defs>\n       <path d=\"M 40.578125 39.3125 \nQ 47.65625 37.796875 51.625 33 \nQ 55.609375 28.21875 55.609375 21.1875 \nQ 55.609375 10.40625 48.1875 4.484375 \nQ 40.765625 -1.421875 27.09375 -1.421875 \nQ 22.515625 -1.421875 17.65625 -0.515625 \nQ 12.796875 0.390625 7.625 2.203125 \nL 7.625 11.71875 \nQ 11.71875 9.328125 16.59375 8.109375 \nQ 21.484375 6.890625 26.8125 6.890625 \nQ 36.078125 6.890625 40.9375 10.546875 \nQ 45.796875 14.203125 45.796875 21.1875 \nQ 45.796875 27.640625 41.28125 31.265625 \nQ 36.765625 34.90625 28.71875 34.90625 \nL 20.21875 34.90625 \nL 20.21875 43.015625 \nL 29.109375 43.015625 \nQ 36.375 43.015625 40.234375 45.921875 \nQ 44.09375 48.828125 44.09375 54.296875 \nQ 44.09375 59.90625 40.109375 62.90625 \nQ 36.140625 65.921875 28.71875 65.921875 \nQ 24.65625 65.921875 20.015625 65.03125 \nQ 15.375 64.15625 9.8125 62.3125 \nL 9.8125 71.09375 \nQ 15.4375 72.65625 20.34375 73.4375 \nQ 25.25 74.21875 29.59375 74.21875 \nQ 40.828125 74.21875 47.359375 69.109375 \nQ 53.90625 64.015625 53.90625 55.328125 \nQ 53.90625 49.265625 50.4375 45.09375 \nQ 46.96875 40.921875 40.578125 39.3125 \nz\n\" id=\"DejaVuSans-51\"/>\n      </defs>\n      <g style=\"fill:#262626;\" transform=\"translate(7.2 15.558281)scale(0.11 -0.11)\">\n       <use xlink:href=\"#DejaVuSans-51\"/>\n       <use x=\"63.623047\" xlink:href=\"#DejaVuSans-48\"/>\n       <use x=\"127.246094\" xlink:href=\"#DejaVuSans-48\"/>\n      </g>\n     </g>\n    </g>\n   </g>\n   <g id=\"patch_3\">\n    <path clip-path=\"url(#p04215c549f)\" d=\"M 52.914432 226.34701 \nL 83.350795 226.34701 \nL 83.350795 19.261296 \nL 52.914432 19.261296 \nz\n\" style=\"fill:#4c72b0;stroke:#ffffff;stroke-linejoin:miter;\"/>\n   </g>\n   <g id=\"patch_4\">\n    <path clip-path=\"url(#p04215c549f)\" d=\"M 83.350795 226.34701 \nL 113.787159 226.34701 \nL 113.787159 208.433021 \nL 83.350795 208.433021 \nz\n\" style=\"fill:#4c72b0;stroke:#ffffff;stroke-linejoin:miter;\"/>\n   </g>\n   <g id=\"patch_5\">\n    <path clip-path=\"url(#p04215c549f)\" d=\"M 113.787159 226.34701 \nL 144.223523 226.34701 \nL 144.223523 212.015819 \nL 113.787159 212.015819 \nz\n\" style=\"fill:#4c72b0;stroke:#ffffff;stroke-linejoin:miter;\"/>\n   </g>\n   <g id=\"patch_6\">\n    <path clip-path=\"url(#p04215c549f)\" d=\"M 144.223523 226.34701 \nL 174.659886 226.34701 \nL 174.659886 217.031736 \nL 144.223523 217.031736 \nz\n\" style=\"fill:#4c72b0;stroke:#ffffff;stroke-linejoin:miter;\"/>\n   </g>\n   <g id=\"patch_7\">\n    <path clip-path=\"url(#p04215c549f)\" d=\"M 174.659886 226.34701 \nL 205.09625 226.34701 \nL 205.09625 219.181414 \nL 174.659886 219.181414 \nz\n\" style=\"fill:#4c72b0;stroke:#ffffff;stroke-linejoin:miter;\"/>\n   </g>\n   <g id=\"patch_8\">\n    <path clip-path=\"url(#p04215c549f)\" d=\"M 205.09625 226.34701 \nL 235.532614 226.34701 \nL 235.532614 224.197331 \nL 205.09625 224.197331 \nz\n\" style=\"fill:#4c72b0;stroke:#ffffff;stroke-linejoin:miter;\"/>\n   </g>\n   <g id=\"patch_9\">\n    <path clip-path=\"url(#p04215c549f)\" d=\"M 235.532614 226.34701 \nL 265.968977 226.34701 \nL 265.968977 224.913891 \nL 235.532614 224.913891 \nz\n\" style=\"fill:#4c72b0;stroke:#ffffff;stroke-linejoin:miter;\"/>\n   </g>\n   <g id=\"patch_10\">\n    <path clip-path=\"url(#p04215c549f)\" d=\"M 265.968977 226.34701 \nL 296.405341 226.34701 \nL 296.405341 224.913891 \nL 265.968977 224.913891 \nz\n\" style=\"fill:#4c72b0;stroke:#ffffff;stroke-linejoin:miter;\"/>\n   </g>\n   <g id=\"patch_11\">\n    <path clip-path=\"url(#p04215c549f)\" d=\"M 296.405341 226.34701 \nL 326.841705 226.34701 \nL 326.841705 226.34701 \nL 296.405341 226.34701 \nz\n\" style=\"fill:#4c72b0;stroke:#ffffff;stroke-linejoin:miter;\"/>\n   </g>\n   <g id=\"patch_12\">\n    <path clip-path=\"url(#p04215c549f)\" d=\"M 326.841705 226.34701 \nL 357.278068 226.34701 \nL 357.278068 225.630451 \nL 326.841705 225.630451 \nz\n\" style=\"fill:#4c72b0;stroke:#ffffff;stroke-linejoin:miter;\"/>\n   </g>\n   <g id=\"patch_13\">\n    <path d=\"M 37.69625 226.34701 \nL 37.69625 8.90701 \n\" style=\"fill:none;stroke:#ffffff;stroke-linecap:square;stroke-linejoin:miter;stroke-width:1.25;\"/>\n   </g>\n   <g id=\"patch_14\">\n    <path d=\"M 372.49625 226.34701 \nL 372.49625 8.90701 \n\" style=\"fill:none;stroke:#ffffff;stroke-linecap:square;stroke-linejoin:miter;stroke-width:1.25;\"/>\n   </g>\n   <g id=\"patch_15\">\n    <path d=\"M 37.69625 226.34701 \nL 372.49625 226.34701 \n\" style=\"fill:none;stroke:#ffffff;stroke-linecap:square;stroke-linejoin:miter;stroke-width:1.25;\"/>\n   </g>\n   <g id=\"patch_16\">\n    <path d=\"M 37.69625 8.90701 \nL 372.49625 8.90701 \n\" style=\"fill:none;stroke:#ffffff;stroke-linecap:square;stroke-linejoin:miter;stroke-width:1.25;\"/>\n   </g>\n  </g>\n </g>\n <defs>\n  <clipPath id=\"p04215c549f\">\n   <rect height=\"217.44\" width=\"334.8\" x=\"37.69625\" y=\"8.90701\"/>\n  </clipPath>\n </defs>\n</svg>\n",
      "image/png": "[encoded data removed]"
     },
     "metadata": {}
    }
   ],
   "source": [
    "plt.hist(inches)"
   ]
  },
  {
   "cell_type": "code",
   "execution_count": 16,
   "metadata": {},
   "outputs": [
    {
     "output_type": "execute_result",
     "data": {
      "text/plain": "7"
     },
     "metadata": {},
     "execution_count": 16
    }
   ],
   "source": [
    "len(inches[inches > 1])"
   ]
  },
  {
   "cell_type": "code",
   "execution_count": 17,
   "metadata": {},
   "outputs": [],
   "source": [
    "x = np.array([1, 2, 3, 4, 5])"
   ]
  },
  {
   "cell_type": "code",
   "execution_count": 18,
   "metadata": {},
   "outputs": [
    {
     "output_type": "execute_result",
     "data": {
      "text/plain": "array([False, False, False,  True,  True])"
     },
     "metadata": {},
     "execution_count": 18
    }
   ],
   "source": [
    "x > 3"
   ]
  },
  {
   "cell_type": "code",
   "execution_count": 19,
   "metadata": {},
   "outputs": [
    {
     "output_type": "execute_result",
     "data": {
      "text/plain": "array([False,  True, False,  True, False])"
     },
     "metadata": {},
     "execution_count": 19
    }
   ],
   "source": [
    "(2 ** x) == (x ** 2)"
   ]
  },
  {
   "cell_type": "code",
   "execution_count": 24,
   "metadata": {},
   "outputs": [
    {
     "output_type": "execute_result",
     "data": {
      "text/plain": "array([[5, 0, 3, 3],\n       [7, 9, 3, 5],\n       [2, 4, 7, 6]])"
     },
     "metadata": {},
     "execution_count": 24
    }
   ],
   "source": [
    "rng = np.random.RandomState(0)\n",
    "x = rng.randint(10, size=(3, 4))\n",
    "x"
   ]
  },
  {
   "cell_type": "code",
   "execution_count": 25,
   "metadata": {},
   "outputs": [
    {
     "output_type": "execute_result",
     "data": {
      "text/plain": "array([[False, False, False, False],\n       [ True,  True, False, False],\n       [False, False,  True,  True]])"
     },
     "metadata": {},
     "execution_count": 25
    }
   ],
   "source": [
    "x > 5"
   ]
  },
  {
   "cell_type": "code",
   "execution_count": 27,
   "metadata": {},
   "outputs": [
    {
     "output_type": "execute_result",
     "data": {
      "text/plain": "4"
     },
     "metadata": {},
     "execution_count": 27
    }
   ],
   "source": [
    "np.sum(x > 5)"
   ]
  },
  {
   "cell_type": "code",
   "execution_count": 28,
   "metadata": {},
   "outputs": [
    {
     "output_type": "execute_result",
     "data": {
      "text/plain": "6"
     },
     "metadata": {},
     "execution_count": 28
    }
   ],
   "source": [
    "np.count_nonzero(x > 4)"
   ]
  },
  {
   "cell_type": "code",
   "execution_count": 30,
   "metadata": {},
   "outputs": [
    {
     "output_type": "execute_result",
     "data": {
      "text/plain": "array([4, 2, 2])"
     },
     "metadata": {},
     "execution_count": 30
    }
   ],
   "source": [
    "np.sum(x < 6, axis=1)"
   ]
  },
  {
   "cell_type": "code",
   "execution_count": 32,
   "metadata": {},
   "outputs": [
    {
     "output_type": "execute_result",
     "data": {
      "text/plain": "False"
     },
     "metadata": {},
     "execution_count": 32
    }
   ],
   "source": [
    "(x > 5).all() "
   ]
  },
  {
   "cell_type": "code",
   "execution_count": 33,
   "metadata": {},
   "outputs": [
    {
     "output_type": "execute_result",
     "data": {
      "text/plain": "array([False,  True,  True])"
     },
     "metadata": {},
     "execution_count": 33
    }
   ],
   "source": [
    "np.all(x > 0, axis=1)"
   ]
  },
  {
   "cell_type": "code",
   "execution_count": 34,
   "metadata": {},
   "outputs": [
    {
     "output_type": "execute_result",
     "data": {
      "text/plain": "29"
     },
     "metadata": {},
     "execution_count": 34
    }
   ],
   "source": [
    "np.sum((inches > 0.5) & (inches < 1))"
   ]
  },
  {
   "cell_type": "code",
   "execution_count": 35,
   "metadata": {},
   "outputs": [
    {
     "output_type": "execute_result",
     "data": {
      "text/plain": "array([0.83858268, 0.8503937 , 0.72047244, 0.66929134, 0.57086614,\n       0.5984252 , 0.51181102, 0.7519685 , 0.6496063 , 0.74015748,\n       0.87007874, 0.5511811 , 0.72834646, 0.53937008, 0.55905512,\n       0.62992126, 0.53937008, 0.75984252, 0.8503937 , 0.72047244,\n       0.7992126 , 0.59055118, 0.66929134, 0.5984252 , 0.72047244,\n       0.51181102, 0.51181102, 0.77165354, 0.81102362])"
     },
     "metadata": {},
     "execution_count": 35
    }
   ],
   "source": [
    "inches[(inches > 0.5) & (inches < 1)]"
   ]
  },
  {
   "cell_type": "code",
   "execution_count": 36,
   "metadata": {
    "tags": []
   },
   "outputs": [
    {
     "output_type": "stream",
     "name": "stdout",
     "text": "No rain:          215\nWith rain:        150\nMore than 0.5:    37\nWith < 0.1:       104\n"
    }
   ],
   "source": [
    "print(\"No rain:         \", np.sum(inches == 0))\n",
    "print(\"With rain:       \", np.sum(inches != 0))\n",
    "print(\"More than 0.5:   \", np.sum(inches > 0.5))\n",
    "print(\"With < 0.1:      \", np.sum((inches > 0) & (inches > 0.1)))"
   ]
  },
  {
   "cell_type": "code",
   "execution_count": 37,
   "metadata": {},
   "outputs": [
    {
     "output_type": "execute_result",
     "data": {
      "text/plain": "array([[5, 0, 3, 3],\n       [7, 9, 3, 5],\n       [2, 4, 7, 6]])"
     },
     "metadata": {},
     "execution_count": 37
    }
   ],
   "source": [
    "x"
   ]
  },
  {
   "cell_type": "code",
   "execution_count": 38,
   "metadata": {},
   "outputs": [
    {
     "output_type": "execute_result",
     "data": {
      "text/plain": "array([[False,  True,  True,  True],\n       [False, False,  True, False],\n       [ True,  True, False, False]])"
     },
     "metadata": {},
     "execution_count": 38
    }
   ],
   "source": [
    "x < 5"
   ]
  },
  {
   "cell_type": "code",
   "execution_count": 39,
   "metadata": {},
   "outputs": [
    {
     "output_type": "execute_result",
     "data": {
      "text/plain": "array([0, 3, 3, 3, 2, 4])"
     },
     "metadata": {},
     "execution_count": 39
    }
   ],
   "source": [
    "x[x < 5]"
   ]
  },
  {
   "cell_type": "code",
   "execution_count": 40,
   "metadata": {},
   "outputs": [
    {
     "output_type": "execute_result",
     "data": {
      "text/plain": "array([False, False, False, False, False, False, False, False, False,\n       False, False, False, False, False, False, False, False, False,\n       False, False, False, False, False, False, False, False, False,\n       False, False, False, False, False, False, False, False, False,\n       False, False, False, False, False, False, False, False, False,\n       False, False, False, False, False, False, False, False, False,\n       False, False, False, False, False, False, False, False, False,\n       False, False, False, False, False, False, False, False, False,\n       False, False, False, False, False, False, False, False, False,\n       False, False, False, False, False, False, False, False, False,\n       False, False, False, False, False, False, False, False, False,\n       False, False, False, False, False, False, False, False, False,\n       False, False, False, False, False, False, False, False, False,\n       False, False, False, False, False, False, False, False, False,\n       False, False, False, False, False, False, False, False, False,\n       False, False, False, False, False, False, False, False, False,\n       False, False, False, False, False, False, False, False, False,\n       False, False, False, False, False, False, False, False, False,\n       False, False, False, False, False, False, False, False, False,\n       False, False,  True,  True,  True,  True,  True,  True,  True,\n        True,  True,  True,  True,  True,  True,  True,  True,  True,\n        True,  True,  True,  True,  True,  True,  True,  True,  True,\n        True,  True,  True,  True,  True,  True,  True,  True,  True,\n        True,  True,  True,  True,  True,  True,  True,  True,  True,\n        True,  True,  True,  True,  True,  True,  True,  True,  True,\n        True,  True,  True,  True,  True,  True,  True,  True,  True,\n        True,  True,  True,  True,  True,  True,  True,  True,  True,\n        True,  True,  True,  True,  True,  True,  True,  True,  True,\n        True,  True,  True,  True,  True,  True,  True,  True,  True,\n        True, False, False, False, False, False, False, False, False,\n       False, False, False, False, False, False, False, False, False,\n       False, False, False, False, False, False, False, False, False,\n       False, False, False, False, False, False, False, False, False,\n       False, False, False, False, False, False, False, False, False,\n       False, False, False, False, False, False, False, False, False,\n       False, False, False, False, False, False, False, False, False,\n       False, False, False, False, False, False, False, False, False,\n       False, False, False, False, False, False, False, False, False,\n       False, False, False, False, False, False, False, False, False,\n       False, False, False, False, False, False, False, False, False,\n       False, False, False, False, False])"
     },
     "metadata": {},
     "execution_count": 40
    }
   ],
   "source": [
    "rainy = (inches > 0)\n",
    "\n",
    "summer = (np.arange(365) - 172 < 90) & (np.arange(365) - 172 > 0)"
   ]
  },
  {
   "cell_type": "code",
   "execution_count": 41,
   "metadata": {
    "tags": []
   },
   "outputs": [
    {
     "output_type": "stream",
     "name": "stdout",
     "text": "Median precip on rainy days in 2014:      0.19488188976377951\nMedian precip on summer days in 2014:     0.0\n"
    }
   ],
   "source": [
    "print(\"Median precip on rainy days in 2014:     \", np.median(inches[rainy]))\n",
    "print(\"Median precip on summer days in 2014:    \", np.median(inches[summer]))"
   ]
  },
  {
   "cell_type": "code",
   "execution_count": 42,
   "metadata": {},
   "outputs": [
    {
     "output_type": "execute_result",
     "data": {
      "text/plain": "array([ True,  True,  True, False,  True,  True])"
     },
     "metadata": {},
     "execution_count": 42
    }
   ],
   "source": [
    "A = np.array([1, 0, 1, 0, 1, 0], dtype=bool)\n",
    "B = np.array([1, 1, 1, 0, 1, 1], dtype=bool)\n",
    "A | B"
   ]
  },
  {
   "cell_type": "code",
   "execution_count": 43,
   "metadata": {},
   "outputs": [
    {
     "output_type": "execute_result",
     "data": {
      "text/plain": "array([False, False, False, False, False, False, False, False, False,\n        True])"
     },
     "metadata": {},
     "execution_count": 43
    }
   ],
   "source": [
    "x = np.arange(10)\n",
    "\n",
    "(x > 4) & (x > 8)"
   ]
  },
  {
   "cell_type": "code",
   "execution_count": 44,
   "metadata": {},
   "outputs": [
    {
     "output_type": "execute_result",
     "data": {
      "text/plain": "array([51, 92, 14, 71, 60, 20, 82, 86, 74, 74])"
     },
     "metadata": {},
     "execution_count": 44
    }
   ],
   "source": [
    "rand = np.random.RandomState(42)\n",
    "\n",
    "x = rand.randint(100, size=10)\n",
    "x"
   ]
  },
  {
   "cell_type": "code",
   "execution_count": 45,
   "metadata": {},
   "outputs": [
    {
     "output_type": "execute_result",
     "data": {
      "text/plain": "[71, 86, 14]"
     },
     "metadata": {},
     "execution_count": 45
    }
   ],
   "source": [
    "[x[3], x[7], x[2]]"
   ]
  },
  {
   "cell_type": "code",
   "execution_count": 46,
   "metadata": {},
   "outputs": [
    {
     "output_type": "execute_result",
     "data": {
      "text/plain": "array([71, 86, 60])"
     },
     "metadata": {},
     "execution_count": 46
    }
   ],
   "source": [
    "ind = [3, 7, 4]\n",
    "x[ind]"
   ]
  },
  {
   "cell_type": "code",
   "execution_count": 49,
   "metadata": {},
   "outputs": [
    {
     "output_type": "execute_result",
     "data": {
      "text/plain": "array([[71, 86],\n       [60, 20]])"
     },
     "metadata": {},
     "execution_count": 49
    }
   ],
   "source": [
    "ind = np.array([[3, 7],\n",
    "                [4, 5]])\n",
    "x[ind]                "
   ]
  },
  {
   "cell_type": "code",
   "execution_count": 50,
   "metadata": {},
   "outputs": [
    {
     "output_type": "execute_result",
     "data": {
      "text/plain": "array([[ 0,  1,  2,  3],\n       [ 4,  5,  6,  7],\n       [ 8,  9, 10, 11]])"
     },
     "metadata": {},
     "execution_count": 50
    }
   ],
   "source": [
    "X = np.arange(12).reshape((3, 4))\n",
    "X        "
   ]
  },
  {
   "cell_type": "code",
   "execution_count": 51,
   "metadata": {},
   "outputs": [
    {
     "output_type": "execute_result",
     "data": {
      "text/plain": "array([ 2,  5, 11])"
     },
     "metadata": {},
     "execution_count": 51
    }
   ],
   "source": [
    "row = np.array([0, 1, 2])\n",
    "col = np.array([2, 1, 3])\n",
    "X[row, col]"
   ]
  },
  {
   "cell_type": "code",
   "execution_count": 54,
   "metadata": {
    "tags": []
   },
   "outputs": [
    {
     "output_type": "stream",
     "name": "stdout",
     "text": "[[0]\n [1]\n [2]]\n[2 1 3]\n[[ 0  1  2  3]\n [ 4  5  6  7]\n [ 8  9 10 11]]\n"
    },
    {
     "output_type": "execute_result",
     "data": {
      "text/plain": "array([[ 2,  1,  3],\n       [ 6,  5,  7],\n       [10,  9, 11]])"
     },
     "metadata": {},
     "execution_count": 54
    }
   ],
   "source": [
    "print(row[:, np.newaxis])\n",
    "print(col)\n",
    "print(X)\n",
    "X[row[:, np.newaxis], col] # It will first broadcast row and column then start indexing"
   ]
  },
  {
   "cell_type": "code",
   "execution_count": 55,
   "metadata": {},
   "outputs": [
    {
     "output_type": "execute_result",
     "data": {
      "text/plain": "array([10,  8,  9])"
     },
     "metadata": {},
     "execution_count": 55
    }
   ],
   "source": [
    "X[2, [2, 0, 1]]"
   ]
  },
  {
   "cell_type": "code",
   "execution_count": 56,
   "metadata": {
    "tags": []
   },
   "outputs": [
    {
     "output_type": "stream",
     "name": "stdout",
     "text": "[[ 0  1  2  3]\n [ 4  5  6  7]\n [ 8  9 10 11]]\n"
    },
    {
     "output_type": "execute_result",
     "data": {
      "text/plain": "array([[ 0,  2],\n       [ 4,  6],\n       [ 8, 10]])"
     },
     "metadata": {},
     "execution_count": 56
    }
   ],
   "source": [
    "print(X)\n",
    "mask = np.array([1, 0, 1, 0], dtype=bool)\n",
    "X[row[:, np.newaxis], mask]"
   ]
  },
  {
   "cell_type": "code",
   "execution_count": 57,
   "metadata": {},
   "outputs": [
    {
     "output_type": "execute_result",
     "data": {
      "text/plain": "(100, 2)"
     },
     "metadata": {},
     "execution_count": 57
    }
   ],
   "source": [
    "mean = [0, 0]\n",
    "cow = [[1, 2],\n",
    "        [2, 5]]\n",
    "X = rand.multivariate_normal(mean, cow, 100)\n",
    "X.shape    "
   ]
  },
  {
   "cell_type": "code",
   "execution_count": 58,
   "metadata": {},
   "outputs": [
    {
     "output_type": "execute_result",
     "data": {
      "text/plain": "<matplotlib.collections.PathCollection at 0x7f309a3aefd0>"
     },
     "metadata": {},
     "execution_count": 58
    },
    {
     "output_type": "display_data",
     "data": {
      "text/plain": "<Figure size 432x288 with 1 Axes>",
      "image/svg+xml": "<?xml version=\"1.0\" encoding=\"utf-8\" standalone=\"no\"?>\n<!DOCTYPE svg PUBLIC \"-//W3C//DTD SVG 1.1//EN\"\n  \"http://www.w3.org/Graphics/SVG/1.1/DTD/svg11.dtd\">\n<!-- Created with matplotlib (https://matplotlib.org/) -->\n<svg height=\"251.985937pt\" version=\"1.1\" viewBox=\"0 0 374.916406 251.985937\" width=\"374.916406pt\" xmlns=\"http://www.w3.org/2000/svg\" xmlns:xlink=\"http://www.w3.org/1999/xlink\">\n <defs>\n  <style type=\"text/css\">\n*{stroke-linecap:butt;stroke-linejoin:round;}\n  </style>\n </defs>\n <g id=\"figure_1\">\n  <g id=\"patch_1\">\n   <path d=\"M 0 251.985937 \nL 374.916406 251.985937 \nL 374.916406 0 \nL 0 0 \nz\n\" style=\"fill:#ffffff;\"/>\n  </g>\n  <g id=\"axes_1\">\n   <g id=\"patch_2\">\n    <path d=\"M 32.916406 224.64 \nL 367.716406 224.64 \nL 367.716406 7.2 \nL 32.916406 7.2 \nz\n\" style=\"fill:#eaeaf2;\"/>\n   </g>\n   <g id=\"matplotlib.axis_1\">\n    <g id=\"xtick_1\">\n     <g id=\"line2d_1\">\n      <path clip-path=\"url(#p27d321d609)\" d=\"M 49.479319 224.64 \nL 49.479319 7.2 \n\" style=\"fill:none;stroke:#ffffff;stroke-linecap:round;\"/>\n     </g>\n     <g id=\"text_1\">\n      <!-- −3 -->\n      <defs>\n       <path d=\"M 10.59375 35.5 \nL 73.1875 35.5 \nL 73.1875 27.203125 \nL 10.59375 27.203125 \nz\n\" id=\"DejaVuSans-8722\"/>\n       <path d=\"M 40.578125 39.3125 \nQ 47.65625 37.796875 51.625 33 \nQ 55.609375 28.21875 55.609375 21.1875 \nQ 55.609375 10.40625 48.1875 4.484375 \nQ 40.765625 -1.421875 27.09375 -1.421875 \nQ 22.515625 -1.421875 17.65625 -0.515625 \nQ 12.796875 0.390625 7.625 2.203125 \nL 7.625 11.71875 \nQ 11.71875 9.328125 16.59375 8.109375 \nQ 21.484375 6.890625 26.8125 6.890625 \nQ 36.078125 6.890625 40.9375 10.546875 \nQ 45.796875 14.203125 45.796875 21.1875 \nQ 45.796875 27.640625 41.28125 31.265625 \nQ 36.765625 34.90625 28.71875 34.90625 \nL 20.21875 34.90625 \nL 20.21875 43.015625 \nL 29.109375 43.015625 \nQ 36.375 43.015625 40.234375 45.921875 \nQ 44.09375 48.828125 44.09375 54.296875 \nQ 44.09375 59.90625 40.109375 62.90625 \nQ 36.140625 65.921875 28.71875 65.921875 \nQ 24.65625 65.921875 20.015625 65.03125 \nQ 15.375 64.15625 9.8125 62.3125 \nL 9.8125 71.09375 \nQ 15.4375 72.65625 20.34375 73.4375 \nQ 25.25 74.21875 29.59375 74.21875 \nQ 40.828125 74.21875 47.359375 69.109375 \nQ 53.90625 64.015625 53.90625 55.328125 \nQ 53.90625 49.265625 50.4375 45.09375 \nQ 46.96875 40.921875 40.578125 39.3125 \nz\n\" id=\"DejaVuSans-51\"/>\n      </defs>\n      <g style=\"fill:#262626;\" transform=\"translate(41.371116 242.498281)scale(0.11 -0.11)\">\n       <use xlink:href=\"#DejaVuSans-8722\"/>\n       <use x=\"83.789062\" xlink:href=\"#DejaVuSans-51\"/>\n      </g>\n     </g>\n    </g>\n    <g id=\"xtick_2\">\n     <g id=\"line2d_2\">\n      <path clip-path=\"url(#p27d321d609)\" d=\"M 106.42878 224.64 \nL 106.42878 7.2 \n\" style=\"fill:none;stroke:#ffffff;stroke-linecap:round;\"/>\n     </g>\n     <g id=\"text_2\">\n      <!-- −2 -->\n      <defs>\n       <path d=\"M 19.1875 8.296875 \nL 53.609375 8.296875 \nL 53.609375 0 \nL 7.328125 0 \nL 7.328125 8.296875 \nQ 12.9375 14.109375 22.625 23.890625 \nQ 32.328125 33.6875 34.8125 36.53125 \nQ 39.546875 41.84375 41.421875 45.53125 \nQ 43.3125 49.21875 43.3125 52.78125 \nQ 43.3125 58.59375 39.234375 62.25 \nQ 35.15625 65.921875 28.609375 65.921875 \nQ 23.96875 65.921875 18.8125 64.3125 \nQ 13.671875 62.703125 7.8125 59.421875 \nL 7.8125 69.390625 \nQ 13.765625 71.78125 18.9375 73 \nQ 24.125 74.21875 28.421875 74.21875 \nQ 39.75 74.21875 46.484375 68.546875 \nQ 53.21875 62.890625 53.21875 53.421875 \nQ 53.21875 48.921875 51.53125 44.890625 \nQ 49.859375 40.875 45.40625 35.40625 \nQ 44.1875 33.984375 37.640625 27.21875 \nQ 31.109375 20.453125 19.1875 8.296875 \nz\n\" id=\"DejaVuSans-50\"/>\n      </defs>\n      <g style=\"fill:#262626;\" transform=\"translate(98.320577 242.498281)scale(0.11 -0.11)\">\n       <use xlink:href=\"#DejaVuSans-8722\"/>\n       <use x=\"83.789062\" xlink:href=\"#DejaVuSans-50\"/>\n      </g>\n     </g>\n    </g>\n    <g id=\"xtick_3\">\n     <g id=\"line2d_3\">\n      <path clip-path=\"url(#p27d321d609)\" d=\"M 163.378242 224.64 \nL 163.378242 7.2 \n\" style=\"fill:none;stroke:#ffffff;stroke-linecap:round;\"/>\n     </g>\n     <g id=\"text_3\">\n      <!-- −1 -->\n      <defs>\n       <path d=\"M 12.40625 8.296875 \nL 28.515625 8.296875 \nL 28.515625 63.921875 \nL 10.984375 60.40625 \nL 10.984375 69.390625 \nL 28.421875 72.90625 \nL 38.28125 72.90625 \nL 38.28125 8.296875 \nL 54.390625 8.296875 \nL 54.390625 0 \nL 12.40625 0 \nz\n\" id=\"DejaVuSans-49\"/>\n      </defs>\n      <g style=\"fill:#262626;\" transform=\"translate(155.270039 242.498281)scale(0.11 -0.11)\">\n       <use xlink:href=\"#DejaVuSans-8722\"/>\n       <use x=\"83.789062\" xlink:href=\"#DejaVuSans-49\"/>\n      </g>\n     </g>\n    </g>\n    <g id=\"xtick_4\">\n     <g id=\"line2d_4\">\n      <path clip-path=\"url(#p27d321d609)\" d=\"M 220.327704 224.64 \nL 220.327704 7.2 \n\" style=\"fill:none;stroke:#ffffff;stroke-linecap:round;\"/>\n     </g>\n     <g id=\"text_4\">\n      <!-- 0 -->\n      <defs>\n       <path d=\"M 31.78125 66.40625 \nQ 24.171875 66.40625 20.328125 58.90625 \nQ 16.5 51.421875 16.5 36.375 \nQ 16.5 21.390625 20.328125 13.890625 \nQ 24.171875 6.390625 31.78125 6.390625 \nQ 39.453125 6.390625 43.28125 13.890625 \nQ 47.125 21.390625 47.125 36.375 \nQ 47.125 51.421875 43.28125 58.90625 \nQ 39.453125 66.40625 31.78125 66.40625 \nz\nM 31.78125 74.21875 \nQ 44.046875 74.21875 50.515625 64.515625 \nQ 56.984375 54.828125 56.984375 36.375 \nQ 56.984375 17.96875 50.515625 8.265625 \nQ 44.046875 -1.421875 31.78125 -1.421875 \nQ 19.53125 -1.421875 13.0625 8.265625 \nQ 6.59375 17.96875 6.59375 36.375 \nQ 6.59375 54.828125 13.0625 64.515625 \nQ 19.53125 74.21875 31.78125 74.21875 \nz\n\" id=\"DejaVuSans-48\"/>\n      </defs>\n      <g style=\"fill:#262626;\" transform=\"translate(216.828329 242.498281)scale(0.11 -0.11)\">\n       <use xlink:href=\"#DejaVuSans-48\"/>\n      </g>\n     </g>\n    </g>\n    <g id=\"xtick_5\">\n     <g id=\"line2d_5\">\n      <path clip-path=\"url(#p27d321d609)\" d=\"M 277.277165 224.64 \nL 277.277165 7.2 \n\" style=\"fill:none;stroke:#ffffff;stroke-linecap:round;\"/>\n     </g>\n     <g id=\"text_5\">\n      <!-- 1 -->\n      <g style=\"fill:#262626;\" transform=\"translate(273.77779 242.498281)scale(0.11 -0.11)\">\n       <use xlink:href=\"#DejaVuSans-49\"/>\n      </g>\n     </g>\n    </g>\n    <g id=\"xtick_6\">\n     <g id=\"line2d_6\">\n      <path clip-path=\"url(#p27d321d609)\" d=\"M 334.226627 224.64 \nL 334.226627 7.2 \n\" style=\"fill:none;stroke:#ffffff;stroke-linecap:round;\"/>\n     </g>\n     <g id=\"text_6\">\n      <!-- 2 -->\n      <g style=\"fill:#262626;\" transform=\"translate(330.727252 242.498281)scale(0.11 -0.11)\">\n       <use xlink:href=\"#DejaVuSans-50\"/>\n      </g>\n     </g>\n    </g>\n   </g>\n   <g id=\"matplotlib.axis_2\">\n    <g id=\"ytick_1\">\n     <g id=\"line2d_7\">\n      <path clip-path=\"url(#p27d321d609)\" d=\"M 32.916406 219.571552 \nL 367.716406 219.571552 \n\" style=\"fill:none;stroke:#ffffff;stroke-linecap:round;\"/>\n     </g>\n     <g id=\"text_7\">\n      <!-- −8 -->\n      <defs>\n       <path d=\"M 31.78125 34.625 \nQ 24.75 34.625 20.71875 30.859375 \nQ 16.703125 27.09375 16.703125 20.515625 \nQ 16.703125 13.921875 20.71875 10.15625 \nQ 24.75 6.390625 31.78125 6.390625 \nQ 38.8125 6.390625 42.859375 10.171875 \nQ 46.921875 13.96875 46.921875 20.515625 \nQ 46.921875 27.09375 42.890625 30.859375 \nQ 38.875 34.625 31.78125 34.625 \nz\nM 21.921875 38.8125 \nQ 15.578125 40.375 12.03125 44.71875 \nQ 8.5 49.078125 8.5 55.328125 \nQ 8.5 64.0625 14.71875 69.140625 \nQ 20.953125 74.21875 31.78125 74.21875 \nQ 42.671875 74.21875 48.875 69.140625 \nQ 55.078125 64.0625 55.078125 55.328125 \nQ 55.078125 49.078125 51.53125 44.71875 \nQ 48 40.375 41.703125 38.8125 \nQ 48.828125 37.15625 52.796875 32.3125 \nQ 56.78125 27.484375 56.78125 20.515625 \nQ 56.78125 9.90625 50.3125 4.234375 \nQ 43.84375 -1.421875 31.78125 -1.421875 \nQ 19.734375 -1.421875 13.25 4.234375 \nQ 6.78125 9.90625 6.78125 20.515625 \nQ 6.78125 27.484375 10.78125 32.3125 \nQ 14.796875 37.15625 21.921875 38.8125 \nz\nM 18.3125 54.390625 \nQ 18.3125 48.734375 21.84375 45.5625 \nQ 25.390625 42.390625 31.78125 42.390625 \nQ 38.140625 42.390625 41.71875 45.5625 \nQ 45.3125 48.734375 45.3125 54.390625 \nQ 45.3125 60.0625 41.71875 63.234375 \nQ 38.140625 66.40625 31.78125 66.40625 \nQ 25.390625 66.40625 21.84375 63.234375 \nQ 18.3125 60.0625 18.3125 54.390625 \nz\n\" id=\"DejaVuSans-56\"/>\n      </defs>\n      <g style=\"fill:#262626;\" transform=\"translate(7.2 223.750693)scale(0.11 -0.11)\">\n       <use xlink:href=\"#DejaVuSans-8722\"/>\n       <use x=\"83.789062\" xlink:href=\"#DejaVuSans-56\"/>\n      </g>\n     </g>\n    </g>\n    <g id=\"ytick_2\">\n     <g id=\"line2d_8\">\n      <path clip-path=\"url(#p27d321d609)\" d=\"M 32.916406 190.598735 \nL 367.716406 190.598735 \n\" style=\"fill:none;stroke:#ffffff;stroke-linecap:round;\"/>\n     </g>\n     <g id=\"text_8\">\n      <!-- −6 -->\n      <defs>\n       <path d=\"M 33.015625 40.375 \nQ 26.375 40.375 22.484375 35.828125 \nQ 18.609375 31.296875 18.609375 23.390625 \nQ 18.609375 15.53125 22.484375 10.953125 \nQ 26.375 6.390625 33.015625 6.390625 \nQ 39.65625 6.390625 43.53125 10.953125 \nQ 47.40625 15.53125 47.40625 23.390625 \nQ 47.40625 31.296875 43.53125 35.828125 \nQ 39.65625 40.375 33.015625 40.375 \nz\nM 52.59375 71.296875 \nL 52.59375 62.3125 \nQ 48.875 64.0625 45.09375 64.984375 \nQ 41.3125 65.921875 37.59375 65.921875 \nQ 27.828125 65.921875 22.671875 59.328125 \nQ 17.53125 52.734375 16.796875 39.40625 \nQ 19.671875 43.65625 24.015625 45.921875 \nQ 28.375 48.1875 33.59375 48.1875 \nQ 44.578125 48.1875 50.953125 41.515625 \nQ 57.328125 34.859375 57.328125 23.390625 \nQ 57.328125 12.15625 50.6875 5.359375 \nQ 44.046875 -1.421875 33.015625 -1.421875 \nQ 20.359375 -1.421875 13.671875 8.265625 \nQ 6.984375 17.96875 6.984375 36.375 \nQ 6.984375 53.65625 15.1875 63.9375 \nQ 23.390625 74.21875 37.203125 74.21875 \nQ 40.921875 74.21875 44.703125 73.484375 \nQ 48.484375 72.75 52.59375 71.296875 \nz\n\" id=\"DejaVuSans-54\"/>\n      </defs>\n      <g style=\"fill:#262626;\" transform=\"translate(7.2 194.777876)scale(0.11 -0.11)\">\n       <use xlink:href=\"#DejaVuSans-8722\"/>\n       <use x=\"83.789062\" xlink:href=\"#DejaVuSans-54\"/>\n      </g>\n     </g>\n    </g>\n    <g id=\"ytick_3\">\n     <g id=\"line2d_9\">\n      <path clip-path=\"url(#p27d321d609)\" d=\"M 32.916406 161.625918 \nL 367.716406 161.625918 \n\" style=\"fill:none;stroke:#ffffff;stroke-linecap:round;\"/>\n     </g>\n     <g id=\"text_9\">\n      <!-- −4 -->\n      <defs>\n       <path d=\"M 37.796875 64.3125 \nL 12.890625 25.390625 \nL 37.796875 25.390625 \nz\nM 35.203125 72.90625 \nL 47.609375 72.90625 \nL 47.609375 25.390625 \nL 58.015625 25.390625 \nL 58.015625 17.1875 \nL 47.609375 17.1875 \nL 47.609375 0 \nL 37.796875 0 \nL 37.796875 17.1875 \nL 4.890625 17.1875 \nL 4.890625 26.703125 \nz\n\" id=\"DejaVuSans-52\"/>\n      </defs>\n      <g style=\"fill:#262626;\" transform=\"translate(7.2 165.805059)scale(0.11 -0.11)\">\n       <use xlink:href=\"#DejaVuSans-8722\"/>\n       <use x=\"83.789062\" xlink:href=\"#DejaVuSans-52\"/>\n      </g>\n     </g>\n    </g>\n    <g id=\"ytick_4\">\n     <g id=\"line2d_10\">\n      <path clip-path=\"url(#p27d321d609)\" d=\"M 32.916406 132.653102 \nL 367.716406 132.653102 \n\" style=\"fill:none;stroke:#ffffff;stroke-linecap:round;\"/>\n     </g>\n     <g id=\"text_10\">\n      <!-- −2 -->\n      <g style=\"fill:#262626;\" transform=\"translate(7.2 136.832242)scale(0.11 -0.11)\">\n       <use xlink:href=\"#DejaVuSans-8722\"/>\n       <use x=\"83.789062\" xlink:href=\"#DejaVuSans-50\"/>\n      </g>\n     </g>\n    </g>\n    <g id=\"ytick_5\">\n     <g id=\"line2d_11\">\n      <path clip-path=\"url(#p27d321d609)\" d=\"M 32.916406 103.680285 \nL 367.716406 103.680285 \n\" style=\"fill:none;stroke:#ffffff;stroke-linecap:round;\"/>\n     </g>\n     <g id=\"text_11\">\n      <!-- 0 -->\n      <g style=\"fill:#262626;\" transform=\"translate(16.417656 107.859426)scale(0.11 -0.11)\">\n       <use xlink:href=\"#DejaVuSans-48\"/>\n      </g>\n     </g>\n    </g>\n    <g id=\"ytick_6\">\n     <g id=\"line2d_12\">\n      <path clip-path=\"url(#p27d321d609)\" d=\"M 32.916406 74.707468 \nL 367.716406 74.707468 \n\" style=\"fill:none;stroke:#ffffff;stroke-linecap:round;\"/>\n     </g>\n     <g id=\"text_12\">\n      <!-- 2 -->\n      <g style=\"fill:#262626;\" transform=\"translate(16.417656 78.886609)scale(0.11 -0.11)\">\n       <use xlink:href=\"#DejaVuSans-50\"/>\n      </g>\n     </g>\n    </g>\n    <g id=\"ytick_7\">\n     <g id=\"line2d_13\">\n      <path clip-path=\"url(#p27d321d609)\" d=\"M 32.916406 45.734652 \nL 367.716406 45.734652 \n\" style=\"fill:none;stroke:#ffffff;stroke-linecap:round;\"/>\n     </g>\n     <g id=\"text_13\">\n      <!-- 4 -->\n      <g style=\"fill:#262626;\" transform=\"translate(16.417656 49.913792)scale(0.11 -0.11)\">\n       <use xlink:href=\"#DejaVuSans-52\"/>\n      </g>\n     </g>\n    </g>\n    <g id=\"ytick_8\">\n     <g id=\"line2d_14\">\n      <path clip-path=\"url(#p27d321d609)\" d=\"M 32.916406 16.761835 \nL 367.716406 16.761835 \n\" style=\"fill:none;stroke:#ffffff;stroke-linecap:round;\"/>\n     </g>\n     <g id=\"text_14\">\n      <!-- 6 -->\n      <g style=\"fill:#262626;\" transform=\"translate(16.417656 20.940976)scale(0.11 -0.11)\">\n       <use xlink:href=\"#DejaVuSans-54\"/>\n      </g>\n     </g>\n    </g>\n   </g>\n   <g id=\"PathCollection_1\">\n    <defs>\n     <path d=\"M 0 3 \nC 0.795609 3 1.55874 2.683901 2.12132 2.12132 \nC 2.683901 1.55874 3 0.795609 3 0 \nC 3 -0.795609 2.683901 -1.55874 2.12132 -2.12132 \nC 1.55874 -2.683901 0.795609 -3 0 -3 \nC -0.795609 -3 -1.55874 -2.683901 -2.12132 -2.12132 \nC -2.683901 -1.55874 -3 -0.795609 -3 0 \nC -3 0.795609 -2.683901 1.55874 -2.12132 2.12132 \nC -1.55874 2.683901 -0.795609 3 0 3 \nz\n\" id=\"mf9a9aadc19\" style=\"stroke:#4c72b0;\"/>\n    </defs>\n    <g clip-path=\"url(#p27d321d609)\">\n     <use style=\"fill:#4c72b0;stroke:#4c72b0;\" x=\"183.62332\" xlink:href=\"#mf9a9aadc19\" y=\"110.375991\"/>\n     <use style=\"fill:#4c72b0;stroke:#4c72b0;\" x=\"262.335631\" xlink:href=\"#mf9a9aadc19\" y=\"86.11741\"/>\n     <use style=\"fill:#4c72b0;stroke:#4c72b0;\" x=\"270.529658\" xlink:href=\"#mf9a9aadc19\" y=\"87.340315\"/>\n     <use style=\"fill:#4c72b0;stroke:#4c72b0;\" x=\"337.073521\" xlink:href=\"#mf9a9aadc19\" y=\"17.083636\"/>\n     <use style=\"fill:#4c72b0;stroke:#4c72b0;\" x=\"210.581669\" xlink:href=\"#mf9a9aadc19\" y=\"133.559769\"/>\n     <use style=\"fill:#4c72b0;stroke:#4c72b0;\" x=\"259.028837\" xlink:href=\"#mf9a9aadc19\" y=\"91.554419\"/>\n     <use style=\"fill:#4c72b0;stroke:#4c72b0;\" x=\"303.963815\" xlink:href=\"#mf9a9aadc19\" y=\"85.867639\"/>\n     <use style=\"fill:#4c72b0;stroke:#4c72b0;\" x=\"240.420687\" xlink:href=\"#mf9a9aadc19\" y=\"81.968723\"/>\n     <use style=\"fill:#4c72b0;stroke:#4c72b0;\" x=\"77.069906\" xlink:href=\"#mf9a9aadc19\" y=\"185.474892\"/>\n     <use style=\"fill:#4c72b0;stroke:#4c72b0;\" x=\"225.130417\" xlink:href=\"#mf9a9aadc19\" y=\"108.812905\"/>\n     <use style=\"fill:#4c72b0;stroke:#4c72b0;\" x=\"231.261586\" xlink:href=\"#mf9a9aadc19\" y=\"82.109836\"/>\n     <use style=\"fill:#4c72b0;stroke:#4c72b0;\" x=\"218.866257\" xlink:href=\"#mf9a9aadc19\" y=\"114.543337\"/>\n     <use style=\"fill:#4c72b0;stroke:#4c72b0;\" x=\"277.601337\" xlink:href=\"#mf9a9aadc19\" y=\"71.044245\"/>\n     <use style=\"fill:#4c72b0;stroke:#4c72b0;\" x=\"248.52581\" xlink:href=\"#mf9a9aadc19\" y=\"86.450198\"/>\n     <use style=\"fill:#4c72b0;stroke:#4c72b0;\" x=\"223.914791\" xlink:href=\"#mf9a9aadc19\" y=\"95.372435\"/>\n     <use style=\"fill:#4c72b0;stroke:#4c72b0;\" x=\"263.09278\" xlink:href=\"#mf9a9aadc19\" y=\"60.295375\"/>\n     <use style=\"fill:#4c72b0;stroke:#4c72b0;\" x=\"48.134588\" xlink:href=\"#mf9a9aadc19\" y=\"190.709708\"/>\n     <use style=\"fill:#4c72b0;stroke:#4c72b0;\" x=\"189.60741\" xlink:href=\"#mf9a9aadc19\" y=\"108.71996\"/>\n     <use style=\"fill:#4c72b0;stroke:#4c72b0;\" x=\"307.925871\" xlink:href=\"#mf9a9aadc19\" y=\"74.711312\"/>\n     <use style=\"fill:#4c72b0;stroke:#4c72b0;\" x=\"191.34794\" xlink:href=\"#mf9a9aadc19\" y=\"129.915121\"/>\n     <use style=\"fill:#4c72b0;stroke:#4c72b0;\" x=\"310.373688\" xlink:href=\"#mf9a9aadc19\" y=\"62.189717\"/>\n     <use style=\"fill:#4c72b0;stroke:#4c72b0;\" x=\"276.881391\" xlink:href=\"#mf9a9aadc19\" y=\"66.842209\"/>\n     <use style=\"fill:#4c72b0;stroke:#4c72b0;\" x=\"170.352389\" xlink:href=\"#mf9a9aadc19\" y=\"120.450795\"/>\n     <use style=\"fill:#4c72b0;stroke:#4c72b0;\" x=\"156.818775\" xlink:href=\"#mf9a9aadc19\" y=\"130.843461\"/>\n     <use style=\"fill:#4c72b0;stroke:#4c72b0;\" x=\"244.815448\" xlink:href=\"#mf9a9aadc19\" y=\"98.418205\"/>\n     <use style=\"fill:#4c72b0;stroke:#4c72b0;\" x=\"275.713064\" xlink:href=\"#mf9a9aadc19\" y=\"52.425096\"/>\n     <use style=\"fill:#4c72b0;stroke:#4c72b0;\" x=\"238.622716\" xlink:href=\"#mf9a9aadc19\" y=\"98.879919\"/>\n     <use style=\"fill:#4c72b0;stroke:#4c72b0;\" x=\"177.832785\" xlink:href=\"#mf9a9aadc19\" y=\"143.860755\"/>\n     <use style=\"fill:#4c72b0;stroke:#4c72b0;\" x=\"169.942264\" xlink:href=\"#mf9a9aadc19\" y=\"129.972456\"/>\n     <use style=\"fill:#4c72b0;stroke:#4c72b0;\" x=\"276.584581\" xlink:href=\"#mf9a9aadc19\" y=\"70.320926\"/>\n     <use style=\"fill:#4c72b0;stroke:#4c72b0;\" x=\"151.796869\" xlink:href=\"#mf9a9aadc19\" y=\"133.290899\"/>\n     <use style=\"fill:#4c72b0;stroke:#4c72b0;\" x=\"134.276073\" xlink:href=\"#mf9a9aadc19\" y=\"151.222853\"/>\n     <use style=\"fill:#4c72b0;stroke:#4c72b0;\" x=\"62.954861\" xlink:href=\"#mf9a9aadc19\" y=\"214.756364\"/>\n     <use style=\"fill:#4c72b0;stroke:#4c72b0;\" x=\"242.628288\" xlink:href=\"#mf9a9aadc19\" y=\"90.939601\"/>\n     <use style=\"fill:#4c72b0;stroke:#4c72b0;\" x=\"272.254806\" xlink:href=\"#mf9a9aadc19\" y=\"55.445044\"/>\n     <use style=\"fill:#4c72b0;stroke:#4c72b0;\" x=\"172.37476\" xlink:href=\"#mf9a9aadc19\" y=\"132.830784\"/>\n     <use style=\"fill:#4c72b0;stroke:#4c72b0;\" x=\"281.028356\" xlink:href=\"#mf9a9aadc19\" y=\"89.845762\"/>\n     <use style=\"fill:#4c72b0;stroke:#4c72b0;\" x=\"245.645932\" xlink:href=\"#mf9a9aadc19\" y=\"76.470711\"/>\n     <use style=\"fill:#4c72b0;stroke:#4c72b0;\" x=\"240.793473\" xlink:href=\"#mf9a9aadc19\" y=\"97.805326\"/>\n     <use style=\"fill:#4c72b0;stroke:#4c72b0;\" x=\"168.703205\" xlink:href=\"#mf9a9aadc19\" y=\"117.223113\"/>\n     <use style=\"fill:#4c72b0;stroke:#4c72b0;\" x=\"199.94527\" xlink:href=\"#mf9a9aadc19\" y=\"111.265805\"/>\n     <use style=\"fill:#4c72b0;stroke:#4c72b0;\" x=\"144.322002\" xlink:href=\"#mf9a9aadc19\" y=\"147.603541\"/>\n     <use style=\"fill:#4c72b0;stroke:#4c72b0;\" x=\"221.930909\" xlink:href=\"#mf9a9aadc19\" y=\"92.141148\"/>\n     <use style=\"fill:#4c72b0;stroke:#4c72b0;\" x=\"241.84641\" xlink:href=\"#mf9a9aadc19\" y=\"96.232912\"/>\n     <use style=\"fill:#4c72b0;stroke:#4c72b0;\" x=\"159.673624\" xlink:href=\"#mf9a9aadc19\" y=\"145.506425\"/>\n     <use style=\"fill:#4c72b0;stroke:#4c72b0;\" x=\"352.498224\" xlink:href=\"#mf9a9aadc19\" y=\"17.095218\"/>\n     <use style=\"fill:#4c72b0;stroke:#4c72b0;\" x=\"247.438918\" xlink:href=\"#mf9a9aadc19\" y=\"91.564652\"/>\n     <use style=\"fill:#4c72b0;stroke:#4c72b0;\" x=\"200.115779\" xlink:href=\"#mf9a9aadc19\" y=\"118.696479\"/>\n     <use style=\"fill:#4c72b0;stroke:#4c72b0;\" x=\"253.092371\" xlink:href=\"#mf9a9aadc19\" y=\"115.268995\"/>\n     <use style=\"fill:#4c72b0;stroke:#4c72b0;\" x=\"239.348774\" xlink:href=\"#mf9a9aadc19\" y=\"69.9852\"/>\n     <use style=\"fill:#4c72b0;stroke:#4c72b0;\" x=\"257.77546\" xlink:href=\"#mf9a9aadc19\" y=\"106.923722\"/>\n     <use style=\"fill:#4c72b0;stroke:#4c72b0;\" x=\"298.390409\" xlink:href=\"#mf9a9aadc19\" y=\"71.304856\"/>\n     <use style=\"fill:#4c72b0;stroke:#4c72b0;\" x=\"224.370858\" xlink:href=\"#mf9a9aadc19\" y=\"107.980643\"/>\n     <use style=\"fill:#4c72b0;stroke:#4c72b0;\" x=\"254.924404\" xlink:href=\"#mf9a9aadc19\" y=\"82.372338\"/>\n     <use style=\"fill:#4c72b0;stroke:#4c72b0;\" x=\"200.836109\" xlink:href=\"#mf9a9aadc19\" y=\"119.711848\"/>\n     <use style=\"fill:#4c72b0;stroke:#4c72b0;\" x=\"259.751678\" xlink:href=\"#mf9a9aadc19\" y=\"86.078676\"/>\n     <use style=\"fill:#4c72b0;stroke:#4c72b0;\" x=\"202.609053\" xlink:href=\"#mf9a9aadc19\" y=\"114.677221\"/>\n     <use style=\"fill:#4c72b0;stroke:#4c72b0;\" x=\"205.014946\" xlink:href=\"#mf9a9aadc19\" y=\"131.112735\"/>\n     <use style=\"fill:#4c72b0;stroke:#4c72b0;\" x=\"244.272046\" xlink:href=\"#mf9a9aadc19\" y=\"76.852975\"/>\n     <use style=\"fill:#4c72b0;stroke:#4c72b0;\" x=\"232.352722\" xlink:href=\"#mf9a9aadc19\" y=\"74.594258\"/>\n     <use style=\"fill:#4c72b0;stroke:#4c72b0;\" x=\"116.049798\" xlink:href=\"#mf9a9aadc19\" y=\"145.886847\"/>\n     <use style=\"fill:#4c72b0;stroke:#4c72b0;\" x=\"264.98631\" xlink:href=\"#mf9a9aadc19\" y=\"75.049239\"/>\n     <use style=\"fill:#4c72b0;stroke:#4c72b0;\" x=\"226.170327\" xlink:href=\"#mf9a9aadc19\" y=\"85.617099\"/>\n     <use style=\"fill:#4c72b0;stroke:#4c72b0;\" x=\"111.496964\" xlink:href=\"#mf9a9aadc19\" y=\"156.816565\"/>\n     <use style=\"fill:#4c72b0;stroke:#4c72b0;\" x=\"227.813002\" xlink:href=\"#mf9a9aadc19\" y=\"104.815129\"/>\n     <use style=\"fill:#4c72b0;stroke:#4c72b0;\" x=\"212.827203\" xlink:href=\"#mf9a9aadc19\" y=\"127.461051\"/>\n     <use style=\"fill:#4c72b0;stroke:#4c72b0;\" x=\"212.043105\" xlink:href=\"#mf9a9aadc19\" y=\"123.110278\"/>\n     <use style=\"fill:#4c72b0;stroke:#4c72b0;\" x=\"191.185313\" xlink:href=\"#mf9a9aadc19\" y=\"124.100438\"/>\n     <use style=\"fill:#4c72b0;stroke:#4c72b0;\" x=\"260.054534\" xlink:href=\"#mf9a9aadc19\" y=\"93.168419\"/>\n     <use style=\"fill:#4c72b0;stroke:#4c72b0;\" x=\"226.977739\" xlink:href=\"#mf9a9aadc19\" y=\"90.87645\"/>\n     <use style=\"fill:#4c72b0;stroke:#4c72b0;\" x=\"153.932351\" xlink:href=\"#mf9a9aadc19\" y=\"136.199699\"/>\n     <use style=\"fill:#4c72b0;stroke:#4c72b0;\" x=\"93.230039\" xlink:href=\"#mf9a9aadc19\" y=\"141.918333\"/>\n     <use style=\"fill:#4c72b0;stroke:#4c72b0;\" x=\"241.887194\" xlink:href=\"#mf9a9aadc19\" y=\"93.668352\"/>\n     <use style=\"fill:#4c72b0;stroke:#4c72b0;\" x=\"270.144429\" xlink:href=\"#mf9a9aadc19\" y=\"54.416718\"/>\n     <use style=\"fill:#4c72b0;stroke:#4c72b0;\" x=\"170.858915\" xlink:href=\"#mf9a9aadc19\" y=\"147.656436\"/>\n     <use style=\"fill:#4c72b0;stroke:#4c72b0;\" x=\"161.306502\" xlink:href=\"#mf9a9aadc19\" y=\"120.842206\"/>\n     <use style=\"fill:#4c72b0;stroke:#4c72b0;\" x=\"189.953732\" xlink:href=\"#mf9a9aadc19\" y=\"109.046038\"/>\n     <use style=\"fill:#4c72b0;stroke:#4c72b0;\" x=\"237.64863\" xlink:href=\"#mf9a9aadc19\" y=\"112.123571\"/>\n     <use style=\"fill:#4c72b0;stroke:#4c72b0;\" x=\"136.238033\" xlink:href=\"#mf9a9aadc19\" y=\"134.543042\"/>\n     <use style=\"fill:#4c72b0;stroke:#4c72b0;\" x=\"202.484286\" xlink:href=\"#mf9a9aadc19\" y=\"129.604615\"/>\n     <use style=\"fill:#4c72b0;stroke:#4c72b0;\" x=\"284.486704\" xlink:href=\"#mf9a9aadc19\" y=\"82.004629\"/>\n     <use style=\"fill:#4c72b0;stroke:#4c72b0;\" x=\"152.172981\" xlink:href=\"#mf9a9aadc19\" y=\"125.646525\"/>\n     <use style=\"fill:#4c72b0;stroke:#4c72b0;\" x=\"177.495926\" xlink:href=\"#mf9a9aadc19\" y=\"115.236171\"/>\n     <use style=\"fill:#4c72b0;stroke:#4c72b0;\" x=\"262.799298\" xlink:href=\"#mf9a9aadc19\" y=\"75.310907\"/>\n     <use style=\"fill:#4c72b0;stroke:#4c72b0;\" x=\"309.222598\" xlink:href=\"#mf9a9aadc19\" y=\"61.190467\"/>\n     <use style=\"fill:#4c72b0;stroke:#4c72b0;\" x=\"179.318416\" xlink:href=\"#mf9a9aadc19\" y=\"132.621371\"/>\n     <use style=\"fill:#4c72b0;stroke:#4c72b0;\" x=\"144.972653\" xlink:href=\"#mf9a9aadc19\" y=\"141.521441\"/>\n     <use style=\"fill:#4c72b0;stroke:#4c72b0;\" x=\"74.41412\" xlink:href=\"#mf9a9aadc19\" y=\"191.817164\"/>\n     <use style=\"fill:#4c72b0;stroke:#4c72b0;\" x=\"295.077458\" xlink:href=\"#mf9a9aadc19\" y=\"58.317072\"/>\n     <use style=\"fill:#4c72b0;stroke:#4c72b0;\" x=\"249.699948\" xlink:href=\"#mf9a9aadc19\" y=\"70.320312\"/>\n     <use style=\"fill:#4c72b0;stroke:#4c72b0;\" x=\"221.110595\" xlink:href=\"#mf9a9aadc19\" y=\"105.351922\"/>\n     <use style=\"fill:#4c72b0;stroke:#4c72b0;\" x=\"210.724157\" xlink:href=\"#mf9a9aadc19\" y=\"97.969402\"/>\n     <use style=\"fill:#4c72b0;stroke:#4c72b0;\" x=\"227.199027\" xlink:href=\"#mf9a9aadc19\" y=\"87.276409\"/>\n     <use style=\"fill:#4c72b0;stroke:#4c72b0;\" x=\"172.772065\" xlink:href=\"#mf9a9aadc19\" y=\"138.249493\"/>\n     <use style=\"fill:#4c72b0;stroke:#4c72b0;\" x=\"280.230499\" xlink:href=\"#mf9a9aadc19\" y=\"74.936611\"/>\n     <use style=\"fill:#4c72b0;stroke:#4c72b0;\" x=\"180.950253\" xlink:href=\"#mf9a9aadc19\" y=\"126.412339\"/>\n     <use style=\"fill:#4c72b0;stroke:#4c72b0;\" x=\"148.755881\" xlink:href=\"#mf9a9aadc19\" y=\"119.990503\"/>\n     <use style=\"fill:#4c72b0;stroke:#4c72b0;\" x=\"225.805862\" xlink:href=\"#mf9a9aadc19\" y=\"113.000199\"/>\n     <use style=\"fill:#4c72b0;stroke:#4c72b0;\" x=\"163.572617\" xlink:href=\"#mf9a9aadc19\" y=\"137.728864\"/>\n     <use style=\"fill:#4c72b0;stroke:#4c72b0;\" x=\"151.188062\" xlink:href=\"#mf9a9aadc19\" y=\"129.421724\"/>\n    </g>\n   </g>\n   <g id=\"patch_3\">\n    <path d=\"M 32.916406 224.64 \nL 32.916406 7.2 \n\" style=\"fill:none;stroke:#ffffff;stroke-linecap:square;stroke-linejoin:miter;stroke-width:1.25;\"/>\n   </g>\n   <g id=\"patch_4\">\n    <path d=\"M 367.716406 224.64 \nL 367.716406 7.2 \n\" style=\"fill:none;stroke:#ffffff;stroke-linecap:square;stroke-linejoin:miter;stroke-width:1.25;\"/>\n   </g>\n   <g id=\"patch_5\">\n    <path d=\"M 32.916406 224.64 \nL 367.716406 224.64 \n\" style=\"fill:none;stroke:#ffffff;stroke-linecap:square;stroke-linejoin:miter;stroke-width:1.25;\"/>\n   </g>\n   <g id=\"patch_6\">\n    <path d=\"M 32.916406 7.2 \nL 367.716406 7.2 \n\" style=\"fill:none;stroke:#ffffff;stroke-linecap:square;stroke-linejoin:miter;stroke-width:1.25;\"/>\n   </g>\n  </g>\n </g>\n <defs>\n  <clipPath id=\"p27d321d609\">\n   <rect height=\"217.44\" width=\"334.8\" x=\"32.916406\" y=\"7.2\"/>\n  </clipPath>\n </defs>\n</svg>\n",
      "image/png": "[encoded data removed]"
     },
     "metadata": {}
    }
   ],
   "source": [
    "plt.scatter(X[:, 0], X[:, 1])"
   ]
  },
  {
   "cell_type": "code",
   "execution_count": 59,
   "metadata": {},
   "outputs": [
    {
     "output_type": "execute_result",
     "data": {
      "text/plain": "array([23, 57, 80, 10, 48, 71, 89, 51, 47, 22, 25, 69, 65, 32, 77, 84, 16,\n       12,  2,  1])"
     },
     "metadata": {},
     "execution_count": 59
    }
   ],
   "source": [
    "indices = np.random.choice(X.shape[0], 20, replace=False)\n",
    "indices"
   ]
  },
  {
   "cell_type": "code",
   "execution_count": 60,
   "metadata": {},
   "outputs": [
    {
     "output_type": "execute_result",
     "data": {
      "text/plain": "(20, 2)"
     },
     "metadata": {},
     "execution_count": 60
    }
   ],
   "source": [
    "selection = X[indices]\n",
    "selection.shape"
   ]
  },
  {
   "cell_type": "code",
   "execution_count": 63,
   "metadata": {},
   "outputs": [
    {
     "output_type": "execute_result",
     "data": {
      "text/plain": "<matplotlib.collections.PathCollection at 0x7f3099476940>"
     },
     "metadata": {},
     "execution_count": 63
    },
    {
     "output_type": "display_data",
     "data": {
      "text/plain": "<Figure size 432x288 with 1 Axes>",
      "image/svg+xml": "<?xml version=\"1.0\" encoding=\"utf-8\" standalone=\"no\"?>\n<!DOCTYPE svg PUBLIC \"-//W3C//DTD SVG 1.1//EN\"\n  \"http://www.w3.org/Graphics/SVG/1.1/DTD/svg11.dtd\">\n<!-- Created with matplotlib (https://matplotlib.org/) -->\n<svg height=\"251.985937pt\" version=\"1.1\" viewBox=\"0 0 374.916406 251.985937\" width=\"374.916406pt\" xmlns=\"http://www.w3.org/2000/svg\" xmlns:xlink=\"http://www.w3.org/1999/xlink\">\n <defs>\n  <style type=\"text/css\">\n*{stroke-linecap:butt;stroke-linejoin:round;}\n  </style>\n </defs>\n <g id=\"figure_1\">\n  <g id=\"patch_1\">\n   <path d=\"M 0 251.985937 \nL 374.916406 251.985937 \nL 374.916406 0 \nL 0 0 \nz\n\" style=\"fill:#ffffff;\"/>\n  </g>\n  <g id=\"axes_1\">\n   <g id=\"patch_2\">\n    <path d=\"M 32.916406 224.64 \nL 367.716406 224.64 \nL 367.716406 7.2 \nL 32.916406 7.2 \nz\n\" style=\"fill:#eaeaf2;\"/>\n   </g>\n   <g id=\"matplotlib.axis_1\">\n    <g id=\"xtick_1\">\n     <g id=\"line2d_1\">\n      <path clip-path=\"url(#pb2649351f5)\" d=\"M 49.479319 224.64 \nL 49.479319 7.2 \n\" style=\"fill:none;stroke:#ffffff;stroke-linecap:round;\"/>\n     </g>\n     <g id=\"text_1\">\n      <!-- −3 -->\n      <defs>\n       <path d=\"M 10.59375 35.5 \nL 73.1875 35.5 \nL 73.1875 27.203125 \nL 10.59375 27.203125 \nz\n\" id=\"DejaVuSans-8722\"/>\n       <path d=\"M 40.578125 39.3125 \nQ 47.65625 37.796875 51.625 33 \nQ 55.609375 28.21875 55.609375 21.1875 \nQ 55.609375 10.40625 48.1875 4.484375 \nQ 40.765625 -1.421875 27.09375 -1.421875 \nQ 22.515625 -1.421875 17.65625 -0.515625 \nQ 12.796875 0.390625 7.625 2.203125 \nL 7.625 11.71875 \nQ 11.71875 9.328125 16.59375 8.109375 \nQ 21.484375 6.890625 26.8125 6.890625 \nQ 36.078125 6.890625 40.9375 10.546875 \nQ 45.796875 14.203125 45.796875 21.1875 \nQ 45.796875 27.640625 41.28125 31.265625 \nQ 36.765625 34.90625 28.71875 34.90625 \nL 20.21875 34.90625 \nL 20.21875 43.015625 \nL 29.109375 43.015625 \nQ 36.375 43.015625 40.234375 45.921875 \nQ 44.09375 48.828125 44.09375 54.296875 \nQ 44.09375 59.90625 40.109375 62.90625 \nQ 36.140625 65.921875 28.71875 65.921875 \nQ 24.65625 65.921875 20.015625 65.03125 \nQ 15.375 64.15625 9.8125 62.3125 \nL 9.8125 71.09375 \nQ 15.4375 72.65625 20.34375 73.4375 \nQ 25.25 74.21875 29.59375 74.21875 \nQ 40.828125 74.21875 47.359375 69.109375 \nQ 53.90625 64.015625 53.90625 55.328125 \nQ 53.90625 49.265625 50.4375 45.09375 \nQ 46.96875 40.921875 40.578125 39.3125 \nz\n\" id=\"DejaVuSans-51\"/>\n      </defs>\n      <g style=\"fill:#262626;\" transform=\"translate(41.371116 242.498281)scale(0.11 -0.11)\">\n       <use xlink:href=\"#DejaVuSans-8722\"/>\n       <use x=\"83.789062\" xlink:href=\"#DejaVuSans-51\"/>\n      </g>\n     </g>\n    </g>\n    <g id=\"xtick_2\">\n     <g id=\"line2d_2\">\n      <path clip-path=\"url(#pb2649351f5)\" d=\"M 106.42878 224.64 \nL 106.42878 7.2 \n\" style=\"fill:none;stroke:#ffffff;stroke-linecap:round;\"/>\n     </g>\n     <g id=\"text_2\">\n      <!-- −2 -->\n      <defs>\n       <path d=\"M 19.1875 8.296875 \nL 53.609375 8.296875 \nL 53.609375 0 \nL 7.328125 0 \nL 7.328125 8.296875 \nQ 12.9375 14.109375 22.625 23.890625 \nQ 32.328125 33.6875 34.8125 36.53125 \nQ 39.546875 41.84375 41.421875 45.53125 \nQ 43.3125 49.21875 43.3125 52.78125 \nQ 43.3125 58.59375 39.234375 62.25 \nQ 35.15625 65.921875 28.609375 65.921875 \nQ 23.96875 65.921875 18.8125 64.3125 \nQ 13.671875 62.703125 7.8125 59.421875 \nL 7.8125 69.390625 \nQ 13.765625 71.78125 18.9375 73 \nQ 24.125 74.21875 28.421875 74.21875 \nQ 39.75 74.21875 46.484375 68.546875 \nQ 53.21875 62.890625 53.21875 53.421875 \nQ 53.21875 48.921875 51.53125 44.890625 \nQ 49.859375 40.875 45.40625 35.40625 \nQ 44.1875 33.984375 37.640625 27.21875 \nQ 31.109375 20.453125 19.1875 8.296875 \nz\n\" id=\"DejaVuSans-50\"/>\n      </defs>\n      <g style=\"fill:#262626;\" transform=\"translate(98.320577 242.498281)scale(0.11 -0.11)\">\n       <use xlink:href=\"#DejaVuSans-8722\"/>\n       <use x=\"83.789062\" xlink:href=\"#DejaVuSans-50\"/>\n      </g>\n     </g>\n    </g>\n    <g id=\"xtick_3\">\n     <g id=\"line2d_3\">\n      <path clip-path=\"url(#pb2649351f5)\" d=\"M 163.378242 224.64 \nL 163.378242 7.2 \n\" style=\"fill:none;stroke:#ffffff;stroke-linecap:round;\"/>\n     </g>\n     <g id=\"text_3\">\n      <!-- −1 -->\n      <defs>\n       <path d=\"M 12.40625 8.296875 \nL 28.515625 8.296875 \nL 28.515625 63.921875 \nL 10.984375 60.40625 \nL 10.984375 69.390625 \nL 28.421875 72.90625 \nL 38.28125 72.90625 \nL 38.28125 8.296875 \nL 54.390625 8.296875 \nL 54.390625 0 \nL 12.40625 0 \nz\n\" id=\"DejaVuSans-49\"/>\n      </defs>\n      <g style=\"fill:#262626;\" transform=\"translate(155.270039 242.498281)scale(0.11 -0.11)\">\n       <use xlink:href=\"#DejaVuSans-8722\"/>\n       <use x=\"83.789062\" xlink:href=\"#DejaVuSans-49\"/>\n      </g>\n     </g>\n    </g>\n    <g id=\"xtick_4\">\n     <g id=\"line2d_4\">\n      <path clip-path=\"url(#pb2649351f5)\" d=\"M 220.327704 224.64 \nL 220.327704 7.2 \n\" style=\"fill:none;stroke:#ffffff;stroke-linecap:round;\"/>\n     </g>\n     <g id=\"text_4\">\n      <!-- 0 -->\n      <defs>\n       <path d=\"M 31.78125 66.40625 \nQ 24.171875 66.40625 20.328125 58.90625 \nQ 16.5 51.421875 16.5 36.375 \nQ 16.5 21.390625 20.328125 13.890625 \nQ 24.171875 6.390625 31.78125 6.390625 \nQ 39.453125 6.390625 43.28125 13.890625 \nQ 47.125 21.390625 47.125 36.375 \nQ 47.125 51.421875 43.28125 58.90625 \nQ 39.453125 66.40625 31.78125 66.40625 \nz\nM 31.78125 74.21875 \nQ 44.046875 74.21875 50.515625 64.515625 \nQ 56.984375 54.828125 56.984375 36.375 \nQ 56.984375 17.96875 50.515625 8.265625 \nQ 44.046875 -1.421875 31.78125 -1.421875 \nQ 19.53125 -1.421875 13.0625 8.265625 \nQ 6.59375 17.96875 6.59375 36.375 \nQ 6.59375 54.828125 13.0625 64.515625 \nQ 19.53125 74.21875 31.78125 74.21875 \nz\n\" id=\"DejaVuSans-48\"/>\n      </defs>\n      <g style=\"fill:#262626;\" transform=\"translate(216.828329 242.498281)scale(0.11 -0.11)\">\n       <use xlink:href=\"#DejaVuSans-48\"/>\n      </g>\n     </g>\n    </g>\n    <g id=\"xtick_5\">\n     <g id=\"line2d_5\">\n      <path clip-path=\"url(#pb2649351f5)\" d=\"M 277.277165 224.64 \nL 277.277165 7.2 \n\" style=\"fill:none;stroke:#ffffff;stroke-linecap:round;\"/>\n     </g>\n     <g id=\"text_5\">\n      <!-- 1 -->\n      <g style=\"fill:#262626;\" transform=\"translate(273.77779 242.498281)scale(0.11 -0.11)\">\n       <use xlink:href=\"#DejaVuSans-49\"/>\n      </g>\n     </g>\n    </g>\n    <g id=\"xtick_6\">\n     <g id=\"line2d_6\">\n      <path clip-path=\"url(#pb2649351f5)\" d=\"M 334.226627 224.64 \nL 334.226627 7.2 \n\" style=\"fill:none;stroke:#ffffff;stroke-linecap:round;\"/>\n     </g>\n     <g id=\"text_6\">\n      <!-- 2 -->\n      <g style=\"fill:#262626;\" transform=\"translate(330.727252 242.498281)scale(0.11 -0.11)\">\n       <use xlink:href=\"#DejaVuSans-50\"/>\n      </g>\n     </g>\n    </g>\n   </g>\n   <g id=\"matplotlib.axis_2\">\n    <g id=\"ytick_1\">\n     <g id=\"line2d_7\">\n      <path clip-path=\"url(#pb2649351f5)\" d=\"M 32.916406 219.571552 \nL 367.716406 219.571552 \n\" style=\"fill:none;stroke:#ffffff;stroke-linecap:round;\"/>\n     </g>\n     <g id=\"text_7\">\n      <!-- −8 -->\n      <defs>\n       <path d=\"M 31.78125 34.625 \nQ 24.75 34.625 20.71875 30.859375 \nQ 16.703125 27.09375 16.703125 20.515625 \nQ 16.703125 13.921875 20.71875 10.15625 \nQ 24.75 6.390625 31.78125 6.390625 \nQ 38.8125 6.390625 42.859375 10.171875 \nQ 46.921875 13.96875 46.921875 20.515625 \nQ 46.921875 27.09375 42.890625 30.859375 \nQ 38.875 34.625 31.78125 34.625 \nz\nM 21.921875 38.8125 \nQ 15.578125 40.375 12.03125 44.71875 \nQ 8.5 49.078125 8.5 55.328125 \nQ 8.5 64.0625 14.71875 69.140625 \nQ 20.953125 74.21875 31.78125 74.21875 \nQ 42.671875 74.21875 48.875 69.140625 \nQ 55.078125 64.0625 55.078125 55.328125 \nQ 55.078125 49.078125 51.53125 44.71875 \nQ 48 40.375 41.703125 38.8125 \nQ 48.828125 37.15625 52.796875 32.3125 \nQ 56.78125 27.484375 56.78125 20.515625 \nQ 56.78125 9.90625 50.3125 4.234375 \nQ 43.84375 -1.421875 31.78125 -1.421875 \nQ 19.734375 -1.421875 13.25 4.234375 \nQ 6.78125 9.90625 6.78125 20.515625 \nQ 6.78125 27.484375 10.78125 32.3125 \nQ 14.796875 37.15625 21.921875 38.8125 \nz\nM 18.3125 54.390625 \nQ 18.3125 48.734375 21.84375 45.5625 \nQ 25.390625 42.390625 31.78125 42.390625 \nQ 38.140625 42.390625 41.71875 45.5625 \nQ 45.3125 48.734375 45.3125 54.390625 \nQ 45.3125 60.0625 41.71875 63.234375 \nQ 38.140625 66.40625 31.78125 66.40625 \nQ 25.390625 66.40625 21.84375 63.234375 \nQ 18.3125 60.0625 18.3125 54.390625 \nz\n\" id=\"DejaVuSans-56\"/>\n      </defs>\n      <g style=\"fill:#262626;\" transform=\"translate(7.2 223.750693)scale(0.11 -0.11)\">\n       <use xlink:href=\"#DejaVuSans-8722\"/>\n       <use x=\"83.789062\" xlink:href=\"#DejaVuSans-56\"/>\n      </g>\n     </g>\n    </g>\n    <g id=\"ytick_2\">\n     <g id=\"line2d_8\">\n      <path clip-path=\"url(#pb2649351f5)\" d=\"M 32.916406 190.598735 \nL 367.716406 190.598735 \n\" style=\"fill:none;stroke:#ffffff;stroke-linecap:round;\"/>\n     </g>\n     <g id=\"text_8\">\n      <!-- −6 -->\n      <defs>\n       <path d=\"M 33.015625 40.375 \nQ 26.375 40.375 22.484375 35.828125 \nQ 18.609375 31.296875 18.609375 23.390625 \nQ 18.609375 15.53125 22.484375 10.953125 \nQ 26.375 6.390625 33.015625 6.390625 \nQ 39.65625 6.390625 43.53125 10.953125 \nQ 47.40625 15.53125 47.40625 23.390625 \nQ 47.40625 31.296875 43.53125 35.828125 \nQ 39.65625 40.375 33.015625 40.375 \nz\nM 52.59375 71.296875 \nL 52.59375 62.3125 \nQ 48.875 64.0625 45.09375 64.984375 \nQ 41.3125 65.921875 37.59375 65.921875 \nQ 27.828125 65.921875 22.671875 59.328125 \nQ 17.53125 52.734375 16.796875 39.40625 \nQ 19.671875 43.65625 24.015625 45.921875 \nQ 28.375 48.1875 33.59375 48.1875 \nQ 44.578125 48.1875 50.953125 41.515625 \nQ 57.328125 34.859375 57.328125 23.390625 \nQ 57.328125 12.15625 50.6875 5.359375 \nQ 44.046875 -1.421875 33.015625 -1.421875 \nQ 20.359375 -1.421875 13.671875 8.265625 \nQ 6.984375 17.96875 6.984375 36.375 \nQ 6.984375 53.65625 15.1875 63.9375 \nQ 23.390625 74.21875 37.203125 74.21875 \nQ 40.921875 74.21875 44.703125 73.484375 \nQ 48.484375 72.75 52.59375 71.296875 \nz\n\" id=\"DejaVuSans-54\"/>\n      </defs>\n      <g style=\"fill:#262626;\" transform=\"translate(7.2 194.777876)scale(0.11 -0.11)\">\n       <use xlink:href=\"#DejaVuSans-8722\"/>\n       <use x=\"83.789062\" xlink:href=\"#DejaVuSans-54\"/>\n      </g>\n     </g>\n    </g>\n    <g id=\"ytick_3\">\n     <g id=\"line2d_9\">\n      <path clip-path=\"url(#pb2649351f5)\" d=\"M 32.916406 161.625918 \nL 367.716406 161.625918 \n\" style=\"fill:none;stroke:#ffffff;stroke-linecap:round;\"/>\n     </g>\n     <g id=\"text_9\">\n      <!-- −4 -->\n      <defs>\n       <path d=\"M 37.796875 64.3125 \nL 12.890625 25.390625 \nL 37.796875 25.390625 \nz\nM 35.203125 72.90625 \nL 47.609375 72.90625 \nL 47.609375 25.390625 \nL 58.015625 25.390625 \nL 58.015625 17.1875 \nL 47.609375 17.1875 \nL 47.609375 0 \nL 37.796875 0 \nL 37.796875 17.1875 \nL 4.890625 17.1875 \nL 4.890625 26.703125 \nz\n\" id=\"DejaVuSans-52\"/>\n      </defs>\n      <g style=\"fill:#262626;\" transform=\"translate(7.2 165.805059)scale(0.11 -0.11)\">\n       <use xlink:href=\"#DejaVuSans-8722\"/>\n       <use x=\"83.789062\" xlink:href=\"#DejaVuSans-52\"/>\n      </g>\n     </g>\n    </g>\n    <g id=\"ytick_4\">\n     <g id=\"line2d_10\">\n      <path clip-path=\"url(#pb2649351f5)\" d=\"M 32.916406 132.653102 \nL 367.716406 132.653102 \n\" style=\"fill:none;stroke:#ffffff;stroke-linecap:round;\"/>\n     </g>\n     <g id=\"text_10\">\n      <!-- −2 -->\n      <g style=\"fill:#262626;\" transform=\"translate(7.2 136.832242)scale(0.11 -0.11)\">\n       <use xlink:href=\"#DejaVuSans-8722\"/>\n       <use x=\"83.789062\" xlink:href=\"#DejaVuSans-50\"/>\n      </g>\n     </g>\n    </g>\n    <g id=\"ytick_5\">\n     <g id=\"line2d_11\">\n      <path clip-path=\"url(#pb2649351f5)\" d=\"M 32.916406 103.680285 \nL 367.716406 103.680285 \n\" style=\"fill:none;stroke:#ffffff;stroke-linecap:round;\"/>\n     </g>\n     <g id=\"text_11\">\n      <!-- 0 -->\n      <g style=\"fill:#262626;\" transform=\"translate(16.417656 107.859426)scale(0.11 -0.11)\">\n       <use xlink:href=\"#DejaVuSans-48\"/>\n      </g>\n     </g>\n    </g>\n    <g id=\"ytick_6\">\n     <g id=\"line2d_12\">\n      <path clip-path=\"url(#pb2649351f5)\" d=\"M 32.916406 74.707468 \nL 367.716406 74.707468 \n\" style=\"fill:none;stroke:#ffffff;stroke-linecap:round;\"/>\n     </g>\n     <g id=\"text_12\">\n      <!-- 2 -->\n      <g style=\"fill:#262626;\" transform=\"translate(16.417656 78.886609)scale(0.11 -0.11)\">\n       <use xlink:href=\"#DejaVuSans-50\"/>\n      </g>\n     </g>\n    </g>\n    <g id=\"ytick_7\">\n     <g id=\"line2d_13\">\n      <path clip-path=\"url(#pb2649351f5)\" d=\"M 32.916406 45.734652 \nL 367.716406 45.734652 \n\" style=\"fill:none;stroke:#ffffff;stroke-linecap:round;\"/>\n     </g>\n     <g id=\"text_13\">\n      <!-- 4 -->\n      <g style=\"fill:#262626;\" transform=\"translate(16.417656 49.913792)scale(0.11 -0.11)\">\n       <use xlink:href=\"#DejaVuSans-52\"/>\n      </g>\n     </g>\n    </g>\n    <g id=\"ytick_8\">\n     <g id=\"line2d_14\">\n      <path clip-path=\"url(#pb2649351f5)\" d=\"M 32.916406 16.761835 \nL 367.716406 16.761835 \n\" style=\"fill:none;stroke:#ffffff;stroke-linecap:round;\"/>\n     </g>\n     <g id=\"text_14\">\n      <!-- 6 -->\n      <g style=\"fill:#262626;\" transform=\"translate(16.417656 20.940976)scale(0.11 -0.11)\">\n       <use xlink:href=\"#DejaVuSans-54\"/>\n      </g>\n     </g>\n    </g>\n   </g>\n   <g id=\"PathCollection_1\">\n    <defs>\n     <path d=\"M 0 3 \nC 0.795609 3 1.55874 2.683901 2.12132 2.12132 \nC 2.683901 1.55874 3 0.795609 3 0 \nC 3 -0.795609 2.683901 -1.55874 2.12132 -2.12132 \nC 1.55874 -2.683901 0.795609 -3 0 -3 \nC -0.795609 -3 -1.55874 -2.683901 -2.12132 -2.12132 \nC -2.683901 -1.55874 -3 -0.795609 -3 0 \nC -3 0.795609 -2.683901 1.55874 -2.12132 2.12132 \nC -1.55874 2.683901 -0.795609 3 0 3 \nz\n\" id=\"m3dee5c981a\" style=\"stroke:#4c72b0;stroke-opacity:0.3;\"/>\n    </defs>\n    <g clip-path=\"url(#pb2649351f5)\">\n     <use style=\"fill:#4c72b0;fill-opacity:0.3;stroke:#4c72b0;stroke-opacity:0.3;\" x=\"183.62332\" xlink:href=\"#m3dee5c981a\" y=\"110.375991\"/>\n     <use style=\"fill:#4c72b0;fill-opacity:0.3;stroke:#4c72b0;stroke-opacity:0.3;\" x=\"262.335631\" xlink:href=\"#m3dee5c981a\" y=\"86.11741\"/>\n     <use style=\"fill:#4c72b0;fill-opacity:0.3;stroke:#4c72b0;stroke-opacity:0.3;\" x=\"270.529658\" xlink:href=\"#m3dee5c981a\" y=\"87.340315\"/>\n     <use style=\"fill:#4c72b0;fill-opacity:0.3;stroke:#4c72b0;stroke-opacity:0.3;\" x=\"337.073521\" xlink:href=\"#m3dee5c981a\" y=\"17.083636\"/>\n     <use style=\"fill:#4c72b0;fill-opacity:0.3;stroke:#4c72b0;stroke-opacity:0.3;\" x=\"210.581669\" xlink:href=\"#m3dee5c981a\" y=\"133.559769\"/>\n     <use style=\"fill:#4c72b0;fill-opacity:0.3;stroke:#4c72b0;stroke-opacity:0.3;\" x=\"259.028837\" xlink:href=\"#m3dee5c981a\" y=\"91.554419\"/>\n     <use style=\"fill:#4c72b0;fill-opacity:0.3;stroke:#4c72b0;stroke-opacity:0.3;\" x=\"303.963815\" xlink:href=\"#m3dee5c981a\" y=\"85.867639\"/>\n     <use style=\"fill:#4c72b0;fill-opacity:0.3;stroke:#4c72b0;stroke-opacity:0.3;\" x=\"240.420687\" xlink:href=\"#m3dee5c981a\" y=\"81.968723\"/>\n     <use style=\"fill:#4c72b0;fill-opacity:0.3;stroke:#4c72b0;stroke-opacity:0.3;\" x=\"77.069906\" xlink:href=\"#m3dee5c981a\" y=\"185.474892\"/>\n     <use style=\"fill:#4c72b0;fill-opacity:0.3;stroke:#4c72b0;stroke-opacity:0.3;\" x=\"225.130417\" xlink:href=\"#m3dee5c981a\" y=\"108.812905\"/>\n     <use style=\"fill:#4c72b0;fill-opacity:0.3;stroke:#4c72b0;stroke-opacity:0.3;\" x=\"231.261586\" xlink:href=\"#m3dee5c981a\" y=\"82.109836\"/>\n     <use style=\"fill:#4c72b0;fill-opacity:0.3;stroke:#4c72b0;stroke-opacity:0.3;\" x=\"218.866257\" xlink:href=\"#m3dee5c981a\" y=\"114.543337\"/>\n     <use style=\"fill:#4c72b0;fill-opacity:0.3;stroke:#4c72b0;stroke-opacity:0.3;\" x=\"277.601337\" xlink:href=\"#m3dee5c981a\" y=\"71.044245\"/>\n     <use style=\"fill:#4c72b0;fill-opacity:0.3;stroke:#4c72b0;stroke-opacity:0.3;\" x=\"248.52581\" xlink:href=\"#m3dee5c981a\" y=\"86.450198\"/>\n     <use style=\"fill:#4c72b0;fill-opacity:0.3;stroke:#4c72b0;stroke-opacity:0.3;\" x=\"223.914791\" xlink:href=\"#m3dee5c981a\" y=\"95.372435\"/>\n     <use style=\"fill:#4c72b0;fill-opacity:0.3;stroke:#4c72b0;stroke-opacity:0.3;\" x=\"263.09278\" xlink:href=\"#m3dee5c981a\" y=\"60.295375\"/>\n     <use style=\"fill:#4c72b0;fill-opacity:0.3;stroke:#4c72b0;stroke-opacity:0.3;\" x=\"48.134588\" xlink:href=\"#m3dee5c981a\" y=\"190.709708\"/>\n     <use style=\"fill:#4c72b0;fill-opacity:0.3;stroke:#4c72b0;stroke-opacity:0.3;\" x=\"189.60741\" xlink:href=\"#m3dee5c981a\" y=\"108.71996\"/>\n     <use style=\"fill:#4c72b0;fill-opacity:0.3;stroke:#4c72b0;stroke-opacity:0.3;\" x=\"307.925871\" xlink:href=\"#m3dee5c981a\" y=\"74.711312\"/>\n     <use style=\"fill:#4c72b0;fill-opacity:0.3;stroke:#4c72b0;stroke-opacity:0.3;\" x=\"191.34794\" xlink:href=\"#m3dee5c981a\" y=\"129.915121\"/>\n     <use style=\"fill:#4c72b0;fill-opacity:0.3;stroke:#4c72b0;stroke-opacity:0.3;\" x=\"310.373688\" xlink:href=\"#m3dee5c981a\" y=\"62.189717\"/>\n     <use style=\"fill:#4c72b0;fill-opacity:0.3;stroke:#4c72b0;stroke-opacity:0.3;\" x=\"276.881391\" xlink:href=\"#m3dee5c981a\" y=\"66.842209\"/>\n     <use style=\"fill:#4c72b0;fill-opacity:0.3;stroke:#4c72b0;stroke-opacity:0.3;\" x=\"170.352389\" xlink:href=\"#m3dee5c981a\" y=\"120.450795\"/>\n     <use style=\"fill:#4c72b0;fill-opacity:0.3;stroke:#4c72b0;stroke-opacity:0.3;\" x=\"156.818775\" xlink:href=\"#m3dee5c981a\" y=\"130.843461\"/>\n     <use style=\"fill:#4c72b0;fill-opacity:0.3;stroke:#4c72b0;stroke-opacity:0.3;\" x=\"244.815448\" xlink:href=\"#m3dee5c981a\" y=\"98.418205\"/>\n     <use style=\"fill:#4c72b0;fill-opacity:0.3;stroke:#4c72b0;stroke-opacity:0.3;\" x=\"275.713064\" xlink:href=\"#m3dee5c981a\" y=\"52.425096\"/>\n     <use style=\"fill:#4c72b0;fill-opacity:0.3;stroke:#4c72b0;stroke-opacity:0.3;\" x=\"238.622716\" xlink:href=\"#m3dee5c981a\" y=\"98.879919\"/>\n     <use style=\"fill:#4c72b0;fill-opacity:0.3;stroke:#4c72b0;stroke-opacity:0.3;\" x=\"177.832785\" xlink:href=\"#m3dee5c981a\" y=\"143.860755\"/>\n     <use style=\"fill:#4c72b0;fill-opacity:0.3;stroke:#4c72b0;stroke-opacity:0.3;\" x=\"169.942264\" xlink:href=\"#m3dee5c981a\" y=\"129.972456\"/>\n     <use style=\"fill:#4c72b0;fill-opacity:0.3;stroke:#4c72b0;stroke-opacity:0.3;\" x=\"276.584581\" xlink:href=\"#m3dee5c981a\" y=\"70.320926\"/>\n     <use style=\"fill:#4c72b0;fill-opacity:0.3;stroke:#4c72b0;stroke-opacity:0.3;\" x=\"151.796869\" xlink:href=\"#m3dee5c981a\" y=\"133.290899\"/>\n     <use style=\"fill:#4c72b0;fill-opacity:0.3;stroke:#4c72b0;stroke-opacity:0.3;\" x=\"134.276073\" xlink:href=\"#m3dee5c981a\" y=\"151.222853\"/>\n     <use style=\"fill:#4c72b0;fill-opacity:0.3;stroke:#4c72b0;stroke-opacity:0.3;\" x=\"62.954861\" xlink:href=\"#m3dee5c981a\" y=\"214.756364\"/>\n     <use style=\"fill:#4c72b0;fill-opacity:0.3;stroke:#4c72b0;stroke-opacity:0.3;\" x=\"242.628288\" xlink:href=\"#m3dee5c981a\" y=\"90.939601\"/>\n     <use style=\"fill:#4c72b0;fill-opacity:0.3;stroke:#4c72b0;stroke-opacity:0.3;\" x=\"272.254806\" xlink:href=\"#m3dee5c981a\" y=\"55.445044\"/>\n     <use style=\"fill:#4c72b0;fill-opacity:0.3;stroke:#4c72b0;stroke-opacity:0.3;\" x=\"172.37476\" xlink:href=\"#m3dee5c981a\" y=\"132.830784\"/>\n     <use style=\"fill:#4c72b0;fill-opacity:0.3;stroke:#4c72b0;stroke-opacity:0.3;\" x=\"281.028356\" xlink:href=\"#m3dee5c981a\" y=\"89.845762\"/>\n     <use style=\"fill:#4c72b0;fill-opacity:0.3;stroke:#4c72b0;stroke-opacity:0.3;\" x=\"245.645932\" xlink:href=\"#m3dee5c981a\" y=\"76.470711\"/>\n     <use style=\"fill:#4c72b0;fill-opacity:0.3;stroke:#4c72b0;stroke-opacity:0.3;\" x=\"240.793473\" xlink:href=\"#m3dee5c981a\" y=\"97.805326\"/>\n     <use style=\"fill:#4c72b0;fill-opacity:0.3;stroke:#4c72b0;stroke-opacity:0.3;\" x=\"168.703205\" xlink:href=\"#m3dee5c981a\" y=\"117.223113\"/>\n     <use style=\"fill:#4c72b0;fill-opacity:0.3;stroke:#4c72b0;stroke-opacity:0.3;\" x=\"199.94527\" xlink:href=\"#m3dee5c981a\" y=\"111.265805\"/>\n     <use style=\"fill:#4c72b0;fill-opacity:0.3;stroke:#4c72b0;stroke-opacity:0.3;\" x=\"144.322002\" xlink:href=\"#m3dee5c981a\" y=\"147.603541\"/>\n     <use style=\"fill:#4c72b0;fill-opacity:0.3;stroke:#4c72b0;stroke-opacity:0.3;\" x=\"221.930909\" xlink:href=\"#m3dee5c981a\" y=\"92.141148\"/>\n     <use style=\"fill:#4c72b0;fill-opacity:0.3;stroke:#4c72b0;stroke-opacity:0.3;\" x=\"241.84641\" xlink:href=\"#m3dee5c981a\" y=\"96.232912\"/>\n     <use style=\"fill:#4c72b0;fill-opacity:0.3;stroke:#4c72b0;stroke-opacity:0.3;\" x=\"159.673624\" xlink:href=\"#m3dee5c981a\" y=\"145.506425\"/>\n     <use style=\"fill:#4c72b0;fill-opacity:0.3;stroke:#4c72b0;stroke-opacity:0.3;\" x=\"352.498224\" xlink:href=\"#m3dee5c981a\" y=\"17.095218\"/>\n     <use style=\"fill:#4c72b0;fill-opacity:0.3;stroke:#4c72b0;stroke-opacity:0.3;\" x=\"247.438918\" xlink:href=\"#m3dee5c981a\" y=\"91.564652\"/>\n     <use style=\"fill:#4c72b0;fill-opacity:0.3;stroke:#4c72b0;stroke-opacity:0.3;\" x=\"200.115779\" xlink:href=\"#m3dee5c981a\" y=\"118.696479\"/>\n     <use style=\"fill:#4c72b0;fill-opacity:0.3;stroke:#4c72b0;stroke-opacity:0.3;\" x=\"253.092371\" xlink:href=\"#m3dee5c981a\" y=\"115.268995\"/>\n     <use style=\"fill:#4c72b0;fill-opacity:0.3;stroke:#4c72b0;stroke-opacity:0.3;\" x=\"239.348774\" xlink:href=\"#m3dee5c981a\" y=\"69.9852\"/>\n     <use style=\"fill:#4c72b0;fill-opacity:0.3;stroke:#4c72b0;stroke-opacity:0.3;\" x=\"257.77546\" xlink:href=\"#m3dee5c981a\" y=\"106.923722\"/>\n     <use style=\"fill:#4c72b0;fill-opacity:0.3;stroke:#4c72b0;stroke-opacity:0.3;\" x=\"298.390409\" xlink:href=\"#m3dee5c981a\" y=\"71.304856\"/>\n     <use style=\"fill:#4c72b0;fill-opacity:0.3;stroke:#4c72b0;stroke-opacity:0.3;\" x=\"224.370858\" xlink:href=\"#m3dee5c981a\" y=\"107.980643\"/>\n     <use style=\"fill:#4c72b0;fill-opacity:0.3;stroke:#4c72b0;stroke-opacity:0.3;\" x=\"254.924404\" xlink:href=\"#m3dee5c981a\" y=\"82.372338\"/>\n     <use style=\"fill:#4c72b0;fill-opacity:0.3;stroke:#4c72b0;stroke-opacity:0.3;\" x=\"200.836109\" xlink:href=\"#m3dee5c981a\" y=\"119.711848\"/>\n     <use style=\"fill:#4c72b0;fill-opacity:0.3;stroke:#4c72b0;stroke-opacity:0.3;\" x=\"259.751678\" xlink:href=\"#m3dee5c981a\" y=\"86.078676\"/>\n     <use style=\"fill:#4c72b0;fill-opacity:0.3;stroke:#4c72b0;stroke-opacity:0.3;\" x=\"202.609053\" xlink:href=\"#m3dee5c981a\" y=\"114.677221\"/>\n     <use style=\"fill:#4c72b0;fill-opacity:0.3;stroke:#4c72b0;stroke-opacity:0.3;\" x=\"205.014946\" xlink:href=\"#m3dee5c981a\" y=\"131.112735\"/>\n     <use style=\"fill:#4c72b0;fill-opacity:0.3;stroke:#4c72b0;stroke-opacity:0.3;\" x=\"244.272046\" xlink:href=\"#m3dee5c981a\" y=\"76.852975\"/>\n     <use style=\"fill:#4c72b0;fill-opacity:0.3;stroke:#4c72b0;stroke-opacity:0.3;\" x=\"232.352722\" xlink:href=\"#m3dee5c981a\" y=\"74.594258\"/>\n     <use style=\"fill:#4c72b0;fill-opacity:0.3;stroke:#4c72b0;stroke-opacity:0.3;\" x=\"116.049798\" xlink:href=\"#m3dee5c981a\" y=\"145.886847\"/>\n     <use style=\"fill:#4c72b0;fill-opacity:0.3;stroke:#4c72b0;stroke-opacity:0.3;\" x=\"264.98631\" xlink:href=\"#m3dee5c981a\" y=\"75.049239\"/>\n     <use style=\"fill:#4c72b0;fill-opacity:0.3;stroke:#4c72b0;stroke-opacity:0.3;\" x=\"226.170327\" xlink:href=\"#m3dee5c981a\" y=\"85.617099\"/>\n     <use style=\"fill:#4c72b0;fill-opacity:0.3;stroke:#4c72b0;stroke-opacity:0.3;\" x=\"111.496964\" xlink:href=\"#m3dee5c981a\" y=\"156.816565\"/>\n     <use style=\"fill:#4c72b0;fill-opacity:0.3;stroke:#4c72b0;stroke-opacity:0.3;\" x=\"227.813002\" xlink:href=\"#m3dee5c981a\" y=\"104.815129\"/>\n     <use style=\"fill:#4c72b0;fill-opacity:0.3;stroke:#4c72b0;stroke-opacity:0.3;\" x=\"212.827203\" xlink:href=\"#m3dee5c981a\" y=\"127.461051\"/>\n     <use style=\"fill:#4c72b0;fill-opacity:0.3;stroke:#4c72b0;stroke-opacity:0.3;\" x=\"212.043105\" xlink:href=\"#m3dee5c981a\" y=\"123.110278\"/>\n     <use style=\"fill:#4c72b0;fill-opacity:0.3;stroke:#4c72b0;stroke-opacity:0.3;\" x=\"191.185313\" xlink:href=\"#m3dee5c981a\" y=\"124.100438\"/>\n     <use style=\"fill:#4c72b0;fill-opacity:0.3;stroke:#4c72b0;stroke-opacity:0.3;\" x=\"260.054534\" xlink:href=\"#m3dee5c981a\" y=\"93.168419\"/>\n     <use style=\"fill:#4c72b0;fill-opacity:0.3;stroke:#4c72b0;stroke-opacity:0.3;\" x=\"226.977739\" xlink:href=\"#m3dee5c981a\" y=\"90.87645\"/>\n     <use style=\"fill:#4c72b0;fill-opacity:0.3;stroke:#4c72b0;stroke-opacity:0.3;\" x=\"153.932351\" xlink:href=\"#m3dee5c981a\" y=\"136.199699\"/>\n     <use style=\"fill:#4c72b0;fill-opacity:0.3;stroke:#4c72b0;stroke-opacity:0.3;\" x=\"93.230039\" xlink:href=\"#m3dee5c981a\" y=\"141.918333\"/>\n     <use style=\"fill:#4c72b0;fill-opacity:0.3;stroke:#4c72b0;stroke-opacity:0.3;\" x=\"241.887194\" xlink:href=\"#m3dee5c981a\" y=\"93.668352\"/>\n     <use style=\"fill:#4c72b0;fill-opacity:0.3;stroke:#4c72b0;stroke-opacity:0.3;\" x=\"270.144429\" xlink:href=\"#m3dee5c981a\" y=\"54.416718\"/>\n     <use style=\"fill:#4c72b0;fill-opacity:0.3;stroke:#4c72b0;stroke-opacity:0.3;\" x=\"170.858915\" xlink:href=\"#m3dee5c981a\" y=\"147.656436\"/>\n     <use style=\"fill:#4c72b0;fill-opacity:0.3;stroke:#4c72b0;stroke-opacity:0.3;\" x=\"161.306502\" xlink:href=\"#m3dee5c981a\" y=\"120.842206\"/>\n     <use style=\"fill:#4c72b0;fill-opacity:0.3;stroke:#4c72b0;stroke-opacity:0.3;\" x=\"189.953732\" xlink:href=\"#m3dee5c981a\" y=\"109.046038\"/>\n     <use style=\"fill:#4c72b0;fill-opacity:0.3;stroke:#4c72b0;stroke-opacity:0.3;\" x=\"237.64863\" xlink:href=\"#m3dee5c981a\" y=\"112.123571\"/>\n     <use style=\"fill:#4c72b0;fill-opacity:0.3;stroke:#4c72b0;stroke-opacity:0.3;\" x=\"136.238033\" xlink:href=\"#m3dee5c981a\" y=\"134.543042\"/>\n     <use style=\"fill:#4c72b0;fill-opacity:0.3;stroke:#4c72b0;stroke-opacity:0.3;\" x=\"202.484286\" xlink:href=\"#m3dee5c981a\" y=\"129.604615\"/>\n     <use style=\"fill:#4c72b0;fill-opacity:0.3;stroke:#4c72b0;stroke-opacity:0.3;\" x=\"284.486704\" xlink:href=\"#m3dee5c981a\" y=\"82.004629\"/>\n     <use style=\"fill:#4c72b0;fill-opacity:0.3;stroke:#4c72b0;stroke-opacity:0.3;\" x=\"152.172981\" xlink:href=\"#m3dee5c981a\" y=\"125.646525\"/>\n     <use style=\"fill:#4c72b0;fill-opacity:0.3;stroke:#4c72b0;stroke-opacity:0.3;\" x=\"177.495926\" xlink:href=\"#m3dee5c981a\" y=\"115.236171\"/>\n     <use style=\"fill:#4c72b0;fill-opacity:0.3;stroke:#4c72b0;stroke-opacity:0.3;\" x=\"262.799298\" xlink:href=\"#m3dee5c981a\" y=\"75.310907\"/>\n     <use style=\"fill:#4c72b0;fill-opacity:0.3;stroke:#4c72b0;stroke-opacity:0.3;\" x=\"309.222598\" xlink:href=\"#m3dee5c981a\" y=\"61.190467\"/>\n     <use style=\"fill:#4c72b0;fill-opacity:0.3;stroke:#4c72b0;stroke-opacity:0.3;\" x=\"179.318416\" xlink:href=\"#m3dee5c981a\" y=\"132.621371\"/>\n     <use style=\"fill:#4c72b0;fill-opacity:0.3;stroke:#4c72b0;stroke-opacity:0.3;\" x=\"144.972653\" xlink:href=\"#m3dee5c981a\" y=\"141.521441\"/>\n     <use style=\"fill:#4c72b0;fill-opacity:0.3;stroke:#4c72b0;stroke-opacity:0.3;\" x=\"74.41412\" xlink:href=\"#m3dee5c981a\" y=\"191.817164\"/>\n     <use style=\"fill:#4c72b0;fill-opacity:0.3;stroke:#4c72b0;stroke-opacity:0.3;\" x=\"295.077458\" xlink:href=\"#m3dee5c981a\" y=\"58.317072\"/>\n     <use style=\"fill:#4c72b0;fill-opacity:0.3;stroke:#4c72b0;stroke-opacity:0.3;\" x=\"249.699948\" xlink:href=\"#m3dee5c981a\" y=\"70.320312\"/>\n     <use style=\"fill:#4c72b0;fill-opacity:0.3;stroke:#4c72b0;stroke-opacity:0.3;\" x=\"221.110595\" xlink:href=\"#m3dee5c981a\" y=\"105.351922\"/>\n     <use style=\"fill:#4c72b0;fill-opacity:0.3;stroke:#4c72b0;stroke-opacity:0.3;\" x=\"210.724157\" xlink:href=\"#m3dee5c981a\" y=\"97.969402\"/>\n     <use style=\"fill:#4c72b0;fill-opacity:0.3;stroke:#4c72b0;stroke-opacity:0.3;\" x=\"227.199027\" xlink:href=\"#m3dee5c981a\" y=\"87.276409\"/>\n     <use style=\"fill:#4c72b0;fill-opacity:0.3;stroke:#4c72b0;stroke-opacity:0.3;\" x=\"172.772065\" xlink:href=\"#m3dee5c981a\" y=\"138.249493\"/>\n     <use style=\"fill:#4c72b0;fill-opacity:0.3;stroke:#4c72b0;stroke-opacity:0.3;\" x=\"280.230499\" xlink:href=\"#m3dee5c981a\" y=\"74.936611\"/>\n     <use style=\"fill:#4c72b0;fill-opacity:0.3;stroke:#4c72b0;stroke-opacity:0.3;\" x=\"180.950253\" xlink:href=\"#m3dee5c981a\" y=\"126.412339\"/>\n     <use style=\"fill:#4c72b0;fill-opacity:0.3;stroke:#4c72b0;stroke-opacity:0.3;\" x=\"148.755881\" xlink:href=\"#m3dee5c981a\" y=\"119.990503\"/>\n     <use style=\"fill:#4c72b0;fill-opacity:0.3;stroke:#4c72b0;stroke-opacity:0.3;\" x=\"225.805862\" xlink:href=\"#m3dee5c981a\" y=\"113.000199\"/>\n     <use style=\"fill:#4c72b0;fill-opacity:0.3;stroke:#4c72b0;stroke-opacity:0.3;\" x=\"163.572617\" xlink:href=\"#m3dee5c981a\" y=\"137.728864\"/>\n     <use style=\"fill:#4c72b0;fill-opacity:0.3;stroke:#4c72b0;stroke-opacity:0.3;\" x=\"151.188062\" xlink:href=\"#m3dee5c981a\" y=\"129.421724\"/>\n    </g>\n   </g>\n   <g id=\"PathCollection_2\"/>\n   <g id=\"patch_3\">\n    <path d=\"M 32.916406 224.64 \nL 32.916406 7.2 \n\" style=\"fill:none;stroke:#ffffff;stroke-linecap:square;stroke-linejoin:miter;stroke-width:1.25;\"/>\n   </g>\n   <g id=\"patch_4\">\n    <path d=\"M 367.716406 224.64 \nL 367.716406 7.2 \n\" style=\"fill:none;stroke:#ffffff;stroke-linecap:square;stroke-linejoin:miter;stroke-width:1.25;\"/>\n   </g>\n   <g id=\"patch_5\">\n    <path d=\"M 32.916406 224.64 \nL 367.716406 224.64 \n\" style=\"fill:none;stroke:#ffffff;stroke-linecap:square;stroke-linejoin:miter;stroke-width:1.25;\"/>\n   </g>\n   <g id=\"patch_6\">\n    <path d=\"M 32.916406 7.2 \nL 367.716406 7.2 \n\" style=\"fill:none;stroke:#ffffff;stroke-linecap:square;stroke-linejoin:miter;stroke-width:1.25;\"/>\n   </g>\n  </g>\n </g>\n <defs>\n  <clipPath id=\"pb2649351f5\">\n   <rect height=\"217.44\" width=\"334.8\" x=\"32.916406\" y=\"7.2\"/>\n  </clipPath>\n </defs>\n</svg>\n",
      "image/png": "[encoded data removed]"
     },
     "metadata": {}
    }
   ],
   "source": [
    "plt.scatter(X[:, 0], X[:, 1], alpha=0.3)\n",
    "plt.scatter(selection[:, 0], selection[:, 1], facecolor=\"none\", s=200)"
   ]
  },
  {
   "cell_type": "code",
   "execution_count": 64,
   "metadata": {},
   "outputs": [],
   "source": [
    "x = np.arange(10)\n",
    "i = np.array([2, 1, 8, 4])\n",
    "x[i] = 99"
   ]
  },
  {
   "cell_type": "code",
   "execution_count": null,
   "metadata": {},
   "outputs": [],
   "source": []
  },
  {
   "cell_type": "code",
   "execution_count": 65,
   "metadata": {},
   "outputs": [
    {
     "output_type": "execute_result",
     "data": {
      "text/plain": "array([ 0, 99, 99,  3, 99,  5,  6,  7, 99,  9])"
     },
     "metadata": {},
     "execution_count": 65
    }
   ],
   "source": [
    "x"
   ]
  },
  {
   "cell_type": "code",
   "execution_count": 66,
   "metadata": {},
   "outputs": [],
   "source": [
    "x[i] -= 10"
   ]
  },
  {
   "cell_type": "code",
   "execution_count": 67,
   "metadata": {},
   "outputs": [
    {
     "output_type": "execute_result",
     "data": {
      "text/plain": "array([ 0, 89, 89,  3, 89,  5,  6,  7, 89,  9])"
     },
     "metadata": {},
     "execution_count": 67
    }
   ],
   "source": [
    "x"
   ]
  },
  {
   "cell_type": "code",
   "execution_count": 68,
   "metadata": {},
   "outputs": [
    {
     "output_type": "execute_result",
     "data": {
      "text/plain": "array([0., 1., 1., 0., 1., 0., 0., 0., 1., 0.])"
     },
     "metadata": {},
     "execution_count": 68
    }
   ],
   "source": [
    "x = np.zeros(10)\n",
    "np.add.at(x, i, 1)\n",
    "x"
   ]
  },
  {
   "cell_type": "code",
   "execution_count": 70,
   "metadata": {
    "tags": []
   },
   "outputs": [
    {
     "output_type": "execute_result",
     "data": {
      "text/plain": "[<matplotlib.lines.Line2D at 0x7f309a426970>]"
     },
     "metadata": {},
     "execution_count": 70
    },
    {
     "output_type": "display_data",
     "data": {
      "text/plain": "<Figure size 432x288 with 1 Axes>",
      "image/svg+xml": "<?xml version=\"1.0\" encoding=\"utf-8\" standalone=\"no\"?>\n<!DOCTYPE svg PUBLIC \"-//W3C//DTD SVG 1.1//EN\"\n  \"http://www.w3.org/Graphics/SVG/1.1/DTD/svg11.dtd\">\n<!-- Created with matplotlib (https://matplotlib.org/) -->\n<svg height=\"251.985938pt\" version=\"1.1\" viewBox=\"0 0 372.6975 251.985938\" width=\"372.6975pt\" xmlns=\"http://www.w3.org/2000/svg\" xmlns:xlink=\"http://www.w3.org/1999/xlink\">\n <defs>\n  <style type=\"text/css\">\n*{stroke-linecap:butt;stroke-linejoin:round;}\n  </style>\n </defs>\n <g id=\"figure_1\">\n  <g id=\"patch_1\">\n   <path d=\"M 0 251.985938 \nL 372.6975 251.985938 \nL 372.6975 0 \nL 0 0 \nz\n\" style=\"fill:#ffffff;\"/>\n  </g>\n  <g id=\"axes_1\">\n   <g id=\"patch_2\">\n    <path d=\"M 30.6975 224.64 \nL 365.4975 224.64 \nL 365.4975 7.2 \nL 30.6975 7.2 \nz\n\" style=\"fill:#eaeaf2;\"/>\n   </g>\n   <g id=\"matplotlib.axis_1\">\n    <g id=\"xtick_1\">\n     <g id=\"line2d_1\">\n      <path clip-path=\"url(#p1b38da5878)\" d=\"M 76.352045 224.64 \nL 76.352045 7.2 \n\" style=\"fill:none;stroke:#ffffff;stroke-linecap:round;\"/>\n     </g>\n     <g id=\"text_1\">\n      <!-- −4 -->\n      <defs>\n       <path d=\"M 10.59375 35.5 \nL 73.1875 35.5 \nL 73.1875 27.203125 \nL 10.59375 27.203125 \nz\n\" id=\"DejaVuSans-8722\"/>\n       <path d=\"M 37.796875 64.3125 \nL 12.890625 25.390625 \nL 37.796875 25.390625 \nz\nM 35.203125 72.90625 \nL 47.609375 72.90625 \nL 47.609375 25.390625 \nL 58.015625 25.390625 \nL 58.015625 17.1875 \nL 47.609375 17.1875 \nL 47.609375 0 \nL 37.796875 0 \nL 37.796875 17.1875 \nL 4.890625 17.1875 \nL 4.890625 26.703125 \nz\n\" id=\"DejaVuSans-52\"/>\n      </defs>\n      <g style=\"fill:#262626;\" transform=\"translate(68.243842 242.498281)scale(0.11 -0.11)\">\n       <use xlink:href=\"#DejaVuSans-8722\"/>\n       <use x=\"83.789062\" xlink:href=\"#DejaVuSans-52\"/>\n      </g>\n     </g>\n    </g>\n    <g id=\"xtick_2\">\n     <g id=\"line2d_2\">\n      <path clip-path=\"url(#p1b38da5878)\" d=\"M 137.224773 224.64 \nL 137.224773 7.2 \n\" style=\"fill:none;stroke:#ffffff;stroke-linecap:round;\"/>\n     </g>\n     <g id=\"text_2\">\n      <!-- −2 -->\n      <defs>\n       <path d=\"M 19.1875 8.296875 \nL 53.609375 8.296875 \nL 53.609375 0 \nL 7.328125 0 \nL 7.328125 8.296875 \nQ 12.9375 14.109375 22.625 23.890625 \nQ 32.328125 33.6875 34.8125 36.53125 \nQ 39.546875 41.84375 41.421875 45.53125 \nQ 43.3125 49.21875 43.3125 52.78125 \nQ 43.3125 58.59375 39.234375 62.25 \nQ 35.15625 65.921875 28.609375 65.921875 \nQ 23.96875 65.921875 18.8125 64.3125 \nQ 13.671875 62.703125 7.8125 59.421875 \nL 7.8125 69.390625 \nQ 13.765625 71.78125 18.9375 73 \nQ 24.125 74.21875 28.421875 74.21875 \nQ 39.75 74.21875 46.484375 68.546875 \nQ 53.21875 62.890625 53.21875 53.421875 \nQ 53.21875 48.921875 51.53125 44.890625 \nQ 49.859375 40.875 45.40625 35.40625 \nQ 44.1875 33.984375 37.640625 27.21875 \nQ 31.109375 20.453125 19.1875 8.296875 \nz\n\" id=\"DejaVuSans-50\"/>\n      </defs>\n      <g style=\"fill:#262626;\" transform=\"translate(129.11657 242.498281)scale(0.11 -0.11)\">\n       <use xlink:href=\"#DejaVuSans-8722\"/>\n       <use x=\"83.789062\" xlink:href=\"#DejaVuSans-50\"/>\n      </g>\n     </g>\n    </g>\n    <g id=\"xtick_3\">\n     <g id=\"line2d_3\">\n      <path clip-path=\"url(#p1b38da5878)\" d=\"M 198.0975 224.64 \nL 198.0975 7.2 \n\" style=\"fill:none;stroke:#ffffff;stroke-linecap:round;\"/>\n     </g>\n     <g id=\"text_3\">\n      <!-- 0 -->\n      <defs>\n       <path d=\"M 31.78125 66.40625 \nQ 24.171875 66.40625 20.328125 58.90625 \nQ 16.5 51.421875 16.5 36.375 \nQ 16.5 21.390625 20.328125 13.890625 \nQ 24.171875 6.390625 31.78125 6.390625 \nQ 39.453125 6.390625 43.28125 13.890625 \nQ 47.125 21.390625 47.125 36.375 \nQ 47.125 51.421875 43.28125 58.90625 \nQ 39.453125 66.40625 31.78125 66.40625 \nz\nM 31.78125 74.21875 \nQ 44.046875 74.21875 50.515625 64.515625 \nQ 56.984375 54.828125 56.984375 36.375 \nQ 56.984375 17.96875 50.515625 8.265625 \nQ 44.046875 -1.421875 31.78125 -1.421875 \nQ 19.53125 -1.421875 13.0625 8.265625 \nQ 6.59375 17.96875 6.59375 36.375 \nQ 6.59375 54.828125 13.0625 64.515625 \nQ 19.53125 74.21875 31.78125 74.21875 \nz\n\" id=\"DejaVuSans-48\"/>\n      </defs>\n      <g style=\"fill:#262626;\" transform=\"translate(194.598125 242.498281)scale(0.11 -0.11)\">\n       <use xlink:href=\"#DejaVuSans-48\"/>\n      </g>\n     </g>\n    </g>\n    <g id=\"xtick_4\">\n     <g id=\"line2d_4\">\n      <path clip-path=\"url(#p1b38da5878)\" d=\"M 258.970227 224.64 \nL 258.970227 7.2 \n\" style=\"fill:none;stroke:#ffffff;stroke-linecap:round;\"/>\n     </g>\n     <g id=\"text_4\">\n      <!-- 2 -->\n      <g style=\"fill:#262626;\" transform=\"translate(255.470852 242.498281)scale(0.11 -0.11)\">\n       <use xlink:href=\"#DejaVuSans-50\"/>\n      </g>\n     </g>\n    </g>\n    <g id=\"xtick_5\">\n     <g id=\"line2d_5\">\n      <path clip-path=\"url(#p1b38da5878)\" d=\"M 319.842955 224.64 \nL 319.842955 7.2 \n\" style=\"fill:none;stroke:#ffffff;stroke-linecap:round;\"/>\n     </g>\n     <g id=\"text_5\">\n      <!-- 4 -->\n      <g style=\"fill:#262626;\" transform=\"translate(316.34358 242.498281)scale(0.11 -0.11)\">\n       <use xlink:href=\"#DejaVuSans-52\"/>\n      </g>\n     </g>\n    </g>\n   </g>\n   <g id=\"matplotlib.axis_2\">\n    <g id=\"ytick_1\">\n     <g id=\"line2d_6\">\n      <path clip-path=\"url(#p1b38da5878)\" d=\"M 30.6975 214.756364 \nL 365.4975 214.756364 \n\" style=\"fill:none;stroke:#ffffff;stroke-linecap:round;\"/>\n     </g>\n     <g id=\"text_6\">\n      <!-- 0 -->\n      <g style=\"fill:#262626;\" transform=\"translate(14.19875 218.935504)scale(0.11 -0.11)\">\n       <use xlink:href=\"#DejaVuSans-48\"/>\n      </g>\n     </g>\n    </g>\n    <g id=\"ytick_2\">\n     <g id=\"line2d_7\">\n      <path clip-path=\"url(#p1b38da5878)\" d=\"M 30.6975 171.784032 \nL 365.4975 171.784032 \n\" style=\"fill:none;stroke:#ffffff;stroke-linecap:round;\"/>\n     </g>\n     <g id=\"text_7\">\n      <!-- 5 -->\n      <defs>\n       <path d=\"M 10.796875 72.90625 \nL 49.515625 72.90625 \nL 49.515625 64.59375 \nL 19.828125 64.59375 \nL 19.828125 46.734375 \nQ 21.96875 47.46875 24.109375 47.828125 \nQ 26.265625 48.1875 28.421875 48.1875 \nQ 40.625 48.1875 47.75 41.5 \nQ 54.890625 34.8125 54.890625 23.390625 \nQ 54.890625 11.625 47.5625 5.09375 \nQ 40.234375 -1.421875 26.90625 -1.421875 \nQ 22.3125 -1.421875 17.546875 -0.640625 \nQ 12.796875 0.140625 7.71875 1.703125 \nL 7.71875 11.625 \nQ 12.109375 9.234375 16.796875 8.0625 \nQ 21.484375 6.890625 26.703125 6.890625 \nQ 35.15625 6.890625 40.078125 11.328125 \nQ 45.015625 15.765625 45.015625 23.390625 \nQ 45.015625 31 40.078125 35.4375 \nQ 35.15625 39.890625 26.703125 39.890625 \nQ 22.75 39.890625 18.8125 39.015625 \nQ 14.890625 38.140625 10.796875 36.28125 \nz\n\" id=\"DejaVuSans-53\"/>\n      </defs>\n      <g style=\"fill:#262626;\" transform=\"translate(14.19875 175.963172)scale(0.11 -0.11)\">\n       <use xlink:href=\"#DejaVuSans-53\"/>\n      </g>\n     </g>\n    </g>\n    <g id=\"ytick_3\">\n     <g id=\"line2d_8\">\n      <path clip-path=\"url(#p1b38da5878)\" d=\"M 30.6975 128.8117 \nL 365.4975 128.8117 \n\" style=\"fill:none;stroke:#ffffff;stroke-linecap:round;\"/>\n     </g>\n     <g id=\"text_8\">\n      <!-- 10 -->\n      <defs>\n       <path d=\"M 12.40625 8.296875 \nL 28.515625 8.296875 \nL 28.515625 63.921875 \nL 10.984375 60.40625 \nL 10.984375 69.390625 \nL 28.421875 72.90625 \nL 38.28125 72.90625 \nL 38.28125 8.296875 \nL 54.390625 8.296875 \nL 54.390625 0 \nL 12.40625 0 \nz\n\" id=\"DejaVuSans-49\"/>\n      </defs>\n      <g style=\"fill:#262626;\" transform=\"translate(7.2 132.99084)scale(0.11 -0.11)\">\n       <use xlink:href=\"#DejaVuSans-49\"/>\n       <use x=\"63.623047\" xlink:href=\"#DejaVuSans-48\"/>\n      </g>\n     </g>\n    </g>\n    <g id=\"ytick_4\">\n     <g id=\"line2d_9\">\n      <path clip-path=\"url(#p1b38da5878)\" d=\"M 30.6975 85.839368 \nL 365.4975 85.839368 \n\" style=\"fill:none;stroke:#ffffff;stroke-linecap:round;\"/>\n     </g>\n     <g id=\"text_9\">\n      <!-- 15 -->\n      <g style=\"fill:#262626;\" transform=\"translate(7.2 90.018508)scale(0.11 -0.11)\">\n       <use xlink:href=\"#DejaVuSans-49\"/>\n       <use x=\"63.623047\" xlink:href=\"#DejaVuSans-53\"/>\n      </g>\n     </g>\n    </g>\n    <g id=\"ytick_5\">\n     <g id=\"line2d_10\">\n      <path clip-path=\"url(#p1b38da5878)\" d=\"M 30.6975 42.867036 \nL 365.4975 42.867036 \n\" style=\"fill:none;stroke:#ffffff;stroke-linecap:round;\"/>\n     </g>\n     <g id=\"text_10\">\n      <!-- 20 -->\n      <g style=\"fill:#262626;\" transform=\"translate(7.2 47.046176)scale(0.11 -0.11)\">\n       <use xlink:href=\"#DejaVuSans-50\"/>\n       <use x=\"63.623047\" xlink:href=\"#DejaVuSans-48\"/>\n      </g>\n     </g>\n    </g>\n   </g>\n   <g id=\"line2d_11\">\n    <path clip-path=\"url(#p1b38da5878)\" d=\"M 45.915682 214.756364 \nL 45.915682 214.756364 \nL 61.934821 214.756364 \nL 61.934821 214.756364 \nL 77.953959 214.756364 \nL 77.953959 214.756364 \nL 93.973098 214.756364 \nL 93.973098 214.756364 \nL 109.992237 214.756364 \nL 109.992237 206.161897 \nL 126.011376 206.161897 \nL 126.011376 188.972964 \nL 142.030514 188.972964 \nL 142.030514 154.595099 \nL 158.049653 154.595099 \nL 158.049653 137.406166 \nL 174.068792 137.406166 \nL 174.068792 17.083636 \nL 190.087931 17.083636 \nL 190.087931 25.678103 \nL 206.107069 25.678103 \nL 206.107069 68.650435 \nL 222.126208 68.650435 \nL 222.126208 128.8117 \nL 238.145347 128.8117 \nL 238.145347 154.595099 \nL 254.164486 154.595099 \nL 254.164486 206.161897 \nL 270.183624 206.161897 \nL 270.183624 214.756364 \nL 286.202763 214.756364 \nL 286.202763 214.756364 \nL 302.221902 214.756364 \nL 302.221902 214.756364 \nL 318.241041 214.756364 \nL 318.241041 214.756364 \nL 334.260179 214.756364 \nL 334.260179 214.756364 \nL 350.279318 214.756364 \n\" style=\"fill:none;stroke:#4c72b0;stroke-linecap:round;stroke-width:1.5;\"/>\n   </g>\n   <g id=\"patch_3\">\n    <path d=\"M 30.6975 224.64 \nL 30.6975 7.2 \n\" style=\"fill:none;stroke:#ffffff;stroke-linecap:square;stroke-linejoin:miter;stroke-width:1.25;\"/>\n   </g>\n   <g id=\"patch_4\">\n    <path d=\"M 365.4975 224.64 \nL 365.4975 7.2 \n\" style=\"fill:none;stroke:#ffffff;stroke-linecap:square;stroke-linejoin:miter;stroke-width:1.25;\"/>\n   </g>\n   <g id=\"patch_5\">\n    <path d=\"M 30.6975 224.64 \nL 365.4975 224.64 \n\" style=\"fill:none;stroke:#ffffff;stroke-linecap:square;stroke-linejoin:miter;stroke-width:1.25;\"/>\n   </g>\n   <g id=\"patch_6\">\n    <path d=\"M 30.6975 7.2 \nL 365.4975 7.2 \n\" style=\"fill:none;stroke:#ffffff;stroke-linecap:square;stroke-linejoin:miter;stroke-width:1.25;\"/>\n   </g>\n  </g>\n </g>\n <defs>\n  <clipPath id=\"p1b38da5878\">\n   <rect height=\"217.44\" width=\"334.8\" x=\"30.6975\" y=\"7.2\"/>\n  </clipPath>\n </defs>\n</svg>\n",
      "image/png": "[encoded data removed]"
     },
     "metadata": {}
    }
   ],
   "source": [
    "np.random.seed(42)\n",
    "x = np.random.randn(100)\n",
    "\n",
    "bins = np.linspace(-5, 5, 20)\n",
    "counts = np.zeros_like(bins)\n",
    "\n",
    "i = np.searchsorted(bins, x)\n",
    "\n",
    "np.add.at(counts, i, 1)\n",
    "\n",
    "plt.plot(bins, counts, linestyle=\"steps\")"
   ]
  },
  {
   "cell_type": "code",
   "execution_count": 71,
   "metadata": {},
   "outputs": [
    {
     "output_type": "execute_result",
     "data": {
      "text/plain": "(array([ 0.,  0.,  0.,  0.,  1.,  3.,  7.,  9., 23., 22., 17., 10.,  7.,\n         1.,  0.,  0.,  0.,  0.,  0.]),\n array([-5.        , -4.47368421, -3.94736842, -3.42105263, -2.89473684,\n        -2.36842105, -1.84210526, -1.31578947, -0.78947368, -0.26315789,\n         0.26315789,  0.78947368,  1.31578947,  1.84210526,  2.36842105,\n         2.89473684,  3.42105263,  3.94736842,  4.47368421,  5.        ]),\n <a list of 1 Patch objects>)"
     },
     "metadata": {},
     "execution_count": 71
    },
    {
     "output_type": "display_data",
     "data": {
      "text/plain": "<Figure size 432x288 with 1 Axes>",
      "image/svg+xml": "<?xml version=\"1.0\" encoding=\"utf-8\" standalone=\"no\"?>\n<!DOCTYPE svg PUBLIC \"-//W3C//DTD SVG 1.1//EN\"\n  \"http://www.w3.org/Graphics/SVG/1.1/DTD/svg11.dtd\">\n<!-- Created with matplotlib (https://matplotlib.org/) -->\n<svg height=\"251.985937pt\" version=\"1.1\" viewBox=\"0 0 372.6975 251.985937\" width=\"372.6975pt\" xmlns=\"http://www.w3.org/2000/svg\" xmlns:xlink=\"http://www.w3.org/1999/xlink\">\n <defs>\n  <style type=\"text/css\">\n*{stroke-linecap:butt;stroke-linejoin:round;}\n  </style>\n </defs>\n <g id=\"figure_1\">\n  <g id=\"patch_1\">\n   <path d=\"M 0 251.985937 \nL 372.6975 251.985937 \nL 372.6975 0 \nL 0 0 \nz\n\" style=\"fill:#ffffff;\"/>\n  </g>\n  <g id=\"axes_1\">\n   <g id=\"patch_2\">\n    <path d=\"M 30.6975 224.64 \nL 365.4975 224.64 \nL 365.4975 7.2 \nL 30.6975 7.2 \nz\n\" style=\"fill:#eaeaf2;\"/>\n   </g>\n   <g id=\"matplotlib.axis_1\">\n    <g id=\"xtick_1\">\n     <g id=\"line2d_1\">\n      <path clip-path=\"url(#p6c66236420)\" d=\"M 76.352045 224.64 \nL 76.352045 7.2 \n\" style=\"fill:none;stroke:#ffffff;stroke-linecap:round;\"/>\n     </g>\n     <g id=\"text_1\">\n      <!-- −4 -->\n      <defs>\n       <path d=\"M 10.59375 35.5 \nL 73.1875 35.5 \nL 73.1875 27.203125 \nL 10.59375 27.203125 \nz\n\" id=\"DejaVuSans-8722\"/>\n       <path d=\"M 37.796875 64.3125 \nL 12.890625 25.390625 \nL 37.796875 25.390625 \nz\nM 35.203125 72.90625 \nL 47.609375 72.90625 \nL 47.609375 25.390625 \nL 58.015625 25.390625 \nL 58.015625 17.1875 \nL 47.609375 17.1875 \nL 47.609375 0 \nL 37.796875 0 \nL 37.796875 17.1875 \nL 4.890625 17.1875 \nL 4.890625 26.703125 \nz\n\" id=\"DejaVuSans-52\"/>\n      </defs>\n      <g style=\"fill:#262626;\" transform=\"translate(68.243842 242.498281)scale(0.11 -0.11)\">\n       <use xlink:href=\"#DejaVuSans-8722\"/>\n       <use x=\"83.789062\" xlink:href=\"#DejaVuSans-52\"/>\n      </g>\n     </g>\n    </g>\n    <g id=\"xtick_2\">\n     <g id=\"line2d_2\">\n      <path clip-path=\"url(#p6c66236420)\" d=\"M 137.224773 224.64 \nL 137.224773 7.2 \n\" style=\"fill:none;stroke:#ffffff;stroke-linecap:round;\"/>\n     </g>\n     <g id=\"text_2\">\n      <!-- −2 -->\n      <defs>\n       <path d=\"M 19.1875 8.296875 \nL 53.609375 8.296875 \nL 53.609375 0 \nL 7.328125 0 \nL 7.328125 8.296875 \nQ 12.9375 14.109375 22.625 23.890625 \nQ 32.328125 33.6875 34.8125 36.53125 \nQ 39.546875 41.84375 41.421875 45.53125 \nQ 43.3125 49.21875 43.3125 52.78125 \nQ 43.3125 58.59375 39.234375 62.25 \nQ 35.15625 65.921875 28.609375 65.921875 \nQ 23.96875 65.921875 18.8125 64.3125 \nQ 13.671875 62.703125 7.8125 59.421875 \nL 7.8125 69.390625 \nQ 13.765625 71.78125 18.9375 73 \nQ 24.125 74.21875 28.421875 74.21875 \nQ 39.75 74.21875 46.484375 68.546875 \nQ 53.21875 62.890625 53.21875 53.421875 \nQ 53.21875 48.921875 51.53125 44.890625 \nQ 49.859375 40.875 45.40625 35.40625 \nQ 44.1875 33.984375 37.640625 27.21875 \nQ 31.109375 20.453125 19.1875 8.296875 \nz\n\" id=\"DejaVuSans-50\"/>\n      </defs>\n      <g style=\"fill:#262626;\" transform=\"translate(129.11657 242.498281)scale(0.11 -0.11)\">\n       <use xlink:href=\"#DejaVuSans-8722\"/>\n       <use x=\"83.789062\" xlink:href=\"#DejaVuSans-50\"/>\n      </g>\n     </g>\n    </g>\n    <g id=\"xtick_3\">\n     <g id=\"line2d_3\">\n      <path clip-path=\"url(#p6c66236420)\" d=\"M 198.0975 224.64 \nL 198.0975 7.2 \n\" style=\"fill:none;stroke:#ffffff;stroke-linecap:round;\"/>\n     </g>\n     <g id=\"text_3\">\n      <!-- 0 -->\n      <defs>\n       <path d=\"M 31.78125 66.40625 \nQ 24.171875 66.40625 20.328125 58.90625 \nQ 16.5 51.421875 16.5 36.375 \nQ 16.5 21.390625 20.328125 13.890625 \nQ 24.171875 6.390625 31.78125 6.390625 \nQ 39.453125 6.390625 43.28125 13.890625 \nQ 47.125 21.390625 47.125 36.375 \nQ 47.125 51.421875 43.28125 58.90625 \nQ 39.453125 66.40625 31.78125 66.40625 \nz\nM 31.78125 74.21875 \nQ 44.046875 74.21875 50.515625 64.515625 \nQ 56.984375 54.828125 56.984375 36.375 \nQ 56.984375 17.96875 50.515625 8.265625 \nQ 44.046875 -1.421875 31.78125 -1.421875 \nQ 19.53125 -1.421875 13.0625 8.265625 \nQ 6.59375 17.96875 6.59375 36.375 \nQ 6.59375 54.828125 13.0625 64.515625 \nQ 19.53125 74.21875 31.78125 74.21875 \nz\n\" id=\"DejaVuSans-48\"/>\n      </defs>\n      <g style=\"fill:#262626;\" transform=\"translate(194.598125 242.498281)scale(0.11 -0.11)\">\n       <use xlink:href=\"#DejaVuSans-48\"/>\n      </g>\n     </g>\n    </g>\n    <g id=\"xtick_4\">\n     <g id=\"line2d_4\">\n      <path clip-path=\"url(#p6c66236420)\" d=\"M 258.970227 224.64 \nL 258.970227 7.2 \n\" style=\"fill:none;stroke:#ffffff;stroke-linecap:round;\"/>\n     </g>\n     <g id=\"text_4\">\n      <!-- 2 -->\n      <g style=\"fill:#262626;\" transform=\"translate(255.470852 242.498281)scale(0.11 -0.11)\">\n       <use xlink:href=\"#DejaVuSans-50\"/>\n      </g>\n     </g>\n    </g>\n    <g id=\"xtick_5\">\n     <g id=\"line2d_5\">\n      <path clip-path=\"url(#p6c66236420)\" d=\"M 319.842955 224.64 \nL 319.842955 7.2 \n\" style=\"fill:none;stroke:#ffffff;stroke-linecap:round;\"/>\n     </g>\n     <g id=\"text_5\">\n      <!-- 4 -->\n      <g style=\"fill:#262626;\" transform=\"translate(316.34358 242.498281)scale(0.11 -0.11)\">\n       <use xlink:href=\"#DejaVuSans-52\"/>\n      </g>\n     </g>\n    </g>\n   </g>\n   <g id=\"matplotlib.axis_2\">\n    <g id=\"ytick_1\">\n     <g id=\"line2d_6\">\n      <path clip-path=\"url(#p6c66236420)\" d=\"M 30.6975 224.64 \nL 365.4975 224.64 \n\" style=\"fill:none;stroke:#ffffff;stroke-linecap:round;\"/>\n     </g>\n     <g id=\"text_6\">\n      <!-- 0 -->\n      <g style=\"fill:#262626;\" transform=\"translate(14.19875 228.819141)scale(0.11 -0.11)\">\n       <use xlink:href=\"#DejaVuSans-48\"/>\n      </g>\n     </g>\n    </g>\n    <g id=\"ytick_2\">\n     <g id=\"line2d_7\">\n      <path clip-path=\"url(#p6c66236420)\" d=\"M 30.6975 179.621366 \nL 365.4975 179.621366 \n\" style=\"fill:none;stroke:#ffffff;stroke-linecap:round;\"/>\n     </g>\n     <g id=\"text_7\">\n      <!-- 5 -->\n      <defs>\n       <path d=\"M 10.796875 72.90625 \nL 49.515625 72.90625 \nL 49.515625 64.59375 \nL 19.828125 64.59375 \nL 19.828125 46.734375 \nQ 21.96875 47.46875 24.109375 47.828125 \nQ 26.265625 48.1875 28.421875 48.1875 \nQ 40.625 48.1875 47.75 41.5 \nQ 54.890625 34.8125 54.890625 23.390625 \nQ 54.890625 11.625 47.5625 5.09375 \nQ 40.234375 -1.421875 26.90625 -1.421875 \nQ 22.3125 -1.421875 17.546875 -0.640625 \nQ 12.796875 0.140625 7.71875 1.703125 \nL 7.71875 11.625 \nQ 12.109375 9.234375 16.796875 8.0625 \nQ 21.484375 6.890625 26.703125 6.890625 \nQ 35.15625 6.890625 40.078125 11.328125 \nQ 45.015625 15.765625 45.015625 23.390625 \nQ 45.015625 31 40.078125 35.4375 \nQ 35.15625 39.890625 26.703125 39.890625 \nQ 22.75 39.890625 18.8125 39.015625 \nQ 14.890625 38.140625 10.796875 36.28125 \nz\n\" id=\"DejaVuSans-53\"/>\n      </defs>\n      <g style=\"fill:#262626;\" transform=\"translate(14.19875 183.800507)scale(0.11 -0.11)\">\n       <use xlink:href=\"#DejaVuSans-53\"/>\n      </g>\n     </g>\n    </g>\n    <g id=\"ytick_3\">\n     <g id=\"line2d_8\">\n      <path clip-path=\"url(#p6c66236420)\" d=\"M 30.6975 134.602733 \nL 365.4975 134.602733 \n\" style=\"fill:none;stroke:#ffffff;stroke-linecap:round;\"/>\n     </g>\n     <g id=\"text_8\">\n      <!-- 10 -->\n      <defs>\n       <path d=\"M 12.40625 8.296875 \nL 28.515625 8.296875 \nL 28.515625 63.921875 \nL 10.984375 60.40625 \nL 10.984375 69.390625 \nL 28.421875 72.90625 \nL 38.28125 72.90625 \nL 38.28125 8.296875 \nL 54.390625 8.296875 \nL 54.390625 0 \nL 12.40625 0 \nz\n\" id=\"DejaVuSans-49\"/>\n      </defs>\n      <g style=\"fill:#262626;\" transform=\"translate(7.2 138.781874)scale(0.11 -0.11)\">\n       <use xlink:href=\"#DejaVuSans-49\"/>\n       <use x=\"63.623047\" xlink:href=\"#DejaVuSans-48\"/>\n      </g>\n     </g>\n    </g>\n    <g id=\"ytick_4\">\n     <g id=\"line2d_9\">\n      <path clip-path=\"url(#p6c66236420)\" d=\"M 30.6975 89.584099 \nL 365.4975 89.584099 \n\" style=\"fill:none;stroke:#ffffff;stroke-linecap:round;\"/>\n     </g>\n     <g id=\"text_9\">\n      <!-- 15 -->\n      <g style=\"fill:#262626;\" transform=\"translate(7.2 93.76324)scale(0.11 -0.11)\">\n       <use xlink:href=\"#DejaVuSans-49\"/>\n       <use x=\"63.623047\" xlink:href=\"#DejaVuSans-53\"/>\n      </g>\n     </g>\n    </g>\n    <g id=\"ytick_5\">\n     <g id=\"line2d_10\">\n      <path clip-path=\"url(#p6c66236420)\" d=\"M 30.6975 44.565466 \nL 365.4975 44.565466 \n\" style=\"fill:none;stroke:#ffffff;stroke-linecap:round;\"/>\n     </g>\n     <g id=\"text_10\">\n      <!-- 20 -->\n      <g style=\"fill:#262626;\" transform=\"translate(7.2 48.744606)scale(0.11 -0.11)\">\n       <use xlink:href=\"#DejaVuSans-50\"/>\n       <use x=\"63.623047\" xlink:href=\"#DejaVuSans-48\"/>\n      </g>\n     </g>\n    </g>\n   </g>\n   <g id=\"patch_3\">\n    <path clip-path=\"url(#p6c66236420)\" d=\"M 45.915682 224.64 \nL 45.915682 224.64 \nL 61.934821 224.64 \nL 61.934821 224.64 \nL 77.953959 224.64 \nL 77.953959 224.64 \nL 93.973098 224.64 \nL 93.973098 224.64 \nL 109.992237 224.64 \nL 109.992237 215.636273 \nL 126.011376 215.636273 \nL 126.011376 197.62882 \nL 142.030514 197.62882 \nL 142.030514 161.613913 \nL 158.049653 161.613913 \nL 158.049653 143.60646 \nL 174.068792 143.60646 \nL 174.068792 17.554286 \nL 190.087931 17.554286 \nL 190.087931 26.558012 \nL 206.107069 26.558012 \nL 206.107069 71.576646 \nL 222.126208 71.576646 \nL 222.126208 134.602733 \nL 238.145347 134.602733 \nL 238.145347 161.613913 \nL 254.164486 161.613913 \nL 254.164486 215.636273 \nL 270.183624 215.636273 \nL 270.183624 224.64 \nL 286.202763 224.64 \nL 286.202763 224.64 \nL 302.221902 224.64 \nL 302.221902 224.64 \nL 318.241041 224.64 \nL 318.241041 224.64 \nL 334.260179 224.64 \nL 334.260179 224.64 \nL 350.279318 224.64 \nL 350.279318 224.64 \n\" style=\"fill:none;stroke:#4c72b0;stroke-linejoin:miter;\"/>\n   </g>\n   <g id=\"patch_4\">\n    <path d=\"M 30.6975 224.64 \nL 30.6975 7.2 \n\" style=\"fill:none;stroke:#ffffff;stroke-linecap:square;stroke-linejoin:miter;stroke-width:1.25;\"/>\n   </g>\n   <g id=\"patch_5\">\n    <path d=\"M 365.4975 224.64 \nL 365.4975 7.2 \n\" style=\"fill:none;stroke:#ffffff;stroke-linecap:square;stroke-linejoin:miter;stroke-width:1.25;\"/>\n   </g>\n   <g id=\"patch_6\">\n    <path d=\"M 30.6975 224.64 \nL 365.4975 224.64 \n\" style=\"fill:none;stroke:#ffffff;stroke-linecap:square;stroke-linejoin:miter;stroke-width:1.25;\"/>\n   </g>\n   <g id=\"patch_7\">\n    <path d=\"M 30.6975 7.2 \nL 365.4975 7.2 \n\" style=\"fill:none;stroke:#ffffff;stroke-linecap:square;stroke-linejoin:miter;stroke-width:1.25;\"/>\n   </g>\n  </g>\n </g>\n <defs>\n  <clipPath id=\"p6c66236420\">\n   <rect height=\"217.44\" width=\"334.8\" x=\"30.6975\" y=\"7.2\"/>\n  </clipPath>\n </defs>\n</svg>\n",
      "image/png": "[encoded data removed]"
     },
     "metadata": {}
    }
   ],
   "source": [
    "plt.hist(x, bins, histtype=\"step\")"
   ]
  },
  {
   "cell_type": "code",
   "execution_count": 72,
   "metadata": {
    "tags": []
   },
   "outputs": [
    {
     "output_type": "stream",
     "name": "stdout",
     "text": "NumPy routine:\n21.9 µs ± 225 ns per loop (mean ± std. dev. of 7 runs, 10000 loops each)\nCustom routine:\n10.4 µs ± 220 ns per loop (mean ± std. dev. of 7 runs, 100000 loops each)\n"
    }
   ],
   "source": [
    "print(\"NumPy routine:\")\n",
    "%timeit counts, edges = np.histogram(x, bins)\n",
    "print(\"Custom routine:\")\n",
    "%timeit np.add.at(counts, np.searchsorted(bins, x), 1)"
   ]
  },
  {
   "cell_type": "code",
   "execution_count": 74,
   "metadata": {},
   "outputs": [
    {
     "output_type": "execute_result",
     "data": {
      "text/plain": "array([1, 2, 3, 4, 5])"
     },
     "metadata": {},
     "execution_count": 74
    }
   ],
   "source": [
    "def selection_sort(x):\n",
    "    for i in range(len(x)):\n",
    "        xmin = i + np.argmin(x[i:])\n",
    "        (x[xmin], x[i]) = (x[i], x[xmin])\n",
    "    return x\n",
    "\n",
    "x = np.array([2, 1, 4, 3, 5])\n",
    "selection_sort(x)"
   ]
  },
  {
   "cell_type": "code",
   "execution_count": 75,
   "metadata": {},
   "outputs": [
    {
     "output_type": "execute_result",
     "data": {
      "text/plain": "array([1, 2, 3, 4, 5])"
     },
     "metadata": {},
     "execution_count": 75
    }
   ],
   "source": [
    "x = np.array([2, 1, 4, 3, 5])\n",
    "np.sort(x) # Returns sorted array"
   ]
  },
  {
   "cell_type": "code",
   "execution_count": 76,
   "metadata": {},
   "outputs": [],
   "source": [
    "x.sort() # Sorts the array in-place"
   ]
  },
  {
   "cell_type": "code",
   "execution_count": 77,
   "metadata": {},
   "outputs": [
    {
     "output_type": "execute_result",
     "data": {
      "text/plain": "array([1, 2, 3, 4, 5])"
     },
     "metadata": {},
     "execution_count": 77
    }
   ],
   "source": [
    "x"
   ]
  },
  {
   "cell_type": "code",
   "execution_count": 78,
   "metadata": {},
   "outputs": [
    {
     "output_type": "execute_result",
     "data": {
      "text/plain": "array([0, 1, 2, 3, 4])"
     },
     "metadata": {},
     "execution_count": 78
    }
   ],
   "source": [
    "i = np.argsort(x)\n",
    "i"
   ]
  },
  {
   "cell_type": "code",
   "execution_count": 79,
   "metadata": {},
   "outputs": [
    {
     "output_type": "execute_result",
     "data": {
      "text/plain": "array([0, 2, 2, 3, 5])"
     },
     "metadata": {},
     "execution_count": 79
    }
   ],
   "source": [
    "x = np.array([2,5,3,2,0])\n",
    "i = np.argsort(x)\n",
    "x[i]"
   ]
  },
  {
   "cell_type": "code",
   "execution_count": 80,
   "metadata": {},
   "outputs": [
    {
     "output_type": "execute_result",
     "data": {
      "text/plain": "array([4, 0, 3, 2, 1])"
     },
     "metadata": {},
     "execution_count": 80
    }
   ],
   "source": [
    "i"
   ]
  },
  {
   "cell_type": "code",
   "execution_count": 81,
   "metadata": {},
   "outputs": [
    {
     "output_type": "execute_result",
     "data": {
      "text/plain": "array([[6, 3, 7, 4, 6, 9],\n       [2, 6, 7, 4, 3, 7],\n       [7, 2, 5, 4, 1, 7],\n       [5, 1, 4, 0, 9, 5]])"
     },
     "metadata": {},
     "execution_count": 81
    }
   ],
   "source": [
    "rand = np.random.RandomState(42)\n",
    "X = rand.randint(0, 10, (4, 6))\n",
    "X"
   ]
  },
  {
   "cell_type": "code",
   "execution_count": 82,
   "metadata": {},
   "outputs": [
    {
     "output_type": "execute_result",
     "data": {
      "text/plain": "array([[2, 1, 4, 0, 1, 5],\n       [5, 2, 5, 4, 3, 7],\n       [6, 3, 7, 4, 6, 7],\n       [7, 6, 7, 4, 9, 9]])"
     },
     "metadata": {},
     "execution_count": 82
    }
   ],
   "source": [
    "np.sort(X, axis=0)"
   ]
  },
  {
   "cell_type": "code",
   "execution_count": 83,
   "metadata": {},
   "outputs": [
    {
     "output_type": "execute_result",
     "data": {
      "text/plain": "array([[3, 4, 6, 6, 7, 9],\n       [2, 3, 4, 6, 7, 7],\n       [1, 2, 4, 5, 7, 7],\n       [0, 1, 4, 5, 5, 9]])"
     },
     "metadata": {},
     "execution_count": 83
    }
   ],
   "source": [
    "np.sort(X, axis=1)"
   ]
  },
  {
   "cell_type": "code",
   "execution_count": 84,
   "metadata": {},
   "outputs": [
    {
     "output_type": "execute_result",
     "data": {
      "text/plain": "array([2, 1, 3, 4, 6, 5, 7])"
     },
     "metadata": {},
     "execution_count": 84
    }
   ],
   "source": [
    "x = np.array([7, 2, 3 , 1, 6, 5, 4])\n",
    "np.partition(x, 3)"
   ]
  },
  {
   "cell_type": "code",
   "execution_count": 85,
   "metadata": {},
   "outputs": [
    {
     "output_type": "execute_result",
     "data": {
      "text/plain": "array([[3, 4, 6, 7, 6, 9],\n       [2, 3, 4, 7, 6, 7],\n       [1, 2, 4, 5, 7, 7],\n       [0, 1, 4, 5, 9, 5]])"
     },
     "metadata": {},
     "execution_count": 85
    }
   ],
   "source": [
    "np.partition(X, 2, axis=1)"
   ]
  },
  {
   "cell_type": "code",
   "execution_count": 86,
   "metadata": {},
   "outputs": [
    {
     "output_type": "execute_result",
     "data": {
      "text/plain": "array([[0.00706631, 0.02306243],\n       [0.52477466, 0.39986097],\n       [0.04666566, 0.97375552],\n       [0.23277134, 0.09060643],\n       [0.61838601, 0.38246199],\n       [0.98323089, 0.46676289],\n       [0.85994041, 0.68030754],\n       [0.45049925, 0.01326496],\n       [0.94220176, 0.56328822],\n       [0.3854165 , 0.01596625]])"
     },
     "metadata": {},
     "execution_count": 86
    }
   ],
   "source": [
    "X = rand.rand(10, 2)\n",
    "X"
   ]
  },
  {
   "cell_type": "code",
   "execution_count": 101,
   "metadata": {
    "tags": []
   },
   "outputs": [
    {
     "output_type": "stream",
     "name": "stdout",
     "text": "[0.00706631 0.52477466 0.04666566 0.23277134 0.61838601 0.98323089\n 0.85994041 0.45049925 0.94220176 0.3854165 ]\n"
    },
    {
     "output_type": "execute_result",
     "data": {
      "text/plain": "<matplotlib.collections.PathCollection at 0x7f30991c9e20>"
     },
     "metadata": {},
     "execution_count": 101
    },
    {
     "output_type": "display_data",
     "data": {
      "text/plain": "<Figure size 432x288 with 1 Axes>",
      "image/svg+xml": "<?xml version=\"1.0\" encoding=\"utf-8\" standalone=\"no\"?>\n<!DOCTYPE svg PUBLIC \"-//W3C//DTD SVG 1.1//EN\"\n  \"http://www.w3.org/Graphics/SVG/1.1/DTD/svg11.dtd\">\n<!-- Created with matplotlib (https://matplotlib.org/) -->\n<svg height=\"251.985937pt\" version=\"1.1\" viewBox=\"0 0 376.193437 251.985937\" width=\"376.193437pt\" xmlns=\"http://www.w3.org/2000/svg\" xmlns:xlink=\"http://www.w3.org/1999/xlink\">\n <defs>\n  <style type=\"text/css\">\n*{stroke-linecap:butt;stroke-linejoin:round;}\n  </style>\n </defs>\n <g id=\"figure_1\">\n  <g id=\"patch_1\">\n   <path d=\"M 0 251.985937 \nL 376.193437 251.985937 \nL 376.193437 0 \nL 0 0 \nz\n\" style=\"fill:#ffffff;\"/>\n  </g>\n  <g id=\"axes_1\">\n   <g id=\"patch_2\">\n    <path d=\"M 34.193438 224.64 \nL 368.993438 224.64 \nL 368.993438 7.2 \nL 34.193438 7.2 \nz\n\" style=\"fill:#eaeaf2;\"/>\n   </g>\n   <g id=\"matplotlib.axis_1\">\n    <g id=\"xtick_1\">\n     <g id=\"line2d_1\">\n      <path clip-path=\"url(#p705ae8a62c)\" d=\"M 47.208378 224.64 \nL 47.208378 7.2 \n\" style=\"fill:none;stroke:#ffffff;stroke-linecap:round;\"/>\n     </g>\n     <g id=\"text_1\">\n      <!-- 0.0 -->\n      <defs>\n       <path d=\"M 31.78125 66.40625 \nQ 24.171875 66.40625 20.328125 58.90625 \nQ 16.5 51.421875 16.5 36.375 \nQ 16.5 21.390625 20.328125 13.890625 \nQ 24.171875 6.390625 31.78125 6.390625 \nQ 39.453125 6.390625 43.28125 13.890625 \nQ 47.125 21.390625 47.125 36.375 \nQ 47.125 51.421875 43.28125 58.90625 \nQ 39.453125 66.40625 31.78125 66.40625 \nz\nM 31.78125 74.21875 \nQ 44.046875 74.21875 50.515625 64.515625 \nQ 56.984375 54.828125 56.984375 36.375 \nQ 56.984375 17.96875 50.515625 8.265625 \nQ 44.046875 -1.421875 31.78125 -1.421875 \nQ 19.53125 -1.421875 13.0625 8.265625 \nQ 6.59375 17.96875 6.59375 36.375 \nQ 6.59375 54.828125 13.0625 64.515625 \nQ 19.53125 74.21875 31.78125 74.21875 \nz\n\" id=\"DejaVuSans-48\"/>\n       <path d=\"M 10.6875 12.40625 \nL 21 12.40625 \nL 21 0 \nL 10.6875 0 \nz\n\" id=\"DejaVuSans-46\"/>\n      </defs>\n      <g style=\"fill:#262626;\" transform=\"translate(38.461659 242.498281)scale(0.11 -0.11)\">\n       <use xlink:href=\"#DejaVuSans-48\"/>\n       <use x=\"63.623047\" xlink:href=\"#DejaVuSans-46\"/>\n       <use x=\"95.410156\" xlink:href=\"#DejaVuSans-48\"/>\n      </g>\n     </g>\n    </g>\n    <g id=\"xtick_2\">\n     <g id=\"line2d_2\">\n      <path clip-path=\"url(#p705ae8a62c)\" d=\"M 109.56746 224.64 \nL 109.56746 7.2 \n\" style=\"fill:none;stroke:#ffffff;stroke-linecap:round;\"/>\n     </g>\n     <g id=\"text_2\">\n      <!-- 0.2 -->\n      <defs>\n       <path d=\"M 19.1875 8.296875 \nL 53.609375 8.296875 \nL 53.609375 0 \nL 7.328125 0 \nL 7.328125 8.296875 \nQ 12.9375 14.109375 22.625 23.890625 \nQ 32.328125 33.6875 34.8125 36.53125 \nQ 39.546875 41.84375 41.421875 45.53125 \nQ 43.3125 49.21875 43.3125 52.78125 \nQ 43.3125 58.59375 39.234375 62.25 \nQ 35.15625 65.921875 28.609375 65.921875 \nQ 23.96875 65.921875 18.8125 64.3125 \nQ 13.671875 62.703125 7.8125 59.421875 \nL 7.8125 69.390625 \nQ 13.765625 71.78125 18.9375 73 \nQ 24.125 74.21875 28.421875 74.21875 \nQ 39.75 74.21875 46.484375 68.546875 \nQ 53.21875 62.890625 53.21875 53.421875 \nQ 53.21875 48.921875 51.53125 44.890625 \nQ 49.859375 40.875 45.40625 35.40625 \nQ 44.1875 33.984375 37.640625 27.21875 \nQ 31.109375 20.453125 19.1875 8.296875 \nz\n\" id=\"DejaVuSans-50\"/>\n      </defs>\n      <g style=\"fill:#262626;\" transform=\"translate(100.820741 242.498281)scale(0.11 -0.11)\">\n       <use xlink:href=\"#DejaVuSans-48\"/>\n       <use x=\"63.623047\" xlink:href=\"#DejaVuSans-46\"/>\n       <use x=\"95.410156\" xlink:href=\"#DejaVuSans-50\"/>\n      </g>\n     </g>\n    </g>\n    <g id=\"xtick_3\">\n     <g id=\"line2d_3\">\n      <path clip-path=\"url(#p705ae8a62c)\" d=\"M 171.926542 224.64 \nL 171.926542 7.2 \n\" style=\"fill:none;stroke:#ffffff;stroke-linecap:round;\"/>\n     </g>\n     <g id=\"text_3\">\n      <!-- 0.4 -->\n      <defs>\n       <path d=\"M 37.796875 64.3125 \nL 12.890625 25.390625 \nL 37.796875 25.390625 \nz\nM 35.203125 72.90625 \nL 47.609375 72.90625 \nL 47.609375 25.390625 \nL 58.015625 25.390625 \nL 58.015625 17.1875 \nL 47.609375 17.1875 \nL 47.609375 0 \nL 37.796875 0 \nL 37.796875 17.1875 \nL 4.890625 17.1875 \nL 4.890625 26.703125 \nz\n\" id=\"DejaVuSans-52\"/>\n      </defs>\n      <g style=\"fill:#262626;\" transform=\"translate(163.179823 242.498281)scale(0.11 -0.11)\">\n       <use xlink:href=\"#DejaVuSans-48\"/>\n       <use x=\"63.623047\" xlink:href=\"#DejaVuSans-46\"/>\n       <use x=\"95.410156\" xlink:href=\"#DejaVuSans-52\"/>\n      </g>\n     </g>\n    </g>\n    <g id=\"xtick_4\">\n     <g id=\"line2d_4\">\n      <path clip-path=\"url(#p705ae8a62c)\" d=\"M 234.285624 224.64 \nL 234.285624 7.2 \n\" style=\"fill:none;stroke:#ffffff;stroke-linecap:round;\"/>\n     </g>\n     <g id=\"text_4\">\n      <!-- 0.6 -->\n      <defs>\n       <path d=\"M 33.015625 40.375 \nQ 26.375 40.375 22.484375 35.828125 \nQ 18.609375 31.296875 18.609375 23.390625 \nQ 18.609375 15.53125 22.484375 10.953125 \nQ 26.375 6.390625 33.015625 6.390625 \nQ 39.65625 6.390625 43.53125 10.953125 \nQ 47.40625 15.53125 47.40625 23.390625 \nQ 47.40625 31.296875 43.53125 35.828125 \nQ 39.65625 40.375 33.015625 40.375 \nz\nM 52.59375 71.296875 \nL 52.59375 62.3125 \nQ 48.875 64.0625 45.09375 64.984375 \nQ 41.3125 65.921875 37.59375 65.921875 \nQ 27.828125 65.921875 22.671875 59.328125 \nQ 17.53125 52.734375 16.796875 39.40625 \nQ 19.671875 43.65625 24.015625 45.921875 \nQ 28.375 48.1875 33.59375 48.1875 \nQ 44.578125 48.1875 50.953125 41.515625 \nQ 57.328125 34.859375 57.328125 23.390625 \nQ 57.328125 12.15625 50.6875 5.359375 \nQ 44.046875 -1.421875 33.015625 -1.421875 \nQ 20.359375 -1.421875 13.671875 8.265625 \nQ 6.984375 17.96875 6.984375 36.375 \nQ 6.984375 53.65625 15.1875 63.9375 \nQ 23.390625 74.21875 37.203125 74.21875 \nQ 40.921875 74.21875 44.703125 73.484375 \nQ 48.484375 72.75 52.59375 71.296875 \nz\n\" id=\"DejaVuSans-54\"/>\n      </defs>\n      <g style=\"fill:#262626;\" transform=\"translate(225.538905 242.498281)scale(0.11 -0.11)\">\n       <use xlink:href=\"#DejaVuSans-48\"/>\n       <use x=\"63.623047\" xlink:href=\"#DejaVuSans-46\"/>\n       <use x=\"95.410156\" xlink:href=\"#DejaVuSans-54\"/>\n      </g>\n     </g>\n    </g>\n    <g id=\"xtick_5\">\n     <g id=\"line2d_5\">\n      <path clip-path=\"url(#p705ae8a62c)\" d=\"M 296.644706 224.64 \nL 296.644706 7.2 \n\" style=\"fill:none;stroke:#ffffff;stroke-linecap:round;\"/>\n     </g>\n     <g id=\"text_5\">\n      <!-- 0.8 -->\n      <defs>\n       <path d=\"M 31.78125 34.625 \nQ 24.75 34.625 20.71875 30.859375 \nQ 16.703125 27.09375 16.703125 20.515625 \nQ 16.703125 13.921875 20.71875 10.15625 \nQ 24.75 6.390625 31.78125 6.390625 \nQ 38.8125 6.390625 42.859375 10.171875 \nQ 46.921875 13.96875 46.921875 20.515625 \nQ 46.921875 27.09375 42.890625 30.859375 \nQ 38.875 34.625 31.78125 34.625 \nz\nM 21.921875 38.8125 \nQ 15.578125 40.375 12.03125 44.71875 \nQ 8.5 49.078125 8.5 55.328125 \nQ 8.5 64.0625 14.71875 69.140625 \nQ 20.953125 74.21875 31.78125 74.21875 \nQ 42.671875 74.21875 48.875 69.140625 \nQ 55.078125 64.0625 55.078125 55.328125 \nQ 55.078125 49.078125 51.53125 44.71875 \nQ 48 40.375 41.703125 38.8125 \nQ 48.828125 37.15625 52.796875 32.3125 \nQ 56.78125 27.484375 56.78125 20.515625 \nQ 56.78125 9.90625 50.3125 4.234375 \nQ 43.84375 -1.421875 31.78125 -1.421875 \nQ 19.734375 -1.421875 13.25 4.234375 \nQ 6.78125 9.90625 6.78125 20.515625 \nQ 6.78125 27.484375 10.78125 32.3125 \nQ 14.796875 37.15625 21.921875 38.8125 \nz\nM 18.3125 54.390625 \nQ 18.3125 48.734375 21.84375 45.5625 \nQ 25.390625 42.390625 31.78125 42.390625 \nQ 38.140625 42.390625 41.71875 45.5625 \nQ 45.3125 48.734375 45.3125 54.390625 \nQ 45.3125 60.0625 41.71875 63.234375 \nQ 38.140625 66.40625 31.78125 66.40625 \nQ 25.390625 66.40625 21.84375 63.234375 \nQ 18.3125 60.0625 18.3125 54.390625 \nz\n\" id=\"DejaVuSans-56\"/>\n      </defs>\n      <g style=\"fill:#262626;\" transform=\"translate(287.897988 242.498281)scale(0.11 -0.11)\">\n       <use xlink:href=\"#DejaVuSans-48\"/>\n       <use x=\"63.623047\" xlink:href=\"#DejaVuSans-46\"/>\n       <use x=\"95.410156\" xlink:href=\"#DejaVuSans-56\"/>\n      </g>\n     </g>\n    </g>\n    <g id=\"xtick_6\">\n     <g id=\"line2d_6\">\n      <path clip-path=\"url(#p705ae8a62c)\" d=\"M 359.003789 224.64 \nL 359.003789 7.2 \n\" style=\"fill:none;stroke:#ffffff;stroke-linecap:round;\"/>\n     </g>\n     <g id=\"text_6\">\n      <!-- 1.0 -->\n      <defs>\n       <path d=\"M 12.40625 8.296875 \nL 28.515625 8.296875 \nL 28.515625 63.921875 \nL 10.984375 60.40625 \nL 10.984375 69.390625 \nL 28.421875 72.90625 \nL 38.28125 72.90625 \nL 38.28125 8.296875 \nL 54.390625 8.296875 \nL 54.390625 0 \nL 12.40625 0 \nz\n\" id=\"DejaVuSans-49\"/>\n      </defs>\n      <g style=\"fill:#262626;\" transform=\"translate(350.25707 242.498281)scale(0.11 -0.11)\">\n       <use xlink:href=\"#DejaVuSans-49\"/>\n       <use x=\"63.623047\" xlink:href=\"#DejaVuSans-46\"/>\n       <use x=\"95.410156\" xlink:href=\"#DejaVuSans-48\"/>\n      </g>\n     </g>\n    </g>\n   </g>\n   <g id=\"matplotlib.axis_2\">\n    <g id=\"ytick_1\">\n     <g id=\"line2d_7\">\n      <path clip-path=\"url(#p705ae8a62c)\" d=\"M 34.193438 217.486345 \nL 368.993438 217.486345 \n\" style=\"fill:none;stroke:#ffffff;stroke-linecap:round;\"/>\n     </g>\n     <g id=\"text_7\">\n      <!-- 0.0 -->\n      <g style=\"fill:#262626;\" transform=\"translate(7.2 221.665485)scale(0.11 -0.11)\">\n       <use xlink:href=\"#DejaVuSans-48\"/>\n       <use x=\"63.623047\" xlink:href=\"#DejaVuSans-46\"/>\n       <use x=\"95.410156\" xlink:href=\"#DejaVuSans-48\"/>\n      </g>\n     </g>\n    </g>\n    <g id=\"ytick_2\">\n     <g id=\"line2d_8\">\n      <path clip-path=\"url(#p705ae8a62c)\" d=\"M 34.193438 176.32556 \nL 368.993438 176.32556 \n\" style=\"fill:none;stroke:#ffffff;stroke-linecap:round;\"/>\n     </g>\n     <g id=\"text_8\">\n      <!-- 0.2 -->\n      <g style=\"fill:#262626;\" transform=\"translate(7.2 180.5047)scale(0.11 -0.11)\">\n       <use xlink:href=\"#DejaVuSans-48\"/>\n       <use x=\"63.623047\" xlink:href=\"#DejaVuSans-46\"/>\n       <use x=\"95.410156\" xlink:href=\"#DejaVuSans-50\"/>\n      </g>\n     </g>\n    </g>\n    <g id=\"ytick_3\">\n     <g id=\"line2d_9\">\n      <path clip-path=\"url(#p705ae8a62c)\" d=\"M 34.193438 135.164774 \nL 368.993438 135.164774 \n\" style=\"fill:none;stroke:#ffffff;stroke-linecap:round;\"/>\n     </g>\n     <g id=\"text_9\">\n      <!-- 0.4 -->\n      <g style=\"fill:#262626;\" transform=\"translate(7.2 139.343915)scale(0.11 -0.11)\">\n       <use xlink:href=\"#DejaVuSans-48\"/>\n       <use x=\"63.623047\" xlink:href=\"#DejaVuSans-46\"/>\n       <use x=\"95.410156\" xlink:href=\"#DejaVuSans-52\"/>\n      </g>\n     </g>\n    </g>\n    <g id=\"ytick_4\">\n     <g id=\"line2d_10\">\n      <path clip-path=\"url(#p705ae8a62c)\" d=\"M 34.193438 94.003989 \nL 368.993438 94.003989 \n\" style=\"fill:none;stroke:#ffffff;stroke-linecap:round;\"/>\n     </g>\n     <g id=\"text_10\">\n      <!-- 0.6 -->\n      <g style=\"fill:#262626;\" transform=\"translate(7.2 98.18313)scale(0.11 -0.11)\">\n       <use xlink:href=\"#DejaVuSans-48\"/>\n       <use x=\"63.623047\" xlink:href=\"#DejaVuSans-46\"/>\n       <use x=\"95.410156\" xlink:href=\"#DejaVuSans-54\"/>\n      </g>\n     </g>\n    </g>\n    <g id=\"ytick_5\">\n     <g id=\"line2d_11\">\n      <path clip-path=\"url(#p705ae8a62c)\" d=\"M 34.193438 52.843204 \nL 368.993438 52.843204 \n\" style=\"fill:none;stroke:#ffffff;stroke-linecap:round;\"/>\n     </g>\n     <g id=\"text_11\">\n      <!-- 0.8 -->\n      <g style=\"fill:#262626;\" transform=\"translate(7.2 57.022345)scale(0.11 -0.11)\">\n       <use xlink:href=\"#DejaVuSans-48\"/>\n       <use x=\"63.623047\" xlink:href=\"#DejaVuSans-46\"/>\n       <use x=\"95.410156\" xlink:href=\"#DejaVuSans-56\"/>\n      </g>\n     </g>\n    </g>\n    <g id=\"ytick_6\">\n     <g id=\"line2d_12\">\n      <path clip-path=\"url(#p705ae8a62c)\" d=\"M 34.193438 11.682419 \nL 368.993438 11.682419 \n\" style=\"fill:none;stroke:#ffffff;stroke-linecap:round;\"/>\n     </g>\n     <g id=\"text_12\">\n      <!-- 1.0 -->\n      <g style=\"fill:#262626;\" transform=\"translate(7.2 15.86156)scale(0.11 -0.11)\">\n       <use xlink:href=\"#DejaVuSans-49\"/>\n       <use x=\"63.623047\" xlink:href=\"#DejaVuSans-46\"/>\n       <use x=\"95.410156\" xlink:href=\"#DejaVuSans-48\"/>\n      </g>\n     </g>\n    </g>\n   </g>\n   <g id=\"PathCollection_1\">\n    <defs>\n     <path d=\"M 0 5 \nC 1.326016 5 2.597899 4.473168 3.535534 3.535534 \nC 4.473168 2.597899 5 1.326016 5 0 \nC 5 -1.326016 4.473168 -2.597899 3.535534 -3.535534 \nC 2.597899 -4.473168 1.326016 -5 0 -5 \nC -1.326016 -5 -2.597899 -4.473168 -3.535534 -3.535534 \nC -4.473168 -2.597899 -5 -1.326016 -5 0 \nC -5 1.326016 -4.473168 2.597899 -3.535534 3.535534 \nC -2.597899 4.473168 -1.326016 5 0 5 \nz\n\" id=\"m0d505b0874\" style=\"stroke:#4c72b0;\"/>\n    </defs>\n    <g clip-path=\"url(#p705ae8a62c)\">\n     <use style=\"fill:#4c72b0;stroke:#4c72b0;\" x=\"49.411619\" xlink:href=\"#m0d505b0874\" y=\"212.740007\"/>\n     <use style=\"fill:#4c72b0;stroke:#4c72b0;\" x=\"210.830709\" xlink:href=\"#m0d505b0874\" y=\"135.193387\"/>\n     <use style=\"fill:#4c72b0;stroke:#4c72b0;\" x=\"61.758517\" xlink:href=\"#m0d505b0874\" y=\"17.083636\"/>\n     <use style=\"fill:#4c72b0;stroke:#4c72b0;\" x=\"119.785413\" xlink:href=\"#m0d505b0874\" y=\"198.839185\"/>\n     <use style=\"fill:#4c72b0;stroke:#4c72b0;\" x=\"240.018298\" xlink:href=\"#m0d505b0874\" y=\"138.774166\"/>\n     <use style=\"fill:#4c72b0;stroke:#4c72b0;\" x=\"353.775256\" xlink:href=\"#m0d505b0874\" y=\"121.424709\"/>\n     <use style=\"fill:#4c72b0;stroke:#4c72b0;\" x=\"315.33385\" xlink:href=\"#m0d505b0874\" y=\"77.476383\"/>\n     <use style=\"fill:#4c72b0;stroke:#4c72b0;\" x=\"187.671977\" xlink:href=\"#m0d505b0874\" y=\"214.756364\"/>\n     <use style=\"fill:#4c72b0;stroke:#4c72b0;\" x=\"340.982561\" xlink:href=\"#m0d505b0874\" y=\"101.559418\"/>\n     <use style=\"fill:#4c72b0;stroke:#4c72b0;\" x=\"167.379474\" xlink:href=\"#m0d505b0874\" y=\"214.200427\"/>\n    </g>\n   </g>\n   <g id=\"patch_3\">\n    <path d=\"M 34.193438 224.64 \nL 34.193438 7.2 \n\" style=\"fill:none;stroke:#ffffff;stroke-linecap:square;stroke-linejoin:miter;stroke-width:1.25;\"/>\n   </g>\n   <g id=\"patch_4\">\n    <path d=\"M 368.993438 224.64 \nL 368.993438 7.2 \n\" style=\"fill:none;stroke:#ffffff;stroke-linecap:square;stroke-linejoin:miter;stroke-width:1.25;\"/>\n   </g>\n   <g id=\"patch_5\">\n    <path d=\"M 34.193438 224.64 \nL 368.993438 224.64 \n\" style=\"fill:none;stroke:#ffffff;stroke-linecap:square;stroke-linejoin:miter;stroke-width:1.25;\"/>\n   </g>\n   <g id=\"patch_6\">\n    <path d=\"M 34.193438 7.2 \nL 368.993438 7.2 \n\" style=\"fill:none;stroke:#ffffff;stroke-linecap:square;stroke-linejoin:miter;stroke-width:1.25;\"/>\n   </g>\n  </g>\n </g>\n <defs>\n  <clipPath id=\"p705ae8a62c\">\n   <rect height=\"217.44\" width=\"334.8\" x=\"34.193438\" y=\"7.2\"/>\n  </clipPath>\n </defs>\n</svg>\n",
      "image/png": "[encoded data removed]"
     },
     "metadata": {}
    }
   ],
   "source": [
    "print(X[:, 0])\n",
    "plt.scatter(X[:, 0], X[:, 1], s=100)"
   ]
  },
  {
   "cell_type": "code",
   "execution_count": 88,
   "metadata": {},
   "outputs": [],
   "source": [
    "dist_sq = np.sum((X[:, np.newaxis, :] - X[np.newaxis, :, :]) ** 2, axis=-1)"
   ]
  },
  {
   "cell_type": "code",
   "execution_count": 91,
   "metadata": {},
   "outputs": [
    {
     "output_type": "execute_result",
     "data": {
      "text/plain": "(10, 1, 2)"
     },
     "metadata": {},
     "execution_count": 91
    }
   ],
   "source": [
    "X[:, np.newaxis, :].shape"
   ]
  },
  {
   "cell_type": "code",
   "execution_count": 93,
   "metadata": {},
   "outputs": [
    {
     "output_type": "execute_result",
     "data": {
      "text/plain": "(1, 10, 2)"
     },
     "metadata": {},
     "execution_count": 93
    }
   ],
   "source": [
    "X[np.newaxis, :, :].shape"
   ]
  },
  {
   "cell_type": "code",
   "execution_count": 94,
   "metadata": {},
   "outputs": [
    {
     "output_type": "execute_result",
     "data": {
      "text/plain": "array([[0.        , 0.40999909, 0.90538547, 0.05550496, 0.50287983,\n        1.14976739, 1.15936537, 0.19672877, 1.16632222, 0.14319923],\n       [0.40999909, 0.        , 0.55794316, 0.18090431, 0.00906581,\n        0.21465798, 0.19098635, 0.15497331, 0.20095384, 0.16679585],\n       [0.90538547, 0.55794316, 0.        , 0.81458763, 0.67649219,\n        1.13419594, 0.74752753, 1.08562368, 0.9704683 , 1.03211241],\n       [0.05550496, 0.18090431, 0.81458763, 0.        , 0.23387834,\n        0.70468321, 0.74108843, 0.05338715, 0.72671958, 0.0288717 ],\n       [0.50287983, 0.00906581, 0.67649219, 0.23387834, 0.        ,\n        0.14021843, 0.1470605 , 0.16449241, 0.13755476, 0.18859392],\n       [1.14976739, 0.21465798, 1.13419594, 0.70468321, 0.14021843,\n        0.        , 0.06080186, 0.48946337, 0.01100053, 0.56059965],\n       [1.15936537, 0.19098635, 0.74752753, 0.74108843, 0.1470605 ,\n        0.06080186, 0.        , 0.61258786, 0.02046045, 0.66652228],\n       [0.19672877, 0.15497331, 1.08562368, 0.05338715, 0.16449241,\n        0.48946337, 0.61258786, 0.        , 0.54429694, 0.00424306],\n       [1.16632222, 0.20095384, 0.9704683 , 0.72671958, 0.13755476,\n        0.01100053, 0.02046045, 0.54429694, 0.        , 0.60957115],\n       [0.14319923, 0.16679585, 1.03211241, 0.0288717 , 0.18859392,\n        0.56059965, 0.66652228, 0.00424306, 0.60957115, 0.        ]])"
     },
     "metadata": {},
     "execution_count": 94
    }
   ],
   "source": [
    "dist_sq"
   ]
  },
  {
   "cell_type": "code",
   "execution_count": 95,
   "metadata": {},
   "outputs": [
    {
     "output_type": "execute_result",
     "data": {
      "text/plain": "(10, 10)"
     },
     "metadata": {},
     "execution_count": 95
    }
   ],
   "source": [
    "dist_sq.shape"
   ]
  },
  {
   "cell_type": "code",
   "execution_count": 96,
   "metadata": {},
   "outputs": [
    {
     "output_type": "execute_result",
     "data": {
      "text/plain": "array([[0, 3, 9, 7, 1, 4, 2, 5, 6, 8],\n       [1, 4, 7, 9, 3, 6, 8, 5, 0, 2],\n       [2, 1, 4, 6, 3, 0, 8, 9, 7, 5],\n       [3, 9, 7, 0, 1, 4, 5, 8, 6, 2],\n       [4, 1, 8, 5, 6, 7, 9, 3, 0, 2],\n       [5, 8, 6, 4, 1, 7, 9, 3, 2, 0],\n       [6, 8, 5, 4, 1, 7, 9, 3, 2, 0],\n       [7, 9, 3, 1, 4, 0, 5, 8, 6, 2],\n       [8, 5, 6, 4, 1, 7, 9, 3, 2, 0],\n       [9, 7, 3, 0, 1, 4, 5, 8, 6, 2]])"
     },
     "metadata": {},
     "execution_count": 96
    }
   ],
   "source": [
    "nearest = np.argsort(dist_sq, axis=1)\n",
    "nearest"
   ]
  },
  {
   "cell_type": "code",
   "execution_count": 97,
   "metadata": {},
   "outputs": [],
   "source": [
    "K = 2\n",
    "nearest_partition = np.argpartition(dist_sq, K + 1, axis=1)"
   ]
  },
  {
   "cell_type": "code",
   "execution_count": 98,
   "metadata": {},
   "outputs": [
    {
     "output_type": "execute_result",
     "data": {
      "text/plain": "array([[3, 0, 9, 7, 1, 4, 2, 5, 8, 6],\n       [1, 4, 7, 9, 3, 5, 6, 2, 8, 0],\n       [2, 1, 4, 6, 3, 0, 5, 7, 8, 9],\n       [3, 9, 7, 0, 1, 5, 6, 2, 8, 4],\n       [1, 8, 4, 5, 7, 6, 9, 3, 2, 0],\n       [5, 8, 6, 4, 1, 7, 9, 3, 2, 0],\n       [6, 8, 5, 4, 1, 7, 9, 3, 2, 0],\n       [7, 9, 3, 1, 4, 5, 6, 2, 8, 0],\n       [8, 5, 6, 4, 1, 7, 9, 3, 2, 0],\n       [3, 9, 7, 0, 1, 5, 6, 2, 8, 4]])"
     },
     "metadata": {},
     "execution_count": 98
    }
   ],
   "source": [
    "nearest_partition"
   ]
  },
  {
   "cell_type": "code",
   "execution_count": 100,
   "metadata": {},
   "outputs": [
    {
     "output_type": "display_data",
     "data": {
      "text/plain": "<Figure size 432x288 with 1 Axes>",
      "image/svg+xml": "<?xml version=\"1.0\" encoding=\"utf-8\" standalone=\"no\"?>\n<!DOCTYPE svg PUBLIC \"-//W3C//DTD SVG 1.1//EN\"\n  \"http://www.w3.org/Graphics/SVG/1.1/DTD/svg11.dtd\">\n<!-- Created with matplotlib (https://matplotlib.org/) -->\n<svg height=\"251.985937pt\" version=\"1.1\" viewBox=\"0 0 376.193437 251.985937\" width=\"376.193437pt\" xmlns=\"http://www.w3.org/2000/svg\" xmlns:xlink=\"http://www.w3.org/1999/xlink\">\n <defs>\n  <style type=\"text/css\">\n*{stroke-linecap:butt;stroke-linejoin:round;}\n  </style>\n </defs>\n <g id=\"figure_1\">\n  <g id=\"patch_1\">\n   <path d=\"M 0 251.985937 \nL 376.193437 251.985937 \nL 376.193437 0 \nL 0 0 \nz\n\" style=\"fill:#ffffff;\"/>\n  </g>\n  <g id=\"axes_1\">\n   <g id=\"patch_2\">\n    <path d=\"M 34.193438 224.64 \nL 368.993438 224.64 \nL 368.993438 7.2 \nL 34.193438 7.2 \nz\n\" style=\"fill:#eaeaf2;\"/>\n   </g>\n   <g id=\"matplotlib.axis_1\">\n    <g id=\"xtick_1\">\n     <g id=\"line2d_1\">\n      <path clip-path=\"url(#p02b66008c8)\" d=\"M 47.208378 224.64 \nL 47.208378 7.2 \n\" style=\"fill:none;stroke:#ffffff;stroke-linecap:round;\"/>\n     </g>\n     <g id=\"text_1\">\n      <!-- 0.0 -->\n      <defs>\n       <path d=\"M 31.78125 66.40625 \nQ 24.171875 66.40625 20.328125 58.90625 \nQ 16.5 51.421875 16.5 36.375 \nQ 16.5 21.390625 20.328125 13.890625 \nQ 24.171875 6.390625 31.78125 6.390625 \nQ 39.453125 6.390625 43.28125 13.890625 \nQ 47.125 21.390625 47.125 36.375 \nQ 47.125 51.421875 43.28125 58.90625 \nQ 39.453125 66.40625 31.78125 66.40625 \nz\nM 31.78125 74.21875 \nQ 44.046875 74.21875 50.515625 64.515625 \nQ 56.984375 54.828125 56.984375 36.375 \nQ 56.984375 17.96875 50.515625 8.265625 \nQ 44.046875 -1.421875 31.78125 -1.421875 \nQ 19.53125 -1.421875 13.0625 8.265625 \nQ 6.59375 17.96875 6.59375 36.375 \nQ 6.59375 54.828125 13.0625 64.515625 \nQ 19.53125 74.21875 31.78125 74.21875 \nz\n\" id=\"DejaVuSans-48\"/>\n       <path d=\"M 10.6875 12.40625 \nL 21 12.40625 \nL 21 0 \nL 10.6875 0 \nz\n\" id=\"DejaVuSans-46\"/>\n      </defs>\n      <g style=\"fill:#262626;\" transform=\"translate(38.461659 242.498281)scale(0.11 -0.11)\">\n       <use xlink:href=\"#DejaVuSans-48\"/>\n       <use x=\"63.623047\" xlink:href=\"#DejaVuSans-46\"/>\n       <use x=\"95.410156\" xlink:href=\"#DejaVuSans-48\"/>\n      </g>\n     </g>\n    </g>\n    <g id=\"xtick_2\">\n     <g id=\"line2d_2\">\n      <path clip-path=\"url(#p02b66008c8)\" d=\"M 109.56746 224.64 \nL 109.56746 7.2 \n\" style=\"fill:none;stroke:#ffffff;stroke-linecap:round;\"/>\n     </g>\n     <g id=\"text_2\">\n      <!-- 0.2 -->\n      <defs>\n       <path d=\"M 19.1875 8.296875 \nL 53.609375 8.296875 \nL 53.609375 0 \nL 7.328125 0 \nL 7.328125 8.296875 \nQ 12.9375 14.109375 22.625 23.890625 \nQ 32.328125 33.6875 34.8125 36.53125 \nQ 39.546875 41.84375 41.421875 45.53125 \nQ 43.3125 49.21875 43.3125 52.78125 \nQ 43.3125 58.59375 39.234375 62.25 \nQ 35.15625 65.921875 28.609375 65.921875 \nQ 23.96875 65.921875 18.8125 64.3125 \nQ 13.671875 62.703125 7.8125 59.421875 \nL 7.8125 69.390625 \nQ 13.765625 71.78125 18.9375 73 \nQ 24.125 74.21875 28.421875 74.21875 \nQ 39.75 74.21875 46.484375 68.546875 \nQ 53.21875 62.890625 53.21875 53.421875 \nQ 53.21875 48.921875 51.53125 44.890625 \nQ 49.859375 40.875 45.40625 35.40625 \nQ 44.1875 33.984375 37.640625 27.21875 \nQ 31.109375 20.453125 19.1875 8.296875 \nz\n\" id=\"DejaVuSans-50\"/>\n      </defs>\n      <g style=\"fill:#262626;\" transform=\"translate(100.820741 242.498281)scale(0.11 -0.11)\">\n       <use xlink:href=\"#DejaVuSans-48\"/>\n       <use x=\"63.623047\" xlink:href=\"#DejaVuSans-46\"/>\n       <use x=\"95.410156\" xlink:href=\"#DejaVuSans-50\"/>\n      </g>\n     </g>\n    </g>\n    <g id=\"xtick_3\">\n     <g id=\"line2d_3\">\n      <path clip-path=\"url(#p02b66008c8)\" d=\"M 171.926542 224.64 \nL 171.926542 7.2 \n\" style=\"fill:none;stroke:#ffffff;stroke-linecap:round;\"/>\n     </g>\n     <g id=\"text_3\">\n      <!-- 0.4 -->\n      <defs>\n       <path d=\"M 37.796875 64.3125 \nL 12.890625 25.390625 \nL 37.796875 25.390625 \nz\nM 35.203125 72.90625 \nL 47.609375 72.90625 \nL 47.609375 25.390625 \nL 58.015625 25.390625 \nL 58.015625 17.1875 \nL 47.609375 17.1875 \nL 47.609375 0 \nL 37.796875 0 \nL 37.796875 17.1875 \nL 4.890625 17.1875 \nL 4.890625 26.703125 \nz\n\" id=\"DejaVuSans-52\"/>\n      </defs>\n      <g style=\"fill:#262626;\" transform=\"translate(163.179823 242.498281)scale(0.11 -0.11)\">\n       <use xlink:href=\"#DejaVuSans-48\"/>\n       <use x=\"63.623047\" xlink:href=\"#DejaVuSans-46\"/>\n       <use x=\"95.410156\" xlink:href=\"#DejaVuSans-52\"/>\n      </g>\n     </g>\n    </g>\n    <g id=\"xtick_4\">\n     <g id=\"line2d_4\">\n      <path clip-path=\"url(#p02b66008c8)\" d=\"M 234.285624 224.64 \nL 234.285624 7.2 \n\" style=\"fill:none;stroke:#ffffff;stroke-linecap:round;\"/>\n     </g>\n     <g id=\"text_4\">\n      <!-- 0.6 -->\n      <defs>\n       <path d=\"M 33.015625 40.375 \nQ 26.375 40.375 22.484375 35.828125 \nQ 18.609375 31.296875 18.609375 23.390625 \nQ 18.609375 15.53125 22.484375 10.953125 \nQ 26.375 6.390625 33.015625 6.390625 \nQ 39.65625 6.390625 43.53125 10.953125 \nQ 47.40625 15.53125 47.40625 23.390625 \nQ 47.40625 31.296875 43.53125 35.828125 \nQ 39.65625 40.375 33.015625 40.375 \nz\nM 52.59375 71.296875 \nL 52.59375 62.3125 \nQ 48.875 64.0625 45.09375 64.984375 \nQ 41.3125 65.921875 37.59375 65.921875 \nQ 27.828125 65.921875 22.671875 59.328125 \nQ 17.53125 52.734375 16.796875 39.40625 \nQ 19.671875 43.65625 24.015625 45.921875 \nQ 28.375 48.1875 33.59375 48.1875 \nQ 44.578125 48.1875 50.953125 41.515625 \nQ 57.328125 34.859375 57.328125 23.390625 \nQ 57.328125 12.15625 50.6875 5.359375 \nQ 44.046875 -1.421875 33.015625 -1.421875 \nQ 20.359375 -1.421875 13.671875 8.265625 \nQ 6.984375 17.96875 6.984375 36.375 \nQ 6.984375 53.65625 15.1875 63.9375 \nQ 23.390625 74.21875 37.203125 74.21875 \nQ 40.921875 74.21875 44.703125 73.484375 \nQ 48.484375 72.75 52.59375 71.296875 \nz\n\" id=\"DejaVuSans-54\"/>\n      </defs>\n      <g style=\"fill:#262626;\" transform=\"translate(225.538905 242.498281)scale(0.11 -0.11)\">\n       <use xlink:href=\"#DejaVuSans-48\"/>\n       <use x=\"63.623047\" xlink:href=\"#DejaVuSans-46\"/>\n       <use x=\"95.410156\" xlink:href=\"#DejaVuSans-54\"/>\n      </g>\n     </g>\n    </g>\n    <g id=\"xtick_5\">\n     <g id=\"line2d_5\">\n      <path clip-path=\"url(#p02b66008c8)\" d=\"M 296.644706 224.64 \nL 296.644706 7.2 \n\" style=\"fill:none;stroke:#ffffff;stroke-linecap:round;\"/>\n     </g>\n     <g id=\"text_5\">\n      <!-- 0.8 -->\n      <defs>\n       <path d=\"M 31.78125 34.625 \nQ 24.75 34.625 20.71875 30.859375 \nQ 16.703125 27.09375 16.703125 20.515625 \nQ 16.703125 13.921875 20.71875 10.15625 \nQ 24.75 6.390625 31.78125 6.390625 \nQ 38.8125 6.390625 42.859375 10.171875 \nQ 46.921875 13.96875 46.921875 20.515625 \nQ 46.921875 27.09375 42.890625 30.859375 \nQ 38.875 34.625 31.78125 34.625 \nz\nM 21.921875 38.8125 \nQ 15.578125 40.375 12.03125 44.71875 \nQ 8.5 49.078125 8.5 55.328125 \nQ 8.5 64.0625 14.71875 69.140625 \nQ 20.953125 74.21875 31.78125 74.21875 \nQ 42.671875 74.21875 48.875 69.140625 \nQ 55.078125 64.0625 55.078125 55.328125 \nQ 55.078125 49.078125 51.53125 44.71875 \nQ 48 40.375 41.703125 38.8125 \nQ 48.828125 37.15625 52.796875 32.3125 \nQ 56.78125 27.484375 56.78125 20.515625 \nQ 56.78125 9.90625 50.3125 4.234375 \nQ 43.84375 -1.421875 31.78125 -1.421875 \nQ 19.734375 -1.421875 13.25 4.234375 \nQ 6.78125 9.90625 6.78125 20.515625 \nQ 6.78125 27.484375 10.78125 32.3125 \nQ 14.796875 37.15625 21.921875 38.8125 \nz\nM 18.3125 54.390625 \nQ 18.3125 48.734375 21.84375 45.5625 \nQ 25.390625 42.390625 31.78125 42.390625 \nQ 38.140625 42.390625 41.71875 45.5625 \nQ 45.3125 48.734375 45.3125 54.390625 \nQ 45.3125 60.0625 41.71875 63.234375 \nQ 38.140625 66.40625 31.78125 66.40625 \nQ 25.390625 66.40625 21.84375 63.234375 \nQ 18.3125 60.0625 18.3125 54.390625 \nz\n\" id=\"DejaVuSans-56\"/>\n      </defs>\n      <g style=\"fill:#262626;\" transform=\"translate(287.897988 242.498281)scale(0.11 -0.11)\">\n       <use xlink:href=\"#DejaVuSans-48\"/>\n       <use x=\"63.623047\" xlink:href=\"#DejaVuSans-46\"/>\n       <use x=\"95.410156\" xlink:href=\"#DejaVuSans-56\"/>\n      </g>\n     </g>\n    </g>\n    <g id=\"xtick_6\">\n     <g id=\"line2d_6\">\n      <path clip-path=\"url(#p02b66008c8)\" d=\"M 359.003789 224.64 \nL 359.003789 7.2 \n\" style=\"fill:none;stroke:#ffffff;stroke-linecap:round;\"/>\n     </g>\n     <g id=\"text_6\">\n      <!-- 1.0 -->\n      <defs>\n       <path d=\"M 12.40625 8.296875 \nL 28.515625 8.296875 \nL 28.515625 63.921875 \nL 10.984375 60.40625 \nL 10.984375 69.390625 \nL 28.421875 72.90625 \nL 38.28125 72.90625 \nL 38.28125 8.296875 \nL 54.390625 8.296875 \nL 54.390625 0 \nL 12.40625 0 \nz\n\" id=\"DejaVuSans-49\"/>\n      </defs>\n      <g style=\"fill:#262626;\" transform=\"translate(350.25707 242.498281)scale(0.11 -0.11)\">\n       <use xlink:href=\"#DejaVuSans-49\"/>\n       <use x=\"63.623047\" xlink:href=\"#DejaVuSans-46\"/>\n       <use x=\"95.410156\" xlink:href=\"#DejaVuSans-48\"/>\n      </g>\n     </g>\n    </g>\n   </g>\n   <g id=\"matplotlib.axis_2\">\n    <g id=\"ytick_1\">\n     <g id=\"line2d_7\">\n      <path clip-path=\"url(#p02b66008c8)\" d=\"M 34.193438 217.486345 \nL 368.993438 217.486345 \n\" style=\"fill:none;stroke:#ffffff;stroke-linecap:round;\"/>\n     </g>\n     <g id=\"text_7\">\n      <!-- 0.0 -->\n      <g style=\"fill:#262626;\" transform=\"translate(7.2 221.665485)scale(0.11 -0.11)\">\n       <use xlink:href=\"#DejaVuSans-48\"/>\n       <use x=\"63.623047\" xlink:href=\"#DejaVuSans-46\"/>\n       <use x=\"95.410156\" xlink:href=\"#DejaVuSans-48\"/>\n      </g>\n     </g>\n    </g>\n    <g id=\"ytick_2\">\n     <g id=\"line2d_8\">\n      <path clip-path=\"url(#p02b66008c8)\" d=\"M 34.193438 176.32556 \nL 368.993438 176.32556 \n\" style=\"fill:none;stroke:#ffffff;stroke-linecap:round;\"/>\n     </g>\n     <g id=\"text_8\">\n      <!-- 0.2 -->\n      <g style=\"fill:#262626;\" transform=\"translate(7.2 180.5047)scale(0.11 -0.11)\">\n       <use xlink:href=\"#DejaVuSans-48\"/>\n       <use x=\"63.623047\" xlink:href=\"#DejaVuSans-46\"/>\n       <use x=\"95.410156\" xlink:href=\"#DejaVuSans-50\"/>\n      </g>\n     </g>\n    </g>\n    <g id=\"ytick_3\">\n     <g id=\"line2d_9\">\n      <path clip-path=\"url(#p02b66008c8)\" d=\"M 34.193438 135.164774 \nL 368.993438 135.164774 \n\" style=\"fill:none;stroke:#ffffff;stroke-linecap:round;\"/>\n     </g>\n     <g id=\"text_9\">\n      <!-- 0.4 -->\n      <g style=\"fill:#262626;\" transform=\"translate(7.2 139.343915)scale(0.11 -0.11)\">\n       <use xlink:href=\"#DejaVuSans-48\"/>\n       <use x=\"63.623047\" xlink:href=\"#DejaVuSans-46\"/>\n       <use x=\"95.410156\" xlink:href=\"#DejaVuSans-52\"/>\n      </g>\n     </g>\n    </g>\n    <g id=\"ytick_4\">\n     <g id=\"line2d_10\">\n      <path clip-path=\"url(#p02b66008c8)\" d=\"M 34.193438 94.003989 \nL 368.993438 94.003989 \n\" style=\"fill:none;stroke:#ffffff;stroke-linecap:round;\"/>\n     </g>\n     <g id=\"text_10\">\n      <!-- 0.6 -->\n      <g style=\"fill:#262626;\" transform=\"translate(7.2 98.18313)scale(0.11 -0.11)\">\n       <use xlink:href=\"#DejaVuSans-48\"/>\n       <use x=\"63.623047\" xlink:href=\"#DejaVuSans-46\"/>\n       <use x=\"95.410156\" xlink:href=\"#DejaVuSans-54\"/>\n      </g>\n     </g>\n    </g>\n    <g id=\"ytick_5\">\n     <g id=\"line2d_11\">\n      <path clip-path=\"url(#p02b66008c8)\" d=\"M 34.193438 52.843204 \nL 368.993438 52.843204 \n\" style=\"fill:none;stroke:#ffffff;stroke-linecap:round;\"/>\n     </g>\n     <g id=\"text_11\">\n      <!-- 0.8 -->\n      <g style=\"fill:#262626;\" transform=\"translate(7.2 57.022345)scale(0.11 -0.11)\">\n       <use xlink:href=\"#DejaVuSans-48\"/>\n       <use x=\"63.623047\" xlink:href=\"#DejaVuSans-46\"/>\n       <use x=\"95.410156\" xlink:href=\"#DejaVuSans-56\"/>\n      </g>\n     </g>\n    </g>\n    <g id=\"ytick_6\">\n     <g id=\"line2d_12\">\n      <path clip-path=\"url(#p02b66008c8)\" d=\"M 34.193438 11.682419 \nL 368.993438 11.682419 \n\" style=\"fill:none;stroke:#ffffff;stroke-linecap:round;\"/>\n     </g>\n     <g id=\"text_12\">\n      <!-- 1.0 -->\n      <g style=\"fill:#262626;\" transform=\"translate(7.2 15.86156)scale(0.11 -0.11)\">\n       <use xlink:href=\"#DejaVuSans-49\"/>\n       <use x=\"63.623047\" xlink:href=\"#DejaVuSans-46\"/>\n       <use x=\"95.410156\" xlink:href=\"#DejaVuSans-48\"/>\n      </g>\n     </g>\n    </g>\n   </g>\n   <g id=\"PathCollection_1\">\n    <defs>\n     <path d=\"M 0 5 \nC 1.326016 5 2.597899 4.473168 3.535534 3.535534 \nC 4.473168 2.597899 5 1.326016 5 0 \nC 5 -1.326016 4.473168 -2.597899 3.535534 -3.535534 \nC 2.597899 -4.473168 1.326016 -5 0 -5 \nC -1.326016 -5 -2.597899 -4.473168 -3.535534 -3.535534 \nC -4.473168 -2.597899 -5 -1.326016 -5 0 \nC -5 1.326016 -4.473168 2.597899 -3.535534 3.535534 \nC -2.597899 4.473168 -1.326016 5 0 5 \nz\n\" id=\"m27adfd5ebe\" style=\"stroke:#4c72b0;\"/>\n    </defs>\n    <g clip-path=\"url(#p02b66008c8)\">\n     <use style=\"fill:#4c72b0;stroke:#4c72b0;\" x=\"49.411619\" xlink:href=\"#m27adfd5ebe\" y=\"212.740007\"/>\n     <use style=\"fill:#4c72b0;stroke:#4c72b0;\" x=\"210.830709\" xlink:href=\"#m27adfd5ebe\" y=\"135.193387\"/>\n     <use style=\"fill:#4c72b0;stroke:#4c72b0;\" x=\"61.758517\" xlink:href=\"#m27adfd5ebe\" y=\"17.083636\"/>\n     <use style=\"fill:#4c72b0;stroke:#4c72b0;\" x=\"119.785413\" xlink:href=\"#m27adfd5ebe\" y=\"198.839185\"/>\n     <use style=\"fill:#4c72b0;stroke:#4c72b0;\" x=\"240.018298\" xlink:href=\"#m27adfd5ebe\" y=\"138.774166\"/>\n     <use style=\"fill:#4c72b0;stroke:#4c72b0;\" x=\"353.775256\" xlink:href=\"#m27adfd5ebe\" y=\"121.424709\"/>\n     <use style=\"fill:#4c72b0;stroke:#4c72b0;\" x=\"315.33385\" xlink:href=\"#m27adfd5ebe\" y=\"77.476383\"/>\n     <use style=\"fill:#4c72b0;stroke:#4c72b0;\" x=\"187.671977\" xlink:href=\"#m27adfd5ebe\" y=\"214.756364\"/>\n     <use style=\"fill:#4c72b0;stroke:#4c72b0;\" x=\"340.982561\" xlink:href=\"#m27adfd5ebe\" y=\"101.559418\"/>\n     <use style=\"fill:#4c72b0;stroke:#4c72b0;\" x=\"167.379474\" xlink:href=\"#m27adfd5ebe\" y=\"214.200427\"/>\n    </g>\n   </g>\n   <g id=\"line2d_13\">\n    <path clip-path=\"url(#p02b66008c8)\" d=\"M 119.785413 198.839185 \nL 49.411619 212.740007 \n\" style=\"fill:none;stroke:#000000;stroke-linecap:round;stroke-width:1.5;\"/>\n   </g>\n   <g id=\"line2d_14\">\n    <path clip-path=\"url(#p02b66008c8)\" d=\"M 49.411619 212.740007 \nL 49.411619 212.740007 \n\" style=\"fill:none;stroke:#000000;stroke-linecap:round;stroke-width:1.5;\"/>\n   </g>\n   <g id=\"line2d_15\">\n    <path clip-path=\"url(#p02b66008c8)\" d=\"M 167.379474 214.200427 \nL 49.411619 212.740007 \n\" style=\"fill:none;stroke:#000000;stroke-linecap:round;stroke-width:1.5;\"/>\n   </g>\n   <g id=\"line2d_16\">\n    <path clip-path=\"url(#p02b66008c8)\" d=\"M 210.830709 135.193387 \nL 210.830709 135.193387 \n\" style=\"fill:none;stroke:#000000;stroke-linecap:round;stroke-width:1.5;\"/>\n   </g>\n   <g id=\"line2d_17\">\n    <path clip-path=\"url(#p02b66008c8)\" d=\"M 240.018298 138.774166 \nL 210.830709 135.193387 \n\" style=\"fill:none;stroke:#000000;stroke-linecap:round;stroke-width:1.5;\"/>\n   </g>\n   <g id=\"line2d_18\">\n    <path clip-path=\"url(#p02b66008c8)\" d=\"M 187.671977 214.756364 \nL 210.830709 135.193387 \n\" style=\"fill:none;stroke:#000000;stroke-linecap:round;stroke-width:1.5;\"/>\n   </g>\n   <g id=\"line2d_19\">\n    <path clip-path=\"url(#p02b66008c8)\" d=\"M 61.758517 17.083636 \nL 61.758517 17.083636 \n\" style=\"fill:none;stroke:#000000;stroke-linecap:round;stroke-width:1.5;\"/>\n   </g>\n   <g id=\"line2d_20\">\n    <path clip-path=\"url(#p02b66008c8)\" d=\"M 210.830709 135.193387 \nL 61.758517 17.083636 \n\" style=\"fill:none;stroke:#000000;stroke-linecap:round;stroke-width:1.5;\"/>\n   </g>\n   <g id=\"line2d_21\">\n    <path clip-path=\"url(#p02b66008c8)\" d=\"M 240.018298 138.774166 \nL 61.758517 17.083636 \n\" style=\"fill:none;stroke:#000000;stroke-linecap:round;stroke-width:1.5;\"/>\n   </g>\n   <g id=\"line2d_22\">\n    <path clip-path=\"url(#p02b66008c8)\" d=\"M 119.785413 198.839185 \nL 119.785413 198.839185 \n\" style=\"fill:none;stroke:#000000;stroke-linecap:round;stroke-width:1.5;\"/>\n   </g>\n   <g id=\"line2d_23\">\n    <path clip-path=\"url(#p02b66008c8)\" d=\"M 167.379474 214.200427 \nL 119.785413 198.839185 \n\" style=\"fill:none;stroke:#000000;stroke-linecap:round;stroke-width:1.5;\"/>\n   </g>\n   <g id=\"line2d_24\">\n    <path clip-path=\"url(#p02b66008c8)\" d=\"M 187.671977 214.756364 \nL 119.785413 198.839185 \n\" style=\"fill:none;stroke:#000000;stroke-linecap:round;stroke-width:1.5;\"/>\n   </g>\n   <g id=\"line2d_25\">\n    <path clip-path=\"url(#p02b66008c8)\" d=\"M 210.830709 135.193387 \nL 240.018298 138.774166 \n\" style=\"fill:none;stroke:#000000;stroke-linecap:round;stroke-width:1.5;\"/>\n   </g>\n   <g id=\"line2d_26\">\n    <path clip-path=\"url(#p02b66008c8)\" d=\"M 340.982561 101.559418 \nL 240.018298 138.774166 \n\" style=\"fill:none;stroke:#000000;stroke-linecap:round;stroke-width:1.5;\"/>\n   </g>\n   <g id=\"line2d_27\">\n    <path clip-path=\"url(#p02b66008c8)\" d=\"M 240.018298 138.774166 \nL 240.018298 138.774166 \n\" style=\"fill:none;stroke:#000000;stroke-linecap:round;stroke-width:1.5;\"/>\n   </g>\n   <g id=\"line2d_28\">\n    <path clip-path=\"url(#p02b66008c8)\" d=\"M 353.775256 121.424709 \nL 353.775256 121.424709 \n\" style=\"fill:none;stroke:#000000;stroke-linecap:round;stroke-width:1.5;\"/>\n   </g>\n   <g id=\"line2d_29\">\n    <path clip-path=\"url(#p02b66008c8)\" d=\"M 340.982561 101.559418 \nL 353.775256 121.424709 \n\" style=\"fill:none;stroke:#000000;stroke-linecap:round;stroke-width:1.5;\"/>\n   </g>\n   <g id=\"line2d_30\">\n    <path clip-path=\"url(#p02b66008c8)\" d=\"M 315.33385 77.476383 \nL 353.775256 121.424709 \n\" style=\"fill:none;stroke:#000000;stroke-linecap:round;stroke-width:1.5;\"/>\n   </g>\n   <g id=\"line2d_31\">\n    <path clip-path=\"url(#p02b66008c8)\" d=\"M 315.33385 77.476383 \nL 315.33385 77.476383 \n\" style=\"fill:none;stroke:#000000;stroke-linecap:round;stroke-width:1.5;\"/>\n   </g>\n   <g id=\"line2d_32\">\n    <path clip-path=\"url(#p02b66008c8)\" d=\"M 340.982561 101.559418 \nL 315.33385 77.476383 \n\" style=\"fill:none;stroke:#000000;stroke-linecap:round;stroke-width:1.5;\"/>\n   </g>\n   <g id=\"line2d_33\">\n    <path clip-path=\"url(#p02b66008c8)\" d=\"M 353.775256 121.424709 \nL 315.33385 77.476383 \n\" style=\"fill:none;stroke:#000000;stroke-linecap:round;stroke-width:1.5;\"/>\n   </g>\n   <g id=\"line2d_34\">\n    <path clip-path=\"url(#p02b66008c8)\" d=\"M 187.671977 214.756364 \nL 187.671977 214.756364 \n\" style=\"fill:none;stroke:#000000;stroke-linecap:round;stroke-width:1.5;\"/>\n   </g>\n   <g id=\"line2d_35\">\n    <path clip-path=\"url(#p02b66008c8)\" d=\"M 167.379474 214.200427 \nL 187.671977 214.756364 \n\" style=\"fill:none;stroke:#000000;stroke-linecap:round;stroke-width:1.5;\"/>\n   </g>\n   <g id=\"line2d_36\">\n    <path clip-path=\"url(#p02b66008c8)\" d=\"M 119.785413 198.839185 \nL 187.671977 214.756364 \n\" style=\"fill:none;stroke:#000000;stroke-linecap:round;stroke-width:1.5;\"/>\n   </g>\n   <g id=\"line2d_37\">\n    <path clip-path=\"url(#p02b66008c8)\" d=\"M 340.982561 101.559418 \nL 340.982561 101.559418 \n\" style=\"fill:none;stroke:#000000;stroke-linecap:round;stroke-width:1.5;\"/>\n   </g>\n   <g id=\"line2d_38\">\n    <path clip-path=\"url(#p02b66008c8)\" d=\"M 353.775256 121.424709 \nL 340.982561 101.559418 \n\" style=\"fill:none;stroke:#000000;stroke-linecap:round;stroke-width:1.5;\"/>\n   </g>\n   <g id=\"line2d_39\">\n    <path clip-path=\"url(#p02b66008c8)\" d=\"M 315.33385 77.476383 \nL 340.982561 101.559418 \n\" style=\"fill:none;stroke:#000000;stroke-linecap:round;stroke-width:1.5;\"/>\n   </g>\n   <g id=\"line2d_40\">\n    <path clip-path=\"url(#p02b66008c8)\" d=\"M 119.785413 198.839185 \nL 167.379474 214.200427 \n\" style=\"fill:none;stroke:#000000;stroke-linecap:round;stroke-width:1.5;\"/>\n   </g>\n   <g id=\"line2d_41\">\n    <path clip-path=\"url(#p02b66008c8)\" d=\"M 167.379474 214.200427 \nL 167.379474 214.200427 \n\" style=\"fill:none;stroke:#000000;stroke-linecap:round;stroke-width:1.5;\"/>\n   </g>\n   <g id=\"line2d_42\">\n    <path clip-path=\"url(#p02b66008c8)\" d=\"M 187.671977 214.756364 \nL 167.379474 214.200427 \n\" style=\"fill:none;stroke:#000000;stroke-linecap:round;stroke-width:1.5;\"/>\n   </g>\n   <g id=\"patch_3\">\n    <path d=\"M 34.193438 224.64 \nL 34.193438 7.2 \n\" style=\"fill:none;stroke:#ffffff;stroke-linecap:square;stroke-linejoin:miter;stroke-width:1.25;\"/>\n   </g>\n   <g id=\"patch_4\">\n    <path d=\"M 368.993438 224.64 \nL 368.993438 7.2 \n\" style=\"fill:none;stroke:#ffffff;stroke-linecap:square;stroke-linejoin:miter;stroke-width:1.25;\"/>\n   </g>\n   <g id=\"patch_5\">\n    <path d=\"M 34.193438 224.64 \nL 368.993438 224.64 \n\" style=\"fill:none;stroke:#ffffff;stroke-linecap:square;stroke-linejoin:miter;stroke-width:1.25;\"/>\n   </g>\n   <g id=\"patch_6\">\n    <path d=\"M 34.193438 7.2 \nL 368.993438 7.2 \n\" style=\"fill:none;stroke:#ffffff;stroke-linecap:square;stroke-linejoin:miter;stroke-width:1.25;\"/>\n   </g>\n  </g>\n </g>\n <defs>\n  <clipPath id=\"p02b66008c8\">\n   <rect height=\"217.44\" width=\"334.8\" x=\"34.193438\" y=\"7.2\"/>\n  </clipPath>\n </defs>\n</svg>\n",
      "image/png": "[encoded data removed]"
     },
     "metadata": {}
    }
   ],
   "source": [
    "plt.scatter(X[:, 0], X[:, 1], s=100)\n",
    "K = 2\n",
    "for i in range(X.shape[0]):\n",
    "    for j in nearest_partition[i, :K+1]:\n",
    "        plt.plot(*zip(X[j], X[i]), color=\"black\")"
   ]
  },
  {
   "cell_type": "code",
   "execution_count": 102,
   "metadata": {},
   "outputs": [],
   "source": [
    "name = [\"Alice\", \"Bob\", \"Cathy\", \"Doug\"]\n",
    "age = [25, 45, 37, 19]\n",
    "weight = [55.0, 85.5, 68.0, 61.5]"
   ]
  },
  {
   "cell_type": "code",
   "execution_count": 103,
   "metadata": {},
   "outputs": [
    {
     "output_type": "execute_result",
     "data": {
      "text/plain": "array([0, 0, 0, 0])"
     },
     "metadata": {},
     "execution_count": 103
    }
   ],
   "source": [
    "x = np.zeros(4, dtype=int)\n",
    "x"
   ]
  },
  {
   "cell_type": "code",
   "execution_count": 106,
   "metadata": {},
   "outputs": [
    {
     "output_type": "execute_result",
     "data": {
      "text/plain": "array([[0, 0, 0, 0, 0, 0],\n       [0, 0, 0, 0, 0, 0],\n       [0, 0, 0, 0, 0, 0]])"
     },
     "metadata": {},
     "execution_count": 106
    }
   ],
   "source": [
    "y = np.zeros((3, 6), dtype=int)\n",
    "y"
   ]
  },
  {
   "cell_type": "code",
   "execution_count": 113,
   "metadata": {
    "tags": []
   },
   "outputs": [
    {
     "output_type": "execute_result",
     "data": {
      "text/plain": "array([('Alice', 25, 55. ), ('Bob', 45, 85.5), ('Cathy', 37, 68. ),\n       ('Doug', 19, 61.5)],\n      dtype=[('name', '<U10'), ('age', '<i4'), ('weight', '<f8')])"
     },
     "metadata": {},
     "execution_count": 113
    }
   ],
   "source": [
    "data = np.zeros(4, dtype={\"names\": (\"name\", \"age\", \"weight\"),\n",
    "                            \"formats\":(\"U10\", \"i4\", \"f8\")})\n",
    "data.dtype\n",
    "data[\"name\"] = name\n",
    "data[\"age\"] = age\n",
    "data[\"weight\"] = weight\n",
    "data"
   ]
  },
  {
   "cell_type": "code",
   "execution_count": 114,
   "metadata": {},
   "outputs": [
    {
     "output_type": "execute_result",
     "data": {
      "text/plain": "array(['Alice', 'Doug'], dtype='<U10')"
     },
     "metadata": {},
     "execution_count": 114
    }
   ],
   "source": [
    "data[data[\"age\"] < 30][\"name\"]"
   ]
  },
  {
   "cell_type": "code",
   "execution_count": 117,
   "metadata": {},
   "outputs": [
    {
     "output_type": "execute_result",
     "data": {
      "text/plain": "array([[('Ahmet', 21), ('Can', 21)],\n       [('Burak', 31), ('Omer', 30)]],\n      dtype=[('name', '<U10'), ('age', '<i4')])"
     },
     "metadata": {},
     "execution_count": 117
    }
   ],
   "source": [
    "data = np.zeros((2, 2), dtype={\"names\": (\"name\", \"age\"),\n",
    "                                \"formats\": (\"U10\", \"i4\")})\n",
    "name = [[\"Ahmet\", \"Can\"], [\"Burak\", \"Omer\"]]\n",
    "age = [[21, 21], [31, 30]]\n",
    "data[\"name\"] = name\n",
    "data[\"age\"] = age\n",
    "data"
   ]
  },
  {
   "cell_type": "code",
   "execution_count": 119,
   "metadata": {},
   "outputs": [
    {
     "output_type": "execute_result",
     "data": {
      "text/plain": "dtype([('name', '<U10'), ('age', '<i8'), ('weight', '<f4')])"
     },
     "metadata": {},
     "execution_count": 119
    }
   ],
   "source": [
    "np.dtype({\"names\": (\"name\", \"age\", \"weight\"),\n",
    "            \"formats\": ((np.str_, 10), int, np.float32)})"
   ]
  },
  {
   "cell_type": "code",
   "execution_count": 120,
   "metadata": {},
   "outputs": [
    {
     "output_type": "execute_result",
     "data": {
      "text/plain": "dtype([('name', 'S10'), ('age', '<i4'), ('weight', '<f8')])"
     },
     "metadata": {},
     "execution_count": 120
    }
   ],
   "source": [
    "np.dtype([(\"name\", \"S10\"), (\"age\", \"i4\"), (\"weight\", \"f8\")])"
   ]
  },
  {
   "cell_type": "code",
   "execution_count": 121,
   "metadata": {},
   "outputs": [],
   "source": [
    "tp = np.dtype([(\"id\", \"i8\"), (\"mat\", \"f8\", (3, 3))])\n",
    "X = np.zeros(1, dtype=tp)"
   ]
  },
  {
   "cell_type": "code",
   "execution_count": 122,
   "metadata": {},
   "outputs": [
    {
     "output_type": "execute_result",
     "data": {
      "text/plain": "array([(0, [[0., 0., 0.], [0., 0., 0.], [0., 0., 0.]])],\n      dtype=[('id', '<i8'), ('mat', '<f8', (3, 3))])"
     },
     "metadata": {},
     "execution_count": 122
    }
   ],
   "source": [
    "X"
   ]
  },
  {
   "cell_type": "code",
   "execution_count": 123,
   "metadata": {},
   "outputs": [
    {
     "output_type": "execute_result",
     "data": {
      "text/plain": "array([0])"
     },
     "metadata": {},
     "execution_count": 123
    }
   ],
   "source": [
    "X[\"id\"]"
   ]
  },
  {
   "cell_type": "code",
   "execution_count": 124,
   "metadata": {},
   "outputs": [
    {
     "output_type": "execute_result",
     "data": {
      "text/plain": "array([[[0., 0., 0.],\n        [0., 0., 0.],\n        [0., 0., 0.]]])"
     },
     "metadata": {},
     "execution_count": 124
    }
   ],
   "source": [
    "X[\"mat\"]"
   ]
  },
  {
   "cell_type": "code",
   "execution_count": 125,
   "metadata": {},
   "outputs": [
    {
     "output_type": "execute_result",
     "data": {
      "text/plain": "rec.array([[('Ahmet', 21), ('Can', 21)],\n           [('Burak', 31), ('Omer', 30)]],\n          dtype=[('name', '<U10'), ('age', '<i4')])"
     },
     "metadata": {},
     "execution_count": 125
    }
   ],
   "source": [
    "data_rec = data.view(np.recarray)\n",
    "data_rec"
   ]
  },
  {
   "cell_type": "code",
   "execution_count": 126,
   "metadata": {},
   "outputs": [
    {
     "output_type": "execute_result",
     "data": {
      "text/plain": "array([[21, 21],\n       [31, 30]], dtype=int32)"
     },
     "metadata": {},
     "execution_count": 126
    }
   ],
   "source": [
    "data_rec.age"
   ]
  },
  {
   "cell_type": "code",
   "execution_count": null,
   "metadata": {},
   "outputs": [],
   "source": []
  }
 ]
}